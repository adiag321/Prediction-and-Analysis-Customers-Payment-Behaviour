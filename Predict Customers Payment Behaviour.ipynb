{
  "nbformat": 4,
  "nbformat_minor": 0,
  "metadata": {
    "kernelspec": {
      "display_name": "Python 3",
      "language": "python",
      "name": "python3"
    },
    "language_info": {
      "codemirror_mode": {
        "name": "ipython",
        "version": 3
      },
      "file_extension": ".py",
      "mimetype": "text/x-python",
      "name": "python",
      "nbconvert_exporter": "python",
      "pygments_lexer": "ipython3",
      "version": "3.6.5"
    },
    "colab": {
      "name": "Credit_Card_Project.ipynb",
      "provenance": [],
      "collapsed_sections": [
        "OxMOJ4_EKEuv"
      ]
    }
  },
  "cells": [
    {
      "cell_type": "markdown",
      "metadata": {
        "id": "eRBxRfEMaSgl"
      },
      "source": [
        "\n",
        "The goal of this project is to:\n",
        "1.   Check credit card holder's behaviors, trends and factors to identify default risks\n",
        "2.   Predicting if borrower is going to default in next month or not given all the borrower and payment information\n",
        "3.  Using cluster analysis to segment the portfolio so that we can improve the model prediction accuracy for each segment\n",
        "4. Checking techniques to make a prediction \n",
        "5. Assessing if clustering helps us to improve the model performance or not\n",
        "\n",
        "\n"
      ]
    },
    {
      "cell_type": "markdown",
      "metadata": {
        "id": "CzOAlTJMKErs"
      },
      "source": [
        "Let's get the datasets for this project now. This dataset contains information on default payments, demographic factors, credit data, history of payment, and bill statements of credit card clients in Taiwan from April 2005 to September 2005.\n",
        "\n",
        "Original Data can be found here:\n",
        "\n",
        "Lichman, M. (2013). UCI Machine Learning Repository [http://archive.ics.uci.edu/ml]. Irvine, CA: University of California, School of Information and Computer Science."
      ]
    },
    {
      "cell_type": "markdown",
      "metadata": {
        "id": "DqcE4P3nKErn"
      },
      "source": [
        "Let's import all the library needed for doing this information"
      ]
    },
    {
      "cell_type": "code",
      "metadata": {
        "id": "KxgZzQjiKErp"
      },
      "source": [
        "import pandas as pd\n",
        "import numpy as np\n",
        "import matplotlib.pyplot as plt"
      ],
      "execution_count": null,
      "outputs": []
    },
    {
      "cell_type": "code",
      "metadata": {
        "id": "QPFSh2lQKErt",
        "outputId": "7f802ced-7b8e-4302-ae93-b7699bea8063",
        "colab": {
          "resources": {
            "http://localhost:8080/nbextensions/google.colab/files.js": {
              "data": "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",
              "ok": true,
              "headers": [
                [
                  "content-type",
                  "application/javascript"
                ]
              ],
              "status": 200,
              "status_text": ""
            }
          },
          "base_uri": "https://localhost:8080/",
          "height": 74
        }
      },
      "source": [
        "from google.colab import files\n",
        "uploaded = files.upload()"
      ],
      "execution_count": null,
      "outputs": [
        {
          "output_type": "display_data",
          "data": {
            "text/html": [
              "\n",
              "     <input type=\"file\" id=\"files-5cbf5065-9312-468b-9a7c-9ecf6e865fbc\" name=\"files[]\" multiple disabled />\n",
              "     <output id=\"result-5cbf5065-9312-468b-9a7c-9ecf6e865fbc\">\n",
              "      Upload widget is only available when the cell has been executed in the\n",
              "      current browser session. Please rerun this cell to enable.\n",
              "      </output>\n",
              "      <script src=\"/nbextensions/google.colab/files.js\"></script> "
            ],
            "text/plain": [
              "<IPython.core.display.HTML object>"
            ]
          },
          "metadata": {
            "tags": []
          }
        },
        {
          "output_type": "stream",
          "text": [
            "Saving UCI_Credit_Card.csv to UCI_Credit_Card.csv\n"
          ],
          "name": "stdout"
        }
      ]
    },
    {
      "cell_type": "code",
      "metadata": {
        "id": "kBzaxByrKOiE"
      },
      "source": [
        "import io\n",
        "uci = pd.read_csv(io.BytesIO(uploaded['UCI_Credit_Card.csv']))"
      ],
      "execution_count": null,
      "outputs": []
    },
    {
      "cell_type": "markdown",
      "metadata": {
        "id": "SH_289LRKErv"
      },
      "source": [
        "Let's explore the data now"
      ]
    },
    {
      "cell_type": "code",
      "metadata": {
        "id": "63bGttqOKErv",
        "outputId": "191239f6-9bc3-4ec5-f36d-01da0941bd36",
        "colab": {
          "base_uri": "https://localhost:8080/",
          "height": 215
        }
      },
      "source": [
        "uci.head()"
      ],
      "execution_count": null,
      "outputs": [
        {
          "output_type": "execute_result",
          "data": {
            "text/html": [
              "<div>\n",
              "<style scoped>\n",
              "    .dataframe tbody tr th:only-of-type {\n",
              "        vertical-align: middle;\n",
              "    }\n",
              "\n",
              "    .dataframe tbody tr th {\n",
              "        vertical-align: top;\n",
              "    }\n",
              "\n",
              "    .dataframe thead th {\n",
              "        text-align: right;\n",
              "    }\n",
              "</style>\n",
              "<table border=\"1\" class=\"dataframe\">\n",
              "  <thead>\n",
              "    <tr style=\"text-align: right;\">\n",
              "      <th></th>\n",
              "      <th>ID</th>\n",
              "      <th>LIMIT_BAL</th>\n",
              "      <th>SEX</th>\n",
              "      <th>EDUCATION</th>\n",
              "      <th>MARRIAGE</th>\n",
              "      <th>AGE</th>\n",
              "      <th>PAY_0</th>\n",
              "      <th>PAY_2</th>\n",
              "      <th>PAY_3</th>\n",
              "      <th>PAY_4</th>\n",
              "      <th>PAY_5</th>\n",
              "      <th>PAY_6</th>\n",
              "      <th>BILL_AMT1</th>\n",
              "      <th>BILL_AMT2</th>\n",
              "      <th>BILL_AMT3</th>\n",
              "      <th>BILL_AMT4</th>\n",
              "      <th>BILL_AMT5</th>\n",
              "      <th>BILL_AMT6</th>\n",
              "      <th>PAY_AMT1</th>\n",
              "      <th>PAY_AMT2</th>\n",
              "      <th>PAY_AMT3</th>\n",
              "      <th>PAY_AMT4</th>\n",
              "      <th>PAY_AMT5</th>\n",
              "      <th>PAY_AMT6</th>\n",
              "      <th>default.payment.next.month</th>\n",
              "    </tr>\n",
              "  </thead>\n",
              "  <tbody>\n",
              "    <tr>\n",
              "      <th>0</th>\n",
              "      <td>1</td>\n",
              "      <td>20000.0</td>\n",
              "      <td>2</td>\n",
              "      <td>2</td>\n",
              "      <td>1</td>\n",
              "      <td>24</td>\n",
              "      <td>2</td>\n",
              "      <td>2</td>\n",
              "      <td>-1</td>\n",
              "      <td>-1</td>\n",
              "      <td>-2</td>\n",
              "      <td>-2</td>\n",
              "      <td>3913.0</td>\n",
              "      <td>3102.0</td>\n",
              "      <td>689.0</td>\n",
              "      <td>0.0</td>\n",
              "      <td>0.0</td>\n",
              "      <td>0.0</td>\n",
              "      <td>0.0</td>\n",
              "      <td>689.0</td>\n",
              "      <td>0.0</td>\n",
              "      <td>0.0</td>\n",
              "      <td>0.0</td>\n",
              "      <td>0.0</td>\n",
              "      <td>1</td>\n",
              "    </tr>\n",
              "    <tr>\n",
              "      <th>1</th>\n",
              "      <td>2</td>\n",
              "      <td>120000.0</td>\n",
              "      <td>2</td>\n",
              "      <td>2</td>\n",
              "      <td>2</td>\n",
              "      <td>26</td>\n",
              "      <td>-1</td>\n",
              "      <td>2</td>\n",
              "      <td>0</td>\n",
              "      <td>0</td>\n",
              "      <td>0</td>\n",
              "      <td>2</td>\n",
              "      <td>2682.0</td>\n",
              "      <td>1725.0</td>\n",
              "      <td>2682.0</td>\n",
              "      <td>3272.0</td>\n",
              "      <td>3455.0</td>\n",
              "      <td>3261.0</td>\n",
              "      <td>0.0</td>\n",
              "      <td>1000.0</td>\n",
              "      <td>1000.0</td>\n",
              "      <td>1000.0</td>\n",
              "      <td>0.0</td>\n",
              "      <td>2000.0</td>\n",
              "      <td>1</td>\n",
              "    </tr>\n",
              "    <tr>\n",
              "      <th>2</th>\n",
              "      <td>3</td>\n",
              "      <td>90000.0</td>\n",
              "      <td>2</td>\n",
              "      <td>2</td>\n",
              "      <td>2</td>\n",
              "      <td>34</td>\n",
              "      <td>0</td>\n",
              "      <td>0</td>\n",
              "      <td>0</td>\n",
              "      <td>0</td>\n",
              "      <td>0</td>\n",
              "      <td>0</td>\n",
              "      <td>29239.0</td>\n",
              "      <td>14027.0</td>\n",
              "      <td>13559.0</td>\n",
              "      <td>14331.0</td>\n",
              "      <td>14948.0</td>\n",
              "      <td>15549.0</td>\n",
              "      <td>1518.0</td>\n",
              "      <td>1500.0</td>\n",
              "      <td>1000.0</td>\n",
              "      <td>1000.0</td>\n",
              "      <td>1000.0</td>\n",
              "      <td>5000.0</td>\n",
              "      <td>0</td>\n",
              "    </tr>\n",
              "    <tr>\n",
              "      <th>3</th>\n",
              "      <td>4</td>\n",
              "      <td>50000.0</td>\n",
              "      <td>2</td>\n",
              "      <td>2</td>\n",
              "      <td>1</td>\n",
              "      <td>37</td>\n",
              "      <td>0</td>\n",
              "      <td>0</td>\n",
              "      <td>0</td>\n",
              "      <td>0</td>\n",
              "      <td>0</td>\n",
              "      <td>0</td>\n",
              "      <td>46990.0</td>\n",
              "      <td>48233.0</td>\n",
              "      <td>49291.0</td>\n",
              "      <td>28314.0</td>\n",
              "      <td>28959.0</td>\n",
              "      <td>29547.0</td>\n",
              "      <td>2000.0</td>\n",
              "      <td>2019.0</td>\n",
              "      <td>1200.0</td>\n",
              "      <td>1100.0</td>\n",
              "      <td>1069.0</td>\n",
              "      <td>1000.0</td>\n",
              "      <td>0</td>\n",
              "    </tr>\n",
              "    <tr>\n",
              "      <th>4</th>\n",
              "      <td>5</td>\n",
              "      <td>50000.0</td>\n",
              "      <td>1</td>\n",
              "      <td>2</td>\n",
              "      <td>1</td>\n",
              "      <td>57</td>\n",
              "      <td>-1</td>\n",
              "      <td>0</td>\n",
              "      <td>-1</td>\n",
              "      <td>0</td>\n",
              "      <td>0</td>\n",
              "      <td>0</td>\n",
              "      <td>8617.0</td>\n",
              "      <td>5670.0</td>\n",
              "      <td>35835.0</td>\n",
              "      <td>20940.0</td>\n",
              "      <td>19146.0</td>\n",
              "      <td>19131.0</td>\n",
              "      <td>2000.0</td>\n",
              "      <td>36681.0</td>\n",
              "      <td>10000.0</td>\n",
              "      <td>9000.0</td>\n",
              "      <td>689.0</td>\n",
              "      <td>679.0</td>\n",
              "      <td>0</td>\n",
              "    </tr>\n",
              "  </tbody>\n",
              "</table>\n",
              "</div>"
            ],
            "text/plain": [
              "   ID  LIMIT_BAL  SEX  ...  PAY_AMT5  PAY_AMT6  default.payment.next.month\n",
              "0   1    20000.0    2  ...       0.0       0.0                           1\n",
              "1   2   120000.0    2  ...       0.0    2000.0                           1\n",
              "2   3    90000.0    2  ...    1000.0    5000.0                           0\n",
              "3   4    50000.0    2  ...    1069.0    1000.0                           0\n",
              "4   5    50000.0    1  ...     689.0     679.0                           0\n",
              "\n",
              "[5 rows x 25 columns]"
            ]
          },
          "metadata": {
            "tags": []
          },
          "execution_count": 4
        }
      ]
    },
    {
      "cell_type": "code",
      "metadata": {
        "id": "7jyk0dwtKEry",
        "outputId": "21580303-f9da-419f-fd68-3306e2acd046",
        "colab": {
          "base_uri": "https://localhost:8080/",
          "height": 34
        }
      },
      "source": [
        "uci.shape"
      ],
      "execution_count": null,
      "outputs": [
        {
          "output_type": "execute_result",
          "data": {
            "text/plain": [
              "(30000, 25)"
            ]
          },
          "metadata": {
            "tags": []
          },
          "execution_count": 5
        }
      ]
    },
    {
      "cell_type": "code",
      "metadata": {
        "id": "SWFNx4TeKEr0",
        "outputId": "858f13c1-cbd8-4172-d54f-b34fbc75bff3",
        "colab": {
          "base_uri": "https://localhost:8080/",
          "height": 454
        }
      },
      "source": [
        "uci.dtypes"
      ],
      "execution_count": null,
      "outputs": [
        {
          "output_type": "execute_result",
          "data": {
            "text/plain": [
              "ID                              int64\n",
              "LIMIT_BAL                     float64\n",
              "SEX                             int64\n",
              "EDUCATION                       int64\n",
              "MARRIAGE                        int64\n",
              "AGE                             int64\n",
              "PAY_0                           int64\n",
              "PAY_2                           int64\n",
              "PAY_3                           int64\n",
              "PAY_4                           int64\n",
              "PAY_5                           int64\n",
              "PAY_6                           int64\n",
              "BILL_AMT1                     float64\n",
              "BILL_AMT2                     float64\n",
              "BILL_AMT3                     float64\n",
              "BILL_AMT4                     float64\n",
              "BILL_AMT5                     float64\n",
              "BILL_AMT6                     float64\n",
              "PAY_AMT1                      float64\n",
              "PAY_AMT2                      float64\n",
              "PAY_AMT3                      float64\n",
              "PAY_AMT4                      float64\n",
              "PAY_AMT5                      float64\n",
              "PAY_AMT6                      float64\n",
              "default.payment.next.month      int64\n",
              "dtype: object"
            ]
          },
          "metadata": {
            "tags": []
          },
          "execution_count": 6
        }
      ]
    },
    {
      "cell_type": "markdown",
      "metadata": {
        "id": "Xxs0AuzqKEr2"
      },
      "source": [
        "Let's what are the variables we have "
      ]
    },
    {
      "cell_type": "code",
      "metadata": {
        "id": "pPcokyoLKEr3",
        "outputId": "9348ef85-a49e-42a4-947f-cba53fa188e1",
        "colab": {
          "base_uri": "https://localhost:8080/",
          "height": 118
        }
      },
      "source": [
        "uci.columns"
      ],
      "execution_count": null,
      "outputs": [
        {
          "output_type": "execute_result",
          "data": {
            "text/plain": [
              "Index(['ID', 'LIMIT_BAL', 'SEX', 'EDUCATION', 'MARRIAGE', 'AGE', 'PAY_0',\n",
              "       'PAY_2', 'PAY_3', 'PAY_4', 'PAY_5', 'PAY_6', 'BILL_AMT1', 'BILL_AMT2',\n",
              "       'BILL_AMT3', 'BILL_AMT4', 'BILL_AMT5', 'BILL_AMT6', 'PAY_AMT1',\n",
              "       'PAY_AMT2', 'PAY_AMT3', 'PAY_AMT4', 'PAY_AMT5', 'PAY_AMT6',\n",
              "       'default.payment.next.month'],\n",
              "      dtype='object')"
            ]
          },
          "metadata": {
            "tags": []
          },
          "execution_count": 7
        }
      ]
    },
    {
      "cell_type": "markdown",
      "metadata": {
        "id": "OBpAnVzPKEr5"
      },
      "source": [
        "Here are information about all the variables we have\n",
        "\n",
        "There are 25 variables:\n",
        "\n",
        "ID: ID of each client\n",
        "\n",
        "LIMIT_BAL: Amount of given credit in NT dollars (includes individual and family/supplementary credit\n",
        "\n",
        "SEX: Gender (1=male, 2=female)\n",
        "\n",
        "EDUCATION: (1=graduate school, 2=university, 3=high school, 4=others, 5=unknown, 6=unknown)\n",
        "\n",
        "MARRIAGE: Marital status (1=married, 2=single, 3=others)\n",
        "\n",
        "AGE: Age in years\n",
        "\n",
        "PAY_0: Repayment status in September, 2005 (-1=pay duly, 1=payment delay for one month, 2=payment delay for two months, ... 8=payment delay for eight months, 9=payment delay for nine months and above)\n",
        "\n",
        "PAY_2: Repayment status in August, 2005 (scale same as above)\n",
        "\n",
        "PAY_3: Repayment status in July, 2005 (scale same as above)\n",
        "\n",
        "PAY_4: Repayment status in June, 2005 (scale same as above)\n",
        "\n",
        "PAY_5: Repayment status in May, 2005 (scale same as above)\n",
        "\n",
        "PAY_6: Repayment status in April, 2005 (scale same as above)\n",
        "\n",
        "BILL_AMT1: Amount of bill statement in September, 2005 (NT dollar)\n",
        "\n",
        "BILL_AMT2: Amount of bill statement in August, 2005 (NT dollar)\n",
        "\n",
        "BILL_AMT3: Amount of bill statement in July, 2005 (NT dollar)\n",
        "\n",
        "BILL_AMT4: Amount of bill statement in June, 2005 (NT dollar)\n",
        "\n",
        "BILL_AMT5: Amount of bill statement in May, 2005 (NT dollar)\n",
        "\n",
        "BILL_AMT6: Amount of bill statement in April, 2005 (NT dollar)\n",
        "\n",
        "PAY_AMT1: Amount of previous payment in September, 2005 (NT dollar)\n",
        "\n",
        "PAY_AMT2: Amount of previous payment in August, 2005 (NT dollar)\n",
        "\n",
        "PAY_AMT3: Amount of previous payment in July, 2005 (NT dollar)\n",
        "\n",
        "PAY_AMT4: Amount of previous payment in June, 2005 (NT dollar)\n",
        "\n",
        "PAY_AMT5: Amount of previous payment in May, 2005 (NT dollar)\n",
        "\n",
        "PAY_AMT6: Amount of previous payment in April, 2005 (NT dollar)\n",
        "default.payment.next.month: Default payment (1=yes, 0=no)"
      ]
    },
    {
      "cell_type": "markdown",
      "metadata": {
        "id": "HmGqVUO-KEr5"
      },
      "source": [
        "#### Let's check if we have missing values. First sum calculates for rows and second sum calculates for columns. This gives us sum of missing values in both row and columns together. Please note that this may not be the actual case at Bank level data and we might would need to do some data imputations for missing values, or remove columns if we have too much data for any variables or make a model to impute missing values for any particular variable"
      ]
    },
    {
      "cell_type": "code",
      "metadata": {
        "id": "hKh2MAzxKEr6",
        "outputId": "38bf3459-83f3-499f-add4-9b0df646e4ff",
        "colab": {
          "base_uri": "https://localhost:8080/",
          "height": 34
        }
      },
      "source": [
        "uci.isnull().sum().sum()"
      ],
      "execution_count": null,
      "outputs": [
        {
          "output_type": "execute_result",
          "data": {
            "text/plain": [
              "0"
            ]
          },
          "metadata": {
            "tags": []
          },
          "execution_count": 8
        }
      ]
    },
    {
      "cell_type": "markdown",
      "metadata": {
        "id": "yzD58dWeKEr8"
      },
      "source": [
        "So, we have no missing values as this data seems to be already prepared for eductional purpose by the UCI"
      ]
    },
    {
      "cell_type": "markdown",
      "metadata": {
        "id": "AII6JWHkKEr8"
      },
      "source": [
        "Let's check if we have duplicates"
      ]
    },
    {
      "cell_type": "code",
      "metadata": {
        "id": "oHHnIDyaKEr9",
        "outputId": "c2577dd4-1f02-4680-db28-cd64eb060f62",
        "colab": {
          "base_uri": "https://localhost:8080/",
          "height": 67
        }
      },
      "source": [
        "uci[uci.duplicated()]"
      ],
      "execution_count": null,
      "outputs": [
        {
          "output_type": "execute_result",
          "data": {
            "text/html": [
              "<div>\n",
              "<style scoped>\n",
              "    .dataframe tbody tr th:only-of-type {\n",
              "        vertical-align: middle;\n",
              "    }\n",
              "\n",
              "    .dataframe tbody tr th {\n",
              "        vertical-align: top;\n",
              "    }\n",
              "\n",
              "    .dataframe thead th {\n",
              "        text-align: right;\n",
              "    }\n",
              "</style>\n",
              "<table border=\"1\" class=\"dataframe\">\n",
              "  <thead>\n",
              "    <tr style=\"text-align: right;\">\n",
              "      <th></th>\n",
              "      <th>ID</th>\n",
              "      <th>LIMIT_BAL</th>\n",
              "      <th>SEX</th>\n",
              "      <th>EDUCATION</th>\n",
              "      <th>MARRIAGE</th>\n",
              "      <th>AGE</th>\n",
              "      <th>PAY_0</th>\n",
              "      <th>PAY_2</th>\n",
              "      <th>PAY_3</th>\n",
              "      <th>PAY_4</th>\n",
              "      <th>PAY_5</th>\n",
              "      <th>PAY_6</th>\n",
              "      <th>BILL_AMT1</th>\n",
              "      <th>BILL_AMT2</th>\n",
              "      <th>BILL_AMT3</th>\n",
              "      <th>BILL_AMT4</th>\n",
              "      <th>BILL_AMT5</th>\n",
              "      <th>BILL_AMT6</th>\n",
              "      <th>PAY_AMT1</th>\n",
              "      <th>PAY_AMT2</th>\n",
              "      <th>PAY_AMT3</th>\n",
              "      <th>PAY_AMT4</th>\n",
              "      <th>PAY_AMT5</th>\n",
              "      <th>PAY_AMT6</th>\n",
              "      <th>default.payment.next.month</th>\n",
              "    </tr>\n",
              "  </thead>\n",
              "  <tbody>\n",
              "  </tbody>\n",
              "</table>\n",
              "</div>"
            ],
            "text/plain": [
              "Empty DataFrame\n",
              "Columns: [ID, LIMIT_BAL, SEX, EDUCATION, MARRIAGE, AGE, PAY_0, PAY_2, PAY_3, PAY_4, PAY_5, PAY_6, BILL_AMT1, BILL_AMT2, BILL_AMT3, BILL_AMT4, BILL_AMT5, BILL_AMT6, PAY_AMT1, PAY_AMT2, PAY_AMT3, PAY_AMT4, PAY_AMT5, PAY_AMT6, default.payment.next.month]\n",
              "Index: []"
            ]
          },
          "metadata": {
            "tags": []
          },
          "execution_count": 9
        }
      ]
    },
    {
      "cell_type": "markdown",
      "metadata": {
        "id": "G2rOyQ3mKEr_"
      },
      "source": [
        "We don't have duplicates either, if we would had then we might need to inspect what caused the duplicates, if they are really duplicates or not. If yes then we might need to remove the redundant observation"
      ]
    },
    {
      "cell_type": "markdown",
      "metadata": {
        "id": "YWlFefk4KEr_"
      },
      "source": [
        "### Since, we have data from April to September, I would assume that we are in September and we want to predict if borrower going to default in October and if yes then by what amount"
      ]
    },
    {
      "cell_type": "markdown",
      "metadata": {
        "id": "Nexa2UJCKEsA"
      },
      "source": [
        "We have Limit_bal varibale which is basically a credit limit for all the credit card holders. Let's visualize limit according to education, sex, marriage and age"
      ]
    },
    {
      "cell_type": "code",
      "metadata": {
        "id": "ybTaiexgKEsB"
      },
      "source": [
        "#Let's get the visualization library\n",
        "import seaborn as sns\n",
        "\n",
        "import matplotlib.pyplot as mp\n",
        "%matplotlib inline"
      ],
      "execution_count": null,
      "outputs": []
    },
    {
      "cell_type": "code",
      "metadata": {
        "id": "tYtbFvpaKEsC",
        "outputId": "f1b2e4a3-4614-40cc-ba9c-d36d1ebb3cd8",
        "colab": {
          "base_uri": "https://localhost:8080/",
          "height": 166
        }
      },
      "source": [
        "uci[['SEX','LIMIT_BAL']].groupby('SEX').describe()"
      ],
      "execution_count": null,
      "outputs": [
        {
          "output_type": "execute_result",
          "data": {
            "text/html": [
              "<div>\n",
              "<style scoped>\n",
              "    .dataframe tbody tr th:only-of-type {\n",
              "        vertical-align: middle;\n",
              "    }\n",
              "\n",
              "    .dataframe tbody tr th {\n",
              "        vertical-align: top;\n",
              "    }\n",
              "\n",
              "    .dataframe thead tr th {\n",
              "        text-align: left;\n",
              "    }\n",
              "\n",
              "    .dataframe thead tr:last-of-type th {\n",
              "        text-align: right;\n",
              "    }\n",
              "</style>\n",
              "<table border=\"1\" class=\"dataframe\">\n",
              "  <thead>\n",
              "    <tr>\n",
              "      <th></th>\n",
              "      <th colspan=\"8\" halign=\"left\">LIMIT_BAL</th>\n",
              "    </tr>\n",
              "    <tr>\n",
              "      <th></th>\n",
              "      <th>count</th>\n",
              "      <th>mean</th>\n",
              "      <th>std</th>\n",
              "      <th>min</th>\n",
              "      <th>25%</th>\n",
              "      <th>50%</th>\n",
              "      <th>75%</th>\n",
              "      <th>max</th>\n",
              "    </tr>\n",
              "    <tr>\n",
              "      <th>SEX</th>\n",
              "      <th></th>\n",
              "      <th></th>\n",
              "      <th></th>\n",
              "      <th></th>\n",
              "      <th></th>\n",
              "      <th></th>\n",
              "      <th></th>\n",
              "      <th></th>\n",
              "    </tr>\n",
              "  </thead>\n",
              "  <tbody>\n",
              "    <tr>\n",
              "      <th>1</th>\n",
              "      <td>11888.0</td>\n",
              "      <td>163519.825034</td>\n",
              "      <td>136250.481355</td>\n",
              "      <td>10000.0</td>\n",
              "      <td>50000.0</td>\n",
              "      <td>130000.0</td>\n",
              "      <td>240000.0</td>\n",
              "      <td>800000.0</td>\n",
              "    </tr>\n",
              "    <tr>\n",
              "      <th>2</th>\n",
              "      <td>18112.0</td>\n",
              "      <td>170086.462014</td>\n",
              "      <td>125231.777960</td>\n",
              "      <td>10000.0</td>\n",
              "      <td>70000.0</td>\n",
              "      <td>150000.0</td>\n",
              "      <td>240000.0</td>\n",
              "      <td>1000000.0</td>\n",
              "    </tr>\n",
              "  </tbody>\n",
              "</table>\n",
              "</div>"
            ],
            "text/plain": [
              "    LIMIT_BAL                                ...                               \n",
              "        count           mean            std  ...       50%       75%        max\n",
              "SEX                                          ...                               \n",
              "1     11888.0  163519.825034  136250.481355  ...  130000.0  240000.0   800000.0\n",
              "2     18112.0  170086.462014  125231.777960  ...  150000.0  240000.0  1000000.0\n",
              "\n",
              "[2 rows x 8 columns]"
            ]
          },
          "metadata": {
            "tags": []
          },
          "execution_count": 11
        }
      ]
    },
    {
      "cell_type": "markdown",
      "metadata": {
        "id": "6x69gzbPKEsE"
      },
      "source": [
        "So, we have 11,888 accounts of male and 18,112 Female accounts. Credit limit maximum, average,first quartile, median are more for Females than males. This definitely tells good information about the market there. Females are either applying for more credit cards or getting approved, getting more maximum limits and average limits than their male counterparts "
      ]
    },
    {
      "cell_type": "code",
      "metadata": {
        "id": "fsbgBTyHKEsF"
      },
      "source": [
        "edu=uci[['EDUCATION','LIMIT_BAL']].groupby('EDUCATION').describe()"
      ],
      "execution_count": null,
      "outputs": []
    },
    {
      "cell_type": "code",
      "metadata": {
        "id": "Kc_Nhua5KEsH",
        "outputId": "79d6604b-e842-4abe-bbf6-dae7f1449129",
        "colab": {
          "base_uri": "https://localhost:8080/",
          "height": 314
        }
      },
      "source": [
        "edu"
      ],
      "execution_count": null,
      "outputs": [
        {
          "output_type": "execute_result",
          "data": {
            "text/html": [
              "<div>\n",
              "<style scoped>\n",
              "    .dataframe tbody tr th:only-of-type {\n",
              "        vertical-align: middle;\n",
              "    }\n",
              "\n",
              "    .dataframe tbody tr th {\n",
              "        vertical-align: top;\n",
              "    }\n",
              "\n",
              "    .dataframe thead tr th {\n",
              "        text-align: left;\n",
              "    }\n",
              "\n",
              "    .dataframe thead tr:last-of-type th {\n",
              "        text-align: right;\n",
              "    }\n",
              "</style>\n",
              "<table border=\"1\" class=\"dataframe\">\n",
              "  <thead>\n",
              "    <tr>\n",
              "      <th></th>\n",
              "      <th colspan=\"8\" halign=\"left\">LIMIT_BAL</th>\n",
              "    </tr>\n",
              "    <tr>\n",
              "      <th></th>\n",
              "      <th>count</th>\n",
              "      <th>mean</th>\n",
              "      <th>std</th>\n",
              "      <th>min</th>\n",
              "      <th>25%</th>\n",
              "      <th>50%</th>\n",
              "      <th>75%</th>\n",
              "      <th>max</th>\n",
              "    </tr>\n",
              "    <tr>\n",
              "      <th>EDUCATION</th>\n",
              "      <th></th>\n",
              "      <th></th>\n",
              "      <th></th>\n",
              "      <th></th>\n",
              "      <th></th>\n",
              "      <th></th>\n",
              "      <th></th>\n",
              "      <th></th>\n",
              "    </tr>\n",
              "  </thead>\n",
              "  <tbody>\n",
              "    <tr>\n",
              "      <th>0</th>\n",
              "      <td>14.0</td>\n",
              "      <td>217142.857143</td>\n",
              "      <td>86596.195638</td>\n",
              "      <td>50000.0</td>\n",
              "      <td>170000.0</td>\n",
              "      <td>215000.0</td>\n",
              "      <td>265000.0</td>\n",
              "      <td>360000.0</td>\n",
              "    </tr>\n",
              "    <tr>\n",
              "      <th>1</th>\n",
              "      <td>10585.0</td>\n",
              "      <td>212956.069910</td>\n",
              "      <td>135474.936730</td>\n",
              "      <td>10000.0</td>\n",
              "      <td>100000.0</td>\n",
              "      <td>200000.0</td>\n",
              "      <td>300000.0</td>\n",
              "      <td>1000000.0</td>\n",
              "    </tr>\n",
              "    <tr>\n",
              "      <th>2</th>\n",
              "      <td>14030.0</td>\n",
              "      <td>147062.437634</td>\n",
              "      <td>120672.282033</td>\n",
              "      <td>10000.0</td>\n",
              "      <td>50000.0</td>\n",
              "      <td>110000.0</td>\n",
              "      <td>210000.0</td>\n",
              "      <td>800000.0</td>\n",
              "    </tr>\n",
              "    <tr>\n",
              "      <th>3</th>\n",
              "      <td>4917.0</td>\n",
              "      <td>126550.270490</td>\n",
              "      <td>113979.322678</td>\n",
              "      <td>10000.0</td>\n",
              "      <td>50000.0</td>\n",
              "      <td>80000.0</td>\n",
              "      <td>180000.0</td>\n",
              "      <td>760000.0</td>\n",
              "    </tr>\n",
              "    <tr>\n",
              "      <th>4</th>\n",
              "      <td>123.0</td>\n",
              "      <td>220894.308943</td>\n",
              "      <td>111531.868048</td>\n",
              "      <td>20000.0</td>\n",
              "      <td>150000.0</td>\n",
              "      <td>200000.0</td>\n",
              "      <td>280000.0</td>\n",
              "      <td>710000.0</td>\n",
              "    </tr>\n",
              "    <tr>\n",
              "      <th>5</th>\n",
              "      <td>280.0</td>\n",
              "      <td>168164.285714</td>\n",
              "      <td>116036.276043</td>\n",
              "      <td>10000.0</td>\n",
              "      <td>80000.0</td>\n",
              "      <td>150000.0</td>\n",
              "      <td>230000.0</td>\n",
              "      <td>550000.0</td>\n",
              "    </tr>\n",
              "    <tr>\n",
              "      <th>6</th>\n",
              "      <td>51.0</td>\n",
              "      <td>148235.294118</td>\n",
              "      <td>131037.489023</td>\n",
              "      <td>10000.0</td>\n",
              "      <td>40000.0</td>\n",
              "      <td>100000.0</td>\n",
              "      <td>200000.0</td>\n",
              "      <td>540000.0</td>\n",
              "    </tr>\n",
              "  </tbody>\n",
              "</table>\n",
              "</div>"
            ],
            "text/plain": [
              "          LIMIT_BAL                 ...                     \n",
              "              count           mean  ...       75%        max\n",
              "EDUCATION                           ...                     \n",
              "0              14.0  217142.857143  ...  265000.0   360000.0\n",
              "1           10585.0  212956.069910  ...  300000.0  1000000.0\n",
              "2           14030.0  147062.437634  ...  210000.0   800000.0\n",
              "3            4917.0  126550.270490  ...  180000.0   760000.0\n",
              "4             123.0  220894.308943  ...  280000.0   710000.0\n",
              "5             280.0  168164.285714  ...  230000.0   550000.0\n",
              "6              51.0  148235.294118  ...  200000.0   540000.0\n",
              "\n",
              "[7 rows x 8 columns]"
            ]
          },
          "metadata": {
            "tags": []
          },
          "execution_count": 13
        }
      ]
    },
    {
      "cell_type": "markdown",
      "metadata": {
        "id": "uqysseb_KEsJ"
      },
      "source": [
        "We have following definitings for EDUCATION: (1=graduate school, 2=university, 3=high school, 4=others, 5=unknown, 6=unknown).\n",
        "We can see graduate school education level has more mean, first quartile, 2nd quartile, median and maximum credit limit than the university or high school education. Credit Limit certainly has direct correlation with education. More is the education, more is the credit limit."
      ]
    },
    {
      "cell_type": "markdown",
      "metadata": {
        "id": "XzCYL7TjKEsJ"
      },
      "source": [
        "Here, 0,5,6 are unknown education accounts. While education 0 has the highest minimum credit limit and maximun "
      ]
    },
    {
      "cell_type": "code",
      "metadata": {
        "id": "vxsmS2e5KEsK"
      },
      "source": [
        "edu1=edu['LIMIT_BAL'][['mean','std','min', '25%', '50%', '75%', 'max']]"
      ],
      "execution_count": null,
      "outputs": []
    },
    {
      "cell_type": "code",
      "metadata": {
        "id": "Lv9fSNjxKEsM"
      },
      "source": [
        "#edu1.reset_index(inplace=True)"
      ],
      "execution_count": null,
      "outputs": []
    },
    {
      "cell_type": "code",
      "metadata": {
        "id": "oAWi_f2HKEsO",
        "outputId": "01070f65-5dfb-46f5-e31f-a965e18a174a",
        "colab": {
          "base_uri": "https://localhost:8080/",
          "height": 34
        }
      },
      "source": [
        "edu1.columns"
      ],
      "execution_count": null,
      "outputs": [
        {
          "output_type": "execute_result",
          "data": {
            "text/plain": [
              "Index(['mean', 'std', 'min', '25%', '50%', '75%', 'max'], dtype='object')"
            ]
          },
          "metadata": {
            "tags": []
          },
          "execution_count": 16
        }
      ]
    },
    {
      "cell_type": "code",
      "metadata": {
        "id": "woG4UB48KEsQ",
        "outputId": "7b4dac44-533d-4560-8438-098b04e51812",
        "colab": {
          "base_uri": "https://localhost:8080/",
          "height": 296
        }
      },
      "source": [
        "fig=plt.figure()\n",
        "ax = plt.subplot(111)\n",
        "ax=plt.plot(edu1)\n",
        "plt.legend(['mean', 'std', 'min', '25%', '50%', '75%', 'max'])\n",
        "plt.xlabel('Education')\n",
        "plt.ylabel('Credit Limit')\n"
      ],
      "execution_count": null,
      "outputs": [
        {
          "output_type": "execute_result",
          "data": {
            "text/plain": [
              "Text(0, 0.5, 'Credit Limit')"
            ]
          },
          "metadata": {
            "tags": []
          },
          "execution_count": 17
        },
        {
          "output_type": "display_data",
          "data": {
            "image/png": "[encoded data removed]",
            "text/plain": [
              "<Figure size 432x288 with 1 Axes>"
            ]
          },
          "metadata": {
            "tags": []
          }
        }
      ]
    },
    {
      "cell_type": "markdown",
      "metadata": {
        "id": "zLARwPA7KEsS"
      },
      "source": [
        "We can see that that for education lable 1, almost all the indicators are high"
      ]
    },
    {
      "cell_type": "markdown",
      "metadata": {
        "id": "TfH7xLSuKEsU"
      },
      "source": [
        "Let's see how's the credit limit for marriage "
      ]
    },
    {
      "cell_type": "code",
      "metadata": {
        "id": "7h4G6wsuKEsV"
      },
      "source": [
        "marr=uci[['MARRIAGE','LIMIT_BAL']].groupby('MARRIAGE').describe()"
      ],
      "execution_count": null,
      "outputs": []
    },
    {
      "cell_type": "code",
      "metadata": {
        "id": "sDCpb6avKEsZ",
        "outputId": "827ecf0d-21a4-45e6-e5c8-8359310b3b29",
        "colab": {
          "base_uri": "https://localhost:8080/",
          "height": 225
        }
      },
      "source": [
        "marr"
      ],
      "execution_count": null,
      "outputs": [
        {
          "output_type": "execute_result",
          "data": {
            "text/html": [
              "<div>\n",
              "<style scoped>\n",
              "    .dataframe tbody tr th:only-of-type {\n",
              "        vertical-align: middle;\n",
              "    }\n",
              "\n",
              "    .dataframe tbody tr th {\n",
              "        vertical-align: top;\n",
              "    }\n",
              "\n",
              "    .dataframe thead tr th {\n",
              "        text-align: left;\n",
              "    }\n",
              "\n",
              "    .dataframe thead tr:last-of-type th {\n",
              "        text-align: right;\n",
              "    }\n",
              "</style>\n",
              "<table border=\"1\" class=\"dataframe\">\n",
              "  <thead>\n",
              "    <tr>\n",
              "      <th></th>\n",
              "      <th colspan=\"8\" halign=\"left\">LIMIT_BAL</th>\n",
              "    </tr>\n",
              "    <tr>\n",
              "      <th></th>\n",
              "      <th>count</th>\n",
              "      <th>mean</th>\n",
              "      <th>std</th>\n",
              "      <th>min</th>\n",
              "      <th>25%</th>\n",
              "      <th>50%</th>\n",
              "      <th>75%</th>\n",
              "      <th>max</th>\n",
              "    </tr>\n",
              "    <tr>\n",
              "      <th>MARRIAGE</th>\n",
              "      <th></th>\n",
              "      <th></th>\n",
              "      <th></th>\n",
              "      <th></th>\n",
              "      <th></th>\n",
              "      <th></th>\n",
              "      <th></th>\n",
              "      <th></th>\n",
              "    </tr>\n",
              "  </thead>\n",
              "  <tbody>\n",
              "    <tr>\n",
              "      <th>0</th>\n",
              "      <td>54.0</td>\n",
              "      <td>132962.962963</td>\n",
              "      <td>84331.547615</td>\n",
              "      <td>10000.0</td>\n",
              "      <td>70000.0</td>\n",
              "      <td>115000.0</td>\n",
              "      <td>200000.0</td>\n",
              "      <td>360000.0</td>\n",
              "    </tr>\n",
              "    <tr>\n",
              "      <th>1</th>\n",
              "      <td>13659.0</td>\n",
              "      <td>182200.893184</td>\n",
              "      <td>133382.262668</td>\n",
              "      <td>10000.0</td>\n",
              "      <td>70000.0</td>\n",
              "      <td>160000.0</td>\n",
              "      <td>260000.0</td>\n",
              "      <td>1000000.0</td>\n",
              "    </tr>\n",
              "    <tr>\n",
              "      <th>2</th>\n",
              "      <td>15964.0</td>\n",
              "      <td>156413.660737</td>\n",
              "      <td>125673.426316</td>\n",
              "      <td>10000.0</td>\n",
              "      <td>50000.0</td>\n",
              "      <td>130000.0</td>\n",
              "      <td>220000.0</td>\n",
              "      <td>800000.0</td>\n",
              "    </tr>\n",
              "    <tr>\n",
              "      <th>3</th>\n",
              "      <td>323.0</td>\n",
              "      <td>98080.495356</td>\n",
              "      <td>96542.879913</td>\n",
              "      <td>10000.0</td>\n",
              "      <td>30000.0</td>\n",
              "      <td>60000.0</td>\n",
              "      <td>130000.0</td>\n",
              "      <td>500000.0</td>\n",
              "    </tr>\n",
              "  </tbody>\n",
              "</table>\n",
              "</div>"
            ],
            "text/plain": [
              "         LIMIT_BAL                                ...                               \n",
              "             count           mean            std  ...       50%       75%        max\n",
              "MARRIAGE                                          ...                               \n",
              "0             54.0  132962.962963   84331.547615  ...  115000.0  200000.0   360000.0\n",
              "1          13659.0  182200.893184  133382.262668  ...  160000.0  260000.0  1000000.0\n",
              "2          15964.0  156413.660737  125673.426316  ...  130000.0  220000.0   800000.0\n",
              "3            323.0   98080.495356   96542.879913  ...   60000.0  130000.0   500000.0\n",
              "\n",
              "[4 rows x 8 columns]"
            ]
          },
          "metadata": {
            "tags": []
          },
          "execution_count": 19
        }
      ]
    },
    {
      "cell_type": "code",
      "metadata": {
        "id": "IrsI-TZLKEsb"
      },
      "source": [
        "marr1=marr['LIMIT_BAL'][['mean','std','min', '25%', '50%', '75%', 'max']]"
      ],
      "execution_count": null,
      "outputs": []
    },
    {
      "cell_type": "code",
      "metadata": {
        "id": "HfOJ7qTjKEsd",
        "outputId": "5a06c741-fc42-40c4-a93e-2d2a702661f5",
        "colab": {
          "base_uri": "https://localhost:8080/",
          "height": 34
        }
      },
      "source": [
        "marr1.columns"
      ],
      "execution_count": null,
      "outputs": [
        {
          "output_type": "execute_result",
          "data": {
            "text/plain": [
              "Index(['mean', 'std', 'min', '25%', '50%', '75%', 'max'], dtype='object')"
            ]
          },
          "metadata": {
            "tags": []
          },
          "execution_count": 21
        }
      ]
    },
    {
      "cell_type": "code",
      "metadata": {
        "id": "bYX-2-OnKEsf",
        "outputId": "fc87ada8-4fd6-4938-bf66-016fa4eca92e",
        "colab": {
          "base_uri": "https://localhost:8080/",
          "height": 296
        }
      },
      "source": [
        "fig1=plt.figure()\n",
        "ax1 = plt.subplot()\n",
        "ax1=plt.plot(marr1)\n",
        "plt.legend(['mean', 'std', 'min', '25%', '50%', '75%', 'max'])\n",
        "plt.xticks(range(1, 4))\n",
        "plt.xlabel('Marriage Status')\n",
        "plt.ylabel('Credit Limit')\n"
      ],
      "execution_count": null,
      "outputs": [
        {
          "output_type": "execute_result",
          "data": {
            "text/plain": [
              "Text(0, 0.5, 'Credit Limit')"
            ]
          },
          "metadata": {
            "tags": []
          },
          "execution_count": 22
        },
        {
          "output_type": "display_data",
          "data": {
            "image/png": "[encoded data removed]",
            "text/plain": [
              "<Figure size 432x288 with 1 Axes>"
            ]
          },
          "metadata": {
            "tags": []
          }
        }
      ]
    },
    {
      "cell_type": "markdown",
      "metadata": {
        "id": "cKPLG-78KEsg"
      },
      "source": [
        "We have this information for MARRIAGE: Marital status (1=married, 2=single, 3=others). Clearly Singles either apply for more credit cards or they get more approval. However, more number of accounts doesn't mean more credit limit. Married people are offered more credit limit both in terms of average, quartiles or maximum redit limit. We again have 0 status as marriage column. Firm would want to find out why marriage status is 1 despite of having single, married and others. these values can be missing values which has just been imputed"
      ]
    },
    {
      "cell_type": "markdown",
      "metadata": {
        "id": "643Qrnr5KEsh"
      },
      "source": [
        "Age is a criticle factor. As we don't have bucket for age so, we need to make a bucket for age so, that we can we can have maximum predictibility"
      ]
    },
    {
      "cell_type": "code",
      "metadata": {
        "id": "-GvLLnl7KEsh"
      },
      "source": [
        "age=uci[['AGE','LIMIT_BAL']].groupby('AGE').describe()"
      ],
      "execution_count": null,
      "outputs": []
    },
    {
      "cell_type": "code",
      "metadata": {
        "id": "0fLAgZXHKEsj",
        "outputId": "fc9bcead-c9c8-4d8a-a39a-a96b8ff7432a",
        "colab": {
          "base_uri": "https://localhost:8080/",
          "height": 1000
        }
      },
      "source": [
        "age"
      ],
      "execution_count": null,
      "outputs": [
        {
          "output_type": "execute_result",
          "data": {
            "text/html": [
              "<div>\n",
              "<style scoped>\n",
              "    .dataframe tbody tr th:only-of-type {\n",
              "        vertical-align: middle;\n",
              "    }\n",
              "\n",
              "    .dataframe tbody tr th {\n",
              "        vertical-align: top;\n",
              "    }\n",
              "\n",
              "    .dataframe thead tr th {\n",
              "        text-align: left;\n",
              "    }\n",
              "\n",
              "    .dataframe thead tr:last-of-type th {\n",
              "        text-align: right;\n",
              "    }\n",
              "</style>\n",
              "<table border=\"1\" class=\"dataframe\">\n",
              "  <thead>\n",
              "    <tr>\n",
              "      <th></th>\n",
              "      <th colspan=\"8\" halign=\"left\">LIMIT_BAL</th>\n",
              "    </tr>\n",
              "    <tr>\n",
              "      <th></th>\n",
              "      <th>count</th>\n",
              "      <th>mean</th>\n",
              "      <th>std</th>\n",
              "      <th>min</th>\n",
              "      <th>25%</th>\n",
              "      <th>50%</th>\n",
              "      <th>75%</th>\n",
              "      <th>max</th>\n",
              "    </tr>\n",
              "    <tr>\n",
              "      <th>AGE</th>\n",
              "      <th></th>\n",
              "      <th></th>\n",
              "      <th></th>\n",
              "      <th></th>\n",
              "      <th></th>\n",
              "      <th></th>\n",
              "      <th></th>\n",
              "      <th></th>\n",
              "    </tr>\n",
              "  </thead>\n",
              "  <tbody>\n",
              "    <tr>\n",
              "      <th>21</th>\n",
              "      <td>67.0</td>\n",
              "      <td>23283.582090</td>\n",
              "      <td>11466.427900</td>\n",
              "      <td>10000.0</td>\n",
              "      <td>20000.0</td>\n",
              "      <td>20000.0</td>\n",
              "      <td>30000.0</td>\n",
              "      <td>60000.0</td>\n",
              "    </tr>\n",
              "    <tr>\n",
              "      <th>22</th>\n",
              "      <td>560.0</td>\n",
              "      <td>37928.571429</td>\n",
              "      <td>25129.259502</td>\n",
              "      <td>10000.0</td>\n",
              "      <td>20000.0</td>\n",
              "      <td>30000.0</td>\n",
              "      <td>50000.0</td>\n",
              "      <td>200000.0</td>\n",
              "    </tr>\n",
              "    <tr>\n",
              "      <th>23</th>\n",
              "      <td>931.0</td>\n",
              "      <td>59752.953813</td>\n",
              "      <td>47270.022547</td>\n",
              "      <td>10000.0</td>\n",
              "      <td>30000.0</td>\n",
              "      <td>50000.0</td>\n",
              "      <td>80000.0</td>\n",
              "      <td>500000.0</td>\n",
              "    </tr>\n",
              "    <tr>\n",
              "      <th>24</th>\n",
              "      <td>1127.0</td>\n",
              "      <td>75661.047028</td>\n",
              "      <td>64709.231595</td>\n",
              "      <td>10000.0</td>\n",
              "      <td>30000.0</td>\n",
              "      <td>50000.0</td>\n",
              "      <td>100000.0</td>\n",
              "      <td>420000.0</td>\n",
              "    </tr>\n",
              "    <tr>\n",
              "      <th>25</th>\n",
              "      <td>1186.0</td>\n",
              "      <td>102731.871838</td>\n",
              "      <td>84777.936462</td>\n",
              "      <td>10000.0</td>\n",
              "      <td>50000.0</td>\n",
              "      <td>80000.0</td>\n",
              "      <td>140000.0</td>\n",
              "      <td>500000.0</td>\n",
              "    </tr>\n",
              "    <tr>\n",
              "      <th>26</th>\n",
              "      <td>1256.0</td>\n",
              "      <td>128813.694268</td>\n",
              "      <td>96353.980537</td>\n",
              "      <td>10000.0</td>\n",
              "      <td>50000.0</td>\n",
              "      <td>100000.0</td>\n",
              "      <td>180000.0</td>\n",
              "      <td>500000.0</td>\n",
              "    </tr>\n",
              "    <tr>\n",
              "      <th>27</th>\n",
              "      <td>1477.0</td>\n",
              "      <td>147941.773866</td>\n",
              "      <td>106758.544629</td>\n",
              "      <td>10000.0</td>\n",
              "      <td>60000.0</td>\n",
              "      <td>130000.0</td>\n",
              "      <td>200000.0</td>\n",
              "      <td>500000.0</td>\n",
              "    </tr>\n",
              "    <tr>\n",
              "      <th>28</th>\n",
              "      <td>1409.0</td>\n",
              "      <td>170943.931867</td>\n",
              "      <td>117172.672003</td>\n",
              "      <td>10000.0</td>\n",
              "      <td>80000.0</td>\n",
              "      <td>150000.0</td>\n",
              "      <td>230000.0</td>\n",
              "      <td>750000.0</td>\n",
              "    </tr>\n",
              "    <tr>\n",
              "      <th>29</th>\n",
              "      <td>1605.0</td>\n",
              "      <td>179401.869159</td>\n",
              "      <td>120538.654396</td>\n",
              "      <td>10000.0</td>\n",
              "      <td>80000.0</td>\n",
              "      <td>150000.0</td>\n",
              "      <td>250000.0</td>\n",
              "      <td>670000.0</td>\n",
              "    </tr>\n",
              "    <tr>\n",
              "      <th>30</th>\n",
              "      <td>1395.0</td>\n",
              "      <td>189591.397849</td>\n",
              "      <td>120523.925296</td>\n",
              "      <td>10000.0</td>\n",
              "      <td>90000.0</td>\n",
              "      <td>180000.0</td>\n",
              "      <td>260000.0</td>\n",
              "      <td>680000.0</td>\n",
              "    </tr>\n",
              "    <tr>\n",
              "      <th>31</th>\n",
              "      <td>1217.0</td>\n",
              "      <td>193755.135579</td>\n",
              "      <td>128937.137345</td>\n",
              "      <td>10000.0</td>\n",
              "      <td>80000.0</td>\n",
              "      <td>180000.0</td>\n",
              "      <td>280000.0</td>\n",
              "      <td>630000.0</td>\n",
              "    </tr>\n",
              "    <tr>\n",
              "      <th>32</th>\n",
              "      <td>1158.0</td>\n",
              "      <td>200397.236615</td>\n",
              "      <td>130828.148943</td>\n",
              "      <td>10000.0</td>\n",
              "      <td>92500.0</td>\n",
              "      <td>180000.0</td>\n",
              "      <td>280000.0</td>\n",
              "      <td>710000.0</td>\n",
              "    </tr>\n",
              "    <tr>\n",
              "      <th>33</th>\n",
              "      <td>1146.0</td>\n",
              "      <td>196815.008726</td>\n",
              "      <td>129646.731230</td>\n",
              "      <td>10000.0</td>\n",
              "      <td>90000.0</td>\n",
              "      <td>180000.0</td>\n",
              "      <td>280000.0</td>\n",
              "      <td>710000.0</td>\n",
              "    </tr>\n",
              "    <tr>\n",
              "      <th>34</th>\n",
              "      <td>1162.0</td>\n",
              "      <td>199388.984509</td>\n",
              "      <td>132861.783008</td>\n",
              "      <td>10000.0</td>\n",
              "      <td>80000.0</td>\n",
              "      <td>180000.0</td>\n",
              "      <td>280000.0</td>\n",
              "      <td>700000.0</td>\n",
              "    </tr>\n",
              "    <tr>\n",
              "      <th>35</th>\n",
              "      <td>1113.0</td>\n",
              "      <td>198292.902066</td>\n",
              "      <td>132809.149709</td>\n",
              "      <td>10000.0</td>\n",
              "      <td>90000.0</td>\n",
              "      <td>180000.0</td>\n",
              "      <td>280000.0</td>\n",
              "      <td>740000.0</td>\n",
              "    </tr>\n",
              "    <tr>\n",
              "      <th>36</th>\n",
              "      <td>1108.0</td>\n",
              "      <td>195216.606498</td>\n",
              "      <td>130798.561877</td>\n",
              "      <td>10000.0</td>\n",
              "      <td>80000.0</td>\n",
              "      <td>180000.0</td>\n",
              "      <td>280000.0</td>\n",
              "      <td>700000.0</td>\n",
              "    </tr>\n",
              "    <tr>\n",
              "      <th>37</th>\n",
              "      <td>1041.0</td>\n",
              "      <td>200566.762728</td>\n",
              "      <td>134487.508749</td>\n",
              "      <td>10000.0</td>\n",
              "      <td>80000.0</td>\n",
              "      <td>180000.0</td>\n",
              "      <td>280000.0</td>\n",
              "      <td>730000.0</td>\n",
              "    </tr>\n",
              "    <tr>\n",
              "      <th>38</th>\n",
              "      <td>944.0</td>\n",
              "      <td>192923.728814</td>\n",
              "      <td>139388.645882</td>\n",
              "      <td>10000.0</td>\n",
              "      <td>70000.0</td>\n",
              "      <td>170000.0</td>\n",
              "      <td>280000.0</td>\n",
              "      <td>720000.0</td>\n",
              "    </tr>\n",
              "    <tr>\n",
              "      <th>39</th>\n",
              "      <td>954.0</td>\n",
              "      <td>205880.503145</td>\n",
              "      <td>138507.675065</td>\n",
              "      <td>10000.0</td>\n",
              "      <td>90000.0</td>\n",
              "      <td>190000.0</td>\n",
              "      <td>290000.0</td>\n",
              "      <td>700000.0</td>\n",
              "    </tr>\n",
              "    <tr>\n",
              "      <th>40</th>\n",
              "      <td>870.0</td>\n",
              "      <td>188448.275862</td>\n",
              "      <td>129911.916571</td>\n",
              "      <td>10000.0</td>\n",
              "      <td>80000.0</td>\n",
              "      <td>170000.0</td>\n",
              "      <td>250000.0</td>\n",
              "      <td>750000.0</td>\n",
              "    </tr>\n",
              "    <tr>\n",
              "      <th>41</th>\n",
              "      <td>824.0</td>\n",
              "      <td>189672.330097</td>\n",
              "      <td>137254.858374</td>\n",
              "      <td>10000.0</td>\n",
              "      <td>80000.0</td>\n",
              "      <td>160000.0</td>\n",
              "      <td>260000.0</td>\n",
              "      <td>780000.0</td>\n",
              "    </tr>\n",
              "    <tr>\n",
              "      <th>42</th>\n",
              "      <td>794.0</td>\n",
              "      <td>187969.370277</td>\n",
              "      <td>135128.642447</td>\n",
              "      <td>10000.0</td>\n",
              "      <td>70000.0</td>\n",
              "      <td>160000.0</td>\n",
              "      <td>277500.0</td>\n",
              "      <td>680000.0</td>\n",
              "    </tr>\n",
              "    <tr>\n",
              "      <th>43</th>\n",
              "      <td>670.0</td>\n",
              "      <td>180850.746269</td>\n",
              "      <td>134871.998635</td>\n",
              "      <td>10000.0</td>\n",
              "      <td>60000.0</td>\n",
              "      <td>160000.0</td>\n",
              "      <td>260000.0</td>\n",
              "      <td>750000.0</td>\n",
              "    </tr>\n",
              "    <tr>\n",
              "      <th>44</th>\n",
              "      <td>700.0</td>\n",
              "      <td>186600.000000</td>\n",
              "      <td>137739.298856</td>\n",
              "      <td>10000.0</td>\n",
              "      <td>60000.0</td>\n",
              "      <td>170000.0</td>\n",
              "      <td>260000.0</td>\n",
              "      <td>650000.0</td>\n",
              "    </tr>\n",
              "    <tr>\n",
              "      <th>45</th>\n",
              "      <td>617.0</td>\n",
              "      <td>172706.645057</td>\n",
              "      <td>135037.151590</td>\n",
              "      <td>10000.0</td>\n",
              "      <td>50000.0</td>\n",
              "      <td>150000.0</td>\n",
              "      <td>250000.0</td>\n",
              "      <td>720000.0</td>\n",
              "    </tr>\n",
              "    <tr>\n",
              "      <th>46</th>\n",
              "      <td>570.0</td>\n",
              "      <td>175817.543860</td>\n",
              "      <td>143506.948722</td>\n",
              "      <td>10000.0</td>\n",
              "      <td>50000.0</td>\n",
              "      <td>140000.0</td>\n",
              "      <td>260000.0</td>\n",
              "      <td>800000.0</td>\n",
              "    </tr>\n",
              "    <tr>\n",
              "      <th>47</th>\n",
              "      <td>501.0</td>\n",
              "      <td>167924.151697</td>\n",
              "      <td>138626.412474</td>\n",
              "      <td>10000.0</td>\n",
              "      <td>50000.0</td>\n",
              "      <td>130000.0</td>\n",
              "      <td>240000.0</td>\n",
              "      <td>1000000.0</td>\n",
              "    </tr>\n",
              "    <tr>\n",
              "      <th>48</th>\n",
              "      <td>466.0</td>\n",
              "      <td>168703.862661</td>\n",
              "      <td>132828.882831</td>\n",
              "      <td>10000.0</td>\n",
              "      <td>50000.0</td>\n",
              "      <td>140000.0</td>\n",
              "      <td>240000.0</td>\n",
              "      <td>780000.0</td>\n",
              "    </tr>\n",
              "    <tr>\n",
              "      <th>49</th>\n",
              "      <td>452.0</td>\n",
              "      <td>172123.893805</td>\n",
              "      <td>143662.584040</td>\n",
              "      <td>10000.0</td>\n",
              "      <td>50000.0</td>\n",
              "      <td>130000.0</td>\n",
              "      <td>262500.0</td>\n",
              "      <td>560000.0</td>\n",
              "    </tr>\n",
              "    <tr>\n",
              "      <th>50</th>\n",
              "      <td>411.0</td>\n",
              "      <td>180851.581509</td>\n",
              "      <td>148745.993563</td>\n",
              "      <td>10000.0</td>\n",
              "      <td>50000.0</td>\n",
              "      <td>140000.0</td>\n",
              "      <td>270000.0</td>\n",
              "      <td>740000.0</td>\n",
              "    </tr>\n",
              "    <tr>\n",
              "      <th>51</th>\n",
              "      <td>340.0</td>\n",
              "      <td>160558.823529</td>\n",
              "      <td>137765.499356</td>\n",
              "      <td>10000.0</td>\n",
              "      <td>50000.0</td>\n",
              "      <td>120000.0</td>\n",
              "      <td>240000.0</td>\n",
              "      <td>710000.0</td>\n",
              "    </tr>\n",
              "    <tr>\n",
              "      <th>52</th>\n",
              "      <td>304.0</td>\n",
              "      <td>153618.421053</td>\n",
              "      <td>134596.570370</td>\n",
              "      <td>10000.0</td>\n",
              "      <td>50000.0</td>\n",
              "      <td>100000.0</td>\n",
              "      <td>220000.0</td>\n",
              "      <td>620000.0</td>\n",
              "    </tr>\n",
              "    <tr>\n",
              "      <th>53</th>\n",
              "      <td>325.0</td>\n",
              "      <td>174461.538462</td>\n",
              "      <td>150123.722322</td>\n",
              "      <td>10000.0</td>\n",
              "      <td>50000.0</td>\n",
              "      <td>130000.0</td>\n",
              "      <td>260000.0</td>\n",
              "      <td>800000.0</td>\n",
              "    </tr>\n",
              "    <tr>\n",
              "      <th>54</th>\n",
              "      <td>247.0</td>\n",
              "      <td>171700.404858</td>\n",
              "      <td>150962.842437</td>\n",
              "      <td>10000.0</td>\n",
              "      <td>50000.0</td>\n",
              "      <td>120000.0</td>\n",
              "      <td>230000.0</td>\n",
              "      <td>760000.0</td>\n",
              "    </tr>\n",
              "    <tr>\n",
              "      <th>55</th>\n",
              "      <td>209.0</td>\n",
              "      <td>150956.937799</td>\n",
              "      <td>127859.760398</td>\n",
              "      <td>10000.0</td>\n",
              "      <td>50000.0</td>\n",
              "      <td>100000.0</td>\n",
              "      <td>220000.0</td>\n",
              "      <td>660000.0</td>\n",
              "    </tr>\n",
              "    <tr>\n",
              "      <th>56</th>\n",
              "      <td>178.0</td>\n",
              "      <td>146910.112360</td>\n",
              "      <td>132336.682459</td>\n",
              "      <td>10000.0</td>\n",
              "      <td>50000.0</td>\n",
              "      <td>100000.0</td>\n",
              "      <td>230000.0</td>\n",
              "      <td>730000.0</td>\n",
              "    </tr>\n",
              "    <tr>\n",
              "      <th>57</th>\n",
              "      <td>122.0</td>\n",
              "      <td>160819.672131</td>\n",
              "      <td>141670.028465</td>\n",
              "      <td>10000.0</td>\n",
              "      <td>50000.0</td>\n",
              "      <td>95000.0</td>\n",
              "      <td>255000.0</td>\n",
              "      <td>580000.0</td>\n",
              "    </tr>\n",
              "    <tr>\n",
              "      <th>58</th>\n",
              "      <td>122.0</td>\n",
              "      <td>169016.393443</td>\n",
              "      <td>138124.448833</td>\n",
              "      <td>10000.0</td>\n",
              "      <td>50000.0</td>\n",
              "      <td>140000.0</td>\n",
              "      <td>240000.0</td>\n",
              "      <td>500000.0</td>\n",
              "    </tr>\n",
              "    <tr>\n",
              "      <th>59</th>\n",
              "      <td>83.0</td>\n",
              "      <td>133012.048193</td>\n",
              "      <td>127955.164973</td>\n",
              "      <td>10000.0</td>\n",
              "      <td>30000.0</td>\n",
              "      <td>80000.0</td>\n",
              "      <td>185000.0</td>\n",
              "      <td>500000.0</td>\n",
              "    </tr>\n",
              "    <tr>\n",
              "      <th>60</th>\n",
              "      <td>67.0</td>\n",
              "      <td>131940.298507</td>\n",
              "      <td>102413.878173</td>\n",
              "      <td>20000.0</td>\n",
              "      <td>50000.0</td>\n",
              "      <td>100000.0</td>\n",
              "      <td>200000.0</td>\n",
              "      <td>480000.0</td>\n",
              "    </tr>\n",
              "    <tr>\n",
              "      <th>61</th>\n",
              "      <td>56.0</td>\n",
              "      <td>184285.714286</td>\n",
              "      <td>162087.037706</td>\n",
              "      <td>10000.0</td>\n",
              "      <td>50000.0</td>\n",
              "      <td>140000.0</td>\n",
              "      <td>282500.0</td>\n",
              "      <td>510000.0</td>\n",
              "    </tr>\n",
              "    <tr>\n",
              "      <th>62</th>\n",
              "      <td>44.0</td>\n",
              "      <td>157045.454545</td>\n",
              "      <td>129768.659015</td>\n",
              "      <td>10000.0</td>\n",
              "      <td>67500.0</td>\n",
              "      <td>110000.0</td>\n",
              "      <td>252500.0</td>\n",
              "      <td>500000.0</td>\n",
              "    </tr>\n",
              "    <tr>\n",
              "      <th>63</th>\n",
              "      <td>31.0</td>\n",
              "      <td>197741.935484</td>\n",
              "      <td>143937.710542</td>\n",
              "      <td>20000.0</td>\n",
              "      <td>80000.0</td>\n",
              "      <td>180000.0</td>\n",
              "      <td>280000.0</td>\n",
              "      <td>590000.0</td>\n",
              "    </tr>\n",
              "    <tr>\n",
              "      <th>64</th>\n",
              "      <td>31.0</td>\n",
              "      <td>232258.064516</td>\n",
              "      <td>169306.618839</td>\n",
              "      <td>20000.0</td>\n",
              "      <td>75000.0</td>\n",
              "      <td>190000.0</td>\n",
              "      <td>355000.0</td>\n",
              "      <td>680000.0</td>\n",
              "    </tr>\n",
              "    <tr>\n",
              "      <th>65</th>\n",
              "      <td>24.0</td>\n",
              "      <td>201666.666667</td>\n",
              "      <td>105156.887623</td>\n",
              "      <td>50000.0</td>\n",
              "      <td>80000.0</td>\n",
              "      <td>210000.0</td>\n",
              "      <td>270000.0</td>\n",
              "      <td>360000.0</td>\n",
              "    </tr>\n",
              "    <tr>\n",
              "      <th>66</th>\n",
              "      <td>25.0</td>\n",
              "      <td>252000.000000</td>\n",
              "      <td>128484.759148</td>\n",
              "      <td>60000.0</td>\n",
              "      <td>150000.0</td>\n",
              "      <td>210000.0</td>\n",
              "      <td>360000.0</td>\n",
              "      <td>500000.0</td>\n",
              "    </tr>\n",
              "    <tr>\n",
              "      <th>67</th>\n",
              "      <td>16.0</td>\n",
              "      <td>198125.000000</td>\n",
              "      <td>174555.387580</td>\n",
              "      <td>30000.0</td>\n",
              "      <td>60000.0</td>\n",
              "      <td>195000.0</td>\n",
              "      <td>240000.0</td>\n",
              "      <td>580000.0</td>\n",
              "    </tr>\n",
              "    <tr>\n",
              "      <th>68</th>\n",
              "      <td>5.0</td>\n",
              "      <td>192000.000000</td>\n",
              "      <td>108949.529600</td>\n",
              "      <td>90000.0</td>\n",
              "      <td>120000.0</td>\n",
              "      <td>180000.0</td>\n",
              "      <td>200000.0</td>\n",
              "      <td>370000.0</td>\n",
              "    </tr>\n",
              "    <tr>\n",
              "      <th>69</th>\n",
              "      <td>15.0</td>\n",
              "      <td>236000.000000</td>\n",
              "      <td>168132.600731</td>\n",
              "      <td>20000.0</td>\n",
              "      <td>100000.0</td>\n",
              "      <td>200000.0</td>\n",
              "      <td>395000.0</td>\n",
              "      <td>500000.0</td>\n",
              "    </tr>\n",
              "    <tr>\n",
              "      <th>70</th>\n",
              "      <td>10.0</td>\n",
              "      <td>208000.000000</td>\n",
              "      <td>116218.185611</td>\n",
              "      <td>50000.0</td>\n",
              "      <td>142500.0</td>\n",
              "      <td>190000.0</td>\n",
              "      <td>320000.0</td>\n",
              "      <td>360000.0</td>\n",
              "    </tr>\n",
              "    <tr>\n",
              "      <th>71</th>\n",
              "      <td>3.0</td>\n",
              "      <td>190000.000000</td>\n",
              "      <td>103923.048454</td>\n",
              "      <td>70000.0</td>\n",
              "      <td>160000.0</td>\n",
              "      <td>250000.0</td>\n",
              "      <td>250000.0</td>\n",
              "      <td>250000.0</td>\n",
              "    </tr>\n",
              "    <tr>\n",
              "      <th>72</th>\n",
              "      <td>3.0</td>\n",
              "      <td>166666.666667</td>\n",
              "      <td>125830.573921</td>\n",
              "      <td>50000.0</td>\n",
              "      <td>100000.0</td>\n",
              "      <td>150000.0</td>\n",
              "      <td>225000.0</td>\n",
              "      <td>300000.0</td>\n",
              "    </tr>\n",
              "    <tr>\n",
              "      <th>73</th>\n",
              "      <td>4.0</td>\n",
              "      <td>270000.000000</td>\n",
              "      <td>194935.886896</td>\n",
              "      <td>80000.0</td>\n",
              "      <td>125000.0</td>\n",
              "      <td>250000.0</td>\n",
              "      <td>395000.0</td>\n",
              "      <td>500000.0</td>\n",
              "    </tr>\n",
              "    <tr>\n",
              "      <th>74</th>\n",
              "      <td>1.0</td>\n",
              "      <td>160000.000000</td>\n",
              "      <td>NaN</td>\n",
              "      <td>160000.0</td>\n",
              "      <td>160000.0</td>\n",
              "      <td>160000.0</td>\n",
              "      <td>160000.0</td>\n",
              "      <td>160000.0</td>\n",
              "    </tr>\n",
              "    <tr>\n",
              "      <th>75</th>\n",
              "      <td>3.0</td>\n",
              "      <td>213333.333333</td>\n",
              "      <td>35118.845843</td>\n",
              "      <td>180000.0</td>\n",
              "      <td>195000.0</td>\n",
              "      <td>210000.0</td>\n",
              "      <td>230000.0</td>\n",
              "      <td>250000.0</td>\n",
              "    </tr>\n",
              "    <tr>\n",
              "      <th>79</th>\n",
              "      <td>1.0</td>\n",
              "      <td>440000.000000</td>\n",
              "      <td>NaN</td>\n",
              "      <td>440000.0</td>\n",
              "      <td>440000.0</td>\n",
              "      <td>440000.0</td>\n",
              "      <td>440000.0</td>\n",
              "      <td>440000.0</td>\n",
              "    </tr>\n",
              "  </tbody>\n",
              "</table>\n",
              "</div>"
            ],
            "text/plain": [
              "    LIMIT_BAL                                ...                               \n",
              "        count           mean            std  ...       50%       75%        max\n",
              "AGE                                          ...                               \n",
              "21       67.0   23283.582090   11466.427900  ...   20000.0   30000.0    60000.0\n",
              "22      560.0   37928.571429   25129.259502  ...   30000.0   50000.0   200000.0\n",
              "23      931.0   59752.953813   47270.022547  ...   50000.0   80000.0   500000.0\n",
              "24     1127.0   75661.047028   64709.231595  ...   50000.0  100000.0   420000.0\n",
              "25     1186.0  102731.871838   84777.936462  ...   80000.0  140000.0   500000.0\n",
              "26     1256.0  128813.694268   96353.980537  ...  100000.0  180000.0   500000.0\n",
              "27     1477.0  147941.773866  106758.544629  ...  130000.0  200000.0   500000.0\n",
              "28     1409.0  170943.931867  117172.672003  ...  150000.0  230000.0   750000.0\n",
              "29     1605.0  179401.869159  120538.654396  ...  150000.0  250000.0   670000.0\n",
              "30     1395.0  189591.397849  120523.925296  ...  180000.0  260000.0   680000.0\n",
              "31     1217.0  193755.135579  128937.137345  ...  180000.0  280000.0   630000.0\n",
              "32     1158.0  200397.236615  130828.148943  ...  180000.0  280000.0   710000.0\n",
              "33     1146.0  196815.008726  129646.731230  ...  180000.0  280000.0   710000.0\n",
              "34     1162.0  199388.984509  132861.783008  ...  180000.0  280000.0   700000.0\n",
              "35     1113.0  198292.902066  132809.149709  ...  180000.0  280000.0   740000.0\n",
              "36     1108.0  195216.606498  130798.561877  ...  180000.0  280000.0   700000.0\n",
              "37     1041.0  200566.762728  134487.508749  ...  180000.0  280000.0   730000.0\n",
              "38      944.0  192923.728814  139388.645882  ...  170000.0  280000.0   720000.0\n",
              "39      954.0  205880.503145  138507.675065  ...  190000.0  290000.0   700000.0\n",
              "40      870.0  188448.275862  129911.916571  ...  170000.0  250000.0   750000.0\n",
              "41      824.0  189672.330097  137254.858374  ...  160000.0  260000.0   780000.0\n",
              "42      794.0  187969.370277  135128.642447  ...  160000.0  277500.0   680000.0\n",
              "43      670.0  180850.746269  134871.998635  ...  160000.0  260000.0   750000.0\n",
              "44      700.0  186600.000000  137739.298856  ...  170000.0  260000.0   650000.0\n",
              "45      617.0  172706.645057  135037.151590  ...  150000.0  250000.0   720000.0\n",
              "46      570.0  175817.543860  143506.948722  ...  140000.0  260000.0   800000.0\n",
              "47      501.0  167924.151697  138626.412474  ...  130000.0  240000.0  1000000.0\n",
              "48      466.0  168703.862661  132828.882831  ...  140000.0  240000.0   780000.0\n",
              "49      452.0  172123.893805  143662.584040  ...  130000.0  262500.0   560000.0\n",
              "50      411.0  180851.581509  148745.993563  ...  140000.0  270000.0   740000.0\n",
              "51      340.0  160558.823529  137765.499356  ...  120000.0  240000.0   710000.0\n",
              "52      304.0  153618.421053  134596.570370  ...  100000.0  220000.0   620000.0\n",
              "53      325.0  174461.538462  150123.722322  ...  130000.0  260000.0   800000.0\n",
              "54      247.0  171700.404858  150962.842437  ...  120000.0  230000.0   760000.0\n",
              "55      209.0  150956.937799  127859.760398  ...  100000.0  220000.0   660000.0\n",
              "56      178.0  146910.112360  132336.682459  ...  100000.0  230000.0   730000.0\n",
              "57      122.0  160819.672131  141670.028465  ...   95000.0  255000.0   580000.0\n",
              "58      122.0  169016.393443  138124.448833  ...  140000.0  240000.0   500000.0\n",
              "59       83.0  133012.048193  127955.164973  ...   80000.0  185000.0   500000.0\n",
              "60       67.0  131940.298507  102413.878173  ...  100000.0  200000.0   480000.0\n",
              "61       56.0  184285.714286  162087.037706  ...  140000.0  282500.0   510000.0\n",
              "62       44.0  157045.454545  129768.659015  ...  110000.0  252500.0   500000.0\n",
              "63       31.0  197741.935484  143937.710542  ...  180000.0  280000.0   590000.0\n",
              "64       31.0  232258.064516  169306.618839  ...  190000.0  355000.0   680000.0\n",
              "65       24.0  201666.666667  105156.887623  ...  210000.0  270000.0   360000.0\n",
              "66       25.0  252000.000000  128484.759148  ...  210000.0  360000.0   500000.0\n",
              "67       16.0  198125.000000  174555.387580  ...  195000.0  240000.0   580000.0\n",
              "68        5.0  192000.000000  108949.529600  ...  180000.0  200000.0   370000.0\n",
              "69       15.0  236000.000000  168132.600731  ...  200000.0  395000.0   500000.0\n",
              "70       10.0  208000.000000  116218.185611  ...  190000.0  320000.0   360000.0\n",
              "71        3.0  190000.000000  103923.048454  ...  250000.0  250000.0   250000.0\n",
              "72        3.0  166666.666667  125830.573921  ...  150000.0  225000.0   300000.0\n",
              "73        4.0  270000.000000  194935.886896  ...  250000.0  395000.0   500000.0\n",
              "74        1.0  160000.000000            NaN  ...  160000.0  160000.0   160000.0\n",
              "75        3.0  213333.333333   35118.845843  ...  210000.0  230000.0   250000.0\n",
              "79        1.0  440000.000000            NaN  ...  440000.0  440000.0   440000.0\n",
              "\n",
              "[56 rows x 8 columns]"
            ]
          },
          "metadata": {
            "tags": []
          },
          "execution_count": 24
        }
      ]
    },
    {
      "cell_type": "markdown",
      "metadata": {
        "id": "gw-FB69qKEsk"
      },
      "source": [
        "So, we have a card holders ranging from 21 to 79 with most of the accounts from 22 to 58. There are merely 15 accounts above the age of 70"
      ]
    },
    {
      "cell_type": "code",
      "metadata": {
        "id": "8CaZsAtQKEsl"
      },
      "source": [
        "age1=age['LIMIT_BAL'][['mean','std','min', '25%', '50%', '75%', 'max']]"
      ],
      "execution_count": null,
      "outputs": []
    },
    {
      "cell_type": "code",
      "metadata": {
        "id": "Ni8xQu6fKEsm",
        "outputId": "efac1225-3954-43de-bbff-9b66e6ab8fd0",
        "colab": {
          "base_uri": "https://localhost:8080/",
          "height": 351
        }
      },
      "source": [
        "fig2=plt.figure(figsize=(15,5))\n",
        "ax2 = plt.subplot()\n",
        "ax2=plt.plot(age1)\n",
        "plt.legend(['mean', 'std', 'min', '25%', '50%', '75%', 'max'])\n",
        "plt.xticks(range(21,80))\n",
        "plt.xlabel('Age')\n",
        "plt.ylabel('Credit Limit')\n",
        "plt.show\n"
      ],
      "execution_count": null,
      "outputs": [
        {
          "output_type": "execute_result",
          "data": {
            "text/plain": [
              "<function matplotlib.pyplot.show>"
            ]
          },
          "metadata": {
            "tags": []
          },
          "execution_count": 26
        },
        {
          "output_type": "display_data",
          "data": {
            "image/png": "[encoded data removed]",
            "text/plain": [
              "<Figure size 1080x360 with 1 Axes>"
            ]
          },
          "metadata": {
            "tags": []
          }
        }
      ]
    },
    {
      "cell_type": "markdown",
      "metadata": {
        "id": "9z_zUlfxKEso"
      },
      "source": [
        "We can see how age group from 28 to 57 has almost all mean, max and min credit limit higher than the other age group. "
      ]
    },
    {
      "cell_type": "code",
      "metadata": {
        "id": "9D6ZpsCxKEsq",
        "outputId": "adfec817-6296-462c-e7d7-64074f005a44",
        "colab": {
          "base_uri": "https://localhost:8080/",
          "height": 297
        }
      },
      "source": [
        "sns.distplot(uci['LIMIT_BAL'])"
      ],
      "execution_count": null,
      "outputs": [
        {
          "output_type": "execute_result",
          "data": {
            "text/plain": [
              "<matplotlib.axes._subplots.AxesSubplot at 0x7f31166ffda0>"
            ]
          },
          "metadata": {
            "tags": []
          },
          "execution_count": 27
        },
        {
          "output_type": "display_data",
          "data": {
            "image/png": "[encoded data removed]",
            "text/plain": [
              "<Figure size 432x288 with 1 Axes>"
            ]
          },
          "metadata": {
            "tags": []
          }
        }
      ]
    },
    {
      "cell_type": "code",
      "metadata": {
        "id": "tA8MSYYAKEst",
        "outputId": "fe8b81ec-1d77-48c3-bff3-d8b3740f139c",
        "colab": {
          "base_uri": "https://localhost:8080/",
          "height": 296
        }
      },
      "source": [
        "sns.distplot(uci['AGE'])"
      ],
      "execution_count": null,
      "outputs": [
        {
          "output_type": "execute_result",
          "data": {
            "text/plain": [
              "<matplotlib.axes._subplots.AxesSubplot at 0x7f31166e2ac8>"
            ]
          },
          "metadata": {
            "tags": []
          },
          "execution_count": 28
        },
        {
          "output_type": "display_data",
          "data": {
            "image/png": "[encoded data removed]",
            "text/plain": [
              "<Figure size 432x288 with 1 Axes>"
            ]
          },
          "metadata": {
            "tags": []
          }
        }
      ]
    },
    {
      "cell_type": "markdown",
      "metadata": {
        "id": "Jo8Ha4udKEsw"
      },
      "source": [
        "Please note that we have AGE and LIMIT BAL as borrower's information and continuous variables. Rest all of them like, SEX, EDUCATION,MARRIAGE are categorical and hence Normal Distribution plot is not appropriate for those variables. We can see in above distribution plot that both Credit Limit and age are tilted towards left indicating there are less people above age 60 going for credit cards or limit above than 50000"
      ]
    },
    {
      "cell_type": "markdown",
      "metadata": {
        "id": "08sLj6XMKEsx"
      },
      "source": [
        "#### Let's explore some of the behavioral information that we have from Bank itself for the card holders"
      ]
    },
    {
      "cell_type": "code",
      "metadata": {
        "id": "yiKkEO1GKEsx"
      },
      "source": [
        " uci_payment_status=uci[['PAY_0','PAY_2', 'PAY_3', 'PAY_4', 'PAY_5', 'PAY_6']]"
      ],
      "execution_count": null,
      "outputs": []
    },
    {
      "cell_type": "code",
      "metadata": {
        "id": "_ZVk5M1DKEsz",
        "outputId": "c8f0eb8d-0a61-436a-e0db-4179402b9c86",
        "colab": {
          "base_uri": "https://localhost:8080/",
          "height": 343
        }
      },
      "source": [
        "uci_payment_status.head(10)"
      ],
      "execution_count": null,
      "outputs": [
        {
          "output_type": "execute_result",
          "data": {
            "text/html": [
              "<div>\n",
              "<style scoped>\n",
              "    .dataframe tbody tr th:only-of-type {\n",
              "        vertical-align: middle;\n",
              "    }\n",
              "\n",
              "    .dataframe tbody tr th {\n",
              "        vertical-align: top;\n",
              "    }\n",
              "\n",
              "    .dataframe thead th {\n",
              "        text-align: right;\n",
              "    }\n",
              "</style>\n",
              "<table border=\"1\" class=\"dataframe\">\n",
              "  <thead>\n",
              "    <tr style=\"text-align: right;\">\n",
              "      <th></th>\n",
              "      <th>PAY_0</th>\n",
              "      <th>PAY_2</th>\n",
              "      <th>PAY_3</th>\n",
              "      <th>PAY_4</th>\n",
              "      <th>PAY_5</th>\n",
              "      <th>PAY_6</th>\n",
              "    </tr>\n",
              "  </thead>\n",
              "  <tbody>\n",
              "    <tr>\n",
              "      <th>0</th>\n",
              "      <td>2</td>\n",
              "      <td>2</td>\n",
              "      <td>-1</td>\n",
              "      <td>-1</td>\n",
              "      <td>-2</td>\n",
              "      <td>-2</td>\n",
              "    </tr>\n",
              "    <tr>\n",
              "      <th>1</th>\n",
              "      <td>-1</td>\n",
              "      <td>2</td>\n",
              "      <td>0</td>\n",
              "      <td>0</td>\n",
              "      <td>0</td>\n",
              "      <td>2</td>\n",
              "    </tr>\n",
              "    <tr>\n",
              "      <th>2</th>\n",
              "      <td>0</td>\n",
              "      <td>0</td>\n",
              "      <td>0</td>\n",
              "      <td>0</td>\n",
              "      <td>0</td>\n",
              "      <td>0</td>\n",
              "    </tr>\n",
              "    <tr>\n",
              "      <th>3</th>\n",
              "      <td>0</td>\n",
              "      <td>0</td>\n",
              "      <td>0</td>\n",
              "      <td>0</td>\n",
              "      <td>0</td>\n",
              "      <td>0</td>\n",
              "    </tr>\n",
              "    <tr>\n",
              "      <th>4</th>\n",
              "      <td>-1</td>\n",
              "      <td>0</td>\n",
              "      <td>-1</td>\n",
              "      <td>0</td>\n",
              "      <td>0</td>\n",
              "      <td>0</td>\n",
              "    </tr>\n",
              "    <tr>\n",
              "      <th>5</th>\n",
              "      <td>0</td>\n",
              "      <td>0</td>\n",
              "      <td>0</td>\n",
              "      <td>0</td>\n",
              "      <td>0</td>\n",
              "      <td>0</td>\n",
              "    </tr>\n",
              "    <tr>\n",
              "      <th>6</th>\n",
              "      <td>0</td>\n",
              "      <td>0</td>\n",
              "      <td>0</td>\n",
              "      <td>0</td>\n",
              "      <td>0</td>\n",
              "      <td>0</td>\n",
              "    </tr>\n",
              "    <tr>\n",
              "      <th>7</th>\n",
              "      <td>0</td>\n",
              "      <td>-1</td>\n",
              "      <td>-1</td>\n",
              "      <td>0</td>\n",
              "      <td>0</td>\n",
              "      <td>-1</td>\n",
              "    </tr>\n",
              "    <tr>\n",
              "      <th>8</th>\n",
              "      <td>0</td>\n",
              "      <td>0</td>\n",
              "      <td>2</td>\n",
              "      <td>0</td>\n",
              "      <td>0</td>\n",
              "      <td>0</td>\n",
              "    </tr>\n",
              "    <tr>\n",
              "      <th>9</th>\n",
              "      <td>-2</td>\n",
              "      <td>-2</td>\n",
              "      <td>-2</td>\n",
              "      <td>-2</td>\n",
              "      <td>-1</td>\n",
              "      <td>-1</td>\n",
              "    </tr>\n",
              "  </tbody>\n",
              "</table>\n",
              "</div>"
            ],
            "text/plain": [
              "   PAY_0  PAY_2  PAY_3  PAY_4  PAY_5  PAY_6\n",
              "0      2      2     -1     -1     -2     -2\n",
              "1     -1      2      0      0      0      2\n",
              "2      0      0      0      0      0      0\n",
              "3      0      0      0      0      0      0\n",
              "4     -1      0     -1      0      0      0\n",
              "5      0      0      0      0      0      0\n",
              "6      0      0      0      0      0      0\n",
              "7      0     -1     -1      0      0     -1\n",
              "8      0      0      2      0      0      0\n",
              "9     -2     -2     -2     -2     -1     -1"
            ]
          },
          "metadata": {
            "tags": []
          },
          "execution_count": 30
        }
      ]
    },
    {
      "cell_type": "markdown",
      "metadata": {
        "id": "eJA7qytrKEs1"
      },
      "source": [
        "This is the definition of this variable PAY_0: Repayment status in September, 2005 (-1=pay duly, 1=payment delay for one month, 2=payment delay for two months, ... 8=payment delay for eight months, 9=payment delay for nine months and above)"
      ]
    },
    {
      "cell_type": "markdown",
      "metadata": {
        "id": "IxVbgPGsKEs2"
      },
      "source": [
        "Let's see payment status for the month of April first. This is the first time payment status recorded for above borrowers. Then we would try to find how many defaulters from April default in May following June, July, August and September\n"
      ]
    },
    {
      "cell_type": "code",
      "metadata": {
        "id": "2xDlmo35KEs2",
        "outputId": "5a5f3b7c-ff8c-4a89-84da-8d280961a1c8",
        "colab": {
          "base_uri": "https://localhost:8080/",
          "height": 297
        }
      },
      "source": [
        "#Let's try to see correlations between payment status actually.\n",
        "sns.heatmap(uci_payment_status.corr(),annot=True)"
      ],
      "execution_count": null,
      "outputs": [
        {
          "output_type": "execute_result",
          "data": {
            "text/plain": [
              "<matplotlib.axes._subplots.AxesSubplot at 0x7f3114a748d0>"
            ]
          },
          "metadata": {
            "tags": []
          },
          "execution_count": 31
        },
        {
          "output_type": "display_data",
          "data": {
            "image/png": "[encoded data removed]",
            "text/plain": [
              "<Figure size 432x288 with 2 Axes>"
            ]
          },
          "metadata": {
            "tags": []
          }
        }
      ]
    },
    {
      "cell_type": "code",
      "metadata": {
        "id": "bT6k5hpGKEs4",
        "outputId": "db7e39af-261a-4a67-e57a-84574b5cc36f",
        "colab": {
          "base_uri": "https://localhost:8080/",
          "height": 283
        }
      },
      "source": [
        "plt.plot(uci_payment_status.corr())\n",
        "plt.legend(labels=['PAY_0','PAY_2', 'PAY_3', 'PAY_4', 'PAY_5', 'PAY_6'])"
      ],
      "execution_count": null,
      "outputs": [
        {
          "output_type": "execute_result",
          "data": {
            "text/plain": [
              "<matplotlib.legend.Legend at 0x7f3114d00550>"
            ]
          },
          "metadata": {
            "tags": []
          },
          "execution_count": 32
        },
        {
          "output_type": "display_data",
          "data": {
            "image/png": "[encoded data removed]",
            "text/plain": [
              "<Figure size 432x288 with 1 Axes>"
            ]
          },
          "metadata": {
            "tags": []
          }
        }
      ]
    },
    {
      "cell_type": "markdown",
      "metadata": {
        "id": "6-j06TV6KEs6"
      },
      "source": [
        "In above heat map we can see that there is strong correlation between Payment status in April and May. Similarly little less correlation with June, July, August and minimum for September. It can be seen that correlation between payment of previous month and next months are high but as months goes pass by, correlations decreases. Hence, for the month of September, payment status of August, July, June , May and April matters subsequently in decreasing order."
      ]
    },
    {
      "cell_type": "code",
      "metadata": {
        "id": "BP2uuWM2KEs6",
        "outputId": "fcea76fa-eaa5-473f-defa-d13f492b7092",
        "colab": {
          "base_uri": "https://localhost:8080/",
          "height": 402
        }
      },
      "source": [
        "uci_payment_status[['PAY_0','PAY_2']].groupby('PAY_2').count()"
      ],
      "execution_count": null,
      "outputs": [
        {
          "output_type": "execute_result",
          "data": {
            "text/html": [
              "<div>\n",
              "<style scoped>\n",
              "    .dataframe tbody tr th:only-of-type {\n",
              "        vertical-align: middle;\n",
              "    }\n",
              "\n",
              "    .dataframe tbody tr th {\n",
              "        vertical-align: top;\n",
              "    }\n",
              "\n",
              "    .dataframe thead th {\n",
              "        text-align: right;\n",
              "    }\n",
              "</style>\n",
              "<table border=\"1\" class=\"dataframe\">\n",
              "  <thead>\n",
              "    <tr style=\"text-align: right;\">\n",
              "      <th></th>\n",
              "      <th>PAY_0</th>\n",
              "    </tr>\n",
              "    <tr>\n",
              "      <th>PAY_2</th>\n",
              "      <th></th>\n",
              "    </tr>\n",
              "  </thead>\n",
              "  <tbody>\n",
              "    <tr>\n",
              "      <th>-2</th>\n",
              "      <td>3782</td>\n",
              "    </tr>\n",
              "    <tr>\n",
              "      <th>-1</th>\n",
              "      <td>6050</td>\n",
              "    </tr>\n",
              "    <tr>\n",
              "      <th>0</th>\n",
              "      <td>15730</td>\n",
              "    </tr>\n",
              "    <tr>\n",
              "      <th>1</th>\n",
              "      <td>28</td>\n",
              "    </tr>\n",
              "    <tr>\n",
              "      <th>2</th>\n",
              "      <td>3927</td>\n",
              "    </tr>\n",
              "    <tr>\n",
              "      <th>3</th>\n",
              "      <td>326</td>\n",
              "    </tr>\n",
              "    <tr>\n",
              "      <th>4</th>\n",
              "      <td>99</td>\n",
              "    </tr>\n",
              "    <tr>\n",
              "      <th>5</th>\n",
              "      <td>25</td>\n",
              "    </tr>\n",
              "    <tr>\n",
              "      <th>6</th>\n",
              "      <td>12</td>\n",
              "    </tr>\n",
              "    <tr>\n",
              "      <th>7</th>\n",
              "      <td>20</td>\n",
              "    </tr>\n",
              "    <tr>\n",
              "      <th>8</th>\n",
              "      <td>1</td>\n",
              "    </tr>\n",
              "  </tbody>\n",
              "</table>\n",
              "</div>"
            ],
            "text/plain": [
              "       PAY_0\n",
              "PAY_2       \n",
              "-2      3782\n",
              "-1      6050\n",
              " 0     15730\n",
              " 1        28\n",
              " 2      3927\n",
              " 3       326\n",
              " 4        99\n",
              " 5        25\n",
              " 6        12\n",
              " 7        20\n",
              " 8         1"
            ]
          },
          "metadata": {
            "tags": []
          },
          "execution_count": 33
        }
      ]
    },
    {
      "cell_type": "markdown",
      "metadata": {
        "id": "NhpHn4hgKEs8"
      },
      "source": [
        "So, upon research and reading discussions, I found out that -2,-1,0 all three payment status owes nothing to the bank and hence, they have been paying their dues on time. There are 25562 accounts who paid their dues in August paid their bills on time in September as well. There are people who didn't paid for 1 months but paid in August but again didn't paid in September. Thus here 28 accounts who didn't paid in July, paid in August and then again didn't paid in September. These are indeterminate customers and many banks make separate models to predict payment behavior of these customers. \n",
        "\n",
        "There are 3927 accounts who didn't paid in August as well as September. So, it is quite evident that if card holder don't pay in 1st month then there is more chances of deafulting in 2nd month as well and so on."
      ]
    },
    {
      "cell_type": "code",
      "metadata": {
        "id": "dK1VfJ10KEs8"
      },
      "source": [
        "uci_new_paysts=uci[['PAY_0','PAY_2', 'PAY_3', 'PAY_4', 'PAY_5', 'PAY_6']].replace([-2,-1,0],0)"
      ],
      "execution_count": null,
      "outputs": []
    },
    {
      "cell_type": "code",
      "metadata": {
        "id": "_C_uNGquKEs-"
      },
      "source": [
        "uci.drop(['PAY_0','PAY_2', 'PAY_3', 'PAY_4', 'PAY_5', 'PAY_6'],axis=1,inplace=True)"
      ],
      "execution_count": null,
      "outputs": []
    },
    {
      "cell_type": "code",
      "metadata": {
        "id": "vkL_rUjZKEtA"
      },
      "source": [
        "uci=pd.concat([uci,uci_new_paysts],axis=1)"
      ],
      "execution_count": null,
      "outputs": []
    },
    {
      "cell_type": "code",
      "metadata": {
        "id": "jFMIrUNGKEtC",
        "outputId": "b3e019d4-bc84-4ec7-8692-e292b9d8950c",
        "colab": {
          "base_uri": "https://localhost:8080/",
          "height": 215
        }
      },
      "source": [
        "uci.head()"
      ],
      "execution_count": null,
      "outputs": [
        {
          "output_type": "execute_result",
          "data": {
            "text/html": [
              "<div>\n",
              "<style scoped>\n",
              "    .dataframe tbody tr th:only-of-type {\n",
              "        vertical-align: middle;\n",
              "    }\n",
              "\n",
              "    .dataframe tbody tr th {\n",
              "        vertical-align: top;\n",
              "    }\n",
              "\n",
              "    .dataframe thead th {\n",
              "        text-align: right;\n",
              "    }\n",
              "</style>\n",
              "<table border=\"1\" class=\"dataframe\">\n",
              "  <thead>\n",
              "    <tr style=\"text-align: right;\">\n",
              "      <th></th>\n",
              "      <th>ID</th>\n",
              "      <th>LIMIT_BAL</th>\n",
              "      <th>SEX</th>\n",
              "      <th>EDUCATION</th>\n",
              "      <th>MARRIAGE</th>\n",
              "      <th>AGE</th>\n",
              "      <th>BILL_AMT1</th>\n",
              "      <th>BILL_AMT2</th>\n",
              "      <th>BILL_AMT3</th>\n",
              "      <th>BILL_AMT4</th>\n",
              "      <th>BILL_AMT5</th>\n",
              "      <th>BILL_AMT6</th>\n",
              "      <th>PAY_AMT1</th>\n",
              "      <th>PAY_AMT2</th>\n",
              "      <th>PAY_AMT3</th>\n",
              "      <th>PAY_AMT4</th>\n",
              "      <th>PAY_AMT5</th>\n",
              "      <th>PAY_AMT6</th>\n",
              "      <th>default.payment.next.month</th>\n",
              "      <th>PAY_0</th>\n",
              "      <th>PAY_2</th>\n",
              "      <th>PAY_3</th>\n",
              "      <th>PAY_4</th>\n",
              "      <th>PAY_5</th>\n",
              "      <th>PAY_6</th>\n",
              "    </tr>\n",
              "  </thead>\n",
              "  <tbody>\n",
              "    <tr>\n",
              "      <th>0</th>\n",
              "      <td>1</td>\n",
              "      <td>20000.0</td>\n",
              "      <td>2</td>\n",
              "      <td>2</td>\n",
              "      <td>1</td>\n",
              "      <td>24</td>\n",
              "      <td>3913.0</td>\n",
              "      <td>3102.0</td>\n",
              "      <td>689.0</td>\n",
              "      <td>0.0</td>\n",
              "      <td>0.0</td>\n",
              "      <td>0.0</td>\n",
              "      <td>0.0</td>\n",
              "      <td>689.0</td>\n",
              "      <td>0.0</td>\n",
              "      <td>0.0</td>\n",
              "      <td>0.0</td>\n",
              "      <td>0.0</td>\n",
              "      <td>1</td>\n",
              "      <td>2</td>\n",
              "      <td>2</td>\n",
              "      <td>0</td>\n",
              "      <td>0</td>\n",
              "      <td>0</td>\n",
              "      <td>0</td>\n",
              "    </tr>\n",
              "    <tr>\n",
              "      <th>1</th>\n",
              "      <td>2</td>\n",
              "      <td>120000.0</td>\n",
              "      <td>2</td>\n",
              "      <td>2</td>\n",
              "      <td>2</td>\n",
              "      <td>26</td>\n",
              "      <td>2682.0</td>\n",
              "      <td>1725.0</td>\n",
              "      <td>2682.0</td>\n",
              "      <td>3272.0</td>\n",
              "      <td>3455.0</td>\n",
              "      <td>3261.0</td>\n",
              "      <td>0.0</td>\n",
              "      <td>1000.0</td>\n",
              "      <td>1000.0</td>\n",
              "      <td>1000.0</td>\n",
              "      <td>0.0</td>\n",
              "      <td>2000.0</td>\n",
              "      <td>1</td>\n",
              "      <td>0</td>\n",
              "      <td>2</td>\n",
              "      <td>0</td>\n",
              "      <td>0</td>\n",
              "      <td>0</td>\n",
              "      <td>2</td>\n",
              "    </tr>\n",
              "    <tr>\n",
              "      <th>2</th>\n",
              "      <td>3</td>\n",
              "      <td>90000.0</td>\n",
              "      <td>2</td>\n",
              "      <td>2</td>\n",
              "      <td>2</td>\n",
              "      <td>34</td>\n",
              "      <td>29239.0</td>\n",
              "      <td>14027.0</td>\n",
              "      <td>13559.0</td>\n",
              "      <td>14331.0</td>\n",
              "      <td>14948.0</td>\n",
              "      <td>15549.0</td>\n",
              "      <td>1518.0</td>\n",
              "      <td>1500.0</td>\n",
              "      <td>1000.0</td>\n",
              "      <td>1000.0</td>\n",
              "      <td>1000.0</td>\n",
              "      <td>5000.0</td>\n",
              "      <td>0</td>\n",
              "      <td>0</td>\n",
              "      <td>0</td>\n",
              "      <td>0</td>\n",
              "      <td>0</td>\n",
              "      <td>0</td>\n",
              "      <td>0</td>\n",
              "    </tr>\n",
              "    <tr>\n",
              "      <th>3</th>\n",
              "      <td>4</td>\n",
              "      <td>50000.0</td>\n",
              "      <td>2</td>\n",
              "      <td>2</td>\n",
              "      <td>1</td>\n",
              "      <td>37</td>\n",
              "      <td>46990.0</td>\n",
              "      <td>48233.0</td>\n",
              "      <td>49291.0</td>\n",
              "      <td>28314.0</td>\n",
              "      <td>28959.0</td>\n",
              "      <td>29547.0</td>\n",
              "      <td>2000.0</td>\n",
              "      <td>2019.0</td>\n",
              "      <td>1200.0</td>\n",
              "      <td>1100.0</td>\n",
              "      <td>1069.0</td>\n",
              "      <td>1000.0</td>\n",
              "      <td>0</td>\n",
              "      <td>0</td>\n",
              "      <td>0</td>\n",
              "      <td>0</td>\n",
              "      <td>0</td>\n",
              "      <td>0</td>\n",
              "      <td>0</td>\n",
              "    </tr>\n",
              "    <tr>\n",
              "      <th>4</th>\n",
              "      <td>5</td>\n",
              "      <td>50000.0</td>\n",
              "      <td>1</td>\n",
              "      <td>2</td>\n",
              "      <td>1</td>\n",
              "      <td>57</td>\n",
              "      <td>8617.0</td>\n",
              "      <td>5670.0</td>\n",
              "      <td>35835.0</td>\n",
              "      <td>20940.0</td>\n",
              "      <td>19146.0</td>\n",
              "      <td>19131.0</td>\n",
              "      <td>2000.0</td>\n",
              "      <td>36681.0</td>\n",
              "      <td>10000.0</td>\n",
              "      <td>9000.0</td>\n",
              "      <td>689.0</td>\n",
              "      <td>679.0</td>\n",
              "      <td>0</td>\n",
              "      <td>0</td>\n",
              "      <td>0</td>\n",
              "      <td>0</td>\n",
              "      <td>0</td>\n",
              "      <td>0</td>\n",
              "      <td>0</td>\n",
              "    </tr>\n",
              "  </tbody>\n",
              "</table>\n",
              "</div>"
            ],
            "text/plain": [
              "   ID  LIMIT_BAL  SEX  EDUCATION  MARRIAGE  ...  PAY_2  PAY_3  PAY_4  PAY_5  PAY_6\n",
              "0   1    20000.0    2          2         1  ...      2      0      0      0      0\n",
              "1   2   120000.0    2          2         2  ...      2      0      0      0      2\n",
              "2   3    90000.0    2          2         2  ...      0      0      0      0      0\n",
              "3   4    50000.0    2          2         1  ...      0      0      0      0      0\n",
              "4   5    50000.0    1          2         1  ...      0      0      0      0      0\n",
              "\n",
              "[5 rows x 25 columns]"
            ]
          },
          "metadata": {
            "tags": []
          },
          "execution_count": 37
        }
      ]
    },
    {
      "cell_type": "markdown",
      "metadata": {
        "id": "1izNPvTdKEtE"
      },
      "source": [
        "#### Let's try to explore bill amounts now. "
      ]
    },
    {
      "cell_type": "code",
      "metadata": {
        "id": "bmOAiskuKEtG"
      },
      "source": [
        "uci_bill_amount= uci[['BILL_AMT1', 'BILL_AMT2', 'BILL_AMT3', 'BILL_AMT4', 'BILL_AMT5', 'BILL_AMT6']]"
      ],
      "execution_count": null,
      "outputs": []
    },
    {
      "cell_type": "code",
      "metadata": {
        "id": "Qfuy9s6vKEtH",
        "outputId": "21046f09-3065-4490-983b-475f64d4f5af",
        "colab": {
          "base_uri": "https://localhost:8080/",
          "height": 195
        }
      },
      "source": [
        "uci_bill_amount.head()"
      ],
      "execution_count": null,
      "outputs": [
        {
          "output_type": "execute_result",
          "data": {
            "text/html": [
              "<div>\n",
              "<style scoped>\n",
              "    .dataframe tbody tr th:only-of-type {\n",
              "        vertical-align: middle;\n",
              "    }\n",
              "\n",
              "    .dataframe tbody tr th {\n",
              "        vertical-align: top;\n",
              "    }\n",
              "\n",
              "    .dataframe thead th {\n",
              "        text-align: right;\n",
              "    }\n",
              "</style>\n",
              "<table border=\"1\" class=\"dataframe\">\n",
              "  <thead>\n",
              "    <tr style=\"text-align: right;\">\n",
              "      <th></th>\n",
              "      <th>BILL_AMT1</th>\n",
              "      <th>BILL_AMT2</th>\n",
              "      <th>BILL_AMT3</th>\n",
              "      <th>BILL_AMT4</th>\n",
              "      <th>BILL_AMT5</th>\n",
              "      <th>BILL_AMT6</th>\n",
              "    </tr>\n",
              "  </thead>\n",
              "  <tbody>\n",
              "    <tr>\n",
              "      <th>0</th>\n",
              "      <td>3913.0</td>\n",
              "      <td>3102.0</td>\n",
              "      <td>689.0</td>\n",
              "      <td>0.0</td>\n",
              "      <td>0.0</td>\n",
              "      <td>0.0</td>\n",
              "    </tr>\n",
              "    <tr>\n",
              "      <th>1</th>\n",
              "      <td>2682.0</td>\n",
              "      <td>1725.0</td>\n",
              "      <td>2682.0</td>\n",
              "      <td>3272.0</td>\n",
              "      <td>3455.0</td>\n",
              "      <td>3261.0</td>\n",
              "    </tr>\n",
              "    <tr>\n",
              "      <th>2</th>\n",
              "      <td>29239.0</td>\n",
              "      <td>14027.0</td>\n",
              "      <td>13559.0</td>\n",
              "      <td>14331.0</td>\n",
              "      <td>14948.0</td>\n",
              "      <td>15549.0</td>\n",
              "    </tr>\n",
              "    <tr>\n",
              "      <th>3</th>\n",
              "      <td>46990.0</td>\n",
              "      <td>48233.0</td>\n",
              "      <td>49291.0</td>\n",
              "      <td>28314.0</td>\n",
              "      <td>28959.0</td>\n",
              "      <td>29547.0</td>\n",
              "    </tr>\n",
              "    <tr>\n",
              "      <th>4</th>\n",
              "      <td>8617.0</td>\n",
              "      <td>5670.0</td>\n",
              "      <td>35835.0</td>\n",
              "      <td>20940.0</td>\n",
              "      <td>19146.0</td>\n",
              "      <td>19131.0</td>\n",
              "    </tr>\n",
              "  </tbody>\n",
              "</table>\n",
              "</div>"
            ],
            "text/plain": [
              "   BILL_AMT1  BILL_AMT2  BILL_AMT3  BILL_AMT4  BILL_AMT5  BILL_AMT6\n",
              "0     3913.0     3102.0      689.0        0.0        0.0        0.0\n",
              "1     2682.0     1725.0     2682.0     3272.0     3455.0     3261.0\n",
              "2    29239.0    14027.0    13559.0    14331.0    14948.0    15549.0\n",
              "3    46990.0    48233.0    49291.0    28314.0    28959.0    29547.0\n",
              "4     8617.0     5670.0    35835.0    20940.0    19146.0    19131.0"
            ]
          },
          "metadata": {
            "tags": []
          },
          "execution_count": 39
        }
      ]
    },
    {
      "cell_type": "markdown",
      "metadata": {
        "id": "Z2XHsNI3KEtJ"
      },
      "source": [
        "This is the desription for Bill amount:\n",
        "    \n",
        "BILL_AMT1: Amount of bill statement in September, 2005 (NT dollar)\n",
        "\n",
        "BILL_AMT2: Amount of bill statement in August, 2005 (NT dollar)\n",
        "\n",
        "BILL_AMT3: Amount of bill statement in July, 2005 (NT dollar)\n",
        "\n",
        "BILL_AMT4: Amount of bill statement in June, 2005 (NT dollar)\n",
        "\n",
        "BILL_AMT5: Amount of bill statement in May, 2005 (NT dollar)\n",
        "\n",
        "BILL_AMT6: Amount of bill statement in April, 2005 (NT dollar)"
      ]
    },
    {
      "cell_type": "code",
      "metadata": {
        "id": "A6bN7XI6KEtJ",
        "outputId": "a07a9b23-8470-4b1c-8b87-54d6d92a6eb8",
        "colab": {
          "base_uri": "https://localhost:8080/",
          "height": 331
        }
      },
      "source": [
        "#Let's start with checking correlations between Bill Amounts\n",
        "\n",
        "sns.heatmap(uci_bill_amount.corr(),annot=True)"
      ],
      "execution_count": null,
      "outputs": [
        {
          "output_type": "execute_result",
          "data": {
            "text/plain": [
              "<matplotlib.axes._subplots.AxesSubplot at 0x7f3111141208>"
            ]
          },
          "metadata": {
            "tags": []
          },
          "execution_count": 40
        },
        {
          "output_type": "display_data",
          "data": {
            "image/png": "[encoded data removed]",
            "text/plain": [
              "<Figure size 432x288 with 2 Axes>"
            ]
          },
          "metadata": {
            "tags": []
          }
        }
      ]
    },
    {
      "cell_type": "code",
      "metadata": {
        "id": "1OwOP2h8KEtK",
        "outputId": "0b804742-dd12-467e-e9d4-1b6143fc5d0c",
        "colab": {
          "base_uri": "https://localhost:8080/",
          "height": 283
        }
      },
      "source": [
        "plt.plot(uci_bill_amount.corr())\n",
        "plt.legend(labels=['BILL_AMT1', 'BILL_AMT2', 'BILL_AMT3', 'BILL_AMT4', 'BILL_AMT5', 'BILL_AMT6'])"
      ],
      "execution_count": null,
      "outputs": [
        {
          "output_type": "execute_result",
          "data": {
            "text/plain": [
              "<matplotlib.legend.Legend at 0x7f311115a550>"
            ]
          },
          "metadata": {
            "tags": []
          },
          "execution_count": 41
        },
        {
          "output_type": "display_data",
          "data": {
            "image/png": "[encoded data removed]",
            "text/plain": [
              "<Figure size 432x288 with 1 Axes>"
            ]
          },
          "metadata": {
            "tags": []
          }
        }
      ]
    },
    {
      "cell_type": "markdown",
      "metadata": {
        "id": "kt8-mWmkKEtO"
      },
      "source": [
        "Behaviors in card holders can be inferred clearly through above plot and heatmap. Bill amount in September is 95% correlated with the bill amount in August, 89% correlated with July amount, 86% with June and as months passes by the correlation decreases. So, it indicates that bill amount goes on increasing because of non payment. In other terms if bill amount is high in one month then there is more chance that borrower will not pay in full and leading to higher bill amount in subsequent months"
      ]
    },
    {
      "cell_type": "markdown",
      "metadata": {
        "id": "zdqHCJM3KEtO"
      },
      "source": [
        "#### Let's visualize the payment amounts now"
      ]
    },
    {
      "cell_type": "code",
      "metadata": {
        "id": "BRPvheoOKEtP"
      },
      "source": [
        "uci_payment_amount= uci[['PAY_AMT1','PAY_AMT2', 'PAY_AMT3', 'PAY_AMT4', 'PAY_AMT5', 'PAY_AMT6']]"
      ],
      "execution_count": null,
      "outputs": []
    },
    {
      "cell_type": "code",
      "metadata": {
        "id": "5dF95ebmKEtR",
        "outputId": "6e424802-0af1-4028-a381-d4100ddd5759",
        "colab": {
          "base_uri": "https://localhost:8080/",
          "height": 195
        }
      },
      "source": [
        "uci_payment_amount.head()"
      ],
      "execution_count": null,
      "outputs": [
        {
          "output_type": "execute_result",
          "data": {
            "text/html": [
              "<div>\n",
              "<style scoped>\n",
              "    .dataframe tbody tr th:only-of-type {\n",
              "        vertical-align: middle;\n",
              "    }\n",
              "\n",
              "    .dataframe tbody tr th {\n",
              "        vertical-align: top;\n",
              "    }\n",
              "\n",
              "    .dataframe thead th {\n",
              "        text-align: right;\n",
              "    }\n",
              "</style>\n",
              "<table border=\"1\" class=\"dataframe\">\n",
              "  <thead>\n",
              "    <tr style=\"text-align: right;\">\n",
              "      <th></th>\n",
              "      <th>PAY_AMT1</th>\n",
              "      <th>PAY_AMT2</th>\n",
              "      <th>PAY_AMT3</th>\n",
              "      <th>PAY_AMT4</th>\n",
              "      <th>PAY_AMT5</th>\n",
              "      <th>PAY_AMT6</th>\n",
              "    </tr>\n",
              "  </thead>\n",
              "  <tbody>\n",
              "    <tr>\n",
              "      <th>0</th>\n",
              "      <td>0.0</td>\n",
              "      <td>689.0</td>\n",
              "      <td>0.0</td>\n",
              "      <td>0.0</td>\n",
              "      <td>0.0</td>\n",
              "      <td>0.0</td>\n",
              "    </tr>\n",
              "    <tr>\n",
              "      <th>1</th>\n",
              "      <td>0.0</td>\n",
              "      <td>1000.0</td>\n",
              "      <td>1000.0</td>\n",
              "      <td>1000.0</td>\n",
              "      <td>0.0</td>\n",
              "      <td>2000.0</td>\n",
              "    </tr>\n",
              "    <tr>\n",
              "      <th>2</th>\n",
              "      <td>1518.0</td>\n",
              "      <td>1500.0</td>\n",
              "      <td>1000.0</td>\n",
              "      <td>1000.0</td>\n",
              "      <td>1000.0</td>\n",
              "      <td>5000.0</td>\n",
              "    </tr>\n",
              "    <tr>\n",
              "      <th>3</th>\n",
              "      <td>2000.0</td>\n",
              "      <td>2019.0</td>\n",
              "      <td>1200.0</td>\n",
              "      <td>1100.0</td>\n",
              "      <td>1069.0</td>\n",
              "      <td>1000.0</td>\n",
              "    </tr>\n",
              "    <tr>\n",
              "      <th>4</th>\n",
              "      <td>2000.0</td>\n",
              "      <td>36681.0</td>\n",
              "      <td>10000.0</td>\n",
              "      <td>9000.0</td>\n",
              "      <td>689.0</td>\n",
              "      <td>679.0</td>\n",
              "    </tr>\n",
              "  </tbody>\n",
              "</table>\n",
              "</div>"
            ],
            "text/plain": [
              "   PAY_AMT1  PAY_AMT2  PAY_AMT3  PAY_AMT4  PAY_AMT5  PAY_AMT6\n",
              "0       0.0     689.0       0.0       0.0       0.0       0.0\n",
              "1       0.0    1000.0    1000.0    1000.0       0.0    2000.0\n",
              "2    1518.0    1500.0    1000.0    1000.0    1000.0    5000.0\n",
              "3    2000.0    2019.0    1200.0    1100.0    1069.0    1000.0\n",
              "4    2000.0   36681.0   10000.0    9000.0     689.0     679.0"
            ]
          },
          "metadata": {
            "tags": []
          },
          "execution_count": 43
        }
      ]
    },
    {
      "cell_type": "markdown",
      "metadata": {
        "id": "DE7ofcK0KEtT"
      },
      "source": [
        "1. PAY_AMT1: Amount of previous payment in September, 2005 (NT dollar)\n",
        "2. PAY_AMT2: Amount of previous payment in August, 2005 (NT dollar)\n",
        "3. PAY_AMT3: Amount of previous payment in July, 2005 (NT dollar)\n",
        "4. PAY_AMT4: Amount of previous payment in June, 2005 (NT dollar)\n",
        "5. PAY_AMT5: Amount of previous payment in May, 2005 (NT dollar)\n",
        "6. PAY_AMT6: Amount of previous payment in April, 2005 (NT dollar)"
      ]
    },
    {
      "cell_type": "code",
      "metadata": {
        "id": "PtHJ64IzKEtU",
        "outputId": "69e50a62-c72f-4620-bf80-fc83f6b13f2b",
        "colab": {
          "base_uri": "https://localhost:8080/",
          "height": 329
        }
      },
      "source": [
        "#Let's start with checking correlations between Bill Amounts\n",
        "\n",
        "sns.heatmap(uci_payment_amount.corr(),annot=True)"
      ],
      "execution_count": null,
      "outputs": [
        {
          "output_type": "execute_result",
          "data": {
            "text/plain": [
              "<matplotlib.axes._subplots.AxesSubplot at 0x7f3110f60d68>"
            ]
          },
          "metadata": {
            "tags": []
          },
          "execution_count": 44
        },
        {
          "output_type": "display_data",
          "data": {
            "image/png": "[encoded data removed]",
            "text/plain": [
              "<Figure size 432x288 with 2 Axes>"
            ]
          },
          "metadata": {
            "tags": []
          }
        }
      ]
    },
    {
      "cell_type": "markdown",
      "metadata": {
        "id": "TYEB2MqsKEtV"
      },
      "source": [
        "We can see that, we have less correlation with payment amount between months because of unexpected income or bill amount in months. However, there are still some correlations between months but not that much as it is between bill amount and payment status"
      ]
    },
    {
      "cell_type": "markdown",
      "metadata": {
        "id": "JKzk_eQ8KEtW"
      },
      "source": [
        "Let's try to see if we have relation with payment status and borrower's info"
      ]
    },
    {
      "cell_type": "code",
      "metadata": {
        "id": "BvlK0b4uKEtW",
        "outputId": "387fbb7c-a448-4781-8270-1057a0526783",
        "colab": {
          "base_uri": "https://localhost:8080/",
          "height": 215
        }
      },
      "source": [
        "uci_male=uci[uci['SEX']==1]\n",
        "uci_male.head()"
      ],
      "execution_count": null,
      "outputs": [
        {
          "output_type": "execute_result",
          "data": {
            "text/html": [
              "<div>\n",
              "<style scoped>\n",
              "    .dataframe tbody tr th:only-of-type {\n",
              "        vertical-align: middle;\n",
              "    }\n",
              "\n",
              "    .dataframe tbody tr th {\n",
              "        vertical-align: top;\n",
              "    }\n",
              "\n",
              "    .dataframe thead th {\n",
              "        text-align: right;\n",
              "    }\n",
              "</style>\n",
              "<table border=\"1\" class=\"dataframe\">\n",
              "  <thead>\n",
              "    <tr style=\"text-align: right;\">\n",
              "      <th></th>\n",
              "      <th>ID</th>\n",
              "      <th>LIMIT_BAL</th>\n",
              "      <th>SEX</th>\n",
              "      <th>EDUCATION</th>\n",
              "      <th>MARRIAGE</th>\n",
              "      <th>AGE</th>\n",
              "      <th>BILL_AMT1</th>\n",
              "      <th>BILL_AMT2</th>\n",
              "      <th>BILL_AMT3</th>\n",
              "      <th>BILL_AMT4</th>\n",
              "      <th>BILL_AMT5</th>\n",
              "      <th>BILL_AMT6</th>\n",
              "      <th>PAY_AMT1</th>\n",
              "      <th>PAY_AMT2</th>\n",
              "      <th>PAY_AMT3</th>\n",
              "      <th>PAY_AMT4</th>\n",
              "      <th>PAY_AMT5</th>\n",
              "      <th>PAY_AMT6</th>\n",
              "      <th>default.payment.next.month</th>\n",
              "      <th>PAY_0</th>\n",
              "      <th>PAY_2</th>\n",
              "      <th>PAY_3</th>\n",
              "      <th>PAY_4</th>\n",
              "      <th>PAY_5</th>\n",
              "      <th>PAY_6</th>\n",
              "    </tr>\n",
              "  </thead>\n",
              "  <tbody>\n",
              "    <tr>\n",
              "      <th>4</th>\n",
              "      <td>5</td>\n",
              "      <td>50000.0</td>\n",
              "      <td>1</td>\n",
              "      <td>2</td>\n",
              "      <td>1</td>\n",
              "      <td>57</td>\n",
              "      <td>8617.0</td>\n",
              "      <td>5670.0</td>\n",
              "      <td>35835.0</td>\n",
              "      <td>20940.0</td>\n",
              "      <td>19146.0</td>\n",
              "      <td>19131.0</td>\n",
              "      <td>2000.0</td>\n",
              "      <td>36681.0</td>\n",
              "      <td>10000.0</td>\n",
              "      <td>9000.0</td>\n",
              "      <td>689.0</td>\n",
              "      <td>679.0</td>\n",
              "      <td>0</td>\n",
              "      <td>0</td>\n",
              "      <td>0</td>\n",
              "      <td>0</td>\n",
              "      <td>0</td>\n",
              "      <td>0</td>\n",
              "      <td>0</td>\n",
              "    </tr>\n",
              "    <tr>\n",
              "      <th>5</th>\n",
              "      <td>6</td>\n",
              "      <td>50000.0</td>\n",
              "      <td>1</td>\n",
              "      <td>1</td>\n",
              "      <td>2</td>\n",
              "      <td>37</td>\n",
              "      <td>64400.0</td>\n",
              "      <td>57069.0</td>\n",
              "      <td>57608.0</td>\n",
              "      <td>19394.0</td>\n",
              "      <td>19619.0</td>\n",
              "      <td>20024.0</td>\n",
              "      <td>2500.0</td>\n",
              "      <td>1815.0</td>\n",
              "      <td>657.0</td>\n",
              "      <td>1000.0</td>\n",
              "      <td>1000.0</td>\n",
              "      <td>800.0</td>\n",
              "      <td>0</td>\n",
              "      <td>0</td>\n",
              "      <td>0</td>\n",
              "      <td>0</td>\n",
              "      <td>0</td>\n",
              "      <td>0</td>\n",
              "      <td>0</td>\n",
              "    </tr>\n",
              "    <tr>\n",
              "      <th>6</th>\n",
              "      <td>7</td>\n",
              "      <td>500000.0</td>\n",
              "      <td>1</td>\n",
              "      <td>1</td>\n",
              "      <td>2</td>\n",
              "      <td>29</td>\n",
              "      <td>367965.0</td>\n",
              "      <td>412023.0</td>\n",
              "      <td>445007.0</td>\n",
              "      <td>542653.0</td>\n",
              "      <td>483003.0</td>\n",
              "      <td>473944.0</td>\n",
              "      <td>55000.0</td>\n",
              "      <td>40000.0</td>\n",
              "      <td>38000.0</td>\n",
              "      <td>20239.0</td>\n",
              "      <td>13750.0</td>\n",
              "      <td>13770.0</td>\n",
              "      <td>0</td>\n",
              "      <td>0</td>\n",
              "      <td>0</td>\n",
              "      <td>0</td>\n",
              "      <td>0</td>\n",
              "      <td>0</td>\n",
              "      <td>0</td>\n",
              "    </tr>\n",
              "    <tr>\n",
              "      <th>9</th>\n",
              "      <td>10</td>\n",
              "      <td>20000.0</td>\n",
              "      <td>1</td>\n",
              "      <td>3</td>\n",
              "      <td>2</td>\n",
              "      <td>35</td>\n",
              "      <td>0.0</td>\n",
              "      <td>0.0</td>\n",
              "      <td>0.0</td>\n",
              "      <td>0.0</td>\n",
              "      <td>13007.0</td>\n",
              "      <td>13912.0</td>\n",
              "      <td>0.0</td>\n",
              "      <td>0.0</td>\n",
              "      <td>0.0</td>\n",
              "      <td>13007.0</td>\n",
              "      <td>1122.0</td>\n",
              "      <td>0.0</td>\n",
              "      <td>0</td>\n",
              "      <td>0</td>\n",
              "      <td>0</td>\n",
              "      <td>0</td>\n",
              "      <td>0</td>\n",
              "      <td>0</td>\n",
              "      <td>0</td>\n",
              "    </tr>\n",
              "    <tr>\n",
              "      <th>13</th>\n",
              "      <td>14</td>\n",
              "      <td>70000.0</td>\n",
              "      <td>1</td>\n",
              "      <td>2</td>\n",
              "      <td>2</td>\n",
              "      <td>30</td>\n",
              "      <td>65802.0</td>\n",
              "      <td>67369.0</td>\n",
              "      <td>65701.0</td>\n",
              "      <td>66782.0</td>\n",
              "      <td>36137.0</td>\n",
              "      <td>36894.0</td>\n",
              "      <td>3200.0</td>\n",
              "      <td>0.0</td>\n",
              "      <td>3000.0</td>\n",
              "      <td>3000.0</td>\n",
              "      <td>1500.0</td>\n",
              "      <td>0.0</td>\n",
              "      <td>1</td>\n",
              "      <td>1</td>\n",
              "      <td>2</td>\n",
              "      <td>2</td>\n",
              "      <td>0</td>\n",
              "      <td>0</td>\n",
              "      <td>2</td>\n",
              "    </tr>\n",
              "  </tbody>\n",
              "</table>\n",
              "</div>"
            ],
            "text/plain": [
              "    ID  LIMIT_BAL  SEX  EDUCATION  MARRIAGE  ...  PAY_2  PAY_3  PAY_4  PAY_5  PAY_6\n",
              "4    5    50000.0    1          2         1  ...      0      0      0      0      0\n",
              "5    6    50000.0    1          1         2  ...      0      0      0      0      0\n",
              "6    7   500000.0    1          1         2  ...      0      0      0      0      0\n",
              "9   10    20000.0    1          3         2  ...      0      0      0      0      0\n",
              "13  14    70000.0    1          2         2  ...      2      2      0      0      2\n",
              "\n",
              "[5 rows x 25 columns]"
            ]
          },
          "metadata": {
            "tags": []
          },
          "execution_count": 45
        }
      ]
    },
    {
      "cell_type": "code",
      "metadata": {
        "id": "1mzP4dwVKEtX"
      },
      "source": [
        "uci_female=uci[uci['SEX']==2]"
      ],
      "execution_count": null,
      "outputs": []
    },
    {
      "cell_type": "code",
      "metadata": {
        "id": "fnvc-QNfKEtZ"
      },
      "source": [
        "fe_0=uci_female[['PAY_0','SEX']].groupby('PAY_0').count()/18112*100\n",
        "fe_2=uci_female[['PAY_2','SEX']].groupby('PAY_2').count()/18112*100\n",
        "fe_3=uci_female[['PAY_3','SEX']].groupby('PAY_3').count()/18112*100\n",
        "fe_4=uci_female[['PAY_4','SEX']].groupby('PAY_4').count()/18112*100\n",
        "fe_5=uci_female[['PAY_5','SEX']].groupby('PAY_5').count()/18112*100\n",
        "fe_6=uci_female[['PAY_6','SEX']].groupby('PAY_6').count()/18112*100\n"
      ],
      "execution_count": null,
      "outputs": []
    },
    {
      "cell_type": "code",
      "metadata": {
        "id": "pkv4DiiRKEtb",
        "outputId": "76cd718d-f70b-4dc1-f839-ec28876be29b",
        "colab": {
          "base_uri": "https://localhost:8080/",
          "height": 314
        }
      },
      "source": [
        "female_status=pd.concat([fe_0,fe_2,fe_3,fe_4,fe_5,fe_6],axis=1)\n",
        "female_status.columns=['PAY_0','PAY_2', 'PAY_3', 'PAY_4', 'PAY_5', 'PAY_6']\n",
        "female_status"
      ],
      "execution_count": null,
      "outputs": [
        {
          "output_type": "execute_result",
          "data": {
            "text/html": [
              "<div>\n",
              "<style scoped>\n",
              "    .dataframe tbody tr th:only-of-type {\n",
              "        vertical-align: middle;\n",
              "    }\n",
              "\n",
              "    .dataframe tbody tr th {\n",
              "        vertical-align: top;\n",
              "    }\n",
              "\n",
              "    .dataframe thead th {\n",
              "        text-align: right;\n",
              "    }\n",
              "</style>\n",
              "<table border=\"1\" class=\"dataframe\">\n",
              "  <thead>\n",
              "    <tr style=\"text-align: right;\">\n",
              "      <th></th>\n",
              "      <th>PAY_0</th>\n",
              "      <th>PAY_2</th>\n",
              "      <th>PAY_3</th>\n",
              "      <th>PAY_4</th>\n",
              "      <th>PAY_5</th>\n",
              "      <th>PAY_6</th>\n",
              "    </tr>\n",
              "  </thead>\n",
              "  <tbody>\n",
              "    <tr>\n",
              "      <th>0</th>\n",
              "      <td>78.113958</td>\n",
              "      <td>86.384717</td>\n",
              "      <td>87.030698</td>\n",
              "      <td>89.217094</td>\n",
              "      <td>90.928666</td>\n",
              "      <td>90.415194</td>\n",
              "    </tr>\n",
              "    <tr>\n",
              "      <th>1</th>\n",
              "      <td>12.124558</td>\n",
              "      <td>0.077297</td>\n",
              "      <td>NaN</td>\n",
              "      <td>NaN</td>\n",
              "      <td>NaN</td>\n",
              "      <td>NaN</td>\n",
              "    </tr>\n",
              "    <tr>\n",
              "      <th>2</th>\n",
              "      <td>8.541299</td>\n",
              "      <td>12.240504</td>\n",
              "      <td>11.953401</td>\n",
              "      <td>9.927120</td>\n",
              "      <td>8.210027</td>\n",
              "      <td>8.767668</td>\n",
              "    </tr>\n",
              "    <tr>\n",
              "      <th>3</th>\n",
              "      <td>0.899956</td>\n",
              "      <td>0.938604</td>\n",
              "      <td>0.618375</td>\n",
              "      <td>0.425133</td>\n",
              "      <td>0.452739</td>\n",
              "      <td>0.491387</td>\n",
              "    </tr>\n",
              "    <tr>\n",
              "      <th>4</th>\n",
              "      <td>0.176678</td>\n",
              "      <td>0.215327</td>\n",
              "      <td>0.198763</td>\n",
              "      <td>0.171157</td>\n",
              "      <td>0.209806</td>\n",
              "      <td>0.132509</td>\n",
              "    </tr>\n",
              "    <tr>\n",
              "      <th>5</th>\n",
              "      <td>0.044170</td>\n",
              "      <td>0.060733</td>\n",
              "      <td>0.060733</td>\n",
              "      <td>0.093860</td>\n",
              "      <td>0.049691</td>\n",
              "      <td>0.027606</td>\n",
              "    </tr>\n",
              "    <tr>\n",
              "      <th>6</th>\n",
              "      <td>0.027606</td>\n",
              "      <td>0.027606</td>\n",
              "      <td>0.060733</td>\n",
              "      <td>0.016564</td>\n",
              "      <td>NaN</td>\n",
              "      <td>0.038648</td>\n",
              "    </tr>\n",
              "    <tr>\n",
              "      <th>7</th>\n",
              "      <td>0.022085</td>\n",
              "      <td>0.049691</td>\n",
              "      <td>0.077297</td>\n",
              "      <td>0.149072</td>\n",
              "      <td>0.149072</td>\n",
              "      <td>0.126988</td>\n",
              "    </tr>\n",
              "    <tr>\n",
              "      <th>8</th>\n",
              "      <td>0.049691</td>\n",
              "      <td>0.005521</td>\n",
              "      <td>NaN</td>\n",
              "      <td>NaN</td>\n",
              "      <td>NaN</td>\n",
              "      <td>NaN</td>\n",
              "    </tr>\n",
              "  </tbody>\n",
              "</table>\n",
              "</div>"
            ],
            "text/plain": [
              "       PAY_0      PAY_2      PAY_3      PAY_4      PAY_5      PAY_6\n",
              "0  78.113958  86.384717  87.030698  89.217094  90.928666  90.415194\n",
              "1  12.124558   0.077297        NaN        NaN        NaN        NaN\n",
              "2   8.541299  12.240504  11.953401   9.927120   8.210027   8.767668\n",
              "3   0.899956   0.938604   0.618375   0.425133   0.452739   0.491387\n",
              "4   0.176678   0.215327   0.198763   0.171157   0.209806   0.132509\n",
              "5   0.044170   0.060733   0.060733   0.093860   0.049691   0.027606\n",
              "6   0.027606   0.027606   0.060733   0.016564        NaN   0.038648\n",
              "7   0.022085   0.049691   0.077297   0.149072   0.149072   0.126988\n",
              "8   0.049691   0.005521        NaN        NaN        NaN        NaN"
            ]
          },
          "metadata": {
            "tags": []
          },
          "execution_count": 48
        }
      ]
    },
    {
      "cell_type": "code",
      "metadata": {
        "id": "BKq07perKEtc"
      },
      "source": [
        "me_0=uci_male[['PAY_0','SEX']].groupby('PAY_0').count()/11888*100\n",
        "me_2=uci_male[['PAY_2','SEX']].groupby('PAY_2').count()/11888*100\n",
        "me_3=uci_male[['PAY_3','SEX']].groupby('PAY_3').count()/11888*100\n",
        "me_4=uci_male[['PAY_4','SEX']].groupby('PAY_4').count()/11888*100\n",
        "me_5=uci_male[['PAY_5','SEX']].groupby('PAY_5').count()/11888*100\n",
        "me_6=uci_male[['PAY_6','SEX']].groupby('PAY_6').count()/11888*100"
      ],
      "execution_count": null,
      "outputs": []
    },
    {
      "cell_type": "code",
      "metadata": {
        "id": "Qr_7XzxLKEtd",
        "outputId": "00771ee1-8c7f-4b10-e252-c7bac3ee48ba",
        "colab": {
          "base_uri": "https://localhost:8080/",
          "height": 314
        }
      },
      "source": [
        "male_status=pd.concat([me_0,me_2,me_3,me_4,me_5,me_6],axis=1)\n",
        "male_status.columns=['PAY_0','PAY_2', 'PAY_3', 'PAY_4', 'PAY_5', 'PAY_6']\n",
        "male_status"
      ],
      "execution_count": null,
      "outputs": [
        {
          "output_type": "execute_result",
          "data": {
            "text/html": [
              "<div>\n",
              "<style scoped>\n",
              "    .dataframe tbody tr th:only-of-type {\n",
              "        vertical-align: middle;\n",
              "    }\n",
              "\n",
              "    .dataframe tbody tr th {\n",
              "        vertical-align: top;\n",
              "    }\n",
              "\n",
              "    .dataframe thead th {\n",
              "        text-align: right;\n",
              "    }\n",
              "</style>\n",
              "<table border=\"1\" class=\"dataframe\">\n",
              "  <thead>\n",
              "    <tr style=\"text-align: right;\">\n",
              "      <th></th>\n",
              "      <th>PAY_0</th>\n",
              "      <th>PAY_2</th>\n",
              "      <th>PAY_3</th>\n",
              "      <th>PAY_4</th>\n",
              "      <th>PAY_5</th>\n",
              "      <th>PAY_6</th>\n",
              "    </tr>\n",
              "  </thead>\n",
              "  <tbody>\n",
              "    <tr>\n",
              "      <th>0</th>\n",
              "      <td>75.992598</td>\n",
              "      <td>83.411844</td>\n",
              "      <td>84.320323</td>\n",
              "      <td>86.902759</td>\n",
              "      <td>88.854307</td>\n",
              "      <td>88.702894</td>\n",
              "    </tr>\n",
              "    <tr>\n",
              "      <th>1</th>\n",
              "      <td>12.550471</td>\n",
              "      <td>0.117766</td>\n",
              "      <td>0.033647</td>\n",
              "      <td>0.016824</td>\n",
              "      <td>NaN</td>\n",
              "      <td>NaN</td>\n",
              "    </tr>\n",
              "    <tr>\n",
              "      <th>2</th>\n",
              "      <td>9.421265</td>\n",
              "      <td>14.384253</td>\n",
              "      <td>13.913190</td>\n",
              "      <td>11.448520</td>\n",
              "      <td>9.581090</td>\n",
              "      <td>9.909152</td>\n",
              "    </tr>\n",
              "    <tr>\n",
              "      <th>3</th>\n",
              "      <td>1.337483</td>\n",
              "      <td>1.312248</td>\n",
              "      <td>1.076716</td>\n",
              "      <td>0.866420</td>\n",
              "      <td>0.807537</td>\n",
              "      <td>0.799125</td>\n",
              "    </tr>\n",
              "    <tr>\n",
              "      <th>4</th>\n",
              "      <td>0.370121</td>\n",
              "      <td>0.504711</td>\n",
              "      <td>0.336474</td>\n",
              "      <td>0.319650</td>\n",
              "      <td>0.386945</td>\n",
              "      <td>0.210296</td>\n",
              "    </tr>\n",
              "    <tr>\n",
              "      <th>5</th>\n",
              "      <td>0.151413</td>\n",
              "      <td>0.117766</td>\n",
              "      <td>0.084118</td>\n",
              "      <td>0.151413</td>\n",
              "      <td>0.067295</td>\n",
              "      <td>0.067295</td>\n",
              "    </tr>\n",
              "    <tr>\n",
              "      <th>6</th>\n",
              "      <td>0.050471</td>\n",
              "      <td>0.058883</td>\n",
              "      <td>0.100942</td>\n",
              "      <td>0.016824</td>\n",
              "      <td>0.033647</td>\n",
              "      <td>0.100942</td>\n",
              "    </tr>\n",
              "    <tr>\n",
              "      <th>7</th>\n",
              "      <td>0.042059</td>\n",
              "      <td>0.092530</td>\n",
              "      <td>0.109354</td>\n",
              "      <td>0.260767</td>\n",
              "      <td>0.260767</td>\n",
              "      <td>0.193472</td>\n",
              "    </tr>\n",
              "    <tr>\n",
              "      <th>8</th>\n",
              "      <td>0.084118</td>\n",
              "      <td>NaN</td>\n",
              "      <td>0.025236</td>\n",
              "      <td>0.016824</td>\n",
              "      <td>0.008412</td>\n",
              "      <td>0.016824</td>\n",
              "    </tr>\n",
              "  </tbody>\n",
              "</table>\n",
              "</div>"
            ],
            "text/plain": [
              "       PAY_0      PAY_2      PAY_3      PAY_4      PAY_5      PAY_6\n",
              "0  75.992598  83.411844  84.320323  86.902759  88.854307  88.702894\n",
              "1  12.550471   0.117766   0.033647   0.016824        NaN        NaN\n",
              "2   9.421265  14.384253  13.913190  11.448520   9.581090   9.909152\n",
              "3   1.337483   1.312248   1.076716   0.866420   0.807537   0.799125\n",
              "4   0.370121   0.504711   0.336474   0.319650   0.386945   0.210296\n",
              "5   0.151413   0.117766   0.084118   0.151413   0.067295   0.067295\n",
              "6   0.050471   0.058883   0.100942   0.016824   0.033647   0.100942\n",
              "7   0.042059   0.092530   0.109354   0.260767   0.260767   0.193472\n",
              "8   0.084118        NaN   0.025236   0.016824   0.008412   0.016824"
            ]
          },
          "metadata": {
            "tags": []
          },
          "execution_count": 50
        }
      ]
    },
    {
      "cell_type": "markdown",
      "metadata": {
        "id": "oF9d51gEKEtf"
      },
      "source": [
        "Since, percentages of population making payments are almost equal for all 6 months, gender would not be appropriate choice to segment the variable"
      ]
    },
    {
      "cell_type": "code",
      "metadata": {
        "id": "khlOcyhbKEtf",
        "outputId": "798379ea-64a4-4583-ba12-38c928691f12",
        "colab": {
          "base_uri": "https://localhost:8080/",
          "height": 244
        }
      },
      "source": [
        "fig,axes=plt.subplots(1,3,figsize=(15,3))#we are able to index the axes because its an array\n",
        "axes[0].scatter(uci['PAY_0'],uci['AGE'])\n",
        "axes[0].set_title('PAY_0')\n",
        "axes[1].scatter(uci['PAY_2'],uci['AGE'])\n",
        "axes[1].set_title('PAY_2')#similarly we can do setting x and y lab\n",
        "axes[2].scatter(uci['PAY_3'],uci['AGE'],)\n",
        "axes[2].set_title('PAY_3')#similarly we can do setting x and y lab"
      ],
      "execution_count": null,
      "outputs": [
        {
          "output_type": "execute_result",
          "data": {
            "text/plain": [
              "Text(0.5, 1.0, 'PAY_3')"
            ]
          },
          "metadata": {
            "tags": []
          },
          "execution_count": 51
        },
        {
          "output_type": "display_data",
          "data": {
            "image/png": "[encoded data removed]",
            "text/plain": [
              "<Figure size 1080x216 with 3 Axes>"
            ]
          },
          "metadata": {
            "tags": []
          }
        }
      ]
    },
    {
      "cell_type": "code",
      "metadata": {
        "id": "ehvoyR1TKEtg",
        "outputId": "81372ef4-f945-4a34-ce12-d7b855b87773",
        "colab": {
          "base_uri": "https://localhost:8080/",
          "height": 244
        }
      },
      "source": [
        "fig,axes=plt.subplots(1,3,figsize=(15,3))#we are able to index the axes because its an array\n",
        "axes[0].scatter(uci['PAY_4'],uci['AGE'])\n",
        "axes[0].set_title('PAY_4')\n",
        "axes[1].scatter(uci['PAY_5'],uci['AGE'])\n",
        "axes[1].set_title('PAY_5')#similarly we can do setting x and y lab\n",
        "axes[2].scatter(uci['PAY_6'],uci['AGE'],)\n",
        "axes[2].set_title('PAY_6')#similarly we can do setting x and y lab"
      ],
      "execution_count": null,
      "outputs": [
        {
          "output_type": "execute_result",
          "data": {
            "text/plain": [
              "Text(0.5, 1.0, 'PAY_6')"
            ]
          },
          "metadata": {
            "tags": []
          },
          "execution_count": 52
        },
        {
          "output_type": "display_data",
          "data": {
            "image/png": "[encoded data removed]",
            "text/plain": [
              "<Figure size 1080x216 with 3 Axes>"
            ]
          },
          "metadata": {
            "tags": []
          }
        }
      ]
    },
    {
      "cell_type": "markdown",
      "metadata": {
        "id": "wVGMLE5PKEtk"
      },
      "source": [
        "We can clearly see there are some special trend showing in all of the scatterplots. Younger people tends to not pay dues for longer duration then older customers.  "
      ]
    },
    {
      "cell_type": "markdown",
      "metadata": {
        "id": "qUqKgvHJKEtk"
      },
      "source": [
        "For this project or say credit card data, we have predictors as all variables except id and next payment due status. Our target variable is next payment due status. We also need to statndardize data to make mean 0 and standard deviation qual to 1 so that different scale can't affect our modeling."
      ]
    },
    {
      "cell_type": "code",
      "metadata": {
        "id": "Ok21qEyZKEtk"
      },
      "source": [
        "uci_x=uci[['LIMIT_BAL', 'SEX', 'EDUCATION', 'MARRIAGE', 'AGE', 'PAY_0','PAY_2', 'PAY_3', 'PAY_4', 'PAY_5', 'PAY_6', 'BILL_AMT1', 'BILL_AMT2','BILL_AMT3', 'BILL_AMT4', 'BILL_AMT5', 'BILL_AMT6', 'PAY_AMT1','PAY_AMT2', 'PAY_AMT3', 'PAY_AMT4', 'PAY_AMT5', 'PAY_AMT6']]\n",
        "from sklearn import preprocessing\n",
        "Cluster_data = preprocessing.StandardScaler().fit(uci_x).transform(uci_x)"
      ],
      "execution_count": null,
      "outputs": []
    },
    {
      "cell_type": "code",
      "metadata": {
        "id": "Fp1-yXvcKEtn",
        "outputId": "40cc7988-38ee-4277-bade-6eafe61bb4c2",
        "colab": {
          "base_uri": "https://localhost:8080/",
          "height": 235
        }
      },
      "source": [
        "Cluster_data"
      ],
      "execution_count": null,
      "outputs": [
        {
          "output_type": "execute_result",
          "data": {
            "text/plain": [
              "array([[-1.13672015,  0.81016074,  0.18582826, ..., -0.30806256,\n",
              "        -0.31413612, -0.29338206],\n",
              "       [-0.3659805 ,  0.81016074,  0.18582826, ..., -0.24422965,\n",
              "        -0.31413612, -0.18087821],\n",
              "       [-0.59720239,  0.81016074,  0.18582826, ..., -0.24422965,\n",
              "        -0.24868274, -0.01212243],\n",
              "       ...,\n",
              "       [-1.05964618, -1.23432296,  0.18582826, ..., -0.03996431,\n",
              "        -0.18322937, -0.11900109],\n",
              "       [-0.67427636, -1.23432296,  1.45111372, ..., -0.18512036,\n",
              "         3.15253642, -0.19190359],\n",
              "       [-0.90549825, -1.23432296,  0.18582826, ..., -0.24422965,\n",
              "        -0.24868274, -0.23713013]])"
            ]
          },
          "metadata": {
            "tags": []
          },
          "execution_count": 54
        }
      ]
    },
    {
      "cell_type": "code",
      "metadata": {
        "id": "kdqwoWB3KEtr",
        "outputId": "93ad30d8-799e-4bf8-ba45-86b237888927",
        "colab": {
          "base_uri": "https://localhost:8080/",
          "height": 101
        }
      },
      "source": [
        "uci_x.columns"
      ],
      "execution_count": null,
      "outputs": [
        {
          "output_type": "execute_result",
          "data": {
            "text/plain": [
              "Index(['LIMIT_BAL', 'SEX', 'EDUCATION', 'MARRIAGE', 'AGE', 'PAY_0', 'PAY_2',\n",
              "       'PAY_3', 'PAY_4', 'PAY_5', 'PAY_6', 'BILL_AMT1', 'BILL_AMT2',\n",
              "       'BILL_AMT3', 'BILL_AMT4', 'BILL_AMT5', 'BILL_AMT6', 'PAY_AMT1',\n",
              "       'PAY_AMT2', 'PAY_AMT3', 'PAY_AMT4', 'PAY_AMT5', 'PAY_AMT6'],\n",
              "      dtype='object')"
            ]
          },
          "metadata": {
            "tags": []
          },
          "execution_count": 55
        }
      ]
    },
    {
      "cell_type": "markdown",
      "metadata": {
        "id": "u9wXNeIYKEtt"
      },
      "source": [
        "### Let's try to fit the Logistic regression model and see our accuracy"
      ]
    },
    {
      "cell_type": "code",
      "metadata": {
        "id": "uzBuYO2tKEtt"
      },
      "source": [
        "#Let's define independent and dependent factors\n",
        "X=Cluster_data\n",
        "Y=uci['default.payment.next.month']"
      ],
      "execution_count": null,
      "outputs": []
    },
    {
      "cell_type": "code",
      "metadata": {
        "id": "Qi1x8jeeKEtv",
        "outputId": "6bbda268-a648-4498-e979-98247ce98f7a",
        "colab": {
          "base_uri": "https://localhost:8080/",
          "height": 101
        }
      },
      "source": [
        "from sklearn.linear_model import LogisticRegression\n",
        "from sklearn.metrics import confusion_matrix\n",
        "LR = LogisticRegression(C=0.01, solver='liblinear').fit(X,Y)\n",
        "LR"
      ],
      "execution_count": null,
      "outputs": [
        {
          "output_type": "execute_result",
          "data": {
            "text/plain": [
              "LogisticRegression(C=0.01, class_weight=None, dual=False, fit_intercept=True,\n",
              "                   intercept_scaling=1, l1_ratio=None, max_iter=100,\n",
              "                   multi_class='warn', n_jobs=None, penalty='l2',\n",
              "                   random_state=None, solver='liblinear', tol=0.0001, verbose=0,\n",
              "                   warm_start=False)"
            ]
          },
          "metadata": {
            "tags": []
          },
          "execution_count": 57
        }
      ]
    },
    {
      "cell_type": "code",
      "metadata": {
        "id": "wOfYkc6fKEtx"
      },
      "source": [
        "from sklearn.model_selection import cross_val_score\n",
        "accuracies=cross_val_score(estimator=LR,X=X,y=Y,cv=10)"
      ],
      "execution_count": null,
      "outputs": []
    },
    {
      "cell_type": "code",
      "metadata": {
        "id": "_CIYgNDsKEt0",
        "outputId": "1a8f64d7-bf4c-42eb-aae4-41c328c93e3a",
        "colab": {
          "base_uri": "https://localhost:8080/",
          "height": 50
        }
      },
      "source": [
        "accuracies"
      ],
      "execution_count": null,
      "outputs": [
        {
          "output_type": "execute_result",
          "data": {
            "text/plain": [
              "array([0.80373209, 0.8053982 , 0.80773076, 0.80739753, 0.819     ,\n",
              "       0.828     , 0.82927643, 0.82427476, 0.82627543, 0.82327442])"
            ]
          },
          "metadata": {
            "tags": []
          },
          "execution_count": 59
        }
      ]
    },
    {
      "cell_type": "code",
      "metadata": {
        "id": "MEVC055zKEt1",
        "outputId": "c50a923a-4824-4019-d6f0-68499c2c8271",
        "colab": {
          "base_uri": "https://localhost:8080/",
          "height": 312
        }
      },
      "source": [
        "plt.plot(accuracies)\n",
        "plt.xlabel(\"No of validations\")\n",
        "plt.ylabel(\"Accuracy\")\n",
        "plt.title(\"Accuracy for Logistic Regression\")"
      ],
      "execution_count": null,
      "outputs": [
        {
          "output_type": "execute_result",
          "data": {
            "text/plain": [
              "Text(0.5, 1.0, 'Accuracy for Logistic Regression')"
            ]
          },
          "metadata": {
            "tags": []
          },
          "execution_count": 60
        },
        {
          "output_type": "display_data",
          "data": {
            "image/png": "[encoded data removed]",
            "text/plain": [
              "<Figure size 432x288 with 1 Axes>"
            ]
          },
          "metadata": {
            "tags": []
          }
        }
      ]
    },
    {
      "cell_type": "markdown",
      "metadata": {
        "id": "kz7VrIo_KEt2"
      },
      "source": [
        "### We are getting accuracy of almost 83% (82.927%). Let's check if we can get accuracy better than this by dividing the portfolio into clusters and running regression in each of them."
      ]
    },
    {
      "cell_type": "code",
      "metadata": {
        "id": "HVZIBgauKEt3",
        "outputId": "6fc555a9-f679-46fa-b2d1-54edf33e43bf",
        "colab": {
          "base_uri": "https://localhost:8080/",
          "height": 34
        }
      },
      "source": [
        "from sklearn.cluster import KMeans\n",
        "clusterNum = 4\n",
        "k_means = KMeans(init = \"k-means++\", n_clusters = clusterNum, n_init = 12)\n",
        "k_means.fit(Cluster_data)\n",
        "labels = k_means.labels_\n",
        "print(labels)"
      ],
      "execution_count": null,
      "outputs": [
        {
          "output_type": "stream",
          "text": [
            "[2 0 0 ... 3 2 2]\n"
          ],
          "name": "stdout"
        }
      ]
    },
    {
      "cell_type": "code",
      "metadata": {
        "id": "xoJAel8SKEt4",
        "outputId": "15de3792-2c45-48b1-8319-b2041e68b660",
        "colab": {
          "base_uri": "https://localhost:8080/",
          "height": 353
        }
      },
      "source": [
        "k_means_cluster_centers = k_means.cluster_centers_\n",
        "k_means_cluster_centers"
      ],
      "execution_count": null,
      "outputs": [
        {
          "output_type": "execute_result",
          "data": {
            "text/plain": [
              "array([[-0.15052785, -0.01518099, -0.21780098,  0.89795705, -0.54261976,\n",
              "        -0.18143875, -0.21275885, -0.22024159, -0.24924904, -0.2311205 ,\n",
              "        -0.19865099, -0.28510004, -0.29468915, -0.2994101 , -0.30581772,\n",
              "        -0.30619617, -0.3003023 , -0.08027001, -0.0651586 , -0.07005151,\n",
              "        -0.06878603, -0.06414947, -0.05440352],\n",
              "       [ 0.89397052, -0.04228112, -0.0452887 , -0.07840416,  0.1610151 ,\n",
              "        -0.17173212, -0.16959974, -0.19828619, -0.20690578, -0.18938349,\n",
              "        -0.16530208,  2.00258428,  2.05888999,  2.07039045,  2.09390866,\n",
              "         2.06336281,  2.01647977,  0.6685843 ,  0.52278033,  0.59039727,\n",
              "         0.54985794,  0.57115863,  0.48291771],\n",
              "       [ 0.04857224,  0.06000541,  0.21679362, -0.95907252,  0.55934361,\n",
              "        -0.17302152, -0.20979226, -0.23751692, -0.25502657, -0.24303711,\n",
              "        -0.21968296, -0.29214555, -0.30835182, -0.31549273, -0.32757182,\n",
              "        -0.32722087, -0.32397418, -0.07296211, -0.05546437, -0.06108046,\n",
              "        -0.05345927, -0.06448238, -0.04912274],\n",
              "       [-0.64754458, -0.11548297,  0.14684923, -0.02542719, -0.04651167,\n",
              "         1.65806582,  1.93183531,  2.10665811,  2.30916047,  2.16357754,\n",
              "         1.90455018, -0.11944554, -0.08510598, -0.05143679, -0.00624496,\n",
              "         0.03169566,  0.05175312, -0.19887011, -0.15141438, -0.19214704,\n",
              "        -0.17708117, -0.18046195, -0.17279427]])"
            ]
          },
          "metadata": {
            "tags": []
          },
          "execution_count": 62
        }
      ]
    },
    {
      "cell_type": "code",
      "metadata": {
        "id": "7FTS5EZvKEt5",
        "outputId": "5e681d70-9c9c-4a4c-a0b4-5d2eecc7a63c",
        "colab": {
          "base_uri": "https://localhost:8080/",
          "height": 316
        }
      },
      "source": [
        "kmeansdata=uci_x\n",
        "kmeansdata[\"Clus_km\"] = labels\n",
        "kmeansdata.head(5)"
      ],
      "execution_count": null,
      "outputs": [
        {
          "output_type": "stream",
          "text": [
            "/usr/local/lib/python3.6/dist-packages/ipykernel_launcher.py:2: SettingWithCopyWarning: \n",
            "A value is trying to be set on a copy of a slice from a DataFrame.\n",
            "Try using .loc[row_indexer,col_indexer] = value instead\n",
            "\n",
            "See the caveats in the documentation: http://pandas.pydata.org/pandas-docs/stable/user_guide/indexing.html#returning-a-view-versus-a-copy\n",
            "  \n"
          ],
          "name": "stderr"
        },
        {
          "output_type": "execute_result",
          "data": {
            "text/html": [
              "<div>\n",
              "<style scoped>\n",
              "    .dataframe tbody tr th:only-of-type {\n",
              "        vertical-align: middle;\n",
              "    }\n",
              "\n",
              "    .dataframe tbody tr th {\n",
              "        vertical-align: top;\n",
              "    }\n",
              "\n",
              "    .dataframe thead th {\n",
              "        text-align: right;\n",
              "    }\n",
              "</style>\n",
              "<table border=\"1\" class=\"dataframe\">\n",
              "  <thead>\n",
              "    <tr style=\"text-align: right;\">\n",
              "      <th></th>\n",
              "      <th>LIMIT_BAL</th>\n",
              "      <th>SEX</th>\n",
              "      <th>EDUCATION</th>\n",
              "      <th>MARRIAGE</th>\n",
              "      <th>AGE</th>\n",
              "      <th>PAY_0</th>\n",
              "      <th>PAY_2</th>\n",
              "      <th>PAY_3</th>\n",
              "      <th>PAY_4</th>\n",
              "      <th>PAY_5</th>\n",
              "      <th>PAY_6</th>\n",
              "      <th>BILL_AMT1</th>\n",
              "      <th>BILL_AMT2</th>\n",
              "      <th>BILL_AMT3</th>\n",
              "      <th>BILL_AMT4</th>\n",
              "      <th>BILL_AMT5</th>\n",
              "      <th>BILL_AMT6</th>\n",
              "      <th>PAY_AMT1</th>\n",
              "      <th>PAY_AMT2</th>\n",
              "      <th>PAY_AMT3</th>\n",
              "      <th>PAY_AMT4</th>\n",
              "      <th>PAY_AMT5</th>\n",
              "      <th>PAY_AMT6</th>\n",
              "      <th>Clus_km</th>\n",
              "    </tr>\n",
              "  </thead>\n",
              "  <tbody>\n",
              "    <tr>\n",
              "      <th>0</th>\n",
              "      <td>20000.0</td>\n",
              "      <td>2</td>\n",
              "      <td>2</td>\n",
              "      <td>1</td>\n",
              "      <td>24</td>\n",
              "      <td>2</td>\n",
              "      <td>2</td>\n",
              "      <td>0</td>\n",
              "      <td>0</td>\n",
              "      <td>0</td>\n",
              "      <td>0</td>\n",
              "      <td>3913.0</td>\n",
              "      <td>3102.0</td>\n",
              "      <td>689.0</td>\n",
              "      <td>0.0</td>\n",
              "      <td>0.0</td>\n",
              "      <td>0.0</td>\n",
              "      <td>0.0</td>\n",
              "      <td>689.0</td>\n",
              "      <td>0.0</td>\n",
              "      <td>0.0</td>\n",
              "      <td>0.0</td>\n",
              "      <td>0.0</td>\n",
              "      <td>2</td>\n",
              "    </tr>\n",
              "    <tr>\n",
              "      <th>1</th>\n",
              "      <td>120000.0</td>\n",
              "      <td>2</td>\n",
              "      <td>2</td>\n",
              "      <td>2</td>\n",
              "      <td>26</td>\n",
              "      <td>0</td>\n",
              "      <td>2</td>\n",
              "      <td>0</td>\n",
              "      <td>0</td>\n",
              "      <td>0</td>\n",
              "      <td>2</td>\n",
              "      <td>2682.0</td>\n",
              "      <td>1725.0</td>\n",
              "      <td>2682.0</td>\n",
              "      <td>3272.0</td>\n",
              "      <td>3455.0</td>\n",
              "      <td>3261.0</td>\n",
              "      <td>0.0</td>\n",
              "      <td>1000.0</td>\n",
              "      <td>1000.0</td>\n",
              "      <td>1000.0</td>\n",
              "      <td>0.0</td>\n",
              "      <td>2000.0</td>\n",
              "      <td>0</td>\n",
              "    </tr>\n",
              "    <tr>\n",
              "      <th>2</th>\n",
              "      <td>90000.0</td>\n",
              "      <td>2</td>\n",
              "      <td>2</td>\n",
              "      <td>2</td>\n",
              "      <td>34</td>\n",
              "      <td>0</td>\n",
              "      <td>0</td>\n",
              "      <td>0</td>\n",
              "      <td>0</td>\n",
              "      <td>0</td>\n",
              "      <td>0</td>\n",
              "      <td>29239.0</td>\n",
              "      <td>14027.0</td>\n",
              "      <td>13559.0</td>\n",
              "      <td>14331.0</td>\n",
              "      <td>14948.0</td>\n",
              "      <td>15549.0</td>\n",
              "      <td>1518.0</td>\n",
              "      <td>1500.0</td>\n",
              "      <td>1000.0</td>\n",
              "      <td>1000.0</td>\n",
              "      <td>1000.0</td>\n",
              "      <td>5000.0</td>\n",
              "      <td>0</td>\n",
              "    </tr>\n",
              "    <tr>\n",
              "      <th>3</th>\n",
              "      <td>50000.0</td>\n",
              "      <td>2</td>\n",
              "      <td>2</td>\n",
              "      <td>1</td>\n",
              "      <td>37</td>\n",
              "      <td>0</td>\n",
              "      <td>0</td>\n",
              "      <td>0</td>\n",
              "      <td>0</td>\n",
              "      <td>0</td>\n",
              "      <td>0</td>\n",
              "      <td>46990.0</td>\n",
              "      <td>48233.0</td>\n",
              "      <td>49291.0</td>\n",
              "      <td>28314.0</td>\n",
              "      <td>28959.0</td>\n",
              "      <td>29547.0</td>\n",
              "      <td>2000.0</td>\n",
              "      <td>2019.0</td>\n",
              "      <td>1200.0</td>\n",
              "      <td>1100.0</td>\n",
              "      <td>1069.0</td>\n",
              "      <td>1000.0</td>\n",
              "      <td>2</td>\n",
              "    </tr>\n",
              "    <tr>\n",
              "      <th>4</th>\n",
              "      <td>50000.0</td>\n",
              "      <td>1</td>\n",
              "      <td>2</td>\n",
              "      <td>1</td>\n",
              "      <td>57</td>\n",
              "      <td>0</td>\n",
              "      <td>0</td>\n",
              "      <td>0</td>\n",
              "      <td>0</td>\n",
              "      <td>0</td>\n",
              "      <td>0</td>\n",
              "      <td>8617.0</td>\n",
              "      <td>5670.0</td>\n",
              "      <td>35835.0</td>\n",
              "      <td>20940.0</td>\n",
              "      <td>19146.0</td>\n",
              "      <td>19131.0</td>\n",
              "      <td>2000.0</td>\n",
              "      <td>36681.0</td>\n",
              "      <td>10000.0</td>\n",
              "      <td>9000.0</td>\n",
              "      <td>689.0</td>\n",
              "      <td>679.0</td>\n",
              "      <td>2</td>\n",
              "    </tr>\n",
              "  </tbody>\n",
              "</table>\n",
              "</div>"
            ],
            "text/plain": [
              "   LIMIT_BAL  SEX  EDUCATION  MARRIAGE  ...  PAY_AMT4  PAY_AMT5  PAY_AMT6  Clus_km\n",
              "0    20000.0    2          2         1  ...       0.0       0.0       0.0        2\n",
              "1   120000.0    2          2         2  ...    1000.0       0.0    2000.0        0\n",
              "2    90000.0    2          2         2  ...    1000.0    1000.0    5000.0        0\n",
              "3    50000.0    2          2         1  ...    1100.0    1069.0    1000.0        2\n",
              "4    50000.0    1          2         1  ...    9000.0     689.0     679.0        2\n",
              "\n",
              "[5 rows x 24 columns]"
            ]
          },
          "metadata": {
            "tags": []
          },
          "execution_count": 63
        }
      ]
    },
    {
      "cell_type": "code",
      "metadata": {
        "id": "e9vM8v4ZKEt7",
        "outputId": "f38b1c1b-0063-4a6e-d6a6-1fbd363c0677",
        "colab": {
          "base_uri": "https://localhost:8080/",
          "height": 101
        }
      },
      "source": [
        "uci_x.columns"
      ],
      "execution_count": null,
      "outputs": [
        {
          "output_type": "execute_result",
          "data": {
            "text/plain": [
              "Index(['LIMIT_BAL', 'SEX', 'EDUCATION', 'MARRIAGE', 'AGE', 'PAY_0', 'PAY_2',\n",
              "       'PAY_3', 'PAY_4', 'PAY_5', 'PAY_6', 'BILL_AMT1', 'BILL_AMT2',\n",
              "       'BILL_AMT3', 'BILL_AMT4', 'BILL_AMT5', 'BILL_AMT6', 'PAY_AMT1',\n",
              "       'PAY_AMT2', 'PAY_AMT3', 'PAY_AMT4', 'PAY_AMT5', 'PAY_AMT6', 'Clus_km'],\n",
              "      dtype='object')"
            ]
          },
          "metadata": {
            "tags": []
          },
          "execution_count": 64
        }
      ]
    },
    {
      "cell_type": "code",
      "metadata": {
        "id": "y-_q6qJuKEt9"
      },
      "source": [
        "k_clus_description=kmeansdata.groupby('Clus_km').describe()\n"
      ],
      "execution_count": null,
      "outputs": []
    },
    {
      "cell_type": "code",
      "metadata": {
        "id": "1eY1y-phKEt_",
        "outputId": "ee606875-4cff-4b78-821a-fcac3a36e307",
        "colab": {
          "base_uri": "https://localhost:8080/",
          "height": 168
        }
      },
      "source": [
        "print(k_clus_description)"
      ],
      "execution_count": null,
      "outputs": [
        {
          "output_type": "stream",
          "text": [
            "        LIMIT_BAL                                ... PAY_AMT6                   \n",
            "            count           mean            std  ...      50%      75%       max\n",
            "Clus_km                                          ...                            \n",
            "0         12351.0  147943.486357  119780.759424  ...   1100.0   3000.0  403500.0\n",
            "1          3566.0  283403.724061  119345.409663  ...   5900.0  10000.0  528666.0\n",
            "2         11194.0  173800.428801  129602.287040  ...   1105.5   3000.0  261883.0\n",
            "3          2889.0   83468.328141   73424.937060  ...   1000.0   2400.0  170806.0\n",
            "\n",
            "[4 rows x 184 columns]\n"
          ],
          "name": "stdout"
        }
      ]
    },
    {
      "cell_type": "code",
      "metadata": {
        "id": "PJO5FHxzKEuA",
        "outputId": "cae7d9ed-6469-43b9-e949-fc93e0bd6e89",
        "colab": {
          "base_uri": "https://localhost:8080/",
          "height": 118
        }
      },
      "source": [
        "kmeansdata['next_month_sts']=uci['default.payment.next.month']\n",
        "kmeansdata.columns"
      ],
      "execution_count": null,
      "outputs": [
        {
          "output_type": "execute_result",
          "data": {
            "text/plain": [
              "Index(['LIMIT_BAL', 'SEX', 'EDUCATION', 'MARRIAGE', 'AGE', 'PAY_0', 'PAY_2',\n",
              "       'PAY_3', 'PAY_4', 'PAY_5', 'PAY_6', 'BILL_AMT1', 'BILL_AMT2',\n",
              "       'BILL_AMT3', 'BILL_AMT4', 'BILL_AMT5', 'BILL_AMT6', 'PAY_AMT1',\n",
              "       'PAY_AMT2', 'PAY_AMT3', 'PAY_AMT4', 'PAY_AMT5', 'PAY_AMT6', 'Clus_km',\n",
              "       'next_month_sts'],\n",
              "      dtype='object')"
            ]
          },
          "metadata": {
            "tags": []
          },
          "execution_count": 67
        }
      ]
    },
    {
      "cell_type": "code",
      "metadata": {
        "id": "mBV7RfBHKEuC",
        "outputId": "dc1eac66-fbd2-496b-c125-2547062e822f",
        "colab": {
          "base_uri": "https://localhost:8080/",
          "height": 118
        }
      },
      "source": [
        "uci_x.columns"
      ],
      "execution_count": null,
      "outputs": [
        {
          "output_type": "execute_result",
          "data": {
            "text/plain": [
              "Index(['LIMIT_BAL', 'SEX', 'EDUCATION', 'MARRIAGE', 'AGE', 'PAY_0', 'PAY_2',\n",
              "       'PAY_3', 'PAY_4', 'PAY_5', 'PAY_6', 'BILL_AMT1', 'BILL_AMT2',\n",
              "       'BILL_AMT3', 'BILL_AMT4', 'BILL_AMT5', 'BILL_AMT6', 'PAY_AMT1',\n",
              "       'PAY_AMT2', 'PAY_AMT3', 'PAY_AMT4', 'PAY_AMT5', 'PAY_AMT6', 'Clus_km',\n",
              "       'next_month_sts'],\n",
              "      dtype='object')"
            ]
          },
          "metadata": {
            "tags": []
          },
          "execution_count": 68
        }
      ]
    },
    {
      "cell_type": "markdown",
      "metadata": {
        "id": "uHSyjcw2KEuE"
      },
      "source": [
        "#### Getting 1st cluster data"
      ]
    },
    {
      "cell_type": "code",
      "metadata": {
        "id": "KXsi3payKEuE"
      },
      "source": [
        "kmean_1_cluster=kmeansdata[kmeansdata['Clus_km']==0]"
      ],
      "execution_count": null,
      "outputs": []
    },
    {
      "cell_type": "code",
      "metadata": {
        "id": "5TwUlR9UKEuF",
        "outputId": "854d68f0-7733-47a7-bf40-8d7af7e36340",
        "colab": {
          "base_uri": "https://localhost:8080/",
          "height": 34
        }
      },
      "source": [
        "kmean_1_cluster.shape"
      ],
      "execution_count": null,
      "outputs": [
        {
          "output_type": "execute_result",
          "data": {
            "text/plain": [
              "(12351, 25)"
            ]
          },
          "metadata": {
            "tags": []
          },
          "execution_count": 70
        }
      ]
    },
    {
      "cell_type": "code",
      "metadata": {
        "id": "XFNAReKaKEuH"
      },
      "source": [
        "X_kmeans_0=kmean_1_cluster[['LIMIT_BAL', 'SEX', 'EDUCATION', 'MARRIAGE', 'AGE', 'PAY_0', 'PAY_2','PAY_3', 'PAY_4', 'PAY_5', 'PAY_6', 'BILL_AMT1', 'BILL_AMT2','BILL_AMT3', 'BILL_AMT4', 'BILL_AMT5', 'BILL_AMT6', 'PAY_AMT1','PAY_AMT2', 'PAY_AMT3', 'PAY_AMT4', 'PAY_AMT5', 'PAY_AMT6']]\n",
        "X_kmeans_0 = preprocessing.StandardScaler().fit(X_kmeans_0).transform(X_kmeans_0)"
      ],
      "execution_count": null,
      "outputs": []
    },
    {
      "cell_type": "code",
      "metadata": {
        "id": "RByfiY4SKEuJ"
      },
      "source": [
        "Y_kmeans_0=kmean_1_cluster['next_month_sts']"
      ],
      "execution_count": null,
      "outputs": []
    },
    {
      "cell_type": "code",
      "metadata": {
        "id": "QYOFncaUKEuK",
        "outputId": "7816dd80-abab-405a-da8c-87efad707203",
        "colab": {
          "base_uri": "https://localhost:8080/",
          "height": 101
        }
      },
      "source": [
        "LR_kmeans_0 = LogisticRegression(C=0.01, solver='liblinear').fit(X_kmeans_0,Y_kmeans_0)\n",
        "LR_kmeans_0"
      ],
      "execution_count": null,
      "outputs": [
        {
          "output_type": "execute_result",
          "data": {
            "text/plain": [
              "LogisticRegression(C=0.01, class_weight=None, dual=False, fit_intercept=True,\n",
              "                   intercept_scaling=1, l1_ratio=None, max_iter=100,\n",
              "                   multi_class='warn', n_jobs=None, penalty='l2',\n",
              "                   random_state=None, solver='liblinear', tol=0.0001, verbose=0,\n",
              "                   warm_start=False)"
            ]
          },
          "metadata": {
            "tags": []
          },
          "execution_count": 73
        }
      ]
    },
    {
      "cell_type": "code",
      "metadata": {
        "id": "ZbFEwQ_qKEuM"
      },
      "source": [
        "accuracies_kmeans=cross_val_score(estimator=LR_kmeans_0,X=X_kmeans_0,y=Y_kmeans_0,cv=10)"
      ],
      "execution_count": null,
      "outputs": []
    },
    {
      "cell_type": "code",
      "metadata": {
        "id": "yQucXaHcKEuN",
        "outputId": "1e29882d-7ff4-41b0-a259-5d190d262de2",
        "colab": {
          "base_uri": "https://localhost:8080/",
          "height": 50
        }
      },
      "source": [
        "accuracies_kmeans"
      ],
      "execution_count": null,
      "outputs": [
        {
          "output_type": "execute_result",
          "data": {
            "text/plain": [
              "array([0.83333333, 0.83252427, 0.83252427, 0.83090615, 0.84534413,\n",
              "       0.84453441, 0.8437247 , 0.85089141, 0.84602917, 0.83954619])"
            ]
          },
          "metadata": {
            "tags": []
          },
          "execution_count": 75
        }
      ]
    },
    {
      "cell_type": "markdown",
      "metadata": {
        "id": "WJpbEQdZKEuP"
      },
      "source": [
        "We have slightly better accuracy for this cluster"
      ]
    },
    {
      "cell_type": "markdown",
      "metadata": {
        "id": "QTV4BhKJKEuP"
      },
      "source": [
        "#### Let's do for other clusters. 1st cluster=0, 2nd cluster=1,3rd cluster=2, 4th Cluster=3"
      ]
    },
    {
      "cell_type": "code",
      "metadata": {
        "id": "cBkVz7YZKEuQ",
        "outputId": "046458c9-317a-4b97-80ac-271ee4b43903",
        "colab": {
          "base_uri": "https://localhost:8080/",
          "height": 34
        }
      },
      "source": [
        "kmean_2_cluster=kmeansdata[kmeansdata['Clus_km']==1]\n",
        "kmean_3_cluster=kmeansdata[kmeansdata['Clus_km']==2]\n",
        "kmean_4_cluster=kmeansdata[kmeansdata['Clus_km']==3]\n",
        "print(kmean_2_cluster.shape,kmean_3_cluster.shape,kmean_4_cluster.shape)"
      ],
      "execution_count": null,
      "outputs": [
        {
          "output_type": "stream",
          "text": [
            "(3566, 25) (11194, 25) (2889, 25)\n"
          ],
          "name": "stdout"
        }
      ]
    },
    {
      "cell_type": "code",
      "metadata": {
        "id": "91p1I4rdKEuR"
      },
      "source": [
        "predictor_var_list=['LIMIT_BAL', 'SEX', 'EDUCATION', 'MARRIAGE', 'AGE', 'PAY_0', 'PAY_2','PAY_3', 'PAY_4', 'PAY_5', 'PAY_6', 'BILL_AMT1', 'BILL_AMT2','BILL_AMT3', 'BILL_AMT4', 'BILL_AMT5', 'BILL_AMT6', 'PAY_AMT1','PAY_AMT2', 'PAY_AMT3', 'PAY_AMT4', 'PAY_AMT5', 'PAY_AMT6']"
      ],
      "execution_count": null,
      "outputs": []
    },
    {
      "cell_type": "code",
      "metadata": {
        "id": "SXRXJdHSKEuT"
      },
      "source": [
        "X_kmeans_1=preprocessing.StandardScaler().fit((kmean_2_cluster[predictor_var_list])).transform((kmean_2_cluster[predictor_var_list]))\n",
        "X_kmeans_2=preprocessing.StandardScaler().fit((kmean_3_cluster[predictor_var_list])).transform((kmean_3_cluster[predictor_var_list]))\n",
        "X_kmeans_3=preprocessing.StandardScaler().fit((kmean_4_cluster[predictor_var_list])).transform((kmean_4_cluster[predictor_var_list]))"
      ],
      "execution_count": null,
      "outputs": []
    },
    {
      "cell_type": "code",
      "metadata": {
        "id": "4w4AU0KqKEuU"
      },
      "source": [
        "Y_kmeans_1=kmean_2_cluster['next_month_sts']\n",
        "Y_kmeans_2=kmean_3_cluster['next_month_sts']\n",
        "Y_kmeans_3=kmean_4_cluster['next_month_sts']"
      ],
      "execution_count": null,
      "outputs": []
    },
    {
      "cell_type": "code",
      "metadata": {
        "id": "XanO7BIUKEuV",
        "outputId": "134e243e-acb3-4c69-e29f-e2eabe471bec",
        "colab": {
          "base_uri": "https://localhost:8080/",
          "height": 50
        }
      },
      "source": [
        "LR_kmeans_1 = LogisticRegression(C=0.01, solver='liblinear').fit(X_kmeans_1,Y_kmeans_1)\n",
        "accuracies_kmeans_1=cross_val_score(estimator=LR_kmeans_1,X=X_kmeans_1,y=Y_kmeans_1,cv=10)\n",
        "accuracies_kmeans_1"
      ],
      "execution_count": null,
      "outputs": [
        {
          "output_type": "execute_result",
          "data": {
            "text/plain": [
              "array([0.85434174, 0.85994398, 0.85994398, 0.83753501, 0.8767507 ,\n",
              "       0.87394958, 0.8511236 , 0.86516854, 0.88483146, 0.87640449])"
            ]
          },
          "metadata": {
            "tags": []
          },
          "execution_count": 80
        }
      ]
    },
    {
      "cell_type": "code",
      "metadata": {
        "id": "5xjigTeGKEuY",
        "outputId": "9bf1cf6e-c53b-4c4b-c0c3-e1de9c062c67",
        "colab": {
          "base_uri": "https://localhost:8080/",
          "height": 50
        }
      },
      "source": [
        "LR_kmeans_2 = LogisticRegression(C=0.01, solver='liblinear').fit(X_kmeans_2,Y_kmeans_2)\n",
        "accuracies_kmeans_2=cross_val_score(estimator=LR_kmeans_2,X=X_kmeans_2,y=Y_kmeans_2,cv=10)\n",
        "accuracies_kmeans_2"
      ],
      "execution_count": null,
      "outputs": [
        {
          "output_type": "execute_result",
          "data": {
            "text/plain": [
              "array([0.81875   , 0.81607143, 0.80714286, 0.81517857, 0.82321429,\n",
              "       0.8375    , 0.83303571, 0.8255814 , 0.82468694, 0.81484794])"
            ]
          },
          "metadata": {
            "tags": []
          },
          "execution_count": 81
        }
      ]
    },
    {
      "cell_type": "code",
      "metadata": {
        "id": "d-Ey8-fVKEuZ",
        "outputId": "d14cc0ee-4eb5-42c8-ffa7-da35611c55c0",
        "colab": {
          "base_uri": "https://localhost:8080/",
          "height": 50
        }
      },
      "source": [
        "LR_kmeans_3 = LogisticRegression(C=0.01, solver='liblinear').fit(X_kmeans_3,Y_kmeans_3)\n",
        "accuracies_kmeans_3=cross_val_score(estimator=LR_kmeans_3,X=X_kmeans_3,y=Y_kmeans_3,cv=10)\n",
        "accuracies_kmeans_3"
      ],
      "execution_count": null,
      "outputs": [
        {
          "output_type": "execute_result",
          "data": {
            "text/plain": [
              "array([0.63793103, 0.63793103, 0.65862069, 0.62629758, 0.62629758,\n",
              "       0.62975779, 0.69097222, 0.63541667, 0.64930556, 0.62847222])"
            ]
          },
          "metadata": {
            "tags": []
          },
          "execution_count": 82
        }
      ]
    },
    {
      "cell_type": "markdown",
      "metadata": {
        "id": "34tc1UyqKEuc"
      },
      "source": [
        "#### Let's try to do Density based clustering"
      ]
    },
    {
      "cell_type": "code",
      "metadata": {
        "id": "fpy4JBgZKEue"
      },
      "source": [
        "from sklearn.cluster import DBSCAN\n",
        "from sklearn.preprocessing import StandardScaler"
      ],
      "execution_count": null,
      "outputs": []
    },
    {
      "cell_type": "code",
      "metadata": {
        "id": "rMevGS26KEuf",
        "outputId": "b88d4269-7ca6-4b79-e663-cc84681124f1",
        "colab": {
          "base_uri": "https://localhost:8080/",
          "height": 34
        }
      },
      "source": [
        "db = DBSCAN(eps=0.15, min_samples=10).fit(Cluster_data)\n",
        "core_samples_mask = np.zeros_like(db.labels_, dtype=bool)\n",
        "core_samples_mask[db.core_sample_indices_] = True\n",
        "db_labels = db.labels_\n",
        "print(db_labels)"
      ],
      "execution_count": null,
      "outputs": [
        {
          "output_type": "stream",
          "text": [
            "[-1 -1 -1 ... -1 -1 -1]\n"
          ],
          "name": "stdout"
        }
      ]
    },
    {
      "cell_type": "code",
      "metadata": {
        "id": "2CU6s9ONKEug"
      },
      "source": [
        "db_clus=uci_x\n",
        "db_clus['db_clus_label']=db_labels"
      ],
      "execution_count": null,
      "outputs": []
    },
    {
      "cell_type": "code",
      "metadata": {
        "id": "qT7vtDDgKEuh",
        "outputId": "fe6c9056-11f2-44c6-b48c-8fba24c6f7fe",
        "colab": {
          "base_uri": "https://localhost:8080/",
          "height": 118
        }
      },
      "source": [
        "uci_x.columns"
      ],
      "execution_count": null,
      "outputs": [
        {
          "output_type": "execute_result",
          "data": {
            "text/plain": [
              "Index(['LIMIT_BAL', 'SEX', 'EDUCATION', 'MARRIAGE', 'AGE', 'PAY_0', 'PAY_2',\n",
              "       'PAY_3', 'PAY_4', 'PAY_5', 'PAY_6', 'BILL_AMT1', 'BILL_AMT2',\n",
              "       'BILL_AMT3', 'BILL_AMT4', 'BILL_AMT5', 'BILL_AMT6', 'PAY_AMT1',\n",
              "       'PAY_AMT2', 'PAY_AMT3', 'PAY_AMT4', 'PAY_AMT5', 'PAY_AMT6', 'Clus_km',\n",
              "       'next_month_sts', 'db_clus_label'],\n",
              "      dtype='object')"
            ]
          },
          "metadata": {
            "tags": []
          },
          "execution_count": 86
        }
      ]
    },
    {
      "cell_type": "code",
      "metadata": {
        "id": "z9hphdeTKEuk",
        "outputId": "7c86e382-f149-4bb1-f47f-7b15c709e651",
        "colab": {
          "base_uri": "https://localhost:8080/",
          "height": 286
        }
      },
      "source": [
        "db_clus_description=db_clus.groupby('db_clus_label').describe()\n",
        "print(db_clus_description)\n",
        "\n"
      ],
      "execution_count": null,
      "outputs": [
        {
          "output_type": "stream",
          "text": [
            "              LIMIT_BAL                                ... next_month_sts           \n",
            "                  count           mean            std  ...            50%   75%  max\n",
            "db_clus_label                                          ...                          \n",
            "-1              29835.0  167955.075582  129816.849740  ...            0.0  0.00  1.0\n",
            " 0                 16.0   51250.000000    3415.650255  ...            0.0  0.00  1.0\n",
            " 1                 14.0  200714.285714    4746.311465  ...            0.0  1.00  1.0\n",
            " 2                 30.0   21333.333333    3457.459036  ...            0.0  0.00  1.0\n",
            " 3                 12.0   81666.666667    3892.494721  ...            0.0  0.00  1.0\n",
            " 4                 13.0   20000.000000       0.000000  ...            0.0  0.00  1.0\n",
            " 5                 27.0  204444.444444    5773.502692  ...            0.0  0.00  1.0\n",
            " 6                 19.0   20526.315789    2294.157339  ...            0.0  0.00  1.0\n",
            " 7                 14.0   22142.857143    6992.932068  ...            0.0  0.00  1.0\n",
            " 8                 10.0   11000.000000    3162.277660  ...            0.0  0.75  1.0\n",
            " 9                 10.0  175000.000000    8498.365856  ...            0.0  0.00  1.0\n",
            "\n",
            "[11 rows x 200 columns]\n"
          ],
          "name": "stdout"
        }
      ]
    },
    {
      "cell_type": "code",
      "metadata": {
        "id": "5H22QfBgKEul",
        "outputId": "2e063008-2b8b-4f5a-f16a-690a018c5a9e",
        "colab": {
          "base_uri": "https://localhost:8080/",
          "height": 286
        }
      },
      "source": [
        "print(db_clus_description)"
      ],
      "execution_count": null,
      "outputs": [
        {
          "output_type": "stream",
          "text": [
            "              LIMIT_BAL                                ... next_month_sts           \n",
            "                  count           mean            std  ...            50%   75%  max\n",
            "db_clus_label                                          ...                          \n",
            "-1              29835.0  167955.075582  129816.849740  ...            0.0  0.00  1.0\n",
            " 0                 16.0   51250.000000    3415.650255  ...            0.0  0.00  1.0\n",
            " 1                 14.0  200714.285714    4746.311465  ...            0.0  1.00  1.0\n",
            " 2                 30.0   21333.333333    3457.459036  ...            0.0  0.00  1.0\n",
            " 3                 12.0   81666.666667    3892.494721  ...            0.0  0.00  1.0\n",
            " 4                 13.0   20000.000000       0.000000  ...            0.0  0.00  1.0\n",
            " 5                 27.0  204444.444444    5773.502692  ...            0.0  0.00  1.0\n",
            " 6                 19.0   20526.315789    2294.157339  ...            0.0  0.00  1.0\n",
            " 7                 14.0   22142.857143    6992.932068  ...            0.0  0.00  1.0\n",
            " 8                 10.0   11000.000000    3162.277660  ...            0.0  0.75  1.0\n",
            " 9                 10.0  175000.000000    8498.365856  ...            0.0  0.00  1.0\n",
            "\n",
            "[11 rows x 200 columns]\n"
          ],
          "name": "stdout"
        }
      ]
    },
    {
      "cell_type": "markdown",
      "metadata": {
        "id": "eiI6iZoIKEum"
      },
      "source": [
        "Density Based Clustering created 6 clusters when datapoints are 0.15 eucleadean distance away and needs to have minimum of 10 datapoints to form a cluster. 1st cluster has 29918 points and 2nd cluster has 28 points, 3rd cluster has 10, 4th cluster 17, 5th cluster 17 and 6th cluster has 10 points. Since 1st cluster has like 99.72% of the data, we can consider other datapoints as outliers actually and exclude these points while modeling"
      ]
    },
    {
      "cell_type": "code",
      "metadata": {
        "id": "xAH-8ia0KEum",
        "outputId": "9f893782-3a92-47a0-ce2d-da000ec04bf4",
        "colab": {
          "base_uri": "https://localhost:8080/",
          "height": 118
        }
      },
      "source": [
        "db_clus['next_month_sts']=uci['default.payment.next.month']\n",
        "db_clus.columns"
      ],
      "execution_count": null,
      "outputs": [
        {
          "output_type": "execute_result",
          "data": {
            "text/plain": [
              "Index(['LIMIT_BAL', 'SEX', 'EDUCATION', 'MARRIAGE', 'AGE', 'PAY_0', 'PAY_2',\n",
              "       'PAY_3', 'PAY_4', 'PAY_5', 'PAY_6', 'BILL_AMT1', 'BILL_AMT2',\n",
              "       'BILL_AMT3', 'BILL_AMT4', 'BILL_AMT5', 'BILL_AMT6', 'PAY_AMT1',\n",
              "       'PAY_AMT2', 'PAY_AMT3', 'PAY_AMT4', 'PAY_AMT5', 'PAY_AMT6', 'Clus_km',\n",
              "       'next_month_sts', 'db_clus_label'],\n",
              "      dtype='object')"
            ]
          },
          "metadata": {
            "tags": []
          },
          "execution_count": 89
        }
      ]
    },
    {
      "cell_type": "code",
      "metadata": {
        "id": "cyb2x4muKEun"
      },
      "source": [
        "db_Clus1_data=db_clus[db_clus['db_clus_label']==-1]"
      ],
      "execution_count": null,
      "outputs": []
    },
    {
      "cell_type": "code",
      "metadata": {
        "id": "C76KukUhKEuq"
      },
      "source": [
        "X_db_data=preprocessing.StandardScaler().fit((db_Clus1_data[predictor_var_list])).transform((db_Clus1_data[predictor_var_list]))"
      ],
      "execution_count": null,
      "outputs": []
    },
    {
      "cell_type": "code",
      "metadata": {
        "id": "TCXGbGZ4KEur"
      },
      "source": [
        "Y_db_data=db_Clus1_data['next_month_sts']"
      ],
      "execution_count": null,
      "outputs": []
    },
    {
      "cell_type": "code",
      "metadata": {
        "id": "3DeQy6l9KEus",
        "outputId": "38d5974b-dde5-4b8a-8106-f0e9ea8b380e",
        "colab": {
          "base_uri": "https://localhost:8080/",
          "height": 50
        }
      },
      "source": [
        "LR_db_1 = LogisticRegression(C=0.01, solver='liblinear').fit(X_db_data,Y_db_data)\n",
        "accuracies_db_1=cross_val_score(estimator=LR_kmeans_1,X=X_db_data,y=Y_db_data,cv=10)\n",
        "accuracies_db_1"
      ],
      "execution_count": null,
      "outputs": [
        {
          "output_type": "execute_result",
          "data": {
            "text/plain": [
              "array([0.80428954, 0.80495979, 0.80864611, 0.80663539, 0.81903485,\n",
              "       0.82774799, 0.82908847, 0.82433791, 0.82595573, 0.82327297])"
            ]
          },
          "metadata": {
            "tags": []
          },
          "execution_count": 93
        }
      ]
    },
    {
      "cell_type": "markdown",
      "metadata": {
        "id": "OxMOJ4_EKEuv"
      },
      "source": [
        "#### So, we can see db scan is not improvement to our model at all and that's because one cluster has almost 99.72% of data and thus adds no value to the segmentation"
      ]
    },
    {
      "cell_type": "markdown",
      "metadata": {
        "id": "jExp4dzwKEuv"
      },
      "source": [
        "### Let's see how Random Forest works"
      ]
    },
    {
      "cell_type": "code",
      "metadata": {
        "id": "f-nUvIExKEuv"
      },
      "source": [
        "from sklearn.ensemble import RandomForestClassifier"
      ],
      "execution_count": null,
      "outputs": []
    },
    {
      "cell_type": "code",
      "metadata": {
        "id": "eLbe9usqKEuw",
        "outputId": "2a105e71-be57-4057-9961-988e12974995",
        "colab": {
          "base_uri": "https://localhost:8080/",
          "height": 353
        }
      },
      "source": [
        "tree_lst=[5,10,15,20,25,30,35,40,45,50]\n",
        "for i in range(len(tree_lst)):\n",
        "    classifier_rf=RandomForestClassifier(n_estimators=tree_lst[i], criterion='entropy')\n",
        "    classifier_rf.fit(X,Y)\n",
        "    accuracies_rf=cross_val_score(estimator=classifier_rf,X=X,y=Y,cv=10)\n",
        "    print(accuracies_rf)"
      ],
      "execution_count": null,
      "outputs": [
        {
          "output_type": "stream",
          "text": [
            "[0.78473842 0.78473842 0.7874042  0.77740753 0.792      0.79566667\n",
            " 0.79926642 0.79826609 0.80526842 0.79359787]\n",
            "[0.79473509 0.79806731 0.79773409 0.8023992  0.80866667 0.81166667\n",
            " 0.82394131 0.80460153 0.81460487 0.80826942]\n",
            "[0.80406531 0.7964012  0.80706431 0.80106631 0.80766667 0.80933333\n",
            " 0.82060687 0.81960654 0.82427476 0.8126042 ]\n",
            "[0.80473176 0.8083972  0.80306564 0.80339887 0.80866667 0.81466667\n",
            " 0.82660887 0.82494165 0.81793931 0.81493831]\n",
            "[0.80273242 0.80473176 0.79973342 0.79840053 0.81266667 0.81733333\n",
            " 0.82694231 0.82360787 0.82227409 0.81360453]\n",
            "[0.80006664 0.80339887 0.81172942 0.80439853 0.81066667 0.82033333\n",
            " 0.83327776 0.81793931 0.82260754 0.81693898]\n",
            "[0.80273242 0.80073309 0.80773076 0.79906698 0.81566667 0.81866667\n",
            " 0.83094365 0.82360787 0.82027342 0.81893965]\n",
            "[0.80139953 0.80706431 0.80706431 0.80373209 0.81433333 0.82233333\n",
            " 0.83094365 0.82527509 0.82394131 0.82194065]\n",
            "[0.8083972  0.80306564 0.80339887 0.80139953 0.817      0.81866667\n",
            " 0.83027676 0.82594198 0.82360787 0.81727242]\n",
            "[0.80139953 0.80606465 0.81172942 0.80306564 0.81233333 0.81833333\n",
            " 0.82960987 0.82794265 0.82194065 0.81727242]\n"
          ],
          "name": "stdout"
        }
      ]
    },
    {
      "cell_type": "markdown",
      "metadata": {
        "id": "U3Oo-r6uKEuy"
      },
      "source": [
        "We can see maximum accuracy we have through random forest is 83.53% when number of trees are 40. This is better than logistic regression on unclustered data"
      ]
    },
    {
      "cell_type": "markdown",
      "metadata": {
        "id": "sUTWxJquKEuy"
      },
      "source": [
        "Let's check for the clusters now"
      ]
    },
    {
      "cell_type": "code",
      "metadata": {
        "id": "DL6VmqiEKEuy",
        "outputId": "8884d41d-19af-4401-e419-592820c64216",
        "colab": {
          "base_uri": "https://localhost:8080/",
          "height": 50
        }
      },
      "source": [
        "classifier_rf=RandomForestClassifier(n_estimators=40, criterion='entropy')\n",
        "classifier_rf.fit(X_kmeans_0,Y_kmeans_0)\n",
        "accuracies_rf_0=cross_val_score(estimator=classifier_rf,X=X_kmeans_0,y=Y_kmeans_0,cv=10)\n",
        "print(accuracies_rf_0)"
      ],
      "execution_count": null,
      "outputs": [
        {
          "output_type": "stream",
          "text": [
            "[0.82686084 0.8276699  0.83171521 0.83171521 0.83967611 0.84291498\n",
            " 0.84534413 0.85494327 0.85089141 0.84035656]\n"
          ],
          "name": "stdout"
        }
      ]
    },
    {
      "cell_type": "code",
      "metadata": {
        "id": "8oNAlWQDKEuz",
        "outputId": "8d2ea260-debd-4d7e-c5a0-09001824081d",
        "colab": {
          "base_uri": "https://localhost:8080/",
          "height": 50
        }
      },
      "source": [
        "classifier_rf=RandomForestClassifier(n_estimators=40, criterion='entropy')\n",
        "classifier_rf.fit(X_kmeans_1,Y_kmeans_1)\n",
        "accuracies_rf_1=cross_val_score(estimator=classifier_rf,X=X_kmeans_1,y=Y_kmeans_1,cv=10)\n",
        "print(accuracies_rf_1)"
      ],
      "execution_count": null,
      "outputs": [
        {
          "output_type": "stream",
          "text": [
            "[0.85714286 0.83753501 0.86554622 0.83753501 0.8627451  0.8627451\n",
            " 0.86797753 0.85955056 0.86516854 0.87078652]\n"
          ],
          "name": "stdout"
        }
      ]
    },
    {
      "cell_type": "code",
      "metadata": {
        "id": "fParpsxIKEu0",
        "outputId": "2a61cf9d-e241-4d88-f5b7-98b5d38cbe0a",
        "colab": {
          "base_uri": "https://localhost:8080/",
          "height": 50
        }
      },
      "source": [
        "classifier_rf=RandomForestClassifier(n_estimators=40, criterion='entropy')\n",
        "classifier_rf.fit(X_kmeans_2,Y_kmeans_2)\n",
        "accuracies_rf_2=cross_val_score(estimator=classifier_rf,X=X_kmeans_2,y=Y_kmeans_2,cv=10)\n",
        "print(accuracies_rf_2)"
      ],
      "execution_count": null,
      "outputs": [
        {
          "output_type": "stream",
          "text": [
            "[0.81964286 0.81339286 0.79821429 0.81696429 0.82053571 0.82946429\n",
            " 0.82321429 0.81305903 0.81663685 0.81305903]\n"
          ],
          "name": "stdout"
        }
      ]
    },
    {
      "cell_type": "code",
      "metadata": {
        "id": "RVr3ecRlKEu1",
        "outputId": "af4036aa-76d9-4897-821d-4f6ce8e8bfa6",
        "colab": {
          "base_uri": "https://localhost:8080/",
          "height": 50
        }
      },
      "source": [
        "classifier_rf=RandomForestClassifier(n_estimators=40, criterion='entropy')\n",
        "classifier_rf.fit(X_kmeans_3,Y_kmeans_3)\n",
        "accuracies_rf_3=cross_val_score(estimator=classifier_rf,X=X_kmeans_3,y=Y_kmeans_3,cv=10)\n",
        "print(accuracies_rf_3)"
      ],
      "execution_count": null,
      "outputs": [
        {
          "output_type": "stream",
          "text": [
            "[0.63793103 0.59655172 0.62413793 0.63321799 0.62629758 0.62283737\n",
            " 0.68402778 0.625      0.66319444 0.64930556]\n"
          ],
          "name": "stdout"
        }
      ]
    },
    {
      "cell_type": "markdown",
      "metadata": {
        "id": "etphrcTWKEu2"
      },
      "source": [
        "#### Let's see how Neural Network works on this"
      ]
    },
    {
      "cell_type": "code",
      "metadata": {
        "id": "bnAhfMa9KEu2",
        "outputId": "2dc2adc1-f5a4-4bd1-9bca-63b20f8bb9fc",
        "colab": {
          "base_uri": "https://localhost:8080/",
          "height": 79
        }
      },
      "source": [
        "from numpy import concatenate\n",
        "from matplotlib import pyplot\n",
        "import sklearn\n",
        "from sklearn.preprocessing import MinMaxScaler\n",
        "from sklearn.metrics import mean_squared_error\n",
        "from keras.models import Sequential\n",
        "from keras.layers import Dense, Dropout\n",
        "from keras.layers import LSTM\n",
        "from keras.callbacks import Callback\n",
        "from keras.models import Sequential\n",
        "from keras.layers import LSTM, Dense, Activation\n",
        "import pickle\n",
        "import matplotlib.pyplot as plt\n",
        "from mpl_toolkits.mplot3d import Axes3D\n",
        "import sys\n",
        "from queue import Queue\n",
        "import json\n",
        "%matplotlib inline"
      ],
      "execution_count": null,
      "outputs": [
        {
          "output_type": "stream",
          "text": [
            "Using TensorFlow backend.\n"
          ],
          "name": "stderr"
        },
        {
          "output_type": "display_data",
          "data": {
            "text/html": [
              "<p style=\"color: red;\">\n",
              "The default version of TensorFlow in Colab will soon switch to TensorFlow 2.x.<br>\n",
              "We recommend you <a href=\"https://www.tensorflow.org/guide/migrate\" target=\"_blank\">upgrade</a> now \n",
              "or ensure your notebook will continue to use TensorFlow 1.x via the <code>%tensorflow_version 1.x</code> magic:\n",
              "<a href=\"https://colab.research.google.com/notebooks/tensorflow_version.ipynb\" target=\"_blank\">more info</a>.</p>\n"
            ],
            "text/plain": [
              "<IPython.core.display.HTML object>"
            ]
          },
          "metadata": {
            "tags": []
          }
        }
      ]
    },
    {
      "cell_type": "code",
      "metadata": {
        "id": "aBE32FToPFZy"
      },
      "source": [
        "class LossHistory(Callback):\n",
        "    def on_train_begin(self, logs={}):\n",
        "        self.losses = []\n",
        "\n",
        "    def on_batch_end(self, batch, logs={}):\n",
        "        sys.stdout.write(str(logs.get('loss'))+str(', '))\n",
        "        sys.stdout.flush()\n",
        "        self.losses.append(logs.get('loss'))\n",
        "        \n",
        "lr = LossHistory()"
      ],
      "execution_count": null,
      "outputs": []
    },
    {
      "cell_type": "code",
      "metadata": {
        "id": "8ZENqzm2PpHq",
        "outputId": "7d098e0e-2ec0-46a6-86fa-9e416acf0978",
        "colab": {
          "base_uri": "https://localhost:8080/",
          "height": 34
        }
      },
      "source": [
        "len(predictor_var_list)"
      ],
      "execution_count": null,
      "outputs": [
        {
          "output_type": "execute_result",
          "data": {
            "text/plain": [
              "23"
            ]
          },
          "metadata": {
            "tags": []
          },
          "execution_count": 102
        }
      ]
    },
    {
      "cell_type": "code",
      "metadata": {
        "id": "1LpfsRvpQQsC",
        "outputId": "f995ae8f-b7c0-443f-d3f0-7dd4d6ea7f41",
        "colab": {
          "base_uri": "https://localhost:8080/",
          "height": 136
        }
      },
      "source": [
        "uci[['default.payment.next.month','ID']].groupby('default.payment.next.month').count()"
      ],
      "execution_count": null,
      "outputs": [
        {
          "output_type": "execute_result",
          "data": {
            "text/html": [
              "<div>\n",
              "<style scoped>\n",
              "    .dataframe tbody tr th:only-of-type {\n",
              "        vertical-align: middle;\n",
              "    }\n",
              "\n",
              "    .dataframe tbody tr th {\n",
              "        vertical-align: top;\n",
              "    }\n",
              "\n",
              "    .dataframe thead th {\n",
              "        text-align: right;\n",
              "    }\n",
              "</style>\n",
              "<table border=\"1\" class=\"dataframe\">\n",
              "  <thead>\n",
              "    <tr style=\"text-align: right;\">\n",
              "      <th></th>\n",
              "      <th>ID</th>\n",
              "    </tr>\n",
              "    <tr>\n",
              "      <th>default.payment.next.month</th>\n",
              "      <th></th>\n",
              "    </tr>\n",
              "  </thead>\n",
              "  <tbody>\n",
              "    <tr>\n",
              "      <th>0</th>\n",
              "      <td>23364</td>\n",
              "    </tr>\n",
              "    <tr>\n",
              "      <th>1</th>\n",
              "      <td>6636</td>\n",
              "    </tr>\n",
              "  </tbody>\n",
              "</table>\n",
              "</div>"
            ],
            "text/plain": [
              "                               ID\n",
              "default.payment.next.month       \n",
              "0                           23364\n",
              "1                            6636"
            ]
          },
          "metadata": {
            "tags": []
          },
          "execution_count": 103
        }
      ]
    },
    {
      "cell_type": "code",
      "metadata": {
        "id": "xSIJMkATPFs0"
      },
      "source": [
        "number_of_neurons_layer1 = 23\n",
        "number_of_neurons_layer2 = 10\n",
        "number_of_neurons_layer3 = 2\n",
        "number_of_epochs = 50"
      ],
      "execution_count": null,
      "outputs": []
    },
    {
      "cell_type": "code",
      "metadata": {
        "id": "vX4hldm7RIr0",
        "outputId": "1b64f8e9-5971-4710-f20a-cdb98cc6f125",
        "colab": {
          "base_uri": "https://localhost:8080/",
          "height": 34
        }
      },
      "source": [
        "len(X)"
      ],
      "execution_count": null,
      "outputs": [
        {
          "output_type": "execute_result",
          "data": {
            "text/plain": [
              "30000"
            ]
          },
          "metadata": {
            "tags": []
          },
          "execution_count": 105
        }
      ]
    },
    {
      "cell_type": "code",
      "metadata": {
        "id": "tOVeNtATRE0X"
      },
      "source": [
        "dim =  23\n",
        "samples = 30000"
      ],
      "execution_count": null,
      "outputs": []
    },
    {
      "cell_type": "code",
      "metadata": {
        "id": "eI7cjyliKEu3",
        "colab": {
          "base_uri": "https://localhost:8080/",
          "height": 205
        },
        "outputId": "14dfb500-1770-465f-c4be-32823660c6d5"
      },
      "source": [
        "# design network\n",
        "from keras import optimizers\n",
        "sgd = optimizers.SGD(lr=0.01, clipnorm=1.)\n",
        "\n",
        "model = Sequential()\n",
        "model.add(Dense(number_of_neurons_layer1,input_shape=(dim, ), activation='relu'))\n",
        "model.add(Dense(number_of_neurons_layer2, activation='relu'))\n",
        "model.add(Dense(number_of_neurons_layer3, activation='relu'))\n",
        "model.compile(loss='sparse_categorical_crossentropy', optimizer=sgd)\n",
        "\n",
        "def train(data,label):\n",
        "    model.fit(data, label, epochs=number_of_epochs, batch_size=256, validation_data=(data, label), verbose=0, shuffle=True,callbacks=[lr])\n",
        "\n",
        "def score(data):\n",
        "    return model.predict(data)"
      ],
      "execution_count": null,
      "outputs": [
        {
          "output_type": "stream",
          "text": [
            "WARNING:tensorflow:From /usr/local/lib/python3.6/dist-packages/keras/backend/tensorflow_backend.py:66: The name tf.get_default_graph is deprecated. Please use tf.compat.v1.get_default_graph instead.\n",
            "\n",
            "WARNING:tensorflow:From /usr/local/lib/python3.6/dist-packages/keras/backend/tensorflow_backend.py:541: The name tf.placeholder is deprecated. Please use tf.compat.v1.placeholder instead.\n",
            "\n",
            "WARNING:tensorflow:From /usr/local/lib/python3.6/dist-packages/keras/backend/tensorflow_backend.py:4432: The name tf.random_uniform is deprecated. Please use tf.random.uniform instead.\n",
            "\n",
            "WARNING:tensorflow:From /usr/local/lib/python3.6/dist-packages/keras/optimizers.py:793: The name tf.train.Optimizer is deprecated. Please use tf.compat.v1.train.Optimizer instead.\n",
            "\n",
            "WARNING:tensorflow:From /usr/local/lib/python3.6/dist-packages/keras/backend/tensorflow_backend.py:3622: The name tf.log is deprecated. Please use tf.math.log instead.\n",
            "\n"
          ],
          "name": "stdout"
        }
      ]
    },
    {
      "cell_type": "code",
      "metadata": {
        "id": "ubo1DZfgQ8zQ",
        "outputId": "aaaca534-adce-4733-e4c6-3cb98a3809f0",
        "colab": {
          "base_uri": "https://localhost:8080/",
          "height": 34
        }
      },
      "source": [
        "print(X.shape,Y.shape)"
      ],
      "execution_count": null,
      "outputs": [
        {
          "output_type": "stream",
          "text": [
            "(30000, 23) (30000,)\n"
          ],
          "name": "stdout"
        }
      ]
    },
    {
      "cell_type": "code",
      "metadata": {
        "id": "Ov6R6qbWRgUj"
      },
      "source": [
        "features=X\n",
        "label=Y"
      ],
      "execution_count": null,
      "outputs": []
    },
    {
      "cell_type": "code",
      "metadata": {
        "id": "zpyNHRbHRmC_",
        "outputId": "766831b4-f5bc-4475-be06-a85d8a00879e",
        "colab": {
          "base_uri": "https://localhost:8080/",
          "height": 373
        }
      },
      "source": [
        "train(features,label)"
      ],
      "execution_count": null,
      "outputs": [
        {
          "output_type": "stream",
          "text": [
            "WARNING:tensorflow:From /usr/local/lib/python3.6/dist-packages/tensorflow_core/python/ops/math_grad.py:1424: where (from tensorflow.python.ops.array_ops) is deprecated and will be removed in a future version.\n",
            "Instructions for updating:\n",
            "Use tf.where in 2.0, which has the same broadcast rule as np.where\n",
            "WARNING:tensorflow:From /usr/local/lib/python3.6/dist-packages/keras/backend/tensorflow_backend.py:1033: The name tf.assign_add is deprecated. Please use tf.compat.v1.assign_add instead.\n",
            "\n",
            "WARNING:tensorflow:From /usr/local/lib/python3.6/dist-packages/keras/backend/tensorflow_backend.py:1020: The name tf.assign is deprecated. Please use tf.compat.v1.assign instead.\n",
            "\n",
            "WARNING:tensorflow:From /usr/local/lib/python3.6/dist-packages/keras/backend/tensorflow_backend.py:3005: The name tf.Session is deprecated. Please use tf.compat.v1.Session instead.\n",
            "\n",
            "WARNING:tensorflow:From /usr/local/lib/python3.6/dist-packages/keras/backend/tensorflow_backend.py:190: The name tf.get_default_session is deprecated. Please use tf.compat.v1.get_default_session instead.\n",
            "\n",
            "WARNING:tensorflow:From /usr/local/lib/python3.6/dist-packages/keras/backend/tensorflow_backend.py:197: The name tf.ConfigProto is deprecated. Please use tf.compat.v1.ConfigProto instead.\n",
            "\n",
            "WARNING:tensorflow:From /usr/local/lib/python3.6/dist-packages/keras/backend/tensorflow_backend.py:207: The name tf.global_variables is deprecated. Please use tf.compat.v1.global_variables instead.\n",
            "\n",
            "WARNING:tensorflow:From /usr/local/lib/python3.6/dist-packages/keras/backend/tensorflow_backend.py:216: The name tf.is_variable_initialized is deprecated. Please use tf.compat.v1.is_variable_initialized instead.\n",
            "\n",
            "WARNING:tensorflow:From /usr/local/lib/python3.6/dist-packages/keras/backend/tensorflow_backend.py:223: The name tf.variables_initializer is deprecated. Please use tf.compat.v1.variables_initializer instead.\n",
            "\n",
            "0.80506086, 0.6931475, 0.6769019, 0.735796, 0.83661085, 0.7393309, 0.7372663, 0.69043994, 0.6904399, 0.6931475, 0.6904399, 0.7448319, 0.73084617, 0.72896767, 0.7245054, 0.7372116, 0.6931475, 0.68773234, 0.69043994, 0.7349528, 0.6904398, 0.6877323, 0.7681873, 0.6931475, 0.74574053, 0.74193025, 0.69043994, 0.74069595, 0.69043994, 0.69043994, 0.7412765, 0.6931475, 0.6931475, 0.68502474, 0.6931475, 0.7375781, 0.6931475, 0.69043994, 0.6931475, 0.7386632, 0.6931475, 0.6931475, 0.6904399, 0.6931475, 0.72734076, 0.73709893, 0.6931475, 0.6931475, 0.6904399, 0.7391577, 0.69043994, 0.6823171, 0.7109724, 0.6931475, 0.6931475, 0.6931475, 0.6931475, 0.73765635, 0.6931475, 0.6931475, 0.6931475, 0.6931475, 0.6931475, 0.7388886, 0.69043994, 0.7275826, 0.69043994, 0.6877322, 0.6931475, 0.6931475, 0.69043994, 0.69043994, 0.68773234, 0.6931475, 0.6904399, 0.6931475, 0.6931475, 0.6931475, 0.69043994, 0.6931475, 0.69043994, 0.6931475, 0.69043994, 0.6931475, 0.6931475, 0.6931475, 0.69043994, 0.6931475, 0.6931475, 0.6931475, 0.7446153, 0.6931475, 0.6931475, 0.69043994, 0.6931475, 0.6931475, 0.6904398, 0.6931475, 0.6931475, 0.6904398, 0.6931475, 0.6931475, 0.6931475, 0.6877322, 0.6931475, 0.6931475, 0.6931475, 0.6931475, 0.6931475, 0.6931475, 0.6931475, 0.69043994, 0.6931475, 0.69043994, 0.6931475, 0.6931475, 0.69043994, 0.6931472, 0.69043994, 0.6931475, 0.6931475, 0.6931475, 0.6931475, 0.6931475, 0.6931475, 0.6931475, 0.6931475, 0.6931475, 0.6931475, 0.6931475, 0.6931475, 0.6931475, 0.6931475, 0.6931475, 0.69043994, 0.6931475, 0.6931475, 0.6931475, 0.73907626, 0.6931475, 0.6931475, 0.6931475, 0.6931475, 0.6931475, 0.6904404, 0.738268, 0.7383765, 0.6931475, 0.6931475, 0.6931475, 0.6931475, 0.6931475, 0.6931475, 0.7462853, 0.6904398, 0.6931475, 0.6931475, 0.6931475, 0.6904399, 0.6904398, 0.6931475, 0.6931475, 0.6904398, 0.6931475, 0.6931475, 0.6931475, 0.6931475, 0.6931475, 0.6931475, 0.6931475, 0.69043994, 0.6931475, 0.6931475, 0.6931475, 0.6931475, 0.6931475, 0.6931475, 0.6931475, 0.6931475, 0.6931475, 0.6931475, 0.6931475, 0.6904398, 0.6931475, 0.6931475, 0.6931475, 0.6931475, 0.6931475, 0.6931475, 0.6931475, 0.6931475, 0.6931475, 0.6931475, 0.6931475, 0.6931475, 0.69043994, 0.69043994, 0.6931475, 0.6931475, 0.6931475, 0.6931475, 0.6931475, 0.6931475, 0.7438766, 0.6931475, 0.6931475, 0.6931475, 0.6931475, 0.6931475, 0.6904398, 0.6931475, 0.6931475, 0.6931475, 0.6931475, 0.6931475, 0.6931475, 0.6931475, 0.6931475, 0.6931475, 0.69043994, 0.6931475, 0.6931475, 0.69043994, 0.6931475, 0.6931475, 0.6931475, 0.6931475, 0.6931475, 0.6904398, 0.6931475, 0.6931475, 0.6931475, 0.6904399, 0.6904398, 0.6931475, 0.6931472, 0.6931475, 0.6904399, 0.6931475, 0.6931475, 0.6931475, 0.6931475, 0.6931475, 0.6931475, 0.6931475, 0.6931475, 0.6931475, 0.6931475, 0.6931475, 0.6931475, 0.6931475, 0.6931475, 0.6931475, 0.69043994, 0.6931475, 0.6931475, 0.6931475, 0.6931475, 0.6931475, 0.6931475, 0.6931475, 0.6931475, 0.6931475, 0.6931475, 0.6931475, 0.6931475, 0.6931475, 0.6931475, 0.6931475, 0.6931475, 0.69043994, 0.6931475, 0.6904398, 0.6931475, 0.6931475, 0.6931475, 0.6931475, 0.6931475, 0.6931475, 0.6904398, 0.6931475, 0.6931475, 0.69043994, 0.6931475, 0.6931475, 0.6931475, 0.69043994, 0.69043994, 0.6931475, 0.732497, 0.6931475, 0.6931475, 0.74595153, 0.6931475, 0.6904398, 0.6931475, 0.6931475, 0.6931475, 0.6931475, 0.6931475, 0.6931475, 0.6931475, 0.6931475, 0.6931475, 0.6931475, 0.6931475, 0.6931475, 0.6931475, 0.6931475, 0.6931475, 0.7428534, 0.6931475, 0.6931475, 0.6931475, 0.6931475, 0.6904399, 0.6931475, 0.6931475, 0.6931475, 0.6931475, 0.6931475, 0.6931475, 0.6904398, 0.6931475, 0.6931475, 0.6931475, 0.6931475, 0.6931475, 0.6931475, 0.6931475, 0.6931475, 0.6931475, 0.6931475, 0.6931475, 0.6931475, 0.6931475, 0.6931475, 0.6931475, 0.6931475, 0.6931475, 0.6931475, 0.6931475, 0.6931475, 0.6931475, 0.6931475, 0.6931475, 0.6931475, 0.6931475, 0.6904398, 0.6931475, 0.6904399, 0.68773234, 0.6931475, 0.6931472, 0.6931475, 0.6931475, 0.6931475, 0.6931475, 0.6931475, 0.6904398, 0.6931475, 0.6931475, 0.6931475, 0.6931475, 0.74566543, 0.6931475, 0.6931475, 0.6877322, 0.6931475, 0.6877322, 0.6931475, 0.6931475, 0.6931475, 0.6931475, 0.6904402, 0.6931475, 0.6931475, 0.6931475, 0.6904399, 0.6931475, 0.6931475, 0.6931475, 0.6931475, 0.6931475, 0.6931475, 0.6931475, 0.6931475, 0.6931475, 0.6931475, 0.6931475, 0.6931475, 0.6931475, 0.6931475, 0.6931475, 0.6931475, 0.6931475, 0.6931475, 0.6904399, 0.6931475, 0.6931475, 0.6904398, 0.6931475, 0.6931475, 0.6931475, 0.6931475, 0.6931475, 0.6931475, 0.6931475, 0.6931475, 0.6931475, 0.6931475, 0.6931475, 0.6931475, 0.6931475, 0.6931475, 0.6931475, 0.6931475, 0.6931475, 0.6931475, 0.6931475, 0.6931475, 0.6931475, 0.6931475, 0.6931475, 0.6931475, 0.6931475, 0.6931475, 0.6931475, 0.6931475, 0.6931475, 0.6931475, 0.6931475, 0.6931475, 0.6931475, 0.6931475, 0.74156535, 0.6931475, 0.6931475, 0.6931475, 0.6931475, 0.69043994, 0.6931475, 0.6931475, 0.6931475, 0.6904399, 0.6931475, 0.6931475, 0.6931475, 0.6931475, 0.6931475, 0.6931475, 0.6931475, 0.6931475, 0.6931475, 0.6931475, 0.6931475, 0.6931475, 0.6931475, 0.6931475, 0.6931475, 0.6931475, 0.6931475, 0.6931475, 0.6931475, 0.6931475, 0.6931475, 0.6931475, 0.6931475, 0.6931475, 0.6931475, 0.6931475, 0.6931472, 0.6931475, 0.6931475, 0.6931475, 0.6931475, 0.6931475, 0.6931475, 0.6931475, 0.6931475, 0.6931475, 0.6931475, 0.6931475, 0.6931475, 0.6931475, 0.6931475, 0.6931475, 0.6931475, 0.6931475, 0.6931475, 0.6931475, 0.6931475, 0.6931475, 0.6931475, 0.6931475, 0.6931475, 0.6931475, 0.6931475, 0.6931475, 0.6931475, 0.6931475, 0.6931475, 0.6931475, 0.6931475, 0.6931475, 0.6931475, 0.6931475, 0.6931475, 0.6931475, 0.6931475, 0.6931475, 0.6931475, 0.6931475, 0.6931475, 0.6904399, 0.6931475, 0.6931475, 0.6931475, 0.6931475, 0.6904398, 0.6931475, 0.6904399, 0.6931475, 0.6931475, 0.6904399, 0.6931475, 0.6931475, 0.6931475, 0.6904398, 0.6931475, 0.6931475, 0.6931475, 0.6931475, 0.6931475, 0.6931475, 0.6931475, 0.6904399, 0.6931475, 0.6904398, 0.6931475, 0.6931475, 0.6931475, 0.6931475, 0.6931475, 0.6931475, 0.6931475, 0.6931475, 0.6931475, 0.6931475, 0.6931475, 0.6931475, 0.6931475, 0.6931475, 0.6931475, 0.6931475, 0.6931475, 0.6931475, 0.74526465, 0.6931475, 0.6931475, 0.6931475, 0.6931475, 0.6904399, 0.6931475, 0.6931475, 0.6931475, 0.6931475, 0.6931475, 0.6931475, 0.6931475, 0.6931475, 0.6931475, 0.6931475, 0.6931475, 0.6931475, 0.6931475, 0.69043994, 0.6931475, 0.7386755, 0.6931475, 0.6931475, 0.6931475, 0.6931475, 0.6904399, 0.6931475, 0.6931475, 0.6931475, 0.6931475, 0.6931475, 0.6931472, 0.6931475, 0.6931475, 0.6931475, 0.6931475, 0.6931475, 0.6931475, 0.6931475, 0.6931475, 0.6931475, 0.6931475, 0.6931475, 0.6931475, 0.6904398, 0.6931475, 0.6931475, 0.6931475, 0.6931475, 0.6931475, 0.6931475, 0.6931475, 0.6931475, 0.6931475, 0.6931475, 0.6931475, 0.6931475, 0.6931475, 0.6931475, 0.6904399, 0.6931475, 0.6931475, 0.6931475, 0.6931475, 0.6904398, 0.6931475, 0.7444098, 0.6931475, 0.6931475, 0.6931475, 0.6931475, 0.6931475, 0.6931475, 0.6931475, 0.6931475, 0.6931475, 0.6931475, 0.6931475, 0.6931475, 0.6931475, 0.6931475, 0.6904399, 0.6931475, 0.6931475, 0.6931475, 0.6931475, 0.6931475, 0.6931475, 0.6931475, 0.6931475, 0.6931475, 0.6931475, 0.6931475, 0.6904399, 0.6931475, 0.6931475, 0.6931475, 0.6931475, 0.6931475, 0.6904398, 0.69043994, 0.6931475, 0.6931475, 0.6931475, 0.6931475, 0.6931475, 0.6931475, 0.6931475, 0.69043994, 0.6931475, 0.6931475, 0.6931475, 0.6931475, 0.6931475, 0.6931475, 0.6931475, 0.6931475, 0.6931475, 0.6931475, 0.6931475, 0.6931475, 0.6931475, 0.6931475, 0.6931475, 0.6931475, 0.6931475, 0.6931475, 0.6931475, 0.6931475, 0.6931475, 0.6931475, 0.6931475, 0.6931475, 0.6931475, 0.6931475, 0.6931475, 0.6931475, 0.6931475, 0.6931475, 0.6931475, 0.6931475, 0.6904399, 0.6931475, 0.6931475, 0.6931475, 0.69043994, 0.6931475, 0.6931475, 0.6931475, 0.6931472, 0.6931475, 0.6931475, 0.6931475, 0.6931475, 0.6931475, 0.6931475, 0.6877322, 0.6931475, 0.6931475, 0.6931475, 0.6931475, 0.6931475, 0.6931475, 0.6931475, 0.6931475, 0.6931475, 0.6931475, 0.6931475, 0.6931475, 0.6904399, 0.6931475, 0.68773234, 0.6931475, 0.6931475, 0.6931475, 0.6931475, 0.6931475, 0.6931475, 0.6931475, 0.6931475, 0.6931475, 0.6904398, 0.6931475, 0.6931475, 0.6931475, 0.6931475, 0.6931475, 0.6931475, 0.6931475, 0.6931475, 0.6931475, 0.6931475, 0.6931475, 0.6931475, 0.6931475, 0.6931475, 0.6931475, 0.6931475, 0.6931475, 0.6931475, 0.6931475, 0.6931475, 0.6931475, 0.6931475, 0.6931475, 0.6931475, 0.6931475, 0.6931475, 0.6931475, 0.6931475, 0.6931475, 0.6931475, 0.6931475, 0.6931475, 0.7414979, 0.6931475, 0.6931475, 0.6931475, 0.6931475, 0.6931475, 0.6931475, 0.6904399, 0.6931475, 0.6931475, 0.6931475, 0.6931475, 0.6931475, 0.69043994, 0.6931475, 0.6931475, 0.6931475, 0.6931475, 0.6931475, 0.6931475, 0.6931475, 0.6931475, 0.6931475, 0.6931475, 0.6931475, 0.6931475, 0.6931475, 0.6931475, 0.6931475, 0.6931475, 0.6931475, 0.6931475, 0.6931475, 0.6931475, 0.6931475, 0.6904398, 0.6931475, 0.6931475, 0.6931475, 0.6931475, 0.6931475, 0.6931475, 0.6931475, 0.6931475, 0.6931475, 0.6931475, 0.6931475, 0.6931475, 0.6931475, 0.6931475, 0.6931475, 0.6931475, 0.6931475, 0.6931472, 0.6931475, 0.6931475, 0.6931475, 0.6931475, 0.6931475, 0.6931475, 0.6904399, 0.6931475, 0.6931475, 0.6931475, 0.6931475, 0.6931475, 0.6931475, 0.6931475, 0.6931475, 0.6931475, 0.6931475, 0.6931475, 0.6931475, 0.6931475, 0.6931475, 0.6931475, 0.6931475, 0.6931475, 0.6931475, 0.6931475, 0.6931475, 0.6931475, 0.6931475, 0.69043994, 0.6931475, 0.6931475, 0.6931475, 0.6931475, 0.6931475, 0.6931475, 0.6931475, 0.6931475, 0.6931475, 0.6931475, 0.6931475, 0.6931475, 0.6931475, 0.6931475, 0.6931475, 0.6931475, 0.6931475, 0.6931475, 0.6931475, 0.6931475, 0.6931475, 0.6931475, 0.6931475, 0.6931475, 0.6931475, 0.6931475, 0.6931475, 0.6931475, 0.6931475, 0.6931475, 0.6931475, 0.6931475, 0.6931475, 0.6904398, 0.6931475, 0.6904399, 0.6931475, 0.6931475, 0.6931475, 0.6931475, 0.6931475, 0.6931475, 0.6931475, 0.6931475, 0.6931475, 0.6931475, 0.69043994, 0.69043994, 0.6931475, 0.6931475, 0.74397814, 0.6931475, 0.6931475, 0.6931475, 0.6931475, 0.6931475, 0.6904398, 0.6931475, 0.6931475, 0.6931475, 0.6931475, 0.6931475, 0.6931475, 0.69043994, 0.6931475, 0.6931475, 0.6931475, 0.6931475, 0.6931475, 0.6931475, 0.6931475, 0.6931475, 0.6904398, 0.6931475, 0.6931475, 0.6931475, 0.6931475, 0.6931475, 0.6931475, 0.6931475, 0.6931475, 0.6904399, 0.6931475, 0.6931475, 0.6931475, 0.6931475, 0.6931475, 0.6931472, 0.6931475, 0.6931475, 0.6931475, 0.6931475, 0.6904398, 0.6931475, 0.6931475, 0.6931475, 0.6931475, 0.6931475, 0.6931475, 0.6931475, 0.69043994, 0.6931475, 0.6931475, 0.6931475, 0.6931475, 0.6931475, 0.6904398, 0.6931475, 0.6931475, 0.6931475, 0.6931475, 0.6931475, 0.6931475, 0.6931475, 0.6931475, 0.6931475, 0.6931475, 0.6931475, 0.6931475, 0.6931475, 0.6931475, 0.6931475, 0.6931475, 0.69043994, 0.6931475, 0.6931475, 0.6931475, 0.6931475, 0.6931475, 0.6904399, 0.6931475, 0.6931475, 0.6904399, 0.74372196, 0.6931475, 0.6931475, 0.6931475, 0.6931475, 0.6931475, 0.6931475, 0.6931475, 0.6931475, 0.6931475, 0.6931475, 0.6931475, 0.6931475, 0.6931475, 0.6931475, 0.6931475, 0.6931475, 0.6931475, 0.6931475, 0.6931475, 0.6931475, 0.6931475, 0.6931475, 0.6931475, 0.6931475, 0.6931475, 0.6931475, 0.6931475, 0.6931475, 0.6931475, 0.6931475, 0.6931475, 0.6931475, 0.6931475, 0.6931475, 0.6931475, 0.6931475, 0.68773234, 0.6931475, 0.69043994, 0.6931475, 0.6931475, 0.6931475, 0.6931475, 0.6931475, 0.6931475, 0.6931475, 0.6931475, 0.6931475, 0.6931475, 0.6931475, 0.6931475, 0.6931475, 0.6931475, 0.6931475, 0.6931475, 0.6931475, 0.6931475, 0.6931475, 0.6931475, 0.6931475, 0.6931475, 0.6904399, 0.6931475, 0.6931475, 0.6931475, 0.6931475, 0.6931475, 0.6931475, 0.6931475, 0.6931475, 0.6931475, 0.6931472, 0.6931475, 0.6931475, 0.6931475, 0.6931475, 0.6931475, 0.6931475, 0.6904399, 0.6931475, 0.6931475, 0.6931475, 0.6931475, 0.6904398, 0.6931475, 0.6931475, 0.6931475, 0.6931475, 0.6931475, 0.6931475, 0.6931475, 0.6931475, 0.6931475, 0.6931475, 0.6931475, 0.6931475, 0.69043994, 0.6931475, 0.6931475, 0.6931475, 0.6931475, 0.6931475, 0.6931475, 0.6931475, 0.6931475, 0.6931475, 0.6931475, 0.6931475, 0.6931475, 0.6931475, 0.6931475, 0.6904398, 0.69043994, 0.6931475, 0.6931475, 0.6931475, 0.6931475, 0.6931475, 0.6931475, 0.6931475, 0.6931475, 0.6931475, 0.6931475, 0.6931475, 0.6931475, 0.6931475, 0.6931475, 0.6931475, 0.6931475, 0.6931475, 0.69043994, 0.6931475, 0.6931475, 0.6931475, 0.6931475, 0.6931475, 0.6931475, 0.6931475, 0.6931475, 0.6931475, 0.6931475, 0.6931475, 0.69043994, 0.6931475, 0.6931475, 0.6931475, 0.6931475, 0.6931475, 0.6931475, 0.6904399, 0.6931475, 0.6931475, 0.6904399, 0.6931475, 0.6931475, 0.6931475, 0.6931475, 0.6931475, 0.6931475, 0.6931475, 0.6904398, 0.6931475, 0.6931475, 0.6931475, 0.6931475, 0.6931475, 0.6931475, 0.6931475, 0.6931475, 0.6931475, 0.6931475, 0.6931475, 0.6931475, 0.6931475, 0.6931475, 0.6931475, 0.6931475, 0.6931475, 0.6931475, 0.6931475, 0.6931475, 0.6931475, 0.6931475, 0.6931475, 0.6931475, 0.6931475, 0.7434288, 0.6931475, 0.6931475, 0.6931472, 0.6931475, 0.6931475, 0.6931475, 0.6931475, 0.6931475, 0.6931475, 0.6931475, 0.6931475, 0.6931475, 0.6931475, 0.6931475, 0.6931475, 0.6931475, 0.6931475, 0.6931475, 0.6904399, 0.6931475, 0.6931475, 0.6931475, 0.6931475, 0.6931475, 0.6931475, 0.6931475, 0.6931475, 0.6931475, 0.6931475, 0.6931475, 0.6931475, 0.6931475, 0.6931475, 0.68773234, 0.6931475, 0.6931475, 0.6931475, 0.6931475, 0.6931475, 0.6931475, 0.6931475, 0.6931475, 0.6931475, 0.6931475, 0.6904398, 0.6931475, 0.6931475, 0.6931475, 0.6931475, 0.6931475, 0.6931475, 0.6931475, 0.6931475, 0.6931475, 0.69043994, 0.6931475, 0.6931475, 0.6931475, 0.6931475, 0.6931475, 0.6931475, 0.6931475, 0.6931475, 0.6931475, 0.6931475, 0.6931475, 0.6931475, 0.6931475, 0.6931475, 0.6931475, 0.6931475, 0.6931475, 0.6931475, 0.6931475, 0.6931475, 0.6931475, 0.69043994, 0.6931475, 0.6931475, 0.69043994, 0.6904398, 0.6931475, 0.6931475, 0.6931475, 0.69043994, 0.6931475, 0.6931475, 0.6931475, 0.6931475, 0.6931475, 0.6931475, 0.6931475, 0.6931475, 0.6931475, 0.6931475, 0.6931475, 0.6931475, 0.6904399, 0.74308634, 0.6931475, 0.6931475, 0.6931475, 0.6931475, 0.6931475, 0.6931475, 0.6931475, 0.6931475, 0.6931475, 0.6931475, 0.6931475, 0.6931475, 0.6931475, 0.6931475, 0.6931475, 0.6931475, 0.6931475, 0.6931475, 0.6931475, 0.6931475, 0.6931475, 0.6931472, 0.6931475, 0.74267507, 0.6931475, 0.6931475, 0.6931475, 0.6931475, 0.6931475, 0.69043994, 0.6931475, 0.6931475, 0.6931475, 0.6931475, 0.69043994, 0.6931475, 0.6931475, 0.6931475, 0.6931475, 0.6904399, 0.6931475, 0.6931475, 0.6931475, 0.6931475, 0.6931475, 0.69043994, 0.6931475, 0.69043994, 0.6931475, 0.6931475, 0.6904398, 0.6931475, 0.6931475, 0.6931475, 0.6931475, 0.6931475, 0.6931475, 0.6931475, 0.6931475, 0.6931475, 0.6931475, 0.6931475, 0.6931475, 0.6931475, 0.6931475, 0.6931475, 0.6931475, 0.6931475, 0.6931475, 0.6931475, 0.6931475, 0.6904398, 0.6931475, 0.6931475, 0.6931475, 0.6931475, 0.6931475, 0.6931475, 0.6931475, 0.6931475, 0.6931475, 0.6931475, 0.6931475, 0.6931475, 0.6931475, 0.6931475, 0.6931475, 0.6931475, 0.6931475, 0.6931475, 0.6931475, 0.6931475, 0.6931475, 0.6931475, 0.6931475, 0.6931475, 0.6931475, 0.6931475, 0.6931475, 0.6931475, 0.6931475, 0.6931475, 0.6931475, 0.6931475, 0.6931475, 0.6931475, 0.6931475, 0.6931475, 0.6931475, 0.6931475, 0.6931475, 0.6931475, 0.6904398, 0.6931475, 0.6931475, 0.6931475, 0.6931475, 0.6931475, 0.6931475, 0.6931475, 0.6931475, 0.6931475, 0.6931475, 0.6931475, 0.6931475, 0.6904399, 0.6931475, 0.6931475, 0.6931475, 0.6931475, 0.6931475, 0.6931475, 0.6931475, 0.6931475, 0.69043994, 0.6931475, 0.6931475, 0.6931475, 0.6931475, 0.6931472, 0.6931475, 0.6931475, 0.69043994, 0.6931475, 0.6931475, 0.6931475, 0.6931475, 0.6904399, 0.6931475, 0.6931475, 0.6931475, 0.6931475, 0.6931475, 0.6931475, 0.6931475, 0.6931475, 0.6931475, 0.6931475, 0.6904398, 0.6931475, 0.6931475, 0.6931475, 0.6931475, 0.6931475, 0.6931475, 0.6931475, 0.6931475, 0.6931475, 0.6931475, 0.6931475, 0.6931475, 0.6931475, 0.6931475, 0.69043994, 0.6931475, 0.6931475, 0.6931475, 0.69043994, 0.6931475, 0.6931475, 0.6931475, 0.6931475, 0.6904399, 0.6931475, 0.6931475, 0.6931475, 0.6931475, 0.6931475, 0.6931475, 0.6931475, 0.69043994, 0.6931475, 0.6931475, 0.6931475, 0.6931475, 0.6931475, 0.69043994, 0.6931475, 0.6931475, 0.6931475, 0.6931475, 0.6931475, 0.6931475, 0.6931475, 0.6931475, 0.6931475, 0.6931475, 0.6931475, 0.6931475, 0.6931475, 0.6931475, 0.6931475, 0.6931475, 0.6931475, 0.6931475, 0.6931475, 0.6931475, 0.6931475, 0.6931475, 0.6931475, 0.6931475, 0.6931475, 0.6931475, 0.6931475, 0.6931475, 0.6931475, 0.6931475, 0.6931475, 0.6931475, 0.6931475, 0.6931475, 0.6931475, 0.6931475, 0.6931475, 0.6931475, 0.6931475, 0.74216115, 0.6931475, 0.6931475, 0.6931475, 0.6931475, 0.6904398, 0.6931475, 0.6931475, 0.6931475, 0.6931475, 0.6931475, 0.6931475, 0.6904398, 0.6931475, 0.6931475, 0.6931475, 0.6931475, 0.6931475, 0.6931475, 0.6931475, 0.6931475, 0.6931472, 0.6931475, 0.6931475, 0.6931475, 0.69043994, 0.6904399, 0.6931475, 0.6931475, 0.6931475, 0.6931475, 0.6931475, 0.6931475, 0.6931475, 0.6931475, 0.6931475, 0.6931475, 0.6931475, 0.6931475, 0.6931475, 0.6931475, 0.6931475, 0.6931475, 0.6931475, 0.6931475, 0.6931475, 0.6931475, 0.6931475, 0.6931475, 0.6931475, 0.6931475, 0.6931475, 0.6931475, 0.6931475, 0.6931475, 0.6931475, 0.6931475, 0.6931475, 0.6931475, 0.6931475, 0.6931475, 0.6904399, 0.6931475, 0.6931475, 0.6931475, 0.6931475, 0.6931475, 0.6931475, 0.6931475, 0.6931475, 0.6931475, 0.6931475, 0.6931475, 0.6931475, 0.6931475, 0.6931475, 0.74147916, 0.6904398, 0.6931475, 0.6931475, 0.6931475, 0.6931475, 0.6931475, 0.6931475, 0.6931475, 0.6931475, 0.6931475, 0.6931475, 0.6931475, 0.6931475, 0.6931475, 0.6931475, 0.6931475, 0.6931475, 0.6931475, 0.6931475, 0.6931475, 0.6931475, 0.6931475, 0.6931475, 0.6931475, 0.6931475, 0.6931475, 0.6931475, 0.6931475, 0.6931475, 0.6931475, 0.6931475, 0.69043994, 0.69043994, 0.6931475, 0.6904399, 0.6931475, 0.6931475, 0.6904402, 0.6931475, 0.6931475, 0.6931475, 0.6931475, 0.6931475, 0.6931475, 0.6931475, 0.6931475, 0.6931475, 0.6931475, 0.6931475, 0.6931475, 0.6931475, 0.6931475, 0.6931475, 0.6931475, 0.6931475, 0.6931475, 0.6931475, 0.6931475, 0.6931475, 0.6931475, 0.6931475, 0.6904398, 0.6931472, 0.6931475, 0.6931475, 0.6931475, 0.6931475, 0.6931475, 0.6931475, 0.6931475, 0.6931475, 0.6931475, 0.6931475, 0.6931475, 0.6931475, 0.69043994, 0.6931475, 0.6931475, 0.6931475, 0.6931475, 0.6931475, 0.6931475, 0.6931475, 0.6904399, 0.6931475, 0.6931475, 0.6931475, 0.6931475, 0.6931475, 0.6931475, 0.6931475, 0.6931475, 0.6904398, 0.6931475, 0.6931475, 0.6931475, 0.6931475, 0.6931475, 0.6931475, 0.6931475, 0.6931475, 0.6931475, 0.6931475, 0.6931475, 0.6931475, 0.6931475, 0.6931475, 0.6931475, 0.6931475, 0.6931475, 0.6931475, 0.6931475, 0.6931475, 0.6904402, 0.6931475, 0.6931475, 0.6931475, 0.6931475, 0.6931475, 0.6931475, 0.6931475, 0.6931475, 0.6931475, 0.7404772, 0.6931475, 0.6931475, 0.6931475, 0.6931475, 0.6931475, 0.6931475, 0.6931475, 0.6931475, 0.6931475, 0.6931475, 0.6931475, 0.6931475, 0.6931475, 0.6931475, 0.6931475, 0.6931475, 0.6904399, 0.6931475, 0.6904398, 0.6931475, 0.6931475, 0.6931475, 0.6931475, 0.6931475, 0.69043994, 0.6931475, 0.69043994, 0.6931475, 0.6931475, 0.6931475, 0.6931475, 0.6931475, 0.6931475, 0.6931475, 0.6931475, 0.6931475, 0.6931475, 0.6931475, 0.6931475, 0.6931475, 0.6904398, 0.6931475, 0.6931475, 0.6931475, 0.6931475, 0.6931475, 0.6931475, 0.6931475, 0.6931475, 0.6931475, 0.6931475, 0.6931475, 0.6931475, 0.6931475, 0.6931475, 0.6931475, 0.6931472, 0.6931475, 0.6904398, 0.69043994, 0.73861885, 0.6904399, 0.6931475, 0.6931475, 0.69043994, 0.6931475, 0.6931475, 0.6931475, 0.6931475, 0.6931475, 0.6904398, 0.6931475, 0.6931475, 0.6931475, 0.6931475, 0.6931475, 0.6931475, 0.6931475, 0.6931475, 0.6931475, 0.6931475, 0.6931475, 0.6931475, 0.6931475, 0.6931475, 0.6931475, 0.6931475, 0.6931475, 0.6931475, 0.6904398, 0.6931475, 0.6931475, 0.6931475, 0.6931475, 0.6931475, 0.6931475, 0.6931475, 0.6931475, 0.6931475, 0.6931475, 0.6931475, 0.6931475, 0.6931475, 0.6931475, 0.6931475, 0.6931475, 0.6931475, 0.6931475, 0.6931475, 0.6931475, 0.6931475, 0.6931475, 0.6931475, 0.6931475, 0.6931475, 0.6931475, 0.6931475, 0.6931475, 0.6931475, 0.6931475, 0.6931475, 0.6931475, 0.6931475, 0.6931475, 0.6931475, 0.6931475, 0.6931475, 0.6931475, 0.6931475, 0.6931475, 0.6931475, 0.6931475, 0.6931475, 0.6931475, 0.6931475, 0.6931475, 0.6931475, 0.6931475, 0.69043994, 0.6931475, 0.6931475, 0.6931475, 0.6931475, 0.6931475, 0.6931475, 0.6931475, 0.6931475, 0.6931475, 0.6931475, 0.6931475, 0.6931475, 0.6931475, 0.6931475, 0.6931475, 0.6931475, 0.6931475, 0.6931475, 0.6931475, 0.6931475, 0.6931475, 0.6931475, 0.6931475, 0.6931475, 0.6931475, 0.6931475, 0.6931475, 0.6931475, 0.6931475, 0.6931475, 0.6931475, 0.6931475, 0.6931475, 0.6931475, 0.6931475, 0.6931472, 0.6931475, 0.6931475, 0.6931475, 0.6931475, 0.6931475, 0.6931475, 0.6931475, 0.6931475, 0.6931475, 0.6931475, 0.6931475, 0.6931475, 0.6931475, 0.6931475, 0.6904399, 0.6931475, 0.6931475, 0.6931475, 0.6931475, 0.6931475, 0.6931475, 0.6931475, 0.6931475, 0.6904399, 0.6931475, 0.6931475, 0.6931475, 0.6931475, 0.6931475, 0.6931475, 0.6931475, 0.6904398, 0.6931475, 0.6931475, 0.6931475, 0.6931475, 0.72355986, 0.6931475, 0.6931475, 0.6931475, 0.6931475, 0.6931475, 0.6931475, 0.6931475, 0.6931475, 0.6931475, 0.6931475, 0.6931475, 0.6931475, 0.6931475, 0.6931475, 0.6931475, 0.6931475, 0.6931475, 0.6931475, 0.6931475, 0.6931475, 0.6931475, 0.6931475, 0.6931475, 0.6931475, 0.6931475, 0.6931475, 0.6931475, 0.6931475, 0.6931475, 0.6931475, 0.6931475, 0.6931475, 0.6931475, 0.6931475, 0.6931475, 0.6931475, 0.6931475, 0.6931475, 0.69043994, 0.6931475, 0.6931475, 0.6931475, 0.6931475, 0.6931475, 0.6931475, 0.6931475, 0.6931475, 0.6931475, 0.6931475, 0.6931475, 0.6931475, 0.6931475, 0.6931475, 0.6931475, 0.6931475, 0.69044006, 0.6931475, 0.6931475, 0.6931475, 0.6931475, 0.6931475, 0.6931475, 0.6931475, 0.6931475, 0.6931475, 0.6931475, 0.6931475, 0.6931475, 0.6931475, 0.6931475, 0.6931475, 0.6931475, 0.6931475, 0.6931475, 0.6904398, 0.6931475, 0.6931475, 0.6931475, 0.6931475, 0.6931475, 0.6931472, 0.69044006, 0.6931475, 0.6931475, 0.6931475, 0.6931475, 0.6931475, 0.6931475, 0.6931475, 0.6931475, 0.6931475, 0.6931475, 0.6931475, 0.6931475, 0.6931475, 0.6931475, 0.6931475, 0.6931475, 0.6931475, 0.6931475, 0.6931475, 0.6931475, 0.68773234, 0.6931475, 0.6931475, 0.6931475, 0.6931475, 0.6931475, 0.6931475, 0.6931475, 0.6931475, 0.6931475, 0.6931475, 0.6931475, 0.6931475, 0.6931475, 0.6931475, 0.6931475, 0.6931475, 0.6931475, 0.6931475, 0.6931475, 0.6931475, 0.6931475, 0.6931475, 0.6904398, 0.6931475, 0.6931475, 0.6931475, 0.6931475, 0.6931475, 0.6931475, 0.6931475, 0.6931475, 0.6931475, 0.6931475, 0.6931475, 0.6931475, 0.6931475, 0.6931475, 0.6931475, 0.6931475, 0.6931475, 0.6931475, 0.6931475, 0.6931475, 0.6931475, 0.6931475, 0.6931475, 0.6931475, 0.6904398, 0.6931475, 0.6931475, 0.6931475, 0.6931475, 0.6931475, 0.6931475, 0.6931475, 0.6931475, 0.6931475, 0.6931475, 0.6931475, 0.6931475, 0.6931475, 0.6931475, 0.6931475, 0.6931475, 0.6931475, 0.6931475, 0.6931475, 0.6931475, 0.6931475, 0.6931475, 0.6931475, 0.6931475, 0.6931475, 0.6931475, 0.6931475, 0.6931475, 0.6931475, 0.6931475, 0.6931475, 0.6904399, 0.6931475, 0.6931475, 0.6931475, 0.6931475, 0.6931475, 0.6931475, 0.6931475, 0.6931475, 0.6931475, 0.6931475, 0.6931475, 0.6931475, 0.6931475, 0.6931475, 0.6931475, 0.6931472, 0.6931475, 0.6931475, 0.6931475, 0.6931475, 0.6931475, 0.6931475, 0.6931475, 0.6931475, 0.6931475, 0.6931475, 0.6931475, 0.6931475, 0.6931475, 0.6931475, 0.6931475, 0.6931475, 0.6931475, 0.6931475, 0.6931475, 0.6931475, 0.6931475, 0.6931475, 0.6931475, 0.6931475, 0.6931475, 0.6931475, 0.6931475, 0.6931475, 0.6931475, 0.6931475, 0.6931475, 0.6931475, 0.6931475, 0.6931475, 0.6931475, 0.6931475, 0.6931475, 0.6931475, 0.6931475, 0.6931475, 0.6931475, 0.6931475, 0.6931475, 0.6931475, 0.6931475, 0.6931475, 0.6931475, 0.6931475, 0.6931475, 0.6931475, 0.6931475, 0.6931475, 0.6931475, 0.6931475, 0.6904399, 0.6931475, 0.6931475, 0.6931475, 0.6931475, 0.6931475, 0.6931475, 0.6931475, 0.6931475, 0.6931475, 0.6931475, 0.6931475, 0.6931475, 0.6931475, 0.6931475, 0.6931475, 0.6931475, 0.6931475, 0.6931475, 0.6931475, 0.6931475, 0.6931475, 0.6931475, 0.6931475, 0.6931475, 0.6931475, 0.6931475, 0.6931475, 0.6904398, 0.6931475, 0.6931475, 0.6931475, 0.6931475, 0.6931475, 0.6931475, 0.6931475, 0.6931475, 0.6931475, 0.6931475, 0.69043994, 0.6931475, 0.6931475, 0.6931475, 0.6931475, 0.6931475, 0.6931475, 0.6931475, 0.6931475, 0.6931475, 0.6904398, 0.6931475, 0.69044006, 0.6931475, 0.6931475, 0.6931475, 0.6931475, 0.6931475, 0.6931475, 0.6904398, 0.6931475, 0.6931475, 0.6931475, 0.6931475, 0.6931472, 0.6931475, 0.6931475, 0.6931475, 0.6931475, 0.6931475, 0.6931475, 0.6931475, 0.6931475, 0.6931475, 0.6931475, 0.6931475, 0.6931475, 0.6931475, 0.6931475, 0.6931475, 0.6931475, 0.6931475, 0.69044006, 0.6931475, 0.6931475, 0.6931475, 0.6931475, 0.6931475, 0.6931475, 0.6931475, 0.6931475, 0.6931475, 0.6931475, 0.6931475, 0.6931475, 0.6931475, 0.6931475, 0.6931475, 0.6931475, 0.6931475, 0.6931475, 0.6931475, 0.6904398, 0.6931475, 0.6931475, 0.6931475, 0.6931475, 0.6931475, 0.6931475, 0.6931475, 0.6931475, 0.6931475, 0.6931475, 0.6931475, 0.6931475, 0.6931475, 0.6931475, 0.6931475, 0.6931475, 0.6931475, 0.6931475, 0.6931475, 0.6931475, 0.6931475, 0.6931475, 0.6931475, 0.6931475, 0.6931475, 0.6931475, 0.6931475, 0.6904398, 0.6904399, 0.6931475, 0.6931475, 0.6931475, 0.6931475, 0.6931475, 0.6931475, 0.6931475, 0.6931475, 0.6931475, 0.6931475, 0.6931475, 0.6931475, 0.6931475, 0.6931475, 0.6931475, 0.6931475, 0.6931475, 0.6931475, 0.6931475, 0.6931475, 0.6931475, 0.6931475, 0.6931475, 0.6931475, 0.6931475, 0.6931475, 0.6931475, 0.6931475, 0.6931475, 0.6931475, 0.6931475, 0.6931475, 0.6931475, 0.6931475, 0.6931475, 0.6931475, 0.6931475, 0.6931475, 0.6931475, 0.6931475, 0.6931475, 0.6931475, 0.6904399, 0.6931475, 0.6931475, 0.6931475, 0.69043994, 0.6931475, 0.6931475, 0.6931475, 0.6931472, 0.6931475, 0.6931475, 0.6931475, 0.6931475, 0.6931475, 0.6931475, 0.6931475, 0.6931475, 0.6931475, 0.6931475, 0.6931475, 0.6931475, 0.6931475, 0.6931475, 0.6931475, 0.6931475, 0.6931475, 0.6931475, 0.6931475, 0.6931475, 0.6931475, 0.6931475, 0.6931475, 0.6931475, 0.6931475, 0.6931475, 0.6931475, 0.6931475, 0.6931475, 0.6931475, 0.6931475, 0.6931475, 0.6931475, 0.6931475, 0.6931475, 0.6931475, 0.6931475, 0.6931475, 0.6931475, 0.6931475, 0.6931475, 0.6931475, 0.6931475, 0.6931475, 0.6904398, 0.6931475, 0.6931475, 0.6931475, 0.6931475, 0.6931475, 0.6931475, 0.6904398, 0.69044006, 0.6931475, 0.6931475, 0.6931475, 0.6931475, 0.6931475, 0.6931475, 0.6931475, 0.6931475, 0.6931475, 0.6931475, 0.6931475, 0.6931475, 0.6931475, 0.6931475, 0.6931475, 0.6931475, 0.6931475, 0.69043994, 0.6931475, 0.6931475, 0.6931475, 0.6931475, 0.6931475, 0.6931475, 0.6931475, 0.6931475, 0.6931475, 0.6931475, 0.6931475, 0.6931475, 0.6931475, 0.6931475, 0.6931475, 0.6904399, 0.6931475, 0.6931475, 0.6931475, 0.6931475, 0.6931475, 0.6931475, 0.6931475, 0.6931475, 0.6931475, 0.6931475, 0.6931475, 0.6931475, 0.6931475, 0.6931475, 0.6904398, 0.6931475, 0.6931475, 0.6931475, 0.6931475, 0.6931475, 0.6931475, 0.6931475, 0.6931475, 0.6931475, 0.6931475, 0.6931475, 0.6931475, 0.6931475, 0.6931475, 0.6931475, 0.6931472, 0.6931475, 0.6931475, 0.6931475, 0.6931475, 0.6931475, 0.6931475, 0.6931475, 0.6931475, 0.6931475, 0.6931475, 0.6931475, 0.6931475, 0.6931475, 0.6931475, 0.6931475, 0.6931475, 0.6931475, 0.6931475, 0.6931475, 0.6931475, 0.6904399, 0.6931475, 0.6931475, 0.6931475, 0.6931475, 0.6931475, 0.6931475, 0.6931475, 0.6931475, 0.6931475, 0.6904398, 0.6931475, 0.6931475, 0.6931475, 0.6931475, 0.6931475, 0.6931475, 0.6931475, 0.6931475, 0.6931475, 0.6931475, 0.6931475, 0.6931475, 0.69043994, 0.6931475, 0.6931475, 0.6931475, 0.6931475, 0.6931475, 0.6931475, 0.6931475, 0.6931475, 0.6931475, 0.6931475, 0.6931475, 0.6931475, 0.6931475, 0.6931475, 0.6931475, 0.6931475, 0.6931475, 0.6931475, 0.6931475, 0.6931475, 0.6931475, 0.6931475, 0.6931475, 0.6931475, 0.6931475, 0.6931475, 0.6931475, 0.6931475, 0.6931475, 0.6931475, 0.6931475, 0.6931475, 0.6931475, 0.6931475, 0.6931475, 0.6931475, 0.6931475, 0.6931475, 0.6931475, 0.6931475, 0.6931475, 0.6931475, 0.6931475, 0.6931475, 0.6931475, 0.6931475, 0.69044006, 0.6931475, 0.6931475, 0.6931475, 0.6931475, 0.6931475, 0.6931475, 0.6931475, 0.6931475, 0.6931475, 0.6931475, 0.6931475, 0.6931475, 0.6931475, 0.6931475, 0.6931475, 0.6931475, 0.6904398, 0.6931475, 0.6931475, 0.6931475, 0.6931475, 0.6931475, 0.6931475, 0.6931475, 0.6904398, 0.6931475, 0.6931472, 0.6931475, 0.6931475, 0.6931475, 0.6931475, 0.6931475, 0.6931475, 0.6931475, 0.6931475, 0.69044006, 0.6931475, 0.6904398, 0.6931475, 0.6931475, 0.6931475, 0.6931475, 0.6931475, 0.6931475, 0.6931475, 0.6931475, 0.6931475, 0.6931475, 0.6931475, 0.6931475, 0.6931475, 0.6931475, 0.6931475, 0.6931475, 0.6931475, 0.6931475, 0.6931475, 0.6931475, 0.6931475, 0.6931475, 0.6931475, 0.6931475, 0.6931475, 0.6931475, 0.6931475, 0.6931475, 0.6931475, 0.6931475, 0.6931475, 0.6931475, 0.6931475, 0.6931475, 0.6931475, 0.6931475, 0.6931475, 0.6931475, 0.6931475, 0.6931475, 0.6931475, 0.6931475, 0.6931475, 0.6931475, 0.6931475, 0.6931475, 0.6931475, 0.6931475, 0.6931475, 0.6931475, 0.6931475, 0.6931475, 0.6931475, 0.6931475, 0.6931475, 0.6931475, 0.6931475, 0.6931475, 0.6931475, 0.6931475, 0.6931475, 0.6931475, 0.6904398, 0.6931475, 0.6931475, 0.69043994, 0.6904398, 0.6931475, 0.6931475, 0.69043994, 0.6931475, 0.6931475, 0.6931475, 0.6931475, 0.6931475, 0.6931475, 0.6931475, 0.6931475, 0.6931475, 0.6931475, 0.6931475, 0.6931475, 0.6931475, 0.6931475, 0.6931475, 0.6931475, 0.6931475, 0.6931475, 0.6931475, 0.6931475, 0.6931475, 0.6931475, 0.6931475, 0.6931475, 0.6931475, 0.6931475, 0.6931475, 0.6931475, 0.6931475, 0.6931475, 0.6931475, 0.6931475, 0.6931475, 0.6931475, 0.6931475, 0.6931475, 0.6931472, 0.6931475, 0.6931475, 0.6931475, 0.6931475, 0.6931475, 0.6931475, 0.6931475, 0.6931475, 0.6931475, 0.6931475, 0.6931475, 0.6931475, 0.6931475, 0.6931475, 0.6931475, 0.6931475, 0.6931475, 0.6931475, 0.6931475, 0.6931475, 0.6931475, 0.6931475, 0.6931475, 0.6931475, 0.6931475, 0.6931475, 0.6931475, 0.6931475, 0.6931475, 0.6931475, 0.6931475, 0.6931475, 0.6931475, 0.6931475, 0.6931475, 0.6931475, 0.6931475, 0.6904398, 0.6931475, 0.6931475, 0.6904399, 0.6931475, 0.69044006, 0.6931475, 0.6931475, 0.6931475, 0.6931475, 0.6931475, 0.6931475, 0.6931475, 0.6931475, 0.6904398, 0.6931475, 0.6931475, 0.6931475, 0.6931475, 0.6931475, 0.6931475, 0.6931475, 0.6931475, 0.6931475, 0.6931475, 0.6931475, 0.6931475, 0.6931475, 0.6931475, 0.6931475, 0.6931475, 0.6931475, 0.6931475, 0.69043994, 0.6931475, 0.6931475, 0.6931475, 0.6931475, 0.6931475, 0.6931475, 0.6931475, 0.6931475, 0.6931475, 0.6931475, 0.6931475, 0.6931475, 0.6931475, 0.6931475, 0.6931475, 0.6931475, 0.6931475, 0.6931475, 0.6931475, 0.6931475, 0.6931475, 0.6931475, 0.6931475, 0.6931475, 0.6931475, 0.6931475, 0.6931475, 0.6931475, 0.6904398, 0.6931475, 0.6931475, 0.6931475, 0.6931475, 0.6931475, 0.6931475, 0.6931475, 0.6931475, 0.6931475, 0.6931475, 0.6931475, 0.6931475, 0.6931475, 0.6931475, 0.6931475, 0.6931475, 0.6931475, 0.6931472, 0.6931475, 0.6931475, 0.6931475, 0.6931475, 0.6931475, 0.6931475, 0.6931475, 0.6931475, 0.6931475, 0.6931475, 0.6931475, 0.6931475, 0.6931475, 0.6931475, 0.6931475, 0.6931475, 0.6931475, 0.6931475, 0.6931475, 0.6931475, 0.6931475, 0.6931475, 0.6931475, 0.6931475, 0.6931475, 0.6931475, 0.6931475, 0.6931475, 0.6931475, 0.6931475, 0.6931475, 0.6931475, 0.6931475, 0.6931475, 0.6931475, 0.6931475, 0.6931475, 0.6931475, 0.6931475, 0.6931475, 0.6931475, 0.6931475, 0.6931475, 0.6931475, 0.6931475, 0.6931475, 0.6931475, 0.6931475, 0.6931475, 0.6931475, 0.6931475, 0.6931475, 0.6931475, 0.6904398, 0.6931475, 0.69044006, 0.6931475, 0.6931475, 0.6931475, 0.6931475, 0.6931475, 0.6931475, 0.6931475, 0.6931475, 0.6931475, 0.6931475, 0.6931475, 0.6931475, 0.6931475, 0.6931475, 0.6931475, 0.6931475, 0.6931475, 0.6931475, 0.6931475, 0.6904398, 0.69043994, 0.6931475, 0.6931475, 0.6931475, 0.6931475, 0.6931475, 0.6931475, 0.6931475, 0.6931475, 0.6931475, 0.6904398, 0.6931475, 0.69043994, 0.6931475, 0.6931475, 0.6931475, 0.6931475, 0.6931475, 0.6931475, 0.6931475, 0.6931475, 0.6931475, 0.6931475, 0.6931475, 0.6931475, 0.6931475, 0.6931475, 0.6931475, 0.6931475, 0.6931475, 0.6931475, 0.6931475, 0.6931475, 0.6931475, 0.6931475, 0.6931475, 0.6931475, 0.6931475, 0.6931475, 0.6931475, 0.6931475, 0.6931472, 0.6931475, 0.6931475, 0.6931475, 0.6931475, 0.6931475, 0.6931475, 0.6931475, 0.6931475, 0.6931475, 0.6931475, 0.6931475, 0.6931475, 0.6931475, 0.6931475, 0.6931475, 0.6931475, 0.6931475, 0.6931475, 0.6931475, 0.6931475, 0.6931475, 0.6931475, 0.6931475, 0.6931475, 0.6931475, 0.6931475, 0.6931475, 0.6931475, 0.6931475, 0.6931475, 0.6931475, 0.6931475, 0.6931475, 0.6931475, 0.6931475, 0.6931475, 0.6931475, 0.6931475, 0.6931475, 0.6931475, 0.6931475, 0.6931475, 0.6931475, 0.6931475, 0.6931475, 0.6931475, 0.6931475, 0.6931475, 0.6931475, 0.6931475, 0.6931475, 0.6931475, 0.6931475, 0.6931475, 0.6931475, 0.6931475, 0.69044006, 0.6931475, 0.6931475, 0.6931475, 0.6931475, 0.6931475, 0.6931475, 0.6931475, 0.6931475, 0.6931475, 0.6931475, 0.6931475, 0.6931475, 0.6931475, 0.6904398, 0.6931475, 0.6931475, 0.6931475, 0.6931475, 0.6931475, 0.6931475, 0.6931475, 0.6931475, 0.6931475, 0.6931475, 0.6931475, 0.6931475, 0.6931475, 0.6931475, 0.6931475, 0.6931475, 0.6931475, 0.6931475, 0.6931475, 0.6931475, 0.6931475, 0.6931475, 0.6931475, 0.6931475, 0.6931475, 0.6904398, 0.6931475, 0.6931475, 0.6904399, 0.6931475, 0.6931475, 0.6931475, 0.6931475, 0.6931475, 0.6931475, 0.6931475, 0.6931475, 0.6931475, 0.6904398, 0.6931475, 0.6931475, 0.6931475, 0.6931475, 0.69043994, 0.6931475, 0.6931475, 0.6931472, 0.6931475, 0.6931475, 0.6931475, 0.6904399, 0.6931475, 0.6931475, 0.6931475, 0.6931475, 0.6931475, 0.6931475, 0.6931475, 0.6931475, 0.6931475, 0.6904398, 0.6931475, 0.6931475, 0.6931475, 0.6931475, 0.6931475, 0.6931475, 0.6931475, 0.6931475, 0.6931475, 0.6931475, 0.6931475, 0.6931475, 0.6931475, 0.6931475, 0.6931475, 0.6931475, 0.6931475, 0.6931475, 0.6931475, 0.6931475, 0.6931475, 0.6931475, 0.6931475, 0.6931475, 0.6931475, 0.6931475, 0.6931475, 0.6931475, 0.6931475, 0.6931475, 0.6931475, 0.6931475, 0.6904399, 0.6931475, 0.6931475, 0.6931475, 0.6931475, 0.6931475, 0.6931475, 0.6931475, 0.6931475, 0.6931475, 0.6931475, 0.6931475, 0.6931475, 0.6931475, 0.6931475, 0.6931475, 0.6931475, 0.6931475, 0.6931475, 0.6931475, 0.6931475, 0.6931475, 0.69043994, 0.6931475, 0.6931475, 0.6931475, 0.6931475, 0.6931475, 0.6931475, 0.6931475, 0.69044006, 0.6931475, 0.6931475, 0.6931475, 0.6931475, 0.6931475, 0.6931475, 0.6931475, 0.6931475, 0.6931475, 0.6904398, 0.6931475, 0.6931475, 0.6931475, 0.6931475, 0.6931475, 0.6931475, 0.6931475, 0.6931475, 0.6931475, 0.6931475, 0.6931475, 0.6931475, 0.6931475, 0.6931475, 0.6931475, 0.6931475, 0.6931475, 0.6931475, 0.6931475, 0.6931475, 0.6931475, 0.6931475, 0.6931475, 0.6931475, 0.6931475, 0.6931475, 0.6931475, 0.6931475, 0.6931475, 0.6931475, 0.6931472, 0.6931475, 0.69043994, 0.6931475, 0.6931475, 0.6931475, 0.6931475, 0.6931475, 0.6931475, 0.6931475, 0.6931475, 0.6931475, 0.6931475, 0.6931475, 0.6931475, 0.6931475, 0.6931475, 0.6904398, 0.6931475, 0.6931475, 0.6931475, 0.6931475, 0.6931475, 0.6931475, 0.6931475, 0.6931475, 0.6931475, 0.6931475, 0.6931475, 0.6931475, 0.6931475, 0.6931475, 0.6931475, 0.6931475, 0.6931475, 0.6931475, 0.6931475, 0.6931475, 0.6931475, 0.6931475, 0.6931475, 0.6931475, 0.6931475, 0.6931475, 0.6931475, 0.6931475, 0.6931475, 0.6931475, 0.6931475, 0.6931475, 0.6931475, 0.6931475, 0.6931475, 0.6931475, 0.6931475, 0.6931475, 0.6931475, 0.6931475, 0.6931475, 0.6931475, 0.6931475, 0.6931475, 0.6931475, 0.6931475, 0.6931475, 0.6931475, 0.6931475, 0.6931475, 0.6931475, 0.6931475, 0.6931475, 0.69044006, 0.6931475, 0.6931475, 0.6931475, 0.6931475, 0.6931475, 0.6931475, 0.6931475, 0.6931475, 0.6931475, 0.6931475, 0.6931475, 0.6931475, 0.6931475, 0.6931475, 0.6931475, 0.6904398, 0.6931475, 0.6931475, 0.6931475, 0.6931475, 0.6931475, 0.6931475, 0.6931475, 0.6931475, 0.6931475, 0.6931475, 0.6931475, 0.6931475, 0.6931475, 0.6931475, 0.6931475, 0.6931475, 0.6931475, 0.6931475, 0.6931475, 0.6931475, 0.6931475, 0.6931475, 0.6931475, 0.6931475, 0.6931475, 0.6931475, 0.6931475, 0.6931475, 0.6904399, 0.6904399, 0.6931472, 0.6931475, 0.6931475, 0.6931475, 0.6931475, 0.6931475, 0.6931475, 0.6931475, 0.6931475, 0.6931475, 0.6931475, 0.6931475, 0.6931475, 0.6931475, 0.6931475, 0.6931475, 0.6931475, 0.6931475, 0.6931475, 0.6904398, 0.6931475, 0.6931475, 0.6931475, 0.6931475, 0.6931475, 0.69044006, 0.6931475, 0.6931475, 0.6931475, 0.6931475, 0.6931475, 0.6931475, 0.6931475, 0.6904398, 0.6931475, 0.6931475, 0.6931475, 0.6931475, 0.6931475, 0.6931475, 0.6931475, 0.6931475, 0.6931475, 0.6931475, 0.6931475, 0.6931475, 0.6931475, 0.6931475, 0.6931475, 0.6931475, 0.6931475, 0.6931475, 0.6931475, 0.6931475, 0.6931475, 0.6931475, 0.6931475, 0.6931475, 0.6931475, 0.6931475, 0.6931475, 0.6931475, 0.6931475, 0.6931475, 0.6931475, 0.6931475, 0.6931475, 0.6931475, 0.6931475, 0.6931475, 0.6931475, 0.6931475, 0.6931475, 0.6931475, 0.6931475, 0.6931475, 0.6904399, 0.6931475, 0.6931475, 0.6931475, 0.6931475, 0.6931475, 0.6931475, 0.69043994, 0.6931475, 0.6931475, 0.6931475, 0.6931475, 0.6931475, 0.6931475, 0.6931475, 0.6931475, 0.6931475, 0.6904399, 0.6931475, 0.6931475, 0.6931475, 0.6931475, 0.6931475, 0.6931475, 0.6931475, 0.6931475, 0.6931475, 0.6931475, 0.6931475, 0.6931475, 0.6931475, 0.6931475, 0.6931475, 0.6931475, 0.6931475, 0.6931475, 0.6931475, 0.6931475, 0.6931475, 0.6931475, 0.6931475, 0.6931475, 0.6931472, 0.6931475, 0.6931475, 0.6931475, 0.6931475, 0.6931475, 0.6931475, 0.6931475, 0.6931475, 0.6931475, 0.6931475, 0.6931475, 0.6931475, 0.6931475, 0.6931475, 0.6931475, 0.6931475, 0.6931475, 0.6931475, 0.6931475, 0.6931475, 0.6931475, 0.6931475, 0.6931475, 0.6931475, 0.6931475, 0.6931475, 0.6931475, 0.6931475, 0.6931475, 0.6931475, 0.6931475, 0.6931475, 0.6931475, 0.6931475, 0.6931475, 0.6904399, 0.6931475, 0.6931475, 0.6931475, 0.6931475, 0.6931475, 0.6931475, 0.6931475, 0.6931475, 0.6931475, 0.6904398, 0.6931475, 0.6931475, 0.6931475, 0.6931475, 0.6931475, 0.6931475, 0.6931475, 0.6931475, 0.6931475, 0.6931475, 0.6931475, 0.6931475, 0.6931475, 0.6931475, 0.6931475, 0.6931475, 0.6931475, 0.6931475, 0.6931475, 0.6931475, 0.6931475, 0.69043994, 0.6931475, 0.6931475, 0.6931475, 0.6931475, 0.6931475, 0.6931475, 0.6931475, 0.6931475, 0.6931475, 0.6931475, 0.6931475, 0.6931475, 0.6931475, 0.6931475, 0.6931475, 0.6931475, 0.6931475, 0.6931475, 0.6931475, 0.6931475, 0.6931475, 0.6931475, 0.6931475, 0.6931475, 0.6931475, 0.6931475, 0.6931475, 0.6931475, 0.6931475, 0.6931475, 0.6931475, 0.6931475, 0.6931475, 0.6931475, 0.6931475, 0.6931475, 0.6931475, 0.6931475, 0.69044006, 0.6931475, 0.6931475, 0.6931475, 0.6931475, 0.6931475, 0.6931475, 0.6931475, 0.6931475, 0.6931475, 0.6904399, 0.67870665, 0.6931475, 0.6931475, 0.6931475, 0.6931475, 0.6931475, 0.6931475, 0.6931475, 0.6931475, 0.6931475, 0.6931475, 0.6931475, 0.6931475, 0.6931475, 0.6931475, 0.6931475, 0.6931475, 0.6931475, 0.6931475, 0.6931475, 0.6931475, 0.6931475, 0.6931475, 0.6931475, 0.6931475, 0.6931475, 0.6931475, 0.6931475, 0.6931475, 0.6931475, 0.6931475, 0.6931475, 0.6931475, 0.6931475, 0.6931475, 0.6931475, 0.6931475, 0.6931475, 0.6931475, 0.6931475, 0.6931475, 0.6931475, 0.6931475, 0.69044006, 0.6931475, 0.6931475, 0.6931475, 0.6931475, 0.6931475, 0.6931475, 0.6931475, 0.6904399, 0.6931475, 0.6931475, 0.6931475, 0.6904398, 0.6931475, 0.6931475, 0.6931475, 0.6931475, 0.6931475, 0.6931475, 0.6931475, 0.6931475, 0.6931475, 0.6931475, 0.6931475, 0.6931475, 0.69043994, 0.6931475, 0.6931475, 0.6931475, 0.6931475, 0.6931475, 0.6931475, 0.6931475, 0.6931475, 0.6931475, 0.6931475, 0.6931475, 0.6931475, 0.6931475, 0.6931475, 0.6931475, 0.6931475, 0.6931475, 0.6931475, 0.6931475, 0.6931475, 0.6931475, 0.6931475, 0.6931475, 0.6931475, 0.6931475, 0.6931475, 0.6931475, 0.6931475, 0.6931475, 0.6931475, 0.6931475, 0.6904399, 0.6931475, 0.6931475, 0.6904398, 0.6931475, 0.6931475, 0.6931475, 0.6931475, 0.6931475, 0.6931475, 0.6931475, 0.6931475, 0.6931475, 0.6931475, 0.6931475, 0.6931475, 0.6931475, 0.6931475, 0.6931472, 0.6931475, 0.6931475, 0.6931475, 0.6931475, 0.6931475, 0.6931475, 0.6931475, 0.6931475, 0.6931475, 0.6931475, 0.6931475, 0.6931475, 0.6931475, 0.6931475, 0.6931475, 0.6931475, 0.6931475, 0.6931475, 0.6931475, 0.6931475, 0.6931475, 0.6904398, 0.69043994, 0.6931475, 0.6904399, 0.6931475, 0.6931475, 0.6931475, 0.6931475, 0.6931475, 0.6931475, 0.6931475, 0.6931475, 0.6931475, 0.6931475, 0.6931475, 0.6931475, 0.69044006, 0.6931475, 0.6931475, 0.6931475, 0.6931475, 0.6931475, 0.6931475, 0.6931475, 0.6931475, 0.6931475, 0.6931475, 0.6931475, 0.6931475, 0.6931475, 0.6931475, 0.6931475, 0.6931475, 0.6931475, 0.6931475, 0.6931475, 0.6931475, 0.6931475, 0.6931475, 0.6931475, 0.6931475, 0.6931475, 0.6931475, 0.6931475, 0.6931475, 0.6931475, 0.6931475, 0.6931475, 0.6931475, 0.6931475, 0.6931475, 0.6931475, 0.6931475, 0.6931475, 0.6931475, 0.6931475, 0.6931475, 0.6931475, 0.6931475, 0.6931475, 0.6931475, 0.6931475, 0.6931475, 0.6931475, 0.6931475, 0.6931475, 0.6931475, 0.6931475, 0.6931475, 0.6931475, 0.6931475, 0.6931475, 0.6931475, 0.6931475, 0.6931475, 0.6931475, 0.6904399, 0.6931475, 0.6931475, 0.6931475, 0.6931475, 0.6931475, 0.6931475, 0.6931475, 0.6931475, 0.6931475, 0.6931475, 0.6931475, 0.6931475, 0.6904398, 0.6931475, 0.6931475, 0.6931475, 0.6931475, 0.6931475, 0.6931475, 0.6931472, 0.6931475, 0.6931475, 0.6931475, 0.6931475, 0.6931475, 0.6931475, 0.6931475, 0.6931475, 0.6931475, 0.6931475, 0.6931475, 0.6931475, 0.6931475, 0.6931475, 0.6931475, 0.6931475, 0.6931475, 0.6931475, 0.6931475, 0.6931475, 0.6931475, 0.6931475, 0.6931475, 0.6931475, 0.6931475, 0.6931475, 0.6931475, 0.6931475, 0.6931475, 0.6931475, 0.6931475, 0.6931475, 0.6931475, 0.6931475, 0.6931475, 0.69044006, 0.6931475, 0.6931475, 0.6931475, 0.6931475, 0.6931475, 0.6931475, 0.6931475, 0.6931475, 0.6931475, 0.6931475, 0.6931475, 0.6931475, 0.6931475, 0.6931475, 0.6931475, 0.6931475, 0.6931475, 0.6931475, 0.6931475, 0.6931475, 0.6931475, 0.6931475, 0.6931475, 0.6931475, 0.6931475, 0.6904399, 0.6931475, 0.6931475, 0.6931475, 0.6931475, 0.6931475, 0.6904398, 0.6931475, 0.69043994, 0.6931475, 0.6931475, 0.6931475, 0.6931475, 0.6931475, 0.6931475, 0.6931475, 0.6931475, 0.6931475, 0.6931475, 0.6931475, 0.6931475, 0.6931475, 0.6931475, 0.6931475, 0.6904398, 0.6931475, 0.6931475, 0.6931475, 0.6931475, 0.6931475, 0.6931475, 0.6931475, 0.6931475, 0.6904398, 0.6931475, 0.6931475, 0.6931475, 0.6931475, 0.6931475, 0.6931475, 0.6931475, 0.6931475, 0.6931475, 0.6931475, 0.6931475, 0.6931475, 0.6931475, 0.6931475, 0.6931475, 0.6931475, 0.6931475, 0.6931475, 0.6931475, 0.6931475, 0.6931475, 0.6931475, 0.6931472, 0.6931475, 0.6931475, 0.6931475, 0.6931475, 0.6931475, 0.6931475, 0.6931475, 0.6931475, 0.6931475, 0.6931475, 0.6931475, 0.6931475, 0.6931475, 0.6931475, 0.6931475, 0.6931475, 0.6931475, 0.6931475, 0.6931475, 0.6931475, 0.6931475, 0.6931475, 0.6931475, 0.69043994, 0.6931475, 0.6931475, 0.6931475, 0.6931475, 0.6931475, 0.6931475, 0.6931475, 0.6931475, 0.6931475, 0.6931475, 0.6931475, 0.6931475, 0.6931475, 0.6931475, 0.6931475, 0.6931475, 0.6931475, 0.6931475, 0.6931475, 0.6931475, 0.6931475, 0.6931475, 0.6931475, 0.6931475, 0.6931475, 0.6931475, 0.6931475, 0.6931475, 0.6931475, 0.6931475, 0.6931475, 0.6931475, 0.6931475, 0.6931475, 0.6931475, 0.69044006, 0.6931475, 0.6931475, 0.6931475, 0.6931475, 0.6931475, 0.6931475, 0.6931475, 0.6931475, 0.6931475, 0.6931475, 0.6931475, 0.6931475, 0.6931475, 0.6931475, 0.6931475, 0.6931475, 0.6931475, 0.6931475, 0.6931475, 0.6931475, 0.6931475, 0.6931475, 0.6931475, 0.6904398, 0.6931475, 0.6931475, 0.6931475, 0.6931475, 0.6931475, 0.6931475, 0.6931475, 0.6931475, 0.6931475, 0.6931475, 0.6931475, 0.6904399, 0.6931475, 0.6931475, 0.6931475, 0.6931475, 0.6904399, 0.6904398, 0.6931475, 0.6931475, 0.6931475, 0.6931475, 0.6931475, 0.6931475, 0.6931475, 0.6931475, 0.6931475, 0.6931475, 0.6931475, 0.6931475, 0.6931475, 0.6931475, 0.6931475, 0.6931472, 0.6931475, 0.6931475, 0.6931475, 0.6931475, 0.6931475, 0.6931475, 0.6931475, 0.6931475, 0.6931475, 0.6931475, 0.6931475, 0.6931475, 0.6931475, 0.6931475, 0.6931475, 0.6931475, 0.6931475, 0.6931475, 0.6931475, 0.6931475, 0.6931475, 0.6931475, 0.6931475, 0.6931475, 0.6931475, 0.6931475, 0.6931475, 0.6931475, 0.6931475, 0.6931475, 0.6931475, 0.6931475, 0.6931475, 0.6931475, 0.6931475, 0.6931475, 0.6931475, 0.6931475, 0.6931475, 0.6931475, 0.6931475, 0.69043994, 0.6931475, 0.6931475, 0.6931475, 0.6931475, 0.6931475, 0.6931475, 0.6931475, 0.6931475, 0.6931475, 0.6931475, 0.6931475, 0.6931475, 0.6931475, 0.6931475, 0.6931475, 0.6931475, 0.6931475, 0.6931475, 0.6931475, 0.6931475, 0.6931475, 0.6931475, 0.6931475, 0.6931475, 0.6931475, 0.6931475, 0.6931475, 0.6931475, 0.6931475, 0.6931475, 0.6931475, 0.6931475, 0.6904398, 0.6931475, 0.6931475, 0.6931475, 0.6931475, 0.6931475, 0.6931475, 0.6931475, 0.6931475, 0.6931475, 0.69044006, 0.6904398, 0.6931475, 0.6931475, 0.6931475, 0.6931475, 0.6931475, 0.6931475, 0.6877323, 0.6931475, 0.6931475, 0.6931475, 0.6931475, 0.6931475, 0.6931475, 0.6931475, 0.6931475, 0.6931475, 0.6931475, 0.6931475, 0.6931475, 0.6931475, 0.6931475, 0.6931475, 0.6931475, 0.6931475, 0.6931475, 0.6931475, 0.6931475, 0.6931475, 0.6931475, 0.6931475, 0.6931475, 0.6931472, 0.6931475, 0.6931475, 0.6931475, 0.6931475, 0.6931475, 0.6931475, 0.6931475, 0.6931475, 0.6931475, 0.6931475, 0.6931475, 0.6931475, 0.6931475, 0.6931475, 0.6931475, 0.6931475, 0.6931475, 0.6931475, 0.6931475, 0.6931475, 0.6931475, 0.6931475, 0.6931475, 0.6931475, 0.6931475, 0.6931475, 0.6931475, 0.6931475, 0.6931475, 0.6931475, 0.6931475, 0.6931475, 0.6931475, 0.6931475, 0.6931475, 0.6931475, 0.6931475, 0.6904399, 0.6931475, 0.6931475, 0.6931475, 0.6904398, 0.6931475, 0.6931475, 0.6931475, 0.6931475, 0.6931475, 0.6931475, 0.6931475, 0.6931475, 0.6931475, 0.6931475, 0.6931475, 0.6931475, 0.6931475, 0.6904399, 0.6931475, 0.6931475, 0.6931475, 0.6904398, 0.6931475, 0.6931475, 0.6931475, 0.6931475, 0.6931475, 0.6931475, 0.6931475, 0.6931475, 0.6931475, 0.6931475, 0.6931475, 0.6931475, 0.6931475, 0.6931475, 0.6931475, 0.6931475, 0.6931475, 0.6931475, 0.6931475, 0.6931475, 0.6931475, 0.6931475, 0.6931475, 0.69044006, 0.6931475, 0.6931475, 0.6931475, 0.6931475, 0.6931475, 0.6931475, 0.6931475, 0.6931475, 0.6931475, 0.6931475, 0.69043994, 0.6931475, 0.6931475, 0.6931475, 0.6931475, 0.6931475, 0.6931475, 0.6931475, 0.6931475, 0.6931475, 0.6931475, 0.6931475, 0.6931475, 0.6931475, 0.6931475, 0.6931475, 0.6931475, 0.6931475, 0.6931475, 0.6931475, 0.6931475, 0.6931475, 0.6931475, 0.6931472, 0.6931475, 0.6931475, 0.6931475, 0.6931475, 0.6904398, 0.6931475, 0.6931475, 0.6931475, 0.69043994, 0.6931475, 0.6931475, 0.6931475, 0.6931475, 0.6931475, 0.6931475, 0.6931475, 0.6931475, 0.6931475, 0.6931475, 0.6931475, 0.6931475, 0.6931475, 0.6931475, 0.6931475, 0.6931475, 0.6931475, 0.6931475, 0.6931475, 0.6931475, 0.6931475, 0.6931475, 0.6931475, 0.6931475, 0.6931475, 0.6931475, 0.6931475, 0.6931475, 0.6931475, 0.6904399, 0.6931475, 0.6931475, 0.6931475, 0.6931475, 0.6931475, 0.6931475, 0.6931475, 0.6931475, 0.6931475, 0.6931475, 0.6931475, 0.6931475, 0.6931475, 0.6931475, 0.6931475, 0.6931475, 0.6931475, 0.6931475, 0.6931475, 0.6931475, 0.6931475, 0.6931475, 0.6931475, 0.6931475, 0.6931475, 0.6931475, 0.6931475, 0.6931475, 0.6931475, 0.6931475, 0.6931475, 0.6931475, 0.6904398, 0.6931475, 0.6931475, 0.6931475, 0.6931475, 0.6931475, 0.6931475, 0.6931475, 0.6931475, 0.6931475, 0.6931475, 0.6931475, 0.6931475, 0.6931475, 0.6931475, 0.6931475, 0.6931475, 0.6931475, 0.6931475, 0.6931475, 0.6931475, 0.6931475, 0.6931475, 0.6931475, 0.6931475, 0.6931475, 0.6931475, 0.6931475, 0.6931475, 0.6931475, 0.6931475, 0.6931475, 0.6931475, 0.6931475, 0.6931475, 0.6931475, 0.6931475, 0.6931475, 0.6931475, 0.6931475, 0.6904399, 0.6931475, 0.69044006, 0.6931475, 0.6931475, 0.6931475, 0.6931472, 0.6931475, 0.6931475, 0.6931475, 0.6931475, 0.6931475, 0.6931475, 0.6931475, 0.6904398, 0.6931475, 0.6931475, 0.6931475, 0.6931475, 0.6931475, 0.6931475, 0.6931475, 0.6931475, 0.6931475, 0.6931475, 0.6931475, 0.6931475, 0.6931475, 0.6931475, 0.6931475, 0.6931475, 0.6931475, 0.6931475, 0.6931475, 0.6931475, 0.6931475, 0.6931475, 0.6931475, 0.6931475, 0.6931475, 0.6904399, 0.6931475, 0.6931475, 0.6931475, 0.6931475, 0.6931475, 0.6931475, 0.6931475, 0.6931475, 0.6931475, 0.6931475, 0.6931475, 0.6931475, 0.6931475, 0.6931475, 0.6931475, 0.6931475, 0.6931475, 0.6931475, 0.6931475, 0.6931475, 0.6931475, 0.6931475, 0.6931475, 0.6931475, 0.6931475, 0.6931475, 0.6931475, 0.6931475, 0.6931475, 0.6931475, 0.6931475, 0.6931475, 0.6931475, 0.6931475, 0.6931475, 0.6931475, 0.6931475, 0.6931475, 0.6931475, 0.69044006, 0.6931475, 0.6931475, 0.6931475, 0.6931475, 0.6931475, 0.6931475, 0.6931475, 0.6931475, 0.6931475, 0.6931475, 0.6931475, 0.6931475, 0.6904398, 0.6931475, 0.6931475, 0.6931475, 0.6931475, 0.6931475, 0.6931475, 0.6931475, 0.6931475, 0.6931475, 0.6931475, 0.6931475, 0.6931475, 0.6931475, 0.6904398, 0.6931475, 0.6931475, 0.6931475, 0.6931475, 0.69043994, 0.6931475, 0.6931475, 0.6931475, 0.6931475, 0.6931475, 0.6931475, 0.6931475, 0.6931475, 0.6931475, 0.6931475, 0.6931475, 0.6931472, 0.6931475, 0.6931475, 0.6931475, 0.6931475, 0.6931475, 0.6931475, 0.6931475, 0.6931475, 0.6931475, 0.6931475, 0.6931475, 0.6931475, 0.6931475, 0.6931475, 0.69044006, 0.6904398, 0.6931475, 0.6931475, 0.6931475, 0.6931475, 0.6931475, 0.6931475, 0.6931475, 0.6931475, 0.6931475, 0.6931475, 0.6931475, 0.6931475, 0.6931475, 0.6931475, 0.6931475, 0.6931475, 0.6931475, 0.6931475, 0.6931475, 0.6931475, 0.6931475, 0.6931475, 0.6931475, 0.6931475, 0.6931475, 0.6931475, 0.6931475, 0.6931475, 0.6931475, 0.6904398, 0.6931475, 0.6931475, 0.6931475, 0.6931475, 0.6931475, 0.6931475, 0.6931475, 0.6904399, 0.6931475, 0.6931475, 0.6931475, 0.6931475, 0.6931475, 0.6931475, 0.6931475, 0.6931475, 0.6931475, 0.6931475, 0.6931475, 0.6931475, 0.6931475, 0.6931475, 0.6931475, 0.6931475, 0.69043994, 0.6931475, 0.6931475, 0.6931475, 0.6931475, 0.6931475, 0.6931475, 0.6931475, 0.6931475, 0.6931475, 0.6931475, 0.6931475, 0.6931475, 0.6931475, 0.6931475, 0.6931475, 0.6931475, 0.6904398, 0.6931475, 0.6931475, 0.6931475, 0.6931475, 0.6931475, 0.6931475, 0.6931475, 0.6931475, 0.6931475, 0.6931475, 0.6931475, 0.6931475, 0.6931475, 0.6931475, 0.6931475, 0.6931475, 0.6931475, 0.6931475, 0.6931475, 0.6931475, 0.6931475, 0.6931475, 0.6931475, 0.6931475, 0.6931475, 0.6931475, 0.6931475, 0.6931475, 0.6931475, 0.6931472, 0.6931475, 0.6931475, 0.6931475, 0.6931475, 0.6931475, 0.6931475, 0.6931475, 0.69044006, 0.6931475, 0.6931475, 0.6931475, 0.6931475, 0.6931475, 0.6931475, 0.6931475, 0.6931475, 0.6931475, 0.6931475, 0.6931475, 0.6931475, 0.6931475, 0.6931475, 0.6931475, 0.6931475, 0.6931475, 0.6931475, 0.6931475, 0.6931475, 0.6931475, 0.6931475, 0.6931475, 0.6904399, 0.6931475, 0.6931475, 0.6931475, 0.6931475, 0.6931475, 0.6931475, 0.6931475, 0.6931475, 0.6931475, 0.6931475, 0.6931475, 0.6931475, 0.6931475, 0.6931475, 0.6931475, 0.6931475, 0.6931475, 0.6931475, 0.6931475, 0.6931475, 0.6931475, 0.6931475, 0.6931475, 0.6931475, 0.6931475, 0.6931475, 0.6931475, 0.6931475, 0.6931475, 0.6931475, 0.6931475, 0.6931475, 0.6931475, 0.6931475, 0.6931475, 0.6931475, 0.6931475, 0.6931475, 0.6931475, 0.6931475, 0.69043994, 0.6931475, 0.6931475, 0.6931475, 0.6931475, 0.6931475, 0.6931475, 0.6904399, 0.6931475, 0.6904398, 0.6931475, 0.6931475, 0.6931475, 0.6931475, 0.6931475, 0.6931475, 0.6931475, 0.6931475, 0.6931475, 0.6931475, 0.6931475, 0.6931475, 0.6931475, 0.6931475, 0.6931475, 0.6931475, 0.6931475, 0.6931475, 0.6931475, 0.6931475, 0.6931475, 0.6931475, 0.6931475, 0.6931475, 0.6931475, 0.6931475, 0.6931475, 0.6931475, 0.6931475, 0.6904398, 0.6931475, 0.6931475, 0.6931475, 0.6931475, 0.6931475, 0.6931472, 0.6931475, 0.6931475, 0.6931475, 0.6931475, 0.6931475, 0.6931475, 0.6931475, 0.6931475, 0.6931475, 0.6931475, 0.6931475, 0.6931475, 0.6931475, 0.6931475, 0.6931475, 0.6931475, 0.6931475, 0.6931475, 0.6931475, 0.69043994, 0.6931475, 0.6931475, 0.6931475, 0.6931475, 0.6931475, 0.6931475, 0.6931475, 0.6904399, 0.6931475, 0.6931475, 0.6931475, 0.6931475, 0.6931475, 0.6931475, 0.6931475, 0.6931475, 0.6931475, 0.6931475, 0.6931475, 0.6931475, 0.6931475, 0.6931475, 0.6904398, 0.6931475, 0.6931475, 0.6931475, 0.6931475, 0.6931475, 0.6931475, 0.6931475, 0.6931475, 0.6931475, 0.6931475, 0.6931475, 0.6931475, 0.6931475, 0.6931475, 0.6931475, 0.6931475, 0.6931475, 0.6931475, 0.6931475, 0.69044006, 0.6931475, 0.6931475, 0.6931475, 0.6931475, 0.6931475, 0.6931475, 0.6931475, 0.6931475, 0.6931475, 0.6931475, 0.6931475, 0.6931475, 0.6931475, 0.6931475, 0.6931475, 0.6931475, 0.6931475, 0.6931475, 0.6931475, 0.6931475, 0.6931475, 0.6931475, 0.6931475, 0.6931475, 0.6931475, 0.6931475, 0.6931475, 0.6931475, 0.6931475, 0.6931475, 0.6931475, 0.6931475, 0.6931475, 0.6931475, 0.6931475, 0.6931475, 0.6931475, 0.6931475, 0.6931475, 0.6931475, 0.6931475, 0.6931475, 0.6931475, 0.6931475, 0.6904398, 0.6931475, 0.6931475, 0.6931475, 0.6931475, 0.6904398, 0.6931475, 0.6931475, 0.6931475, 0.6931475, 0.6931472, 0.6931475, 0.6931475, 0.6931475, 0.6931475, 0.6931475, 0.6904399, 0.6931475, 0.6931475, 0.6931475, 0.6931475, 0.6931475, 0.6931475, 0.69044006, 0.6931475, 0.6931475, 0.6931475, 0.6931475, 0.6931475, 0.6931475, 0.6931475, 0.6931475, 0.6931475, 0.6931475, 0.6904398, 0.6931475, 0.6931475, 0.6931475, 0.6931475, 0.6931475, 0.6931475, 0.6931475, 0.6931475, 0.6931475, 0.6931475, 0.6931475, 0.6931475, 0.6931475, 0.6931475, 0.6931475, 0.6931475, 0.6931475, 0.6931475, 0.6931475, 0.6931475, 0.6931475, 0.6931475, 0.6931475, 0.6931475, 0.6931475, 0.6931475, 0.6931475, 0.6931475, 0.6931475, 0.6931475, 0.6931475, 0.6931475, 0.6931475, 0.6931475, 0.6931475, 0.6931475, 0.6931475, 0.6931475, 0.6931475, 0.6931475, 0.6931475, 0.6931475, 0.6931475, 0.6931475, 0.6931475, 0.6931475, 0.6931475, 0.6931475, 0.6931475, 0.6931475, 0.6931475, 0.6931475, 0.6931475, 0.6931475, 0.6931475, 0.6931475, 0.6931475, 0.6931475, 0.6904398, 0.6931475, 0.6931475, 0.6931475, 0.6931475, 0.6931475, 0.6931475, 0.6931475, 0.6931475, 0.6931475, 0.6931475, 0.6931475, 0.6931475, 0.6931475, 0.6931475, 0.6931475, 0.6931475, 0.6931475, 0.6931475, 0.6931475, 0.6931475, 0.6931475, 0.6931475, 0.6931475, 0.6931475, 0.6931475, 0.6904398, 0.6931475, 0.6931475, 0.6931475, 0.6931475, 0.6931475, 0.6931475, 0.6931475, 0.69043994, 0.6931472, 0.6931475, 0.6931475, 0.6931475, 0.6931475, 0.6931475, 0.6931475, 0.6931475, 0.69044006, 0.6931475, 0.6931475, 0.6931475, 0.6931475, 0.6931475, 0.6931475, 0.6931475, 0.6931475, 0.6931475, 0.6931475, 0.6931475, 0.6931475, 0.6931475, 0.6931475, 0.6931475, 0.6931475, 0.6931475, 0.6931475, 0.6931475, 0.6931475, 0.6931475, 0.6904398, 0.6931475, 0.6931475, 0.6931475, 0.6931475, 0.6931475, 0.6931475, 0.6931475, 0.6931475, 0.6931475, 0.6931475, 0.6931475, 0.6931475, 0.6931475, 0.6931475, 0.6931475, 0.6931475, 0.6931475, 0.6931475, 0.6931475, 0.6904399, 0.6931475, 0.6931475, 0.6931475, 0.6931475, 0.6904399, 0.6931475, 0.6931475, 0.6931475, 0.6931475, 0.6931475, 0.6931475, 0.6931475, 0.6931475, 0.6931475, 0.6931475, 0.6931475, 0.6931475, 0.6931475, 0.6931475, 0.6931475, 0.6904398, 0.6931475, 0.6931475, 0.6931475, 0.6931475, 0.6931475, 0.6931475, 0.6931475, 0.6931475, 0.6931475, 0.6931475, 0.6931475, 0.6931475, 0.6931475, 0.6931475, 0.6931475, 0.6931475, 0.6931475, 0.6931475, 0.6931475, 0.6931475, 0.6931475, 0.6931475, 0.6931475, 0.6931475, 0.6931475, 0.6931475, 0.6931475, 0.6931475, 0.6931475, 0.6931475, 0.69043994, 0.6931475, 0.6931475, 0.6931475, 0.6931475, 0.6931475, 0.6931475, 0.6931475, 0.6931475, 0.6931475, 0.6931475, 0.6931475, 0.6931475, 0.6931475, 0.6931475, 0.6931475, 0.6931472, 0.6931475, 0.6931475, 0.6931475, 0.6931475, 0.6931475, 0.6931475, 0.6931475, 0.6931475, 0.6931475, 0.6931475, 0.6931475, 0.6931475, 0.6931475, 0.6931475, 0.6931475, 0.6904398, 0.6931475, 0.6931475, 0.6931475, 0.6931475, 0.6931475, 0.69044006, 0.6931475, 0.6931475, 0.6931475, 0.6931475, 0.6931475, 0.6931475, 0.6931475, 0.6931475, 0.6931475, 0.6931475, 0.6931475, 0.6931475, 0.6931475, 0.6931475, 0.6931475, 0.6931475, 0.6931475, 0.6931475, 0.6931475, 0.6931475, 0.6931475, 0.6931475, 0.6931475, 0.6931475, 0.6931475, 0.6931475, 0.6931475, 0.6931475, 0.6931475, 0.6931475, 0.6931475, 0.6904398, 0.6931475, 0.6931475, 0.6931475, 0.6931475, 0.6931475, 0.6931475, 0.6931475, 0.6931475, 0.6931475, 0.6931475, 0.6931475, 0.6931475, 0.6931475, 0.6931475, 0.6931475, 0.6931475, 0.6931475, 0.6931475, 0.6931475, 0.6931475, 0.6931475, 0.6931475, 0.6931475, 0.6931475, 0.6931475, 0.6931475, 0.6931475, 0.6931475, 0.6931475, 0.6931475, 0.6931475, 0.6931475, 0.69043994, 0.6931475, 0.6931475, 0.6931475, 0.6931475, 0.6931475, 0.6931475, 0.6931475, 0.6931475, 0.6877323, 0.6931475, 0.6931475, 0.6931475, 0.6931475, 0.6931475, 0.6931475, 0.6931475, 0.6931475, 0.6931475, 0.6931475, 0.6931475, 0.6931475, 0.6931475, 0.6931475, 0.6931475, 0.6931475, 0.6931475, 0.6931475, 0.6931475, 0.6931475, 0.6931475, 0.6931472, 0.6931475, 0.6931475, 0.6931475, 0.6931475, 0.6931475, 0.6931475, 0.6931475, 0.6931475, 0.6931475, 0.6931475, 0.6931475, 0.6931475, 0.6931475, 0.6931475, 0.6931475, 0.6931475, 0.6931475, 0.6931475, 0.6931475, 0.6931475, 0.6931475, 0.6931475, 0.6931475, 0.6931475, 0.6931475, 0.6931475, 0.6931475, 0.69043994, 0.6931475, 0.6931475, 0.6931475, 0.6931475, 0.6931475, 0.6931475, 0.6931475, 0.6931475, 0.6931475, 0.6931475, 0.6931475, 0.6931475, 0.6931475, 0.6931475, 0.6931475, 0.6931475, 0.6931475, 0.6931475, 0.6931475, 0.6931475, 0.6931475, 0.6931475, 0.6931475, 0.6931475, 0.6904398, 0.6931475, 0.6931475, 0.6931475, 0.6931475, 0.6931475, 0.6931475, 0.6931475, 0.6931475, 0.6931475, 0.6931475, 0.6931475, 0.69044006, 0.6931475, 0.6931475, 0.6931475, 0.6931475, 0.6931475, 0.6931475, 0.6931475, 0.6931475, 0.6904398, 0.6931475, 0.6931475, 0.6931475, 0.6904399, 0.6931475, 0.6931475, 0.6931475, 0.6931475, 0.6931475, 0.6931475, 0.6931475, 0.6931475, 0.6931475, 0.6931475, 0.6931475, 0.6931475, 0.6931475, 0.6931475, 0.6931475, 0.6931475, 0.6931475, 0.6904399, 0.6931475, 0.6931475, 0.6931475, 0.6931475, 0.6931475, 0.6931475, 0.6931475, 0.6931475, 0.6931475, 0.6931475, 0.6931475, 0.6931475, 0.6931475, 0.6931475, 0.6931475, 0.6931475, 0.6931475, 0.6931475, 0.6931475, 0.6931475, 0.6931475, 0.6931472, 0.6931475, 0.6931475, 0.6931475, 0.6931475, 0.6931475, 0.6931475, 0.6931475, 0.6931475, 0.6931475, 0.6931475, 0.6931475, 0.6931475, 0.6931475, 0.6931475, 0.6931475, 0.6931475, 0.6931475, 0.6931475, 0.6931475, 0.6931475, 0.6931475, 0.6931475, 0.6931475, 0.6931475, 0.6931475, 0.6931475, 0.6931475, 0.6931475, 0.6931475, 0.6931475, 0.6931475, 0.6931475, 0.6931475, 0.6931475, 0.6931475, 0.6931475, 0.6931475, 0.6904399, 0.6931475, 0.6931475, 0.6904398, 0.6931475, 0.6931475, 0.6931475, 0.6931475, 0.6931475, 0.6931475, 0.6931475, 0.69044006, 0.6931475, 0.6931475, 0.6931475, 0.6931475, 0.6931475, 0.6931475, 0.6904399, 0.6931475, 0.6931475, 0.6931475, 0.6931475, 0.6931475, 0.6931475, 0.6931475, 0.69043994, 0.6931475, 0.6931475, 0.6931475, 0.6931475, 0.6931475, 0.6931475, 0.6904398, 0.6931475, 0.6931475, 0.6931475, 0.6931475, 0.6931475, 0.6931475, 0.6931475, 0.6931475, 0.6931475, 0.6931475, 0.6931475, 0.6931475, 0.6931475, 0.6931475, 0.6931475, 0.6931475, 0.6931475, 0.6931475, 0.6931475, 0.6931475, 0.6931475, 0.6931475, 0.6931475, 0.6931475, 0.6931475, 0.6931475, 0.6931475, 0.6931475, 0.6931475, 0.6931475, 0.6931475, 0.6931475, 0.6931475, 0.6931475, 0.6931475, 0.6931475, 0.6931475, 0.6931475, 0.6931475, 0.6931475, 0.6931475, 0.6931475, 0.6931475, 0.6931475, 0.6931475, 0.6931475, 0.6931472, 0.6931475, 0.6931475, 0.6931475, 0.6931475, 0.6931475, 0.6931475, 0.6931475, 0.6931475, 0.6931475, 0.6931475, 0.6931475, 0.6931475, 0.6931475, 0.6931475, 0.6931475, 0.6931475, 0.6931475, 0.6931475, 0.6931475, 0.6931475, 0.6931475, 0.6931475, 0.6931475, 0.6931475, 0.6931475, 0.6931475, 0.6931475, 0.6931475, 0.6931475, 0.6931475, 0.6931475, 0.6931475, 0.6931475, 0.6931475, 0.6904398, 0.6931475, 0.6931475, 0.6931475, 0.6931475, 0.6931475, 0.6931475, 0.6931475, 0.6904399, 0.6931475, 0.6931475, 0.69044006, 0.6904398, 0.6931475, 0.6931475, 0.6931475, 0.6931475, 0.6931475, 0.6931475, 0.6931475, 0.6904398, 0.6931475, 0.6931475, 0.6931475, 0.6931475, 0.6931475, 0.6931475, 0.6931475, 0.6931475, 0.6931475, 0.6931475, 0.6931475, 0.6931475, 0.6931475, 0.6931475, 0.6931475, 0.6931475, 0.6931475, 0.6931475, 0.6931475, 0.6931475, 0.6931475, 0.6931475, 0.6931475, 0.6931475, 0.6931475, 0.6931475, 0.6931475, 0.6931475, 0.6931475, 0.6931475, 0.6931475, 0.6931475, 0.6931475, 0.6931475, 0.6931475, 0.6931475, 0.6931475, 0.6931475, 0.6931475, 0.6931475, 0.6931475, 0.6931475, 0.6931475, 0.6931475, 0.6931475, 0.6931475, 0.6931475, 0.6931475, 0.6931475, 0.6931475, 0.6931475, 0.6931475, 0.6931475, 0.6931475, 0.6931475, 0.6931475, 0.6931475, 0.6931475, 0.6931475, 0.6931475, 0.69043994, 0.6931475, 0.6931472, 0.6931475, 0.6931475, 0.6931475, 0.6931475, 0.6931475, 0.6931475, 0.6931475, 0.6931475, 0.6931475, 0.6931475, 0.6931475, 0.6931475, 0.6931475, 0.6931475, 0.6931475, 0.6931475, 0.6931475, 0.6904399, 0.6931475, 0.6931475, 0.6931475, 0.69043994, 0.6931475, 0.6931475, 0.6931475, 0.6931475, 0.6931475, 0.6931475, 0.6931475, 0.6931475, 0.6904398, 0.6931475, 0.6931475, 0.6931475, 0.6931475, 0.6931475, 0.6931475, 0.6931475, 0.6931475, 0.6931475, 0.6931475, 0.6931475, 0.6931475, 0.6931475, 0.6931475, 0.6931475, 0.6904398, 0.6931475, 0.6931475, 0.6931475, 0.6931475, 0.6931475, 0.6931475, 0.6931475, 0.6931475, 0.6931475, 0.69044006, 0.6931475, 0.6931475, 0.6931475, 0.6931475, 0.6931475, 0.6931475, 0.6931475, 0.6931475, 0.6931475, 0.6931475, 0.6931475, 0.6931475, 0.6931475, 0.6931475, 0.6931475, 0.6931475, 0.6931475, 0.6931475, 0.6931475, 0.6904399, 0.6931475, 0.6931475, 0.6931475, 0.6931475, 0.6931475, 0.6931475, 0.6931475, 0.6931475, 0.6931475, 0.6931475, 0.6931475, 0.6931475, 0.6931475, 0.6931475, 0.6931475, 0.6931475, 0.6931475, 0.6931475, 0.6931475, 0.6931475, 0.6931475, 0.6931475, 0.6931475, 0.6931475, 0.6931475, 0.6931475, 0.6931475, 0.6931475, 0.6931475, 0.6931475, 0.6931475, 0.6931475, 0.6931475, 0.6931475, 0.6931475, 0.6931475, 0.6931475, 0.6931475, 0.6931475, 0.6931475, 0.6931472, 0.6931475, 0.6931475, 0.6931475, 0.6931475, 0.6931475, 0.6931475, 0.6931475, 0.6931475, 0.6931475, 0.6931475, 0.6931475, 0.6931475, 0.6931475, 0.6931475, 0.6931475, 0.6931475, 0.6931475, 0.6931475, 0.6931475, 0.6931475, 0.6931475, 0.6931475, 0.6931475, 0.6931475, 0.6931475, 0.6931475, 0.6931475, 0.6931475, 0.6931475, 0.6931475, 0.6931475, 0.6931475, 0.6931475, 0.6931475, 0.6931475, 0.6931475, 0.6931475, 0.6931475, 0.6931475, 0.6931475, 0.6931475, 0.6931475, 0.6931475, 0.6931475, 0.6931475, 0.6931475, 0.6931475, 0.6931475, 0.6931475, 0.6931475, 0.6931475, 0.6931475, 0.6931475, 0.6931475, 0.6931475, 0.6931475, 0.6931475, 0.6931475, 0.6931475, 0.6931475, 0.6931475, 0.6931475, 0.6931475, 0.6931475, 0.6931475, 0.6904398, 0.6931475, 0.6931475, 0.6931475, 0.6931475, 0.6931475, 0.6931475, 0.6931475, 0.6931475, 0.6931475, 0.6931475, 0.6931475, 0.6931475, 0.6931475, 0.6931475, 0.6931475, 0.6904399, 0.69044006, 0.6931475, 0.6904398, 0.6931475, 0.6931475, 0.6931475, 0.6931475, 0.6931475, 0.6931475, 0.6931475, 0.6931475, 0.6931475, 0.6931475, 0.6931475, 0.6904399, 0.6931475, 0.6931475, 0.6931475, 0.6931475, 0.6931475, 0.6931475, 0.6931475, 0.69043994, 0.6931475, 0.6931475, 0.6931475, 0.6931475, 0.6931475, 0.6931475, 0.6931475, 0.6931475, 0.6931475, 0.6931475, 0.6931475, 0.6931475, 0.6931472, 0.6931475, 0.6931475, 0.6931475, 0.6931475, 0.6931475, 0.6931475, 0.6931475, 0.6931475, 0.6931475, 0.6931475, 0.6931475, 0.6931475, 0.6931475, 0.6931475, 0.6931475, 0.6931475, 0.6931475, 0.6931475, 0.6931475, 0.6931475, 0.6931475, 0.6931475, 0.6931475, 0.6931475, 0.6931475, 0.6931475, 0.6931475, 0.6931475, 0.6931475, 0.6931475, 0.6931475, 0.6931475, 0.6931475, 0.6931475, 0.6931475, 0.6931475, 0.6931475, 0.6931475, 0.6931475, 0.6931475, 0.6931475, 0.6931475, 0.6931475, 0.6931475, 0.6931475, 0.6931475, 0.6904399, 0.6931475, 0.6931475, 0.6931475, 0.6931475, 0.6931475, 0.6931475, 0.6931475, 0.6931475, 0.6931475, 0.6931475, 0.6904398, 0.6931475, 0.6931475, 0.6931475, 0.6931475, 0.6931475, 0.6931475, 0.6931475, 0.6931475, 0.6931475, 0.6931475, 0.6931475, 0.6931475, 0.6931475, 0.6931475, 0.6931475, 0.6904398, 0.6931475, 0.6931475, 0.6931475, 0.6931475, 0.6931475, 0.6931475, 0.6931475, 0.6931475, 0.6931475, 0.6931475, 0.6931475, 0.6931475, 0.6931475, 0.6931475, 0.6931475, 0.6931475, 0.6931475, 0.6931475, 0.6931475, 0.6931475, 0.6931475, 0.6931475, 0.6931475, 0.6931475, 0.6931475, 0.6931475, 0.6931475, 0.6931475, 0.6931475, 0.6931475, 0.6931475, 0.6931475, 0.6931475, 0.69044006, 0.6931475, 0.6931475, 0.6931475, 0.6904398, 0.6931475, 0.6931475, 0.6931475, 0.6931475, 0.69043994, 0.6931472, "
          ],
          "name": "stdout"
        }
      ]
    },
    {
      "cell_type": "code",
      "metadata": {
        "id": "b3xFbJBmRqj_",
        "outputId": "5fb6dcc7-0158-47cb-b492-4b525b8768c7",
        "colab": {
          "base_uri": "https://localhost:8080/",
          "height": 461
        }
      },
      "source": [
        "fig, ax = plt.subplots(num=None, figsize=(14, 6), dpi=80, facecolor='y', edgecolor='k')\n",
        "size = len(lr.losses)\n",
        "ax.plot(range(0,size), lr.losses, '-', color='blue', animated = True, linewidth=1)\n",
        "plt.xlabel('no of optmization steps')\n",
        "plt.ylabel('Losses')\n",
        "plt.title('Loss function with Stochastic Gradient Descent Optmization')"
      ],
      "execution_count": null,
      "outputs": [
        {
          "output_type": "execute_result",
          "data": {
            "text/plain": [
              "Text(0.5, 1.0, 'Loss function with Stochastic Gradient Descent Optmization')"
            ]
          },
          "metadata": {
            "tags": []
          },
          "execution_count": 111
        },
        {
          "output_type": "display_data",
          "data": {
            "image/png": "[encoded data removed]",
            "text/plain": [
              "<Figure size 1120x480 with 1 Axes>"
            ]
          },
          "metadata": {
            "tags": []
          }
        }
      ]
    },
    {
      "cell_type": "code",
      "metadata": {
        "id": "T3pgVNOBR4BX",
        "outputId": "9ef37162-3391-499d-edb1-6365f37e9c07",
        "colab": {
          "base_uri": "https://localhost:8080/",
          "height": 34
        }
      },
      "source": [
        "min(lr.losses)"
      ],
      "execution_count": null,
      "outputs": [
        {
          "output_type": "execute_result",
          "data": {
            "text/plain": [
              "0.6769019"
            ]
          },
          "metadata": {
            "tags": []
          },
          "execution_count": 112
        }
      ]
    },
    {
      "cell_type": "code",
      "metadata": {
        "id": "-zcVuyOzS7bf"
      },
      "source": [
        "accuracy=100-min(lr.losses)"
      ],
      "execution_count": null,
      "outputs": []
    },
    {
      "cell_type": "code",
      "metadata": {
        "id": "-1LImR7JTFe9",
        "outputId": "38ad14b1-1d66-4270-c96d-fb1ee9cd7d2f",
        "colab": {
          "base_uri": "https://localhost:8080/",
          "height": 34
        }
      },
      "source": [
        "accuracy"
      ],
      "execution_count": null,
      "outputs": [
        {
          "output_type": "execute_result",
          "data": {
            "text/plain": [
              "99.32309812307358"
            ]
          },
          "metadata": {
            "tags": []
          },
          "execution_count": 114
        }
      ]
    },
    {
      "cell_type": "markdown",
      "metadata": {
        "id": "4j2qVAnhTZgn"
      },
      "source": [
        "Let's check after clustering if performance improves or not"
      ]
    },
    {
      "cell_type": "code",
      "metadata": {
        "id": "X50mNgT4Ynig",
        "outputId": "5bc73527-7ccd-43da-c29f-f5ebbc88b8ba",
        "colab": {
          "base_uri": "https://localhost:8080/",
          "height": 54
        }
      },
      "source": [
        "train(X_kmeans_0,Y_kmeans_0)"
      ],
      "execution_count": null,
      "outputs": [
        {
          "output_type": "stream",
          "text": [
            "0.6904399, 0.6931475, 0.6931475, 0.6931475, 0.6931475, 0.6931475, 0.6931475, 0.6931475, 0.6931475, 0.6931475, 0.6931475, 0.6931475, 0.6931475, 0.6931475, 0.6931475, 0.6931475, 0.6931475, 0.6904399, 0.6931475, 0.6931475, 0.6931475, 0.6931475, 0.6931475, 0.6931475, 0.6931475, 0.6931475, 0.6931475, 0.6931475, 0.6931475, 0.6904405, 0.6931475, 0.6931475, 0.6931475, 0.6931475, 0.6931475, 0.6931475, 0.6931475, 0.6931475, 0.6931475, 0.69043994, 0.6931475, 0.6931475, 0.6904398, 0.6931475, 0.6931475, 0.6931475, 0.6931475, 0.6931475, 0.6931472, 0.6931475, 0.6931475, 0.6931475, 0.6904399, 0.6931475, 0.6931475, 0.6931475, 0.6904399, 0.6904399, 0.6931475, 0.6931475, 0.6931475, 0.6931475, 0.6931475, 0.6931475, 0.6931475, 0.6904398, 0.6931475, 0.6931475, 0.6931475, 0.6931475, 0.6931475, 0.6931475, 0.6931475, 0.6931475, 0.6931475, 0.6931475, 0.6931475, 0.6931475, 0.6931475, 0.6931475, 0.6904404, 0.6931475, 0.6931475, 0.6931475, 0.6931475, 0.6931475, 0.6931475, 0.6931475, 0.6931475, 0.6931475, 0.6931475, 0.6931475, 0.6931475, 0.6931475, 0.6931475, 0.6931475, 0.6931475, 0.6931472, 0.68773276, 0.6931475, 0.6931475, 0.6931475, 0.6931475, 0.6931475, 0.6931475, 0.6931475, 0.6931475, 0.6931475, 0.6931475, 0.6931475, 0.6931475, 0.6931475, 0.6931475, 0.6931475, 0.6931475, 0.6931475, 0.6931475, 0.6931475, 0.6931475, 0.6931475, 0.6931475, 0.6931475, 0.6904399, 0.6931475, 0.6931475, 0.6931475, 0.6931475, 0.6931475, 0.6931475, 0.6931475, 0.6931475, 0.6931475, 0.6931475, 0.6931475, 0.6931475, 0.6931475, 0.6931475, 0.6931475, 0.6931475, 0.6931475, 0.6931475, 0.6904399, 0.6931475, 0.6931475, 0.6904399, 0.6931475, 0.6931472, 0.6931475, 0.6931475, 0.6931475, 0.6931475, 0.6931475, 0.6931475, 0.6931475, 0.6904399, 0.6931475, 0.6931475, 0.6931475, 0.6931475, 0.6931475, 0.6931475, 0.6904403, 0.6931475, 0.6931475, 0.6904398, 0.6931475, 0.6931475, 0.6931475, 0.6931475, 0.6931475, 0.6931475, 0.6931475, 0.6931475, 0.6931475, 0.6931475, 0.6931475, 0.6931475, 0.6931475, 0.6931475, 0.6931475, 0.6931475, 0.6931475, 0.6931475, 0.6931475, 0.6931475, 0.6931475, 0.6931475, 0.6931475, 0.6904399, 0.6904399, 0.6931475, 0.6931475, 0.6931475, 0.6931475, 0.6931475, 0.6931472, 0.6931475, 0.6931475, 0.6931475, 0.6931475, 0.6931475, 0.6931475, 0.6931475, 0.6931475, 0.6931475, 0.6931475, 0.6931475, 0.6931475, 0.6931475, 0.6931475, 0.6931475, 0.6931475, 0.6931475, 0.69043994, 0.6931475, 0.6931475, 0.6931475, 0.6931475, 0.6931475, 0.6931475, 0.6931475, 0.6931475, 0.6931475, 0.6931475, 0.6931475, 0.6931475, 0.6931475, 0.6931475, 0.6931475, 0.6931475, 0.6931475, 0.6931475, 0.6931475, 0.6931475, 0.6931475, 0.6904403, 0.6931475, 0.6931475, 0.6931475, 0.6931475, 0.6904399, 0.6904399, 0.6931475, 0.6931475, 0.6821448, 0.6931475, 0.6931475, 0.6904399, 0.6931475, 0.6931475, 0.6931475, 0.6931475, 0.6904403, 0.6931475, 0.6931475, 0.6931475, 0.6931475, 0.6931475, 0.6931475, 0.6931475, 0.6931475, 0.6931475, 0.6904399, 0.6931475, 0.6931475, 0.6931475, 0.6904398, 0.6931475, 0.6931475, 0.6931475, 0.6931475, 0.6931475, 0.6931475, 0.6931475, 0.6931475, 0.6931475, 0.6931475, 0.6931475, 0.6931475, 0.6931475, 0.6931475, 0.6931475, 0.6931475, 0.6931475, 0.6931475, 0.6931475, 0.6931475, 0.6931475, 0.6931475, 0.6904399, 0.6931475, 0.6931475, 0.6931475, 0.6931472, 0.6931475, 0.6931475, 0.6931475, 0.6931475, 0.6931475, 0.6931475, 0.6931475, 0.6931475, 0.6931475, 0.6931475, 0.6931475, 0.6931475, 0.6931475, 0.6931475, 0.6931475, 0.6931475, 0.6931475, 0.6931475, 0.6931475, 0.6931475, 0.6931475, 0.6931475, 0.6931475, 0.6931475, 0.6931475, 0.6931475, 0.6904399, 0.6931475, 0.6931475, 0.6931475, 0.6904399, 0.6931475, 0.6931475, 0.6904398, 0.6931475, 0.6931475, 0.6931475, 0.6931475, 0.6931475, 0.6904399, 0.6931475, 0.6931475, 0.6931475, 0.6931475, 0.6931475, 0.6904403, 0.6931475, 0.6931475, 0.6931472, 0.6931475, 0.6931475, 0.6931475, 0.6931475, 0.6931475, 0.6931475, 0.6931475, 0.6931475, 0.6904403, 0.6931475, 0.6931475, 0.6931475, 0.6931475, 0.6931475, 0.6931475, 0.6931475, 0.69043994, 0.6931475, 0.6931475, 0.6931475, 0.6931475, 0.6931475, 0.6931475, 0.6931475, 0.6931475, 0.6931475, 0.6877322, 0.6931475, 0.6931475, 0.6931475, 0.6931475, 0.6931475, 0.6904399, 0.6931475, 0.6931475, 0.6931475, 0.6931475, 0.6931475, 0.6931475, 0.6931475, 0.6931475, 0.6931475, 0.6931475, 0.6931475, 0.6931475, 0.6931475, 0.6931475, 0.6931475, 0.6931472, 0.6931475, 0.6931475, 0.6931475, 0.6931475, 0.6931475, 0.6931475, 0.6931475, 0.6931475, 0.6931475, 0.6931475, 0.6931475, 0.6931475, 0.6931475, 0.69043994, 0.6931475, 0.6931475, 0.6931475, 0.6904403, 0.6931475, 0.6931475, 0.6931475, 0.6931475, 0.6931475, 0.6931475, 0.6931475, 0.6931475, 0.6931475, 0.6931475, 0.6931475, 0.6931475, 0.6931475, 0.6931475, 0.6904399, 0.6931475, 0.6931475, 0.6931475, 0.6931475, 0.6931475, 0.6904398, 0.6931475, 0.6931475, 0.6931475, 0.6931475, 0.6931475, 0.6931475, 0.6931475, 0.6931475, 0.6904399, 0.6931472, 0.6931475, 0.6931475, 0.6931475, 0.6931475, 0.6931475, 0.6931475, 0.69043994, 0.6931475, 0.6931475, 0.6931475, 0.6931475, 0.6931475, 0.6931475, 0.6904399, 0.6931475, 0.6904398, 0.6931475, 0.6931475, 0.6931475, 0.6931475, 0.6931475, 0.6931475, 0.6931475, 0.6931475, 0.6931475, 0.6931475, 0.6931475, 0.6931475, 0.6931475, 0.6931475, 0.6931475, 0.6931475, 0.6931475, 0.6904399, 0.6931475, 0.6931475, 0.6931475, 0.6931475, 0.6931475, 0.6931475, 0.6931475, 0.6931475, 0.6931475, 0.6931475, 0.69044024, 0.6931475, 0.6931475, 0.6931475, 0.6931472, 0.6904399, 0.6931475, 0.6931475, 0.6931475, 0.6931475, 0.6931475, 0.6904402, 0.6931475, 0.6904398, 0.6931475, 0.6931475, 0.6931475, 0.6931475, 0.6931475, 0.6931475, 0.6931475, 0.6931475, 0.6931475, 0.6931475, 0.6931475, 0.6931475, 0.6931475, 0.6931475, 0.6931475, 0.6904399, 0.6931475, 0.6931475, 0.6931475, 0.6931475, 0.6931475, 0.6931475, 0.6931475, 0.6931475, 0.6931475, 0.6931475, 0.6931475, 0.6931475, 0.6931475, 0.6931475, 0.6931475, 0.6931475, 0.6904399, 0.6931475, 0.6931475, 0.6931475, 0.6931475, 0.6931475, 0.6931475, 0.6931472, 0.6931475, 0.6931475, 0.6931475, 0.6904399, 0.6931475, 0.6931475, 0.6931475, 0.6931475, 0.6931475, 0.6931475, 0.6931475, 0.6931475, 0.6931475, 0.6931475, 0.6931475, 0.6931475, 0.6931475, 0.6931475, 0.6931475, 0.6931475, 0.6931475, 0.6904399, 0.6904399, 0.6931475, 0.6931475, 0.6931475, 0.6931475, 0.6931475, 0.6931475, 0.6931475, 0.6931475, 0.6931475, 0.6931475, 0.6931475, 0.6931475, 0.6931475, 0.6931475, 0.6931475, 0.6931475, 0.6931475, 0.6931475, 0.6904398, 0.6904402, 0.6931475, 0.6931475, 0.6931475, 0.6931475, 0.6931475, 0.6931472, 0.6931475, 0.6931475, 0.6931475, 0.6904399, 0.6931475, 0.6931475, 0.6904402, 0.6931475, 0.6931475, 0.6931475, 0.6931475, 0.6931475, 0.6931475, 0.6931475, 0.6931475, 0.6931475, 0.6931475, 0.6931475, 0.6931475, 0.6931475, 0.6931475, 0.6931475, 0.6931475, 0.6931475, 0.6931475, 0.6877323, 0.6931475, 0.6931475, 0.6931475, 0.6931475, 0.6931475, 0.6931475, 0.6931475, 0.6931475, 0.6931475, 0.6931475, 0.6931475, 0.6931475, 0.6931475, 0.6931475, 0.6931475, 0.6931475, 0.6931475, 0.6931475, 0.6931475, 0.6904398, 0.6931475, 0.6931475, 0.6931472, 0.6931475, 0.6931475, 0.6931475, 0.6931475, 0.6931475, 0.6931475, 0.6931475, 0.6931475, 0.6931475, 0.6931475, 0.6931475, 0.6931475, 0.6931475, 0.6931475, 0.6931475, 0.6931475, 0.6931475, 0.6931475, 0.6931475, 0.6931475, 0.6904399, 0.6931475, 0.6931475, 0.6931475, 0.6931475, 0.6931475, 0.6931475, 0.6877326, 0.6931475, 0.6931475, 0.6931475, 0.6931475, 0.6931475, 0.6931475, 0.6931475, 0.6931475, 0.6931475, 0.6931475, 0.6931475, 0.6904398, 0.6931475, 0.6931475, 0.6931475, 0.6904399, 0.6931475, 0.6931475, 0.6931475, 0.6931475, 0.6931472, 0.6931475, 0.6931475, 0.6904402, 0.6931475, 0.6931475, 0.6931475, 0.6931475, 0.6931475, 0.6931475, 0.6931475, 0.6931475, 0.6931475, 0.6931475, 0.6904399, 0.6931475, 0.6931475, 0.6931475, 0.6931475, 0.6931475, 0.6931475, 0.6931475, 0.6931475, 0.6931475, 0.6931475, 0.6931475, 0.6931475, 0.6931475, 0.6931475, 0.69043994, 0.6931475, 0.6931475, 0.6931475, 0.6931475, 0.6931475, 0.6931475, 0.6931475, 0.6931475, 0.6931475, 0.6931475, 0.6931475, 0.6904398, 0.6931475, 0.6931475, 0.6931475, 0.6931475, 0.6931475, 0.6904399, 0.6931475, 0.6931472, 0.6931475, 0.6931475, 0.6931475, 0.6931475, 0.6931475, 0.6931475, 0.6931475, 0.6931475, 0.6931475, 0.6931475, 0.6931475, 0.6904399, 0.6931475, 0.6931475, 0.6931475, 0.6931475, 0.6931475, 0.6931475, 0.6931475, 0.6931475, 0.6931475, 0.6931475, 0.6931475, 0.6931475, 0.6904402, 0.6904399, 0.6931475, 0.6931475, 0.6931475, 0.6931475, 0.6931475, 0.6931475, 0.6904399, 0.6931475, 0.6931475, 0.6931475, 0.6931475, 0.6931475, 0.6931475, 0.6904398, 0.6931475, 0.6931475, 0.6931475, 0.6931475, 0.6931475, 0.6931475, 0.6931475, 0.6931475, 0.6931472, 0.6931475, 0.6931475, 0.6931475, 0.6931475, 0.6931475, 0.6931475, 0.6904399, 0.6931475, 0.6904398, 0.6931475, 0.6931475, 0.6931475, 0.6904402, 0.6904399, 0.6931475, 0.6931475, 0.6931475, 0.6931475, 0.6931475, 0.6931475, 0.6931475, 0.6931475, 0.6904399, 0.6931475, 0.6931475, 0.6931475, 0.6931475, 0.6931475, 0.6931475, 0.6931475, 0.6931475, 0.6931475, 0.6931475, 0.6931475, 0.6931475, 0.6931475, 0.6931475, 0.6931475, 0.6931475, 0.6931475, 0.6931475, 0.6931475, 0.6931475, 0.6931475, 0.6931475, 0.6931475, 0.6931475, 0.6931475, 0.6931472, 0.6904402, 0.6931475, 0.6931475, 0.6931475, 0.6931475, 0.6931475, 0.6931475, 0.6931475, 0.6931475, 0.6904398, 0.6931475, 0.6931475, 0.6931475, 0.6931475, 0.6931475, 0.6931475, 0.6931475, 0.6931475, 0.6931475, 0.6931475, 0.6931475, 0.6931475, 0.6931475, 0.6931475, 0.6904399, 0.6931475, 0.6931475, 0.6931475, 0.6931475, 0.6931475, 0.6931475, 0.6931475, 0.6931475, 0.6931475, 0.6931475, 0.6931475, 0.6931475, 0.6931475, 0.6931475, 0.69043994, 0.6931475, 0.6904399, 0.6931475, 0.6931475, 0.6931475, 0.6931475, 0.6931475, 0.6931475, 0.6931472, 0.6931475, 0.6931475, 0.6931475, 0.6931475, 0.6931475, 0.6904398, 0.6931475, 0.6931475, 0.6931475, 0.6931475, 0.6931475, 0.6931475, 0.6931475, 0.6931475, 0.6931475, 0.6904402, 0.6931475, 0.6931475, 0.6931475, 0.6931475, 0.6931475, 0.6931475, 0.6931475, 0.6904399, 0.6931475, 0.6931475, 0.6931475, 0.6931475, 0.6931475, 0.6931475, 0.6931475, 0.6931475, 0.6931475, 0.6931475, 0.6931475, 0.6931475, 0.6931475, 0.6931475, 0.6904399, 0.6931475, 0.6931475, 0.6931475, 0.6931475, 0.6931475, 0.6931475, 0.6931475, 0.6931475, 0.6904399, 0.6931472, 0.6931475, 0.6931475, 0.6904398, 0.6931475, 0.69043994, 0.6904399, 0.6931475, 0.6931475, 0.6931475, 0.6931475, 0.6931475, 0.6931475, 0.6931475, 0.6931475, 0.6931475, 0.6931475, 0.6931475, 0.6931475, 0.6931475, 0.6931475, 0.6931475, 0.6931475, 0.6931475, 0.6931475, 0.6931475, 0.6931475, 0.6931475, 0.6931475, 0.6931475, 0.6931475, 0.6931475, 0.6931475, 0.6931475, 0.6931475, 0.6931475, 0.6931475, 0.6904402, 0.6931475, 0.6931475, 0.6931475, 0.6931475, 0.6931475, 0.6931475, 0.6931475, 0.6904399, 0.6931475, 0.6931475, 0.6931475, 0.6931472, 0.6931475, 0.6931475, 0.6931475, 0.69043994, 0.6931475, 0.6931475, 0.6931475, 0.6931475, 0.6931475, 0.6931475, 0.6931475, 0.6931475, 0.6931475, 0.6931475, 0.6931475, 0.6931475, 0.6931475, 0.6931475, 0.6931475, 0.6931475, 0.6931475, 0.6931475, 0.6931475, 0.6904402, 0.6931475, 0.6931475, 0.6931475, 0.6931475, 0.6931475, 0.6931475, 0.6931475, 0.6931475, 0.6931475, 0.6904399, 0.6931475, 0.6931475, 0.6931475, 0.6931475, 0.6931475, 0.6931475, 0.6931475, 0.6904399, 0.6931475, 0.6931475, 0.6904398, 0.6931475, 0.6931475, 0.6931475, 0.6931472, 0.6931475, 0.6931475, 0.6931475, 0.6931475, 0.6931475, 0.6931475, 0.6931475, 0.6931475, 0.6931475, 0.6931475, 0.6931475, 0.6931475, 0.6931475, 0.6904399, 0.6931475, 0.6931475, 0.6931475, 0.6931475, 0.6931475, 0.6931475, 0.6931475, 0.6931475, 0.6931475, 0.6931475, 0.6904399, 0.6931475, 0.6931475, 0.6931475, 0.6931475, 0.6931475, 0.6931475, 0.6931475, 0.6931475, 0.6931475, 0.6931475, 0.6931475, 0.6931475, 0.6931475, 0.6931475, 0.6931475, 0.6931475, 0.6931475, 0.6904399, 0.6904402, 0.6904398, 0.6931475, 0.6931475, 0.6931475, 0.6931472, 0.6931475, 0.6931475, 0.6931475, 0.6931475, 0.6931475, 0.6931475, 0.6931475, 0.6931475, 0.6931475, 0.6931475, 0.6931475, 0.6931475, 0.6931475, 0.6931475, 0.6904399, 0.6931475, 0.6931475, 0.6931475, 0.6931475, 0.6931475, 0.6931475, 0.6931475, 0.6931475, 0.6931475, 0.6904398, 0.6931475, 0.6931475, 0.6931475, 0.6931475, 0.6931475, 0.6931475, 0.6931475, 0.6904402, 0.6931475, 0.6931475, 0.6904399, 0.6931475, 0.6931475, 0.6931475, 0.6904399, 0.6931475, 0.6931475, 0.6931475, 0.6931475, 0.6931475, 0.6931475, 0.6931475, 0.6931475, 0.6931472, 0.6931475, 0.6931475, 0.6931475, 0.6931475, 0.6904399, 0.6931475, 0.6931475, 0.6931475, 0.6931475, 0.6931475, 0.6931475, 0.6904402, 0.6931475, 0.6904398, 0.6931475, 0.6931475, 0.6904399, 0.6931475, 0.6931475, 0.6931475, 0.6931475, 0.6931475, 0.6931475, 0.6931475, 0.6931475, 0.6931475, 0.6931475, 0.6931475, 0.6931475, 0.6931475, 0.6931475, 0.6931475, 0.69043994, 0.6931475, 0.6931475, 0.6931475, 0.6931475, 0.6931475, 0.6931475, 0.6931475, 0.6931475, 0.6931475, 0.6931475, 0.6931475, 0.6931475, 0.6931475, 0.6931475, 0.6931475, 0.6931472, 0.6931475, 0.6931475, 0.6931475, 0.6931475, 0.6931475, 0.6904399, 0.6931475, 0.6931475, 0.6931475, 0.6931475, 0.6931475, 0.6931475, 0.6931475, 0.6931475, 0.6931475, 0.6931475, 0.6931475, 0.6931475, 0.6931475, 0.6904399, 0.6931475, 0.6931475, 0.6904399, 0.6931475, 0.6931475, 0.6931475, 0.6931475, 0.6931475, 0.6931475, 0.6931475, 0.6931475, 0.6904398, 0.6931475, 0.6931475, 0.6931475, 0.6931475, 0.6931475, 0.6931475, 0.6904402, 0.6931475, 0.6931475, 0.6931475, 0.6931475, 0.6931475, 0.6931475, 0.6931475, 0.6931475, 0.6931475, 0.6931472, 0.6931475, 0.6931475, 0.6931475, 0.6931475, 0.6931475, 0.6931475, 0.6931475, 0.6931475, 0.6931475, 0.6931475, 0.6931475, 0.6931475, 0.6931475, 0.6931475, 0.6931475, 0.6931475, 0.6931475, 0.6931475, 0.6904399, 0.6931475, 0.6904402, 0.6931475, 0.6931475, 0.6931475, 0.6931475, 0.6931475, 0.6931475, 0.6931475, 0.6904399, 0.6904398, 0.6931475, 0.6931475, 0.6931475, 0.6931475, 0.6931475, 0.6931475, 0.6931475, 0.6931475, 0.6931475, 0.6931475, 0.6931475, 0.6931475, 0.6931475, 0.6931475, 0.6931475, 0.6904399, 0.6931475, 0.6931475, 0.6931472, 0.6931475, 0.6931475, 0.6931475, 0.69043994, 0.6931475, 0.6931475, 0.6931475, 0.6931475, 0.6931475, 0.6904398, 0.6931475, 0.6931475, 0.6931475, 0.6931475, 0.6931475, 0.6931475, 0.6931475, 0.6931475, 0.6931475, 0.6931475, 0.6931475, 0.6931475, 0.6931475, 0.6931475, 0.6931475, 0.6931475, 0.6931475, 0.6931475, 0.6931475, 0.6931475, 0.6931475, 0.6931475, 0.6931475, 0.6931475, 0.6931475, 0.6931475, 0.6931475, 0.6904399, 0.6931475, 0.6931475, 0.6931475, 0.6931475, 0.6931475, 0.6931475, 0.6931475, 0.6904402, 0.6931475, 0.6904399, 0.6931472, 0.6931475, 0.6931475, 0.6931475, 0.6931475, 0.6931475, 0.6931475, 0.6931475, 0.6931475, 0.6931475, 0.6931475, 0.6904402, 0.6931475, 0.6931475, 0.6931475, 0.6931475, 0.6931475, 0.6931475, 0.6904399, 0.6931475, 0.6931475, 0.6931475, 0.6931475, 0.6931475, 0.6931475, 0.6931475, 0.6931475, 0.6931475, 0.6931475, 0.6931475, 0.6931475, 0.6931475, 0.6931475, 0.6904398, 0.6931475, 0.6931475, 0.6931475, 0.6931475, 0.6931475, 0.6931475, 0.6931475, 0.6931475, 0.69043994, 0.6931475, 0.6904399, 0.6931475, 0.6931475, 0.6931475, 0.6931475, 0.6931472, 0.6931475, 0.6931475, 0.6931475, 0.6931475, 0.6931475, 0.6931475, 0.6931475, 0.6931475, 0.6931475, 0.6931475, 0.6931475, 0.6931475, 0.6931475, 0.6931475, 0.6931475, 0.6931475, 0.6931475, 0.6931475, 0.6931475, 0.6931475, 0.6931475, 0.6931475, 0.6931475, 0.6931475, 0.6931475, 0.6904398, 0.6904399, 0.6931475, 0.6931475, 0.6904399, 0.6931475, 0.6931475, 0.6904399, 0.6931475, 0.6931475, 0.6931475, 0.6931475, 0.6931475, 0.6904402, 0.6931475, 0.6931475, 0.6931475, 0.6931475, 0.6931475, 0.6931475, 0.6931475, 0.6931475, 0.6931475, 0.6931472, 0.6931475, 0.6931475, 0.6931475, 0.6931475, 0.6931475, 0.6904399, 0.6931475, 0.6931475, 0.6931475, 0.6931475, 0.6904399, 0.6931475, 0.6931475, 0.6931475, 0.6931475, 0.6931475, 0.6931475, 0.6931475, 0.6931475, 0.6931475, 0.6931475, 0.6931475, 0.6931475, 0.6931475, 0.6931475, 0.6931475, 0.6931475, 0.6931475, 0.6931475, 0.6931475, 0.6931475, 0.6931475, 0.6931475, 0.6931475, 0.6931475, 0.6931475, 0.6931475, 0.6931475, 0.6931475, 0.6904398, 0.6931475, 0.6931475, 0.6931475, 0.6931475, 0.6904399, 0.6931475, 0.6904402, 0.6931475, 0.6931472, 0.6931475, 0.6931475, 0.6931475, 0.6931475, 0.6931475, 0.6931475, 0.6931475, 0.6931475, 0.6931475, 0.6931475, 0.6931475, 0.6904399, 0.6931475, 0.6931475, 0.69043994, 0.6931475, 0.6904402, 0.6931475, 0.6904398, 0.6931475, 0.6931475, 0.6931475, 0.6931475, 0.6931475, 0.6931475, 0.6931475, 0.6904399, 0.6931475, 0.6931475, 0.6931475, 0.6931475, 0.6931475, 0.6931475, 0.6931475, 0.6931475, 0.6931475, 0.6931475, 0.6931475, 0.6931475, 0.6931475, 0.6931475, 0.6931475, 0.6931475, 0.6931475, 0.6931475, 0.6931475, 0.6931475, 0.6931475, 0.6931472, 0.6931475, 0.6931475, 0.6931475, 0.6931475, 0.6931475, 0.6931475, 0.6931475, 0.6931475, 0.6931475, 0.6904399, 0.6931475, 0.6931475, 0.6904402, 0.6931475, 0.6931475, 0.6931475, 0.6931475, 0.6931475, 0.6931475, 0.6931475, 0.6931475, 0.6931475, 0.6931475, 0.6931475, 0.6931475, 0.6931475, 0.6931475, 0.6931475, 0.6931475, 0.6904398, 0.6931475, 0.6931475, 0.6931475, 0.6931475, 0.6931475, 0.6931475, 0.6931475, 0.6931475, 0.6904399, 0.6931475, 0.6931475, 0.6904399, 0.6931475, 0.6931475, 0.6931475, 0.6931475, 0.6931475, 0.6931475, 0.6931472, 0.6931475, 0.6931475, 0.6931475, 0.6931475, 0.6931475, 0.6931475, 0.6931475, 0.6931475, 0.6931475, 0.6931475, 0.6904399, 0.6931475, 0.6931475, 0.6931475, 0.6931475, 0.6931475, 0.6931475, 0.6931475, 0.6931475, 0.6931475, 0.6904399, 0.6931475, 0.6931475, 0.6931475, 0.6931475, 0.6931475, 0.6931475, 0.6931475, 0.6931475, 0.6931475, 0.6931475, 0.6931475, 0.6931475, 0.6931475, 0.6931475, 0.6931475, 0.6931475, 0.6931475, 0.6931475, 0.6931475, 0.6904399, 0.6931475, 0.6931475, 0.6931475, 0.6931475, 0.6931475, 0.6904398, 0.6904402, 0.6931472, 0.6904399, 0.6904399, 0.6931475, 0.6931475, 0.6931475, 0.6931475, 0.6904399, 0.6931475, 0.6931475, 0.6904402, 0.6931475, 0.6931475, 0.6931475, 0.6931475, 0.6931475, 0.6931475, 0.6904398, 0.6931475, 0.6931475, 0.6931475, 0.6931475, 0.6931475, 0.6931475, 0.6931475, 0.6931475, 0.6931475, 0.6931475, 0.6931475, 0.6931475, 0.6931475, 0.6931475, 0.6931475, 0.6931475, 0.6931475, 0.6931475, 0.6931475, 0.6931475, 0.6931475, 0.6931475, 0.6931475, 0.6931475, 0.6931475, 0.6931475, 0.6931475, 0.6931475, 0.6931475, 0.6931475, 0.6931475, 0.6931472, 0.6931475, 0.6931475, 0.6904399, 0.6931475, 0.6931475, 0.6904402, 0.6931475, 0.6931475, 0.6931475, 0.6931475, 0.6931475, 0.6931475, 0.6931475, 0.6931475, 0.6931475, 0.6931475, 0.6931475, 0.6931475, 0.6931475, 0.6931475, 0.6931475, 0.6931475, 0.6931475, 0.6931475, 0.6931475, 0.6904399, 0.6931475, 0.6931475, 0.6904398, 0.6931475, 0.6931475, 0.6904399, 0.6931475, 0.6931475, 0.6931475, 0.6931475, 0.6931475, 0.6931475, 0.6931475, 0.6931475, 0.6931475, 0.6931475, 0.6931475, 0.6931475, 0.6931475, 0.6931475, 0.6931475, 0.6931475, 0.6931472, 0.6904399, 0.6931475, 0.6931475, 0.6931475, 0.6931475, 0.6931475, 0.6904399, 0.6931475, 0.6931475, 0.6931475, 0.6931475, 0.6931475, 0.6931475, 0.6931475, 0.6931475, 0.6931475, 0.6931475, 0.6931475, 0.6931475, 0.6931475, 0.6904401, 0.6931475, 0.6931475, 0.6931475, 0.6931475, 0.6931475, 0.6931475, 0.6931475, 0.6931475, 0.6931475, 0.6904398, 0.6931475, 0.6931475, 0.6931475, 0.6931475, 0.6931475, 0.6931475, 0.6931475, 0.6931475, 0.6931475, 0.69043994, 0.6931475, 0.6931475, 0.6931475, 0.6931475, 0.6931475, 0.6931475, 0.6931475, 0.6931472, 0.6931475, 0.6904401, 0.6931475, 0.6931475, 0.6931475, 0.6931475, 0.6931475, 0.6931475, 0.6931475, 0.6931475, 0.6931475, 0.6931475, 0.6931475, 0.6931475, 0.6931475, 0.6931475, 0.6931475, 0.6931475, 0.6931475, 0.6931475, 0.69043994, 0.6931475, 0.6931475, 0.6931475, 0.6931475, 0.6931475, 0.6931475, 0.6931475, 0.6931475, 0.6931475, 0.6904399, 0.6904398, 0.6931475, 0.6931475, 0.6931475, 0.6931475, 0.6931475, 0.6931475, 0.6931475, 0.6931475, 0.6931475, 0.6931475, 0.6904399, 0.6931475, 0.6931475, 0.6931475, 0.6931475, 0.6931475, 0.6931472, 0.6931475, 0.6931475, 0.6931475, 0.6931475, 0.6931475, 0.6931475, 0.6931475, 0.6931475, 0.6931475, 0.6931475, 0.6931475, 0.6931475, 0.6931475, 0.6931475, 0.6904401, 0.6931475, 0.6931475, 0.6931475, 0.6931475, 0.6931475, 0.6931475, 0.6931475, 0.6931475, 0.6931475, 0.6931475, 0.6931475, 0.6931475, 0.6931475, 0.6931475, 0.6931475, 0.6931475, 0.6931475, 0.6931475, 0.6931475, 0.6931475, 0.6931475, 0.6931475, 0.6931475, 0.6931475, 0.6931475, 0.69043994, 0.6904399, 0.6931475, 0.6904398, 0.6931475, 0.6904399, 0.6931475, 0.6931475, 0.6931472, 0.6931475, 0.6931475, 0.6931475, 0.69043994, 0.6931475, 0.6931475, 0.6931475, 0.6931475, 0.6931475, 0.6904399, 0.6931475, 0.6931475, 0.6931475, 0.6931475, 0.6931475, 0.6931475, 0.6931475, 0.6931475, 0.6904399, 0.6931475, 0.6931475, 0.6931475, 0.6931475, 0.6931475, 0.6931475, 0.6931475, 0.6931475, 0.6931475, 0.6931475, 0.6931475, 0.6931475, 0.6931475, 0.6931475, 0.6904401, 0.6931475, 0.6931475, 0.6931475, 0.6931475, 0.6931475, 0.6931475, 0.6931475, 0.6931475, 0.6931475, 0.6904398, 0.6931475, 0.6931475, 0.6931475, 0.6931475, 0.6931472, 0.6931475, 0.6931475, 0.6904399, 0.6931475, 0.6931475, 0.6931475, 0.6931475, 0.6931475, 0.6904398, 0.6931475, 0.6931475, 0.6931475, 0.6931475, 0.6904399, 0.6931475, 0.6931475, 0.6931475, 0.6931475, 0.6931475, 0.6931475, 0.6931475, 0.6931475, 0.6931475, 0.6931475, 0.6931475, 0.6931475, 0.6931475, 0.6931475, 0.6931475, 0.6931475, 0.6931475, 0.6931475, 0.6931475, 0.6931475, 0.6931475, 0.6931475, 0.6931475, 0.6931475, 0.6931475, 0.6904401, 0.6931475, 0.6931475, 0.6931475, 0.6931475, 0.6904399, 0.6931475, 0.6931475, 0.6931475, 0.6931472, 0.6931475, 0.6931475, 0.6931475, 0.69044006, 0.6931475, 0.6931475, 0.6931475, 0.6931475, 0.6931475, 0.6931475, 0.6931475, 0.6904398, 0.6931475, 0.6931475, 0.6931475, 0.6931475, 0.6931475, 0.6931475, 0.6931475, 0.6931475, 0.6931475, 0.6931475, 0.6931475, 0.6904399, 0.6931475, 0.6931475, 0.6931475, 0.6931475, 0.6931475, 0.6931475, 0.6931475, 0.6931475, 0.6931475, 0.6931475, 0.69043994, 0.6931475, 0.6931475, 0.6931475, 0.6931475, 0.6931475, 0.6931475, 0.6931475, 0.6931475, 0.6931475, 0.6931475, 0.6904399, 0.6931475, 0.6931475, 0.6931472, 0.6931475, 0.6931475, 0.6931475, 0.6931475, 0.6931475, 0.6931475, 0.6931475, 0.6931475, 0.6931475, 0.6931475, 0.6904399, 0.6931475, 0.6931475, 0.6931475, 0.6931475, 0.6931475, 0.6931475, 0.6931475, 0.6931475, 0.6931475, 0.6931475, 0.6931475, 0.6931475, 0.6931475, 0.6931475, 0.6931475, 0.6931475, 0.6931475, 0.6931475, 0.6931475, 0.6931475, 0.69044006, 0.6931475, 0.6931475, 0.6931475, 0.6904398, 0.6931475, 0.6931475, 0.6931475, 0.6931475, 0.6931475, 0.6931475, 0.6931475, 0.6931475, 0.6931475, 0.6931475, 0.6904399, 0.6904399, 0.6931472, 0.6931475, 0.6931475, 0.6931475, 0.6931475, 0.6931475, 0.6931475, 0.6931475, 0.6931475, 0.6931475, 0.6931475, 0.6904399, 0.6931475, 0.6931475, 0.6931475, 0.6904399, 0.6931475, 0.6931475, 0.6931475, 0.6931475, 0.6931475, 0.6931475, 0.6931475, 0.6931475, 0.6931475, 0.6931475, 0.6931475, 0.6931475, 0.6931475, 0.6931475, 0.6904399, 0.68773246, 0.6931475, 0.6931475, 0.6931475, 0.6931475, 0.6931475, 0.6931475, 0.6931475, 0.6931475, 0.6931475, 0.6931475, 0.6931475, 0.6931475, 0.6931475, 0.6931475, 0.6931475, 0.6931475, 0.6931475, 0.6931472, 0.6931475, 0.6931475, 0.6931475, 0.6904399, 0.6931475, 0.6931475, 0.6931475, 0.6931475, 0.6931475, 0.6931475, 0.6931475, 0.68773234, 0.6931475, 0.6931475, 0.6931475, 0.6931475, 0.6931475, 0.6931475, 0.6931475, 0.6931475, 0.6931475, 0.6931475, 0.6931475, 0.6931475, 0.6931475, 0.6931475, 0.6931475, 0.6931475, 0.6904398, 0.6931475, 0.6931475, 0.69044006, 0.6931475, 0.6931475, 0.6931475, 0.6931475, 0.6931475, 0.6931475, 0.6931475, 0.6931475, 0.6931475, 0.6931475, 0.6931475, 0.6931475, 0.6931475, 0.6931475, 0.6931475, 0.6931475, 0.6931472, 0.6931475, 0.6931475, 0.6931475, 0.6931475, 0.6931475, 0.6931475, 0.6931475, 0.6904399, 0.6931475, 0.6931475, 0.6931475, 0.6931475, 0.6931475, 0.6931475, 0.6931475, 0.6931475, 0.69044006, 0.6931475, 0.6931475, 0.6931475, 0.6931475, 0.6931475, 0.6931475, 0.6931475, 0.6931475, 0.6931475, 0.6904398, 0.6931475, 0.6931475, 0.6931475, 0.6931475, 0.6904399, 0.6931475, 0.6931475, 0.6931475, 0.6931475, 0.6931475, 0.6931475, 0.6931475, 0.6931475, 0.6931475, 0.6931475, 0.6931475, 0.6931475, 0.6931475, 0.6904399, 0.6931475, 0.6931475, 0.6931472, 0.6931475, 0.6931475, 0.6931475, 0.6931475, 0.6931475, 0.6931475, 0.6931475, 0.6904399, 0.6931475, 0.6931475, 0.6931475, 0.6931475, 0.6931475, 0.69044006, 0.6931475, 0.6931475, 0.6931475, 0.6931475, 0.6931475, 0.6931475, 0.6931475, 0.6931475, 0.6931475, 0.6904399, 0.6931475, 0.6931475, 0.6931475, 0.6931475, 0.6931475, 0.6931475, 0.6931475, 0.6904399, 0.6931475, 0.6931475, 0.6931475, 0.6931475, 0.6931475, 0.6931475, 0.6931475, 0.6931475, 0.6904398, 0.6931475, 0.6931475, 0.6931475, 0.6931475, 0.6931475, 0.6931475, 0.6931475, 0.6931472, 0.6931475, 0.6931475, 0.6931475, 0.6931475, 0.6931475, 0.6904399, 0.6931475, 0.6931475, 0.6931475, 0.6931475, 0.6931475, 0.6931475, 0.6931475, 0.6931475, 0.6931475, 0.6931475, 0.6931475, 0.6931475, 0.6931475, 0.69044006, 0.6931475, 0.6931475, 0.6931475, 0.6931475, 0.6931475, 0.6931475, 0.6931475, 0.6931475, 0.6904399, 0.6931475, 0.6931475, 0.6931475, 0.6931475, 0.6931475, 0.6904398, 0.6931475, 0.6904399, 0.6931475, 0.6931475, 0.6931475, 0.6931475, 0.6931475, 0.6931475, 0.6931475, 0.6931475, 0.6931475, 0.6931475, 0.6931475, 0.6931472, 0.6931475, 0.6931475, 0.6931475, 0.6931475, 0.6931475, 0.6931475, 0.6931475, 0.6931475, 0.6931475, 0.6931475, 0.6931475, 0.6931475, 0.6931475, 0.6904398, 0.69044006, 0.6931475, 0.6931475, 0.6931475, 0.6904399, 0.6931475, 0.6931475, 0.6931475, 0.6904399, 0.6931475, 0.6931475, 0.6931475, 0.6931475, 0.6931475, 0.6931475, 0.6904399, 0.6931475, 0.6931475, 0.6931475, 0.6931475, 0.6931475, 0.6931475, 0.6931475, 0.6931475, 0.6931475, 0.6931475, 0.6931475, 0.6931475, 0.6931475, 0.6931475, 0.6931475, 0.6931475, 0.6931475, 0.6931475, 0.6931472, 0.6931475, 0.6931475, 0.6931475, 0.6931475, 0.6931475, 0.6931475, 0.6931475, 0.6931475, 0.6931475, 0.6931475, 0.6931475, 0.6931475, 0.6931475, 0.6931475, 0.6931475, 0.6931475, 0.6931475, 0.6931475, 0.6931475, 0.6931475, 0.6931475, 0.6931475, 0.69044006, 0.6904399, 0.6931475, 0.6931475, 0.6931475, 0.6931475, 0.6931475, 0.6904399, 0.69043994, 0.6931475, 0.6931475, 0.6931475, 0.6931475, 0.6931475, 0.6931475, 0.6931475, 0.6931475, 0.6904398, 0.6931475, 0.6931475, 0.6931475, 0.6931475, 0.6931475, 0.6931475, 0.6931475, 0.6931475, 0.6931472, 0.6931475, 0.6931475, 0.6931475, 0.6931475, 0.6931475, 0.6931475, 0.6931475, 0.6931475, 0.6931475, 0.6931475, 0.6931475, 0.6931475, 0.6931475, 0.6931475, 0.6931475, 0.6931475, 0.6931475, 0.6931475, 0.6931475, 0.6931475, 0.6931475, 0.6931475, 0.69044006, 0.6931475, 0.6931475, 0.6931475, 0.6904399, 0.6931475, 0.6931475, 0.6931475, 0.6931475, 0.69043994, 0.6931475, 0.6931475, 0.6904398, 0.6931475, 0.6931475, 0.6904399, 0.6931475, 0.6931475, 0.6931475, 0.6931475, 0.6931475, 0.6931475, 0.6931475, 0.6931475, 0.6931475, 0.6931475, 0.6931472, "
          ],
          "name": "stdout"
        }
      ]
    },
    {
      "cell_type": "code",
      "metadata": {
        "id": "iblOURKeUqHS",
        "outputId": "5b15cc88-a530-44e6-f7ab-2895685e130f",
        "colab": {
          "base_uri": "https://localhost:8080/",
          "height": 34
        }
      },
      "source": [
        "accuracy_0=100-min(lr.losses)\n",
        "accuracy_0"
      ],
      "execution_count": null,
      "outputs": [
        {
          "output_type": "execute_result",
          "data": {
            "text/plain": [
              "99.31785517930984"
            ]
          },
          "metadata": {
            "tags": []
          },
          "execution_count": 116
        }
      ]
    },
    {
      "cell_type": "code",
      "metadata": {
        "id": "UgMg9-4pY5uq",
        "outputId": "7440f161-a5d4-4bfe-ec39-070539434dd0",
        "colab": {
          "base_uri": "https://localhost:8080/",
          "height": 54
        }
      },
      "source": [
        "train(X_kmeans_1,Y_kmeans_1)"
      ],
      "execution_count": null,
      "outputs": [
        {
          "output_type": "stream",
          "text": [
            "0.6850252, 0.69043994, 0.6931475, 0.6904398, 0.6931475, 0.6904398, 0.6904399, 0.6931475, 0.6904399, 0.6931475, 0.68773234, 0.6931475, 0.6931475, 0.6931475, 0.68773234, 0.6931475, 0.6931475, 0.6931475, 0.6904398, 0.6877322, 0.6931475, 0.6877322, 0.6931475, 0.69043994, 0.6931475, 0.6931475, 0.6904403, 0.6902351, 0.6931475, 0.6931475, 0.6931475, 0.68502504, 0.6904399, 0.6931475, 0.69043994, 0.6904398, 0.6877323, 0.6904399, 0.6931475, 0.6931475, 0.6931475, 0.6902351, 0.6904398, 0.6823174, 0.6877322, 0.69043994, 0.6931475, 0.6931475, 0.6931475, 0.6904399, 0.6931475, 0.6931475, 0.6931475, 0.6931475, 0.69043994, 0.6931475, 0.6931475, 0.6931475, 0.6904402, 0.69043994, 0.6931475, 0.6904399, 0.6904399, 0.6877323, 0.6850246, 0.6931475, 0.6931475, 0.6931475, 0.6904398, 0.6931475, 0.6931475, 0.6904398, 0.6931475, 0.6877326, 0.69043994, 0.6931475, 0.6877322, 0.6931475, 0.6904399, 0.6904398, 0.6931475, 0.6931475, 0.6931475, 0.68732274, 0.6931475, 0.6904398, 0.6931475, 0.6931475, 0.68773234, 0.6904398, 0.6931475, 0.6904398, 0.6904399, 0.6877326, 0.6931475, 0.6931475, 0.6877323, 0.6931475, 0.6931475, 0.6877323, 0.6931475, 0.6904398, 0.6931475, 0.6931475, 0.6931475, 0.6931475, 0.6931475, 0.6904398, 0.6904399, 0.6877322, 0.685025, 0.6931475, 0.6931475, 0.6931475, 0.6931475, 0.6931475, 0.68773234, 0.6904401, 0.6904398, 0.6904399, 0.68773234, 0.6877322, 0.6931475, 0.6904398, 0.6931475, 0.6931475, 0.6904399, 0.68773234, 0.6904399, 0.6904398, 0.6931475, 0.6931475, 0.6931475, 0.6931475, 0.6904398, 0.6931475, 0.69043994, 0.6931475, 0.68502486, 0.6931475, 0.69043994, 0.6931475, 0.6904398, 0.6904399, 0.6931475, 0.6931475, 0.6931475, 0.6904398, 0.69044006, 0.69043994, 0.6850247, 0.6931475, 0.6904398, 0.6931475, 0.6877323, 0.69044006, 0.69043994, 0.6877322, 0.6931475, 0.6931475, 0.6931475, 0.6931475, 0.6931475, 0.6931475, 0.6931475, 0.68502474, 0.6904398, 0.6931475, 0.6904398, 0.6877322, 0.69043994, 0.6931475, 0.68773234, 0.6931475, 0.6931475, 0.6931475, 0.68773246, 0.6931475, 0.6931475, 0.6931475, 0.6904399, 0.6902351, 0.682317, 0.6904399, 0.6931475, 0.6931475, 0.6931475, 0.6904398, 0.69043994, 0.69044006, 0.69043994, 0.6931475, 0.6931475, 0.6904399, 0.6931475, 0.6931475, 0.6931475, 0.6931475, 0.6931475, 0.6931475, 0.6904398, 0.68773234, 0.6904398, 0.69044006, 0.6931475, 0.6904398, 0.6904398, 0.69043994, 0.6877323, 0.6931475, 0.6931475, 0.6931475, 0.69043994, 0.6877322, 0.6931475, 0.6904399, 0.6931475, 0.6931475, 0.6904398, 0.6850249, 0.6904398, 0.6931475, 0.6904399, 0.6931475, 0.6877322, 0.6904398, 0.68773234, 0.6931475, 0.6931475, 0.68773234, 0.6931475, 0.6931475, 0.6931475, 0.6904399, 0.6931475, 0.6904399, 0.69044006, 0.6931475, 0.6931475, 0.6877322, 0.68773234, 0.69043994, 0.6931475, 0.6877322, 0.6931475, 0.6931475, 0.6931475, 0.6931475, 0.6877322, 0.6931475, 0.6931475, 0.6902353, 0.6931475, 0.6931475, 0.6904398, 0.6931475, 0.6877322, 0.6904399, 0.69044006, 0.69043994, 0.6931475, 0.69043994, 0.6931475, 0.6931475, 0.6904399, 0.68732274, 0.6931475, 0.6931475, 0.6904398, 0.6931475, 0.6904398, 0.6904399, 0.6904399, 0.6931475, 0.6877322, 0.6931475, 0.6904399, 0.69044006, 0.69043994, 0.6902351, 0.6877322, 0.6904399, 0.69043994, 0.6931475, 0.6931475, 0.6904398, 0.6931475, 0.6931475, 0.6931475, 0.6877322, 0.6904399, 0.69043994, 0.6931475, 0.6902353, 0.6931475, 0.6931475, 0.69043994, 0.6904398, 0.6931475, 0.6931475, 0.6877323, 0.68773246, 0.6931475, 0.69043994, 0.6931475, 0.6931475, 0.6877322, 0.6902351, 0.6904398, 0.69044006, 0.6931475, 0.69043994, 0.6904398, 0.6877322, 0.6931475, 0.6931475, 0.6904398, 0.6931475, 0.6931475, 0.6877323, 0.6931475, 0.6902351, 0.6931475, 0.6931475, 0.69043994, 0.6904399, 0.6931475, 0.6931475, 0.6850246, 0.6904399, 0.6931475, 0.6931475, 0.6931475, 0.6877323, 0.6904399, 0.6902353, 0.6904398, 0.6931475, 0.6931475, 0.69043994, 0.6931475, 0.6904399, 0.6904399, 0.6931475, 0.6931475, 0.6931475, 0.6904398, 0.6931475, 0.68773234, 0.6844106, 0.69043994, 0.6877323, 0.6931475, 0.6931475, 0.6904398, 0.6904399, 0.6904398, 0.69044006, 0.6931475, 0.6931475, 0.6850246, 0.6931475, 0.6931475, 0.6931475, 0.6931475, 0.6931475, 0.6931475, 0.6931475, 0.6931475, 0.69044006, 0.6904398, 0.6877322, 0.6931475, 0.69043994, 0.68773234, 0.6904398, 0.68773234, 0.6931475, 0.69043994, 0.6931475, 0.6931475, 0.6904399, 0.69043994, 0.6931475, 0.6904398, 0.6904398, 0.6904399, 0.6904398, 0.6931475, 0.68773246, 0.6931475, 0.6902351, 0.6877322, 0.6904398, 0.6931475, 0.6877324, 0.68773234, 0.6931475, 0.6931475, 0.6877322, 0.6931475, 0.6931475, 0.6931475, 0.6931475, 0.6904399, 0.6931475, 0.6877323, 0.6931475, 0.68773246, 0.6904398, 0.6904398, 0.6931475, 0.6931475, 0.6931475, 0.6904398, 0.6931475, 0.6904399, 0.6904399, 0.6931475, 0.6902351, 0.6931475, 0.6850247, 0.6904399, 0.6931475, 0.6904398, 0.6931475, 0.6904398, 0.6931475, 0.6904399, 0.6931475, 0.69043994, 0.69044006, 0.6931475, 0.6902351, 0.6904398, 0.6931475, 0.69043994, 0.6931475, 0.6904398, 0.69043994, 0.6931475, 0.6904399, 0.6931475, 0.6931475, 0.6931475, 0.6931475, 0.682317, 0.69023526, 0.6904398, 0.69043994, 0.6931475, 0.68773234, 0.6931475, 0.6931475, 0.6931475, 0.69044006, 0.6931475, 0.6904398, 0.6904399, 0.6904399, 0.6904399, 0.6902351, 0.6931475, 0.6931475, 0.6877323, 0.69044006, 0.6877323, 0.6931475, 0.6931475, 0.6904399, 0.6931475, 0.68773234, 0.6931475, 0.6904398, 0.6904398, 0.6931475, 0.6904399, 0.6904399, 0.6931475, 0.6931475, 0.68502474, 0.6931475, 0.6931475, 0.6904399, 0.68773246, 0.6931475, 0.6904398, 0.6931475, 0.6904398, 0.6931475, 0.6931475, 0.6904399, 0.6931475, 0.6877322, 0.6904398, 0.6904398, 0.6931475, 0.69043994, 0.6931475, 0.6931475, 0.69044006, 0.69043994, 0.6904398, 0.6902351, 0.6904399, 0.6931475, 0.6931475, 0.6931475, 0.6904399, 0.6877322, 0.68773234, 0.6931475, 0.6904398, 0.69044006, 0.6931475, 0.6877323, 0.6931475, 0.6931475, 0.6904398, 0.6904399, 0.6931475, 0.6877324, 0.6931475, 0.6931475, 0.69043994, 0.6931475, 0.6931475, 0.6931475, 0.69043994, 0.6904398, 0.6877323, 0.6902351, 0.6904398, 0.6904398, 0.6931475, 0.6931475, 0.6931475, 0.68773246, 0.6823171, 0.6931475, 0.6904399, 0.6931475, 0.6931475, 0.6904399, 0.6931475, 0.6931475, 0.6904399, 0.6904399, 0.6904399, 0.69044006, 0.6931475, 0.6904398, 0.6931475, 0.6931475, 0.68773234, 0.6931475, 0.6904398, 0.6931475, 0.6904398, 0.6902351, 0.6931475, 0.6931475, 0.6904398, 0.68773234, 0.6931475, 0.6931475, 0.6904398, 0.6904399, 0.6904398, 0.69043994, 0.69044006, 0.6931475, 0.6877322, 0.6931475, 0.6931475, 0.68773234, 0.6904399, 0.6904398, 0.6931475, 0.6931475, 0.6931475, 0.6877323, 0.69044006, 0.6904398, 0.6931475, 0.68773234, 0.6931475, 0.6931475, 0.69043994, 0.6904399, 0.6931475, 0.6904398, 0.6877323, 0.6931475, 0.6931475, 0.6904398, 0.6931475, 0.6904399, 0.6904399, 0.6904398, 0.6931475, 0.69023526, 0.6904398, 0.6931475, 0.6904398, 0.69044006, 0.68502474, 0.6931475, 0.6904399, 0.6931475, 0.6904399, 0.6931475, 0.6931475, 0.6931475, 0.6904399, 0.6902351, 0.6931475, 0.69043994, 0.6850246, 0.6904399, 0.69044006, 0.6904398, 0.6904398, 0.6931475, 0.6931475, 0.6931475, 0.6931475, 0.6931475, 0.68773234, 0.6931475, 0.6877322, 0.68773246, 0.6931475, 0.6931475, 0.6904398, 0.69043994, 0.6931475, 0.6931475, 0.69043994, 0.6877323, 0.6904398, 0.6931475, 0.6931475, 0.6931475, 0.6931475, 0.6931475, 0.6931475, 0.69043994, 0.6904399, 0.6904398, 0.6931475, 0.69043994, 0.68773246, 0.6904398, 0.6877323, 0.6904399, 0.6931475, 0.6931475, 0.68502486, 0.6904398, 0.6931475, 0.6931475, 0.6904399, 0.69043994, 0.6877322, 0.6904398, 0.6931475, 0.6931475, 0.6931475, 0.6931475, 0.6931475, 0.6902351, 0.6931475, 0.6931475, 0.69044006, 0.6877322, 0.6931475, 0.6931475, 0.68502474, 0.6931475, 0.6931475, 0.6904398, 0.6850246, 0.6931475, 0.6931475, 0.6931475, 0.6904398, 0.69044006, 0.6931475, 0.6904398, 0.6904399, 0.6877323, 0.6931475, 0.6931475, 0.6904399, 0.6877323, 0.69043994, 0.6931475, 0.6931475, 0.6931475, "
          ],
          "name": "stdout"
        }
      ]
    },
    {
      "cell_type": "code",
      "metadata": {
        "id": "7cQBupvsZBKE",
        "outputId": "08cb00c2-561b-4d2b-9ee4-71c5e36b9ee5",
        "colab": {
          "base_uri": "https://localhost:8080/",
          "height": 34
        }
      },
      "source": [
        "accuracy_1=100-min(lr.losses)\n",
        "accuracy_1"
      ],
      "execution_count": null,
      "outputs": [
        {
          "output_type": "execute_result",
          "data": {
            "text/plain": [
              "99.31768298149109"
            ]
          },
          "metadata": {
            "tags": []
          },
          "execution_count": 118
        }
      ]
    },
    {
      "cell_type": "code",
      "metadata": {
        "id": "9v8zzNBmZGwk",
        "outputId": "8f5d971b-2e46-4146-b719-6f32bdea1193",
        "colab": {
          "base_uri": "https://localhost:8080/",
          "height": 54
        }
      },
      "source": [
        "train(X_kmeans_2,Y_kmeans_2)"
      ],
      "execution_count": null,
      "outputs": [
        {
          "output_type": "stream",
          "text": [
            "0.6931475, 0.6931475, 0.6931475, 0.6931475, 0.6931475, 0.6931475, 0.6931475, 0.6931475, 0.69043994, 0.6931475, 0.6931475, 0.6931475, 0.6931475, 0.69043994, 0.74466777, 0.6931475, 0.6931475, 0.6931475, 0.69043994, 0.6931475, 0.6931475, 0.6931475, 0.6931475, 0.6931475, 0.6931475, 0.6931475, 0.6931475, 0.6931475, 0.6931475, 0.6931475, 0.6931475, 0.6931475, 0.74394405, 0.6931475, 0.6931475, 0.6931475, 0.6931475, 0.73384356, 0.73784316, 0.6931475, 0.6931475, 0.6931475, 0.6931475, 0.6931474, 0.7404429, 0.6931475, 0.6931475, 0.6931475, 0.6931475, 0.6931475, 0.6931475, 0.6931475, 0.6931475, 0.6931475, 0.6931475, 0.6931475, 0.6931475, 0.6931475, 0.6931475, 0.7411257, 0.6931475, 0.6931475, 0.6931475, 0.6931475, 0.6931475, 0.6931475, 0.6931475, 0.6931475, 0.6904399, 0.6931475, 0.6931475, 0.6931475, 0.6931475, 0.69043994, 0.6931475, 0.6931475, 0.6931475, 0.6931475, 0.6931475, 0.6931475, 0.6931475, 0.6931475, 0.6931475, 0.6931475, 0.6931475, 0.6931475, 0.6931475, 0.6931474, 0.6931475, 0.6931475, 0.6931475, 0.6904399, 0.6931475, 0.6931475, 0.6931475, 0.6931475, 0.6931475, 0.6931475, 0.6931475, 0.6931475, 0.6931475, 0.6931475, 0.6931475, 0.6931475, 0.6931475, 0.6931475, 0.6931475, 0.6931475, 0.6931475, 0.6931475, 0.6931475, 0.6931475, 0.6931475, 0.7375862, 0.6931475, 0.6931475, 0.6931475, 0.6931475, 0.6931475, 0.6931475, 0.6931475, 0.6931475, 0.6931475, 0.6931475, 0.6931475, 0.6931475, 0.6931475, 0.6931475, 0.6931475, 0.6931475, 0.6931475, 0.6931474, 0.6931475, 0.6931475, 0.6931475, 0.6931475, 0.73893785, 0.6931475, 0.6931475, 0.6931475, 0.6931475, 0.6931475, 0.6931475, 0.6931475, 0.6931475, 0.6931475, 0.6931475, 0.6931475, 0.6931475, 0.6931475, 0.6931475, 0.6931475, 0.6931475, 0.6931475, 0.6931475, 0.6931475, 0.6931475, 0.6931475, 0.6931475, 0.6931475, 0.6931475, 0.6931475, 0.6931475, 0.6931475, 0.6931475, 0.6931475, 0.68773234, 0.6931475, 0.6931475, 0.6931475, 0.6931475, 0.6931475, 0.6931475, 0.6931475, 0.6931475, 0.6931474, 0.6931475, 0.6931475, 0.6931475, 0.6931475, 0.6931475, 0.6931475, 0.6931475, 0.6931475, 0.6931475, 0.6931475, 0.6931475, 0.69043994, 0.6931475, 0.6931475, 0.6931475, 0.6931475, 0.6931475, 0.6931475, 0.6931475, 0.6931475, 0.6931475, 0.6931475, 0.69043994, 0.6931475, 0.6931475, 0.6931475, 0.6931475, 0.6931475, 0.6931475, 0.6931475, 0.6931475, 0.6931475, 0.6931475, 0.6931475, 0.73549175, 0.6931475, 0.6931475, 0.6931475, 0.6931475, 0.6931475, 0.6931475, 0.6931475, 0.6931475, 0.6931474, 0.6931475, 0.6931475, 0.6931475, 0.6931475, 0.6931475, 0.6931475, 0.6931475, 0.6931475, 0.6931475, 0.6931475, 0.6931475, 0.6931475, 0.6931475, 0.6931475, 0.6931475, 0.6931475, 0.6931475, 0.6931475, 0.6931475, 0.6931475, 0.6931475, 0.6931475, 0.6931475, 0.69043994, 0.6931475, 0.6931475, 0.6931475, 0.6931475, 0.6904403, 0.6931475, 0.6931475, 0.6931475, 0.6931475, 0.6931475, 0.6931475, 0.6931475, 0.6931475, 0.6931475, 0.6931475, 0.6931475, 0.6931475, 0.6931475, 0.6931475, 0.6931474, 0.6931475, 0.6931475, 0.69043994, 0.6931475, 0.6931475, 0.6931475, 0.6931475, 0.6931475, 0.6931475, 0.6931475, 0.6931475, 0.6931475, 0.6931475, 0.6931475, 0.6931475, 0.6931475, 0.6931475, 0.6931475, 0.6931475, 0.6931475, 0.6931475, 0.6931475, 0.6931475, 0.6931475, 0.6931475, 0.6931475, 0.6931475, 0.6931475, 0.6931475, 0.6931475, 0.6931475, 0.6931475, 0.6931475, 0.6931475, 0.6931475, 0.6931475, 0.6931475, 0.6931475, 0.6931475, 0.6931475, 0.6931475, 0.6904403, 0.6931475, 0.6931474, 0.6931475, 0.6931475, 0.6931475, 0.6931475, 0.6931475, 0.6931475, 0.6931475, 0.6931475, 0.6931475, 0.6931475, 0.6931475, 0.6931475, 0.6931475, 0.6931475, 0.6931475, 0.6931475, 0.6931475, 0.6931475, 0.6931475, 0.6931475, 0.6931475, 0.6931475, 0.6931475, 0.6931475, 0.69043994, 0.6931475, 0.6931475, 0.6931475, 0.6931475, 0.6931475, 0.6931475, 0.6931475, 0.6931475, 0.6931475, 0.6931475, 0.6931475, 0.6931475, 0.6931475, 0.6904403, 0.6931475, 0.6931475, 0.6931475, 0.6931475, 0.6931474, 0.6931475, 0.6931475, 0.6931475, 0.6931475, 0.6931475, 0.6931475, 0.6931475, 0.6931475, 0.6904403, 0.6931475, 0.6931475, 0.6931475, 0.69043994, 0.6931475, 0.6931475, 0.6931475, 0.6931475, 0.6931475, 0.6931475, 0.6931475, 0.6931475, 0.6931475, 0.6931475, 0.6931475, 0.6931475, 0.6931475, 0.6931475, 0.6931475, 0.6931475, 0.6931475, 0.6931475, 0.6931475, 0.6931475, 0.6931475, 0.6931475, 0.6931475, 0.6931475, 0.6931475, 0.6931475, 0.6931475, 0.6931475, 0.6931475, 0.6931475, 0.6931474, 0.6931475, 0.6931475, 0.6931475, 0.6931475, 0.6931475, 0.6931475, 0.69044024, 0.6931475, 0.6931475, 0.6931475, 0.6931475, 0.6931475, 0.6931475, 0.6931475, 0.6931475, 0.6931475, 0.6931475, 0.6931475, 0.6931475, 0.6931475, 0.6931475, 0.6931475, 0.6931475, 0.6931475, 0.6931475, 0.6931475, 0.6931475, 0.6931475, 0.6931475, 0.69043994, 0.6931475, 0.6931475, 0.6931475, 0.6931475, 0.6931475, 0.6931475, 0.6931475, 0.6931475, 0.6931475, 0.6931475, 0.6931475, 0.6931475, 0.6931475, 0.6931474, 0.6931475, 0.6931475, 0.6931475, 0.6931475, 0.6931475, 0.6931475, 0.6931475, 0.6931475, 0.6931475, 0.6931475, 0.6931475, 0.6931475, 0.6931475, 0.6931475, 0.6931475, 0.6931475, 0.6931475, 0.69043994, 0.6931475, 0.6931475, 0.6931475, 0.6931475, 0.6931475, 0.6931475, 0.6931475, 0.6931475, 0.6931475, 0.6931475, 0.6931475, 0.6931475, 0.6931475, 0.6931475, 0.6904402, 0.6931475, 0.6931475, 0.6931475, 0.6931475, 0.6931475, 0.6931475, 0.6931475, 0.6931475, 0.6931475, 0.6931475, 0.6931474, 0.6931475, 0.6931475, 0.6931475, 0.6931475, 0.6931475, 0.6931475, 0.6931475, 0.6931475, 0.6931475, 0.6931475, 0.6931475, 0.6931475, 0.69043994, 0.6931475, 0.6931475, 0.6931475, 0.6931475, 0.6931475, 0.6931475, 0.6931475, 0.6931475, 0.6931475, 0.6931475, 0.6931475, 0.6931475, 0.6931475, 0.6931475, 0.6931475, 0.6931475, 0.6931475, 0.6931475, 0.6904402, 0.6931475, 0.6931475, 0.6931475, 0.6931475, 0.6931475, 0.6931475, 0.6931475, 0.6931475, 0.6931475, 0.6931475, 0.6931475, 0.6931474, 0.6931475, 0.6904402, 0.6931475, 0.6931475, 0.6931475, 0.6931475, 0.6931475, 0.6931475, 0.6931475, 0.6931475, 0.6931475, 0.6931475, 0.6931475, 0.6931475, 0.6931475, 0.6931475, 0.6931475, 0.6931475, 0.6931475, 0.6931475, 0.6931475, 0.6931475, 0.6931475, 0.6931475, 0.6931475, 0.6931475, 0.6931475, 0.6931475, 0.6931475, 0.6931475, 0.6931475, 0.6931475, 0.6931475, 0.6931475, 0.6931475, 0.6931475, 0.6931475, 0.6931475, 0.6931475, 0.6931475, 0.6931475, 0.69043994, 0.6931475, 0.6931474, 0.6931475, 0.6931475, 0.6931475, 0.6931475, 0.6931475, 0.6931475, 0.6931475, 0.6931475, 0.6931475, 0.6931475, 0.6931475, 0.6931475, 0.6931475, 0.6931475, 0.6931475, 0.69043994, 0.6931475, 0.6931475, 0.6931475, 0.6931475, 0.6931475, 0.6931475, 0.6904402, 0.6931475, 0.6931475, 0.6931475, 0.6931475, 0.6931475, 0.6931475, 0.6931475, 0.6931475, 0.6931475, 0.6931475, 0.6931475, 0.6931475, 0.6931475, 0.6931475, 0.6931475, 0.6931475, 0.6931475, 0.6931475, 0.6931475, 0.6931475, 0.6931474, 0.6931475, 0.6931475, 0.6931475, 0.6931475, 0.6931475, 0.6931475, 0.6931475, 0.6931475, 0.6931475, 0.6931475, 0.6931475, 0.6931475, 0.6931475, 0.6931475, 0.6931475, 0.6931475, 0.6931475, 0.6931475, 0.6931475, 0.6931475, 0.6931475, 0.6931475, 0.6931475, 0.6904402, 0.6931475, 0.6931475, 0.6931475, 0.6931475, 0.6931475, 0.6931475, 0.6931475, 0.6931475, 0.69043994, 0.6931475, 0.6931475, 0.6931475, 0.6931475, 0.6931475, 0.6931475, 0.6931475, 0.6931475, 0.6931475, 0.6931475, 0.6931474, 0.6931475, 0.6931475, 0.6931475, 0.6931475, 0.6931475, 0.6931475, 0.6931475, 0.6931475, 0.6931475, 0.6931475, 0.6931475, 0.6904402, 0.6931475, 0.6931475, 0.6931475, 0.6931475, 0.6931475, 0.6931475, 0.6931475, 0.6931475, 0.6931475, 0.6931475, 0.6931475, 0.6931475, 0.6931475, 0.6931475, 0.6931475, 0.6931475, 0.6931475, 0.6931475, 0.6931475, 0.6931475, 0.6931475, 0.6931475, 0.6931475, 0.6931475, 0.6931475, 0.6931475, 0.6931475, 0.6931475, 0.69043994, 0.6931475, 0.6931475, 0.6931474, 0.6931475, 0.6931475, 0.6931475, 0.6931475, 0.6931475, 0.6931475, 0.6931475, 0.6931475, 0.6931475, 0.69043994, 0.6931475, 0.6931475, 0.6931475, 0.6931475, 0.6931475, 0.6931475, 0.6931475, 0.6931475, 0.6931475, 0.6931475, 0.6931475, 0.6931475, 0.6931475, 0.6931475, 0.6931475, 0.6931475, 0.6931475, 0.6931475, 0.6931475, 0.6931475, 0.6931475, 0.6931475, 0.6931475, 0.6931475, 0.6931475, 0.6931475, 0.6931475, 0.6931475, 0.6931475, 0.6931475, 0.6904402, 0.6931475, 0.6931475, 0.6931474, 0.6931475, 0.6931475, 0.6931475, 0.6931475, 0.6931475, 0.6931475, 0.6931475, 0.6931475, 0.6931475, 0.6931475, 0.6931475, 0.6931475, 0.6931475, 0.6931475, 0.6931475, 0.6931475, 0.6931475, 0.6931475, 0.6931475, 0.6931475, 0.6931475, 0.6931475, 0.6931475, 0.69043994, 0.6931475, 0.6931475, 0.6931475, 0.6931475, 0.6931475, 0.6931475, 0.6931475, 0.6931475, 0.6931475, 0.6904402, 0.6931475, 0.6931475, 0.6931475, 0.6931475, 0.6931475, 0.6931475, 0.6931475, 0.6931475, 0.6931475, 0.6931474, 0.6931475, 0.6931475, 0.6931475, 0.6931475, 0.6931475, 0.6931475, 0.6931475, 0.6931475, 0.6931475, 0.6931475, 0.6931475, 0.6931475, 0.6931475, 0.6931475, 0.6931475, 0.6931475, 0.6931475, 0.6904402, 0.6931475, 0.6931475, 0.6931475, 0.6931475, 0.69043994, 0.6931475, 0.6931475, 0.6931475, 0.6931475, 0.6931475, 0.6931475, 0.6931475, 0.6931475, 0.6931475, 0.6931475, 0.6931475, 0.6931475, 0.6931475, 0.6931475, 0.6931475, 0.6931475, 0.6931475, 0.6931475, 0.6931475, 0.6931475, 0.6931474, 0.6931475, 0.6931475, 0.6931475, 0.6931475, 0.6931475, 0.6931475, 0.6931475, 0.6931475, 0.6931475, 0.6931475, 0.6931475, 0.6931475, 0.6931475, 0.69043994, 0.6931475, 0.6931475, 0.6931475, 0.6931475, 0.6931475, 0.6931475, 0.6931475, 0.6931475, 0.6931475, 0.6931475, 0.6931475, 0.6931475, 0.6931475, 0.6931475, 0.6931475, 0.6931475, 0.6931475, 0.6931475, 0.6931475, 0.6931475, 0.6931475, 0.6931475, 0.6904402, 0.6931475, 0.6931475, 0.6931475, 0.6931475, 0.6931475, 0.6931475, 0.6931474, 0.6931475, 0.6931475, 0.6931475, 0.6931475, 0.6931475, 0.6931475, 0.6931475, 0.6931475, 0.6931475, 0.6931475, 0.6931475, 0.6931475, 0.6931475, 0.6931475, 0.6931475, 0.6931475, 0.6931475, 0.6931475, 0.6931475, 0.6931475, 0.6931475, 0.6931475, 0.6931475, 0.6931475, 0.6931475, 0.6931475, 0.6931475, 0.6931475, 0.6931475, 0.6931475, 0.6931475, 0.6931475, 0.69043994, 0.6904402, 0.6931475, 0.6931475, 0.6931475, 0.6931475, 0.6931475, 0.6931475, 0.6931475, 0.6931475, 0.6931475, 0.6931474, 0.6931475, 0.6931475, 0.6931475, 0.6931475, 0.6931475, 0.6931475, 0.6931475, 0.6931475, 0.6931475, 0.6931475, 0.6931475, 0.6931475, 0.6931475, 0.6931475, 0.6931475, 0.6931475, 0.6904402, 0.6931475, 0.6931475, 0.6931475, 0.6931475, 0.6931475, 0.6931475, 0.69043994, 0.6931475, 0.6931475, 0.6931475, 0.6931475, 0.6931475, 0.6931475, 0.6931475, 0.6931475, 0.6931475, 0.6931475, 0.6931475, 0.6931475, 0.6931475, 0.6931475, 0.6931475, 0.6931475, 0.6931475, 0.6931475, 0.6931475, 0.6931474, 0.6931475, 0.6931475, 0.6931475, 0.6931475, 0.6931475, 0.6931475, 0.6931475, 0.6931475, 0.6931475, 0.6931475, 0.6931475, 0.6931475, 0.6931475, 0.69043994, 0.6931475, 0.6931475, 0.6931475, 0.6931475, 0.6931475, 0.6931475, 0.6931475, 0.6931475, 0.6931475, 0.6931475, 0.6931475, 0.6931475, 0.6931475, 0.6931475, 0.6931475, 0.6931475, 0.6931475, 0.6931475, 0.6931475, 0.6931475, 0.6931475, 0.6931475, 0.6931475, 0.6931475, 0.6931475, 0.6931475, 0.6931475, 0.6904402, 0.6931475, 0.6931474, 0.6931475, 0.6931475, 0.6931475, 0.6931475, 0.6931475, 0.6931475, 0.6931475, 0.6931475, 0.6931475, 0.6931475, 0.6931475, 0.6931475, 0.6931475, 0.6931475, 0.6931475, 0.6931475, 0.6931475, 0.6931475, 0.6931475, 0.6931475, 0.6931475, 0.6931475, 0.69043994, 0.6931475, 0.6904402, 0.6931475, 0.6931475, 0.6931475, 0.6931475, 0.6931475, 0.6931475, 0.6931475, 0.6931475, 0.6931475, 0.6931475, 0.6931475, 0.6931475, 0.6931475, 0.6931475, 0.6931475, 0.6931475, 0.6931475, 0.6931475, 0.6931474, 0.6931475, 0.69043994, 0.6931475, 0.6931475, 0.6931475, 0.6931475, 0.6931475, 0.6931475, 0.6931475, 0.6931475, 0.6931475, 0.6931475, 0.6931475, 0.6931475, 0.6931475, 0.6931475, 0.6931475, 0.6931475, 0.6931475, 0.6931475, 0.6931475, 0.6931475, 0.6931475, 0.6931475, 0.6931475, 0.6931475, 0.6931475, 0.6931475, 0.6931475, 0.6931475, 0.6931475, 0.6931475, 0.6931475, 0.6931475, 0.6931475, 0.6931475, 0.6931475, 0.6931475, 0.6931475, 0.6931475, 0.6931475, 0.6931475, 0.6904402, 0.6931474, 0.6931475, 0.6931475, 0.6931475, 0.6904402, 0.6931475, 0.69043994, 0.6931475, 0.6931475, 0.6931475, 0.6931475, 0.6931475, 0.6931475, 0.6931475, 0.6931475, 0.6931475, 0.6931475, 0.6931475, 0.6931475, 0.6931475, 0.6931475, 0.6931475, 0.6931475, 0.6931475, 0.6931475, 0.6931475, 0.6931475, 0.6931475, 0.6931475, 0.6931475, 0.6931475, 0.6931475, 0.6931475, 0.6931475, 0.6931475, 0.6931475, 0.6931475, 0.6931475, 0.6931475, 0.6931475, 0.6931475, 0.6931475, 0.6931475, 0.6931475, 0.6931474, 0.6931475, 0.6931475, 0.6931475, 0.6931475, 0.6931475, 0.6931475, 0.6931475, 0.6931475, 0.6931475, 0.6931475, 0.6931475, 0.6931475, 0.6931475, 0.6931475, 0.6931475, 0.6931475, 0.6931475, 0.6931475, 0.6931475, 0.6931475, 0.6931475, 0.6931475, 0.6904402, 0.6931475, 0.6931475, 0.6931475, 0.6931475, 0.6931475, 0.6931475, 0.6931475, 0.69043994, 0.6931475, 0.6931475, 0.6931475, 0.6931475, 0.6931475, 0.6931475, 0.6931475, 0.6931475, 0.6931475, 0.6931475, 0.6931475, 0.6931475, 0.6931474, 0.6931475, 0.6931475, 0.6931475, 0.6931475, 0.6931475, 0.6931475, 0.6931475, 0.6931475, 0.6931475, 0.6931475, 0.6931475, 0.6931475, 0.69043994, 0.6931475, 0.6931475, 0.6931475, 0.6931475, 0.6931475, 0.6931475, 0.6931475, 0.6931475, 0.6931475, 0.6931475, 0.6931475, 0.6931475, 0.6931475, 0.6931475, 0.6931475, 0.6931475, 0.6904402, 0.6931475, 0.6931475, 0.6931475, 0.6931475, 0.6931475, 0.6931475, 0.6931475, 0.6931475, 0.6931475, 0.6931475, 0.6931475, 0.6931475, 0.6931475, 0.6931474, 0.6931475, 0.6931475, 0.6931475, 0.6931475, 0.6931475, 0.6931475, 0.6931475, 0.6931475, 0.6931475, 0.6931475, 0.6931475, 0.6931475, 0.69043994, 0.6931475, 0.6931475, 0.6931475, 0.6931475, 0.6931475, 0.6931475, 0.6931475, 0.6931475, 0.6931475, 0.6931475, 0.6931475, 0.6931475, 0.6931475, 0.6931475, 0.6904402, 0.6931475, 0.6931475, 0.6931475, 0.6931475, 0.6931475, 0.6931475, 0.6931475, 0.6931475, 0.6931475, 0.6931475, 0.6931475, 0.6931475, 0.6931475, 0.6931475, 0.6931475, 0.6931474, 0.6931475, 0.6931475, 0.6931475, 0.6931475, 0.6931475, 0.6931475, 0.6931475, 0.6931475, 0.6931475, 0.6931475, 0.6931475, 0.6931475, 0.6931475, 0.6931475, 0.6931475, 0.6931475, 0.6931475, 0.6931475, 0.6904402, 0.6931475, 0.6931475, 0.6931475, 0.6931475, 0.6931475, 0.6931475, 0.6931475, 0.6931475, 0.6931475, 0.6931475, 0.6931475, 0.69043994, 0.6931475, 0.6931475, 0.6931475, 0.6931475, 0.6931475, 0.6931475, 0.6931475, 0.6931475, 0.6931475, 0.6931475, 0.6931475, 0.6931475, 0.6931474, 0.6931475, 0.6931475, 0.6931475, 0.6931475, 0.6931475, 0.6931475, 0.6931475, 0.6931475, 0.6931475, 0.6931475, 0.6931475, 0.6931475, 0.6931475, 0.6931475, 0.6931475, 0.6931475, 0.6931475, 0.6931475, 0.6904402, 0.6931475, 0.6931475, 0.6931475, 0.6931475, 0.6931475, 0.6931475, 0.6931475, 0.6931475, 0.6931475, 0.6931475, 0.6931475, 0.6931475, 0.6931475, 0.6931475, 0.69043994, 0.6931475, 0.6931475, 0.6931475, 0.6931475, 0.6931475, 0.6931475, 0.6931475, 0.6931475, 0.6931475, 0.6931474, 0.6931475, 0.6931475, 0.6931475, 0.6931475, 0.6931475, 0.6931475, 0.6931475, 0.6931475, 0.6931475, 0.6931475, 0.6931475, 0.6931475, 0.69043994, 0.6931475, 0.6931475, 0.6931475, 0.6931475, 0.6931475, 0.6904402, 0.6931475, 0.6931475, 0.6931475, 0.6931475, 0.6931475, 0.6931475, 0.6931475, 0.6931475, 0.6931475, 0.6931475, 0.6931475, 0.6931475, 0.6931475, 0.6931475, 0.6931475, 0.6931475, 0.6931475, 0.6931475, 0.6931475, 0.6931475, 0.6931475, 0.6931475, 0.6931475, 0.6931475, 0.6931474, 0.6931475, 0.6931475, 0.6904402, 0.6931475, 0.6931475, 0.6931475, 0.6931475, 0.6931475, 0.6931475, 0.6931475, 0.6931475, 0.6931475, 0.6931475, 0.6931475, 0.6931475, 0.6931475, 0.6931475, 0.6931475, 0.6931475, 0.6931475, 0.6931475, 0.6931475, 0.69043994, 0.6931475, 0.6931475, 0.6931475, 0.6931475, 0.6931475, 0.6931475, 0.6931475, 0.6931475, 0.6931475, 0.6931475, 0.6931475, 0.6931475, 0.6931475, 0.6931475, 0.6931475, 0.6931475, 0.6931475, 0.6931475, 0.6931475, 0.6931475, 0.6931474, 0.6931475, 0.6931475, 0.6931475, 0.69043994, 0.6931475, 0.6931475, 0.6931475, 0.6931475, 0.6931475, 0.6931475, 0.6931475, 0.6931475, 0.6931475, 0.6931475, 0.6931475, 0.6904402, 0.6931475, 0.6931475, 0.6931475, 0.6931475, 0.6931475, 0.6931475, 0.6931475, 0.6931475, 0.6931475, 0.6931475, 0.6931475, 0.6931475, 0.6931475, 0.6931475, 0.6931475, 0.6931475, 0.6931475, 0.6931475, 0.6931475, 0.6931475, 0.6931475, 0.6931475, 0.6931475, 0.6931475, 0.6931475, 0.6931475, 0.6931475, 0.6931474, 0.6931475, 0.6931475, 0.6931475, 0.6931475, 0.6931475, 0.6931475, 0.6931475, 0.6931475, 0.6931475, 0.6931475, 0.6931475, 0.6931475, 0.6931475, 0.6931475, 0.6931475, 0.6931475, 0.6931475, 0.6904402, 0.6931475, 0.6931475, 0.6931475, 0.6931475, 0.6931475, 0.6931475, 0.6931475, 0.6931475, 0.6931475, 0.6931475, 0.6931475, 0.6931475, 0.6931475, 0.6931475, 0.6931475, 0.6931475, 0.6931475, 0.69043994, 0.6931475, 0.6931475, 0.6931475, 0.6931475, 0.6931475, 0.6931475, 0.6931475, 0.6931474, 0.6931475, 0.6931475, 0.6931475, 0.6931475, 0.6931475, 0.6931475, 0.6931475, 0.6931475, 0.69043994, 0.6931475, 0.6931475, 0.6931475, 0.6931475, 0.6931475, 0.6931475, 0.6931475, 0.6931475, 0.6931475, 0.6931475, 0.6931475, 0.6931475, 0.6931475, 0.6931475, 0.6904402, 0.6931475, 0.6931475, 0.6931475, 0.6931475, 0.6931475, 0.6931475, 0.6931475, 0.6931475, 0.6931475, 0.6931475, 0.6931475, 0.6931475, 0.6931475, 0.6931475, 0.6931475, 0.6931475, 0.6931475, 0.6931475, 0.6931475, 0.6931474, 0.6931475, 0.6931475, 0.6931475, 0.6931475, 0.6931475, 0.6931475, 0.6931475, 0.6931475, 0.6931475, 0.6931475, 0.6931475, 0.6931475, 0.6931475, 0.6931475, 0.6931475, 0.6931475, 0.6931475, 0.6931475, 0.6931475, 0.6904402, 0.6931475, 0.6931475, 0.69043994, 0.6931475, 0.6931475, 0.6931475, 0.6931475, 0.6931475, 0.6931475, 0.6931475, 0.6931475, 0.6931475, 0.6931475, 0.6931475, 0.6931475, 0.6931475, 0.6931475, 0.6931475, 0.6931475, 0.6931475, 0.6931475, 0.6931475, 0.6931475, 0.6931474, 0.6931475, 0.6904402, 0.6931475, 0.6931475, 0.6931475, 0.6931475, 0.6931475, 0.6931475, 0.6931475, 0.6931475, 0.6931475, 0.6931475, 0.6931475, 0.6931475, 0.6931475, 0.6931475, 0.6931475, 0.69043994, 0.6931475, 0.6931475, 0.6931475, 0.6931475, 0.6931475, 0.6931475, 0.6931475, 0.6931475, 0.6931475, 0.6931475, 0.6931475, 0.6931475, 0.6931475, 0.6931475, 0.6931475, 0.6931475, 0.6931475, 0.6931475, 0.6931475, 0.6931475, 0.6931475, 0.6931475, 0.6931475, 0.6931475, 0.6931475, 0.6931474, 0.6931475, 0.6931475, 0.6931475, 0.6904402, 0.6931475, 0.6931475, 0.6931475, 0.6931475, 0.6931475, 0.6931475, 0.6931475, 0.6931475, 0.6931475, 0.6931475, 0.6931475, 0.6931475, 0.6931475, 0.6931475, 0.6931475, 0.6931475, 0.6931475, 0.6931475, 0.6931475, 0.6931475, 0.6931475, 0.6931475, 0.6931475, 0.6931475, 0.6931475, 0.6931475, 0.69043994, 0.6931475, 0.6931475, 0.6931475, 0.6931475, 0.6931475, 0.6931475, 0.6931475, 0.6931475, 0.6931475, 0.6931475, 0.6931475, 0.6931475, 0.6931474, 0.6931475, 0.6931475, 0.6931475, 0.6931475, 0.6931475, 0.6931475, 0.6931475, 0.6931475, 0.6931475, 0.6931475, 0.6931475, 0.6931475, 0.6931475, 0.6931475, 0.6931475, 0.6931475, 0.6931475, 0.6931475, 0.6931475, 0.6931475, 0.6931475, 0.6931475, 0.6931475, 0.6931475, 0.6931475, 0.6931475, 0.6931475, 0.6931475, 0.6931475, 0.6931475, 0.69043994, 0.6931475, 0.6931475, 0.6904402, 0.6931475, 0.6931475, 0.6931475, 0.6931475, 0.6931475, 0.6931475, 0.6931475, 0.6931475, 0.6931475, 0.6931474, 0.6931475, 0.6931475, 0.6931475, 0.6931475, 0.6931475, 0.6931475, 0.6931475, 0.6931475, 0.6931475, 0.6931475, 0.6931475, 0.6931475, 0.6931475, 0.6931475, 0.6931475, 0.6931475, 0.6931475, 0.69043994, 0.6931475, 0.6931475, 0.6931475, 0.6931475, 0.6931475, 0.6931475, 0.6931475, 0.6931475, 0.6931475, 0.6931475, 0.6931475, 0.6931475, 0.6931475, 0.6931475, 0.6931475, 0.6931475, 0.6931475, 0.6931475, 0.6931475, 0.6931475, 0.6904402, 0.6931475, 0.6931475, 0.6931475, 0.6931475, 0.6931474, 0.6931475, 0.6931475, 0.6931475, 0.6931475, 0.6931475, 0.6931475, 0.6931475, 0.6931475, 0.6931475, 0.6931475, 0.6931475, 0.6931475, 0.6931475, 0.6931475, 0.6931475, 0.6931475, 0.6931475, 0.6931475, 0.6931475, 0.6931475, 0.6931475, 0.6931475, 0.6931475, 0.6904402, 0.6931475, 0.6931475, 0.6931475, 0.6931475, 0.6931475, 0.6931475, 0.6931475, 0.6931475, 0.6931475, 0.6931475, 0.6931475, 0.6931475, 0.6931475, 0.6931475, 0.6931475, 0.6931475, 0.6931475, 0.69043994, 0.6931475, 0.6931474, 0.6931475, 0.6931475, 0.6931475, 0.6931475, 0.6931475, 0.6931475, 0.69043994, 0.6931475, 0.6931475, 0.6931475, 0.6904402, 0.6931475, 0.6931475, 0.6931475, 0.6931475, 0.6931475, 0.6931475, 0.6931475, 0.6931475, 0.6931475, 0.6931475, 0.6931475, 0.6931475, 0.6931475, 0.6931475, 0.6931475, 0.6931475, 0.6931475, 0.6931475, 0.6931475, 0.6931475, 0.6931475, 0.6931475, 0.6931475, 0.6931475, 0.6931475, 0.6931475, 0.6931475, 0.6931475, 0.6931475, 0.6931475, 0.6931475, 0.6931475, 0.6931474, 0.6931475, 0.6931475, 0.6931475, 0.6931475, 0.6931475, 0.6931475, 0.6931475, 0.6931475, 0.6931475, 0.6931475, 0.6931475, 0.6931475, 0.6931475, 0.6931475, 0.6931475, 0.6931475, 0.6931475, 0.6931475, 0.6931475, 0.6931475, 0.6931475, 0.6931475, 0.6931475, 0.6931475, 0.6931475, 0.6931475, 0.6931475, 0.6931475, 0.6931475, 0.6931475, 0.6931475, 0.6931475, 0.6931475, 0.6931475, 0.6931475, 0.6904402, 0.69043994, 0.6931475, 0.6931475, 0.6931475, 0.6931475, 0.6931475, 0.6931475, 0.6931474, 0.6931475, 0.6931475, 0.6931475, 0.6931475, 0.6931475, 0.6931475, 0.6931475, 0.68773264, 0.6931475, 0.6931475, 0.6931475, 0.6931475, 0.6931475, 0.6931475, 0.6931475, 0.6931475, 0.6931475, 0.6931475, 0.6931475, 0.6931475, 0.6931475, 0.6931475, 0.6931475, 0.6931475, 0.6931475, 0.6931475, 0.6931475, 0.6931475, 0.6931475, 0.6931475, 0.6931475, 0.6931475, 0.6931475, 0.6931475, 0.6931475, 0.6931475, 0.6931475, 0.6931475, 0.6931475, 0.6931475, 0.6931475, 0.6931475, 0.6931475, 0.6931474, 0.6931475, 0.6931475, 0.6931475, 0.6931475, 0.6931475, 0.6931475, 0.6931475, 0.6931475, 0.6931475, 0.6931475, 0.6931475, 0.6931475, 0.6931475, 0.6931475, 0.69043994, 0.6931475, 0.6931475, 0.6931475, 0.6904402, 0.6931475, 0.6931475, 0.6931475, 0.6931475, 0.6931475, 0.6931475, 0.6931475, 0.6931475, 0.6931475, 0.6931475, 0.6931475, 0.6931475, 0.6931475, 0.6931475, 0.6931475, 0.6931475, 0.6931475, 0.6931475, 0.6931475, 0.6931475, 0.6931475, 0.6931475, 0.6931475, 0.6931475, 0.6931474, 0.6931475, 0.6931475, 0.6931475, 0.6931475, 0.6931475, 0.6931475, 0.6931475, 0.6931475, 0.6931475, 0.6931475, 0.6931475, 0.6931475, 0.6931475, 0.6931475, 0.6931475, 0.6931475, 0.6931475, 0.6931475, 0.6931475, 0.6931475, 0.6931475, 0.6931475, 0.69043994, 0.6931475, 0.6931475, 0.6931475, 0.6931475, 0.6931475, 0.6931475, 0.6931475, 0.6931475, 0.6904402, 0.6931475, 0.6931475, 0.6931475, 0.6931475, 0.6931475, 0.6931475, 0.6931475, 0.6931475, 0.6931475, 0.6931475, 0.6931475, 0.6931474, 0.6931475, 0.6931475, 0.6931475, 0.6931475, 0.6931475, 0.6931475, 0.6931475, 0.6931475, 0.6931475, 0.6931475, 0.6931475, 0.6931475, 0.6931475, 0.6931475, 0.69043994, 0.6931475, 0.6931475, 0.6931475, 0.6931475, 0.6931475, 0.6931475, 0.6931475, 0.6931475, 0.6931475, 0.6931475, 0.6904402, 0.6931475, 0.6931475, 0.6931475, 0.6931475, 0.6931475, 0.6931475, 0.6931475, 0.6931475, 0.6931475, 0.6931475, 0.6931475, 0.6931475, 0.6931475, 0.6931475, 0.6931475, 0.6931475, 0.6931475, 0.6931474, 0.6931475, 0.6931475, 0.6931475, 0.6931475, 0.6931475, 0.6931475, 0.6931475, 0.69043994, 0.6931475, 0.6931475, 0.6931475, 0.6931475, 0.6931475, 0.6931475, 0.6931475, 0.6931475, 0.6931475, 0.6931475, 0.6931475, 0.6931475, 0.6931475, 0.6931475, 0.6931475, 0.6931475, 0.6904401, 0.6931475, 0.6931475, 0.6931475, 0.6931475, 0.6931475, 0.6931475, 0.6931475, 0.6931475, 0.6931475, 0.6931475, 0.6931475, 0.6931475, 0.6931475, 0.6931475, 0.6931475, 0.6931475, 0.6931475, 0.6931475, 0.6931474, 0.6931475, 0.6931475, 0.6931475, 0.6931475, 0.6931475, 0.6931475, 0.6931475, 0.6931475, 0.6931475, 0.6931475, 0.6931475, 0.6931475, 0.6877326, 0.6931475, 0.6931475, 0.6931475, 0.6931475, 0.6931475, 0.6931475, 0.6931475, 0.6931475, 0.6931475, 0.6931475, 0.6931475, 0.6931475, 0.6931475, 0.6931475, 0.6931475, 0.6931475, 0.6931475, 0.6931475, 0.6931475, 0.6931475, 0.6931475, 0.6931475, 0.6931475, 0.6931475, 0.6931475, 0.6931475, 0.6931475, 0.6931475, 0.6931475, 0.6931475, 0.6931474, "
          ],
          "name": "stdout"
        }
      ]
    },
    {
      "cell_type": "code",
      "metadata": {
        "id": "OLH8Fwq1ZO63",
        "outputId": "719101fe-da32-4c00-ca34-c176b114bddf",
        "colab": {
          "base_uri": "https://localhost:8080/",
          "height": 34
        }
      },
      "source": [
        "accuracy_2=100-min(lr.losses)\n",
        "accuracy_2"
      ],
      "execution_count": null,
      "outputs": [
        {
          "output_type": "execute_result",
          "data": {
            "text/plain": [
              "99.31226766109467"
            ]
          },
          "metadata": {
            "tags": []
          },
          "execution_count": 120
        }
      ]
    },
    {
      "cell_type": "code",
      "metadata": {
        "id": "B2IMS7VtZVQg",
        "outputId": "08a6e707-37e2-42db-a6c4-a6ceaa83e94b",
        "colab": {
          "base_uri": "https://localhost:8080/",
          "height": 54
        }
      },
      "source": [
        "train(X_kmeans_3,Y_kmeans_3)"
      ],
      "execution_count": null,
      "outputs": [
        {
          "output_type": "stream",
          "text": [
            "0.6931475, 0.6931475, 0.6931475, 0.6931475, 0.6931475, 0.6931475, 0.6931475, 0.6931475, 0.6931475, 0.6931475, 0.6931475, 0.6931472, 0.6931475, 0.6931475, 0.6931475, 0.6931475, 0.6931475, 0.6931475, 0.6931475, 0.6931475, 0.6931475, 0.6931475, 0.6931475, 0.6931472, 0.6931475, 0.6931475, 0.6931475, 0.6931475, 0.6931475, 0.6931475, 0.6931475, 0.6931475, 0.6931475, 0.6931475, 0.6931475, 0.6931472, 0.6931475, 0.6931475, 0.6931475, 0.6931475, 0.6931475, 0.6931475, 0.6931475, 0.6931475, 0.6931475, 0.6931475, 0.6931475, 0.6931472, 0.6931475, 0.6931475, 0.6931475, 0.6931475, 0.6931475, 0.6931475, 0.6931475, 0.6931475, 0.6931475, 0.6931475, 0.6931475, 0.6931472, 0.6931475, 0.6931475, 0.6931475, 0.6931475, 0.6931475, 0.6931475, 0.6931475, 0.6931475, 0.6931475, 0.6931475, 0.6931475, 0.6931472, 0.6931475, 0.6931475, 0.6931475, 0.6931475, 0.6931475, 0.6931475, 0.6931475, 0.6931475, 0.6931475, 0.6931475, 0.6931475, 0.6931472, 0.6931475, 0.6931475, 0.6931475, 0.6931475, 0.6931475, 0.6931475, 0.6931475, 0.6931475, 0.6931475, 0.6931475, 0.6931475, 0.6931472, 0.6931475, 0.6931475, 0.6931475, 0.6931475, 0.6931475, 0.6931475, 0.6931475, 0.6931475, 0.6931475, 0.6931475, 0.6931475, 0.6931472, 0.6931475, 0.6931475, 0.6931475, 0.6931475, 0.6931475, 0.6931475, 0.6931475, 0.6931475, 0.6931475, 0.6931475, 0.6931475, 0.6931472, 0.6931475, 0.6931475, 0.6931475, 0.6931475, 0.6931475, 0.6931475, 0.6931475, 0.6931475, 0.6931475, 0.6931475, 0.6931475, 0.6931472, 0.6931475, 0.6931475, 0.6931475, 0.6931475, 0.6931475, 0.6931475, 0.6931475, 0.6931475, 0.6931475, 0.6931475, 0.6931475, 0.6931472, 0.6931475, 0.6931475, 0.6931475, 0.6931475, 0.6931475, 0.6931475, 0.6931475, 0.6931475, 0.6931475, 0.6931475, 0.6931475, 0.6931472, 0.6931475, 0.6931475, 0.6931475, 0.6931475, 0.6931475, 0.6931475, 0.6931475, 0.6931475, 0.6931475, 0.6931475, 0.6931475, 0.6931472, 0.6931475, 0.6931475, 0.6931475, 0.6931475, 0.6931475, 0.6931475, 0.6931475, 0.6931475, 0.6931475, 0.6931475, 0.6931475, 0.6931472, 0.6931475, 0.6931475, 0.6931475, 0.6931475, 0.6931475, 0.6931475, 0.6931475, 0.6931475, 0.6931475, 0.6931475, 0.6931475, 0.6931472, 0.6931475, 0.6931475, 0.6931475, 0.6931475, 0.6931475, 0.6931475, 0.6931475, 0.6931475, 0.6931475, 0.6931475, 0.6931475, 0.6931472, 0.6931475, 0.6931475, 0.6931475, 0.6931475, 0.6931475, 0.6931475, 0.6931475, 0.6931475, 0.6931475, 0.6931475, 0.6931475, 0.6931472, 0.6931475, 0.6931475, 0.6931475, 0.6931475, 0.6931475, 0.6931475, 0.6931475, 0.6931475, 0.6931475, 0.6931475, 0.6931475, 0.6931472, 0.6931475, 0.6931475, 0.6931475, 0.6931475, 0.6931475, 0.6931475, 0.6931475, 0.6931475, 0.6931475, 0.6931475, 0.6931475, 0.6931472, 0.6931475, 0.6931475, 0.6931475, 0.6931475, 0.6931475, 0.6931475, 0.6931475, 0.6931475, 0.6931475, 0.6931475, 0.6931475, 0.6931472, 0.6931475, 0.6931475, 0.6931475, 0.6931475, 0.6931475, 0.6931475, 0.6931475, 0.6931475, 0.6931475, 0.6931475, 0.6931475, 0.6931472, 0.6931475, 0.6931475, 0.6931475, 0.6931475, 0.6931475, 0.6931475, 0.6931475, 0.6931475, 0.6931475, 0.6931475, 0.6931475, 0.6931472, 0.6931475, 0.6931475, 0.6931475, 0.6931475, 0.6931475, 0.6931475, 0.6931475, 0.6931475, 0.6931475, 0.6931475, 0.6931475, 0.6931472, 0.6931475, 0.6931475, 0.6931475, 0.6931475, 0.6931475, 0.6931475, 0.6931475, 0.6931475, 0.6931475, 0.6931475, 0.6931475, 0.6931472, 0.6931475, 0.6931475, 0.6931475, 0.6931475, 0.6931475, 0.6931475, 0.6931475, 0.6931475, 0.6931475, 0.6931475, 0.6931475, 0.6931472, 0.6931475, 0.6931475, 0.6931475, 0.6931475, 0.6931475, 0.6931475, 0.6931475, 0.6931475, 0.6931475, 0.6931475, 0.6931475, 0.6931472, 0.6931475, 0.6931475, 0.6931475, 0.6931475, 0.6931475, 0.6931475, 0.6931475, 0.6931475, 0.6931475, 0.6931475, 0.6931475, 0.6931472, 0.6931475, 0.6931475, 0.6931475, 0.6931475, 0.6931475, 0.6931475, 0.6931475, 0.6931475, 0.6931475, 0.6931475, 0.6931475, 0.6931472, 0.6931475, 0.6931475, 0.6931475, 0.6931475, 0.6931475, 0.6931475, 0.6931475, 0.6931475, 0.6931475, 0.6931475, 0.6931475, 0.6931472, 0.6931475, 0.6931475, 0.6931475, 0.6931475, 0.6931475, 0.6931475, 0.6931475, 0.6931475, 0.6931475, 0.6931475, 0.6931475, 0.6931472, 0.6931475, 0.6931475, 0.6931475, 0.6931475, 0.6931475, 0.6931475, 0.6931475, 0.6931475, 0.6931475, 0.6931475, 0.6931475, 0.6931472, 0.6931475, 0.6931475, 0.6931475, 0.6931475, 0.6931475, 0.6931475, 0.6931475, 0.6931475, 0.6931475, 0.6931475, 0.6931475, 0.6931472, 0.6931475, 0.6931475, 0.6931475, 0.6931475, 0.6931475, 0.6931475, 0.6931475, 0.6931475, 0.6931475, 0.6931475, 0.6931475, 0.6931472, 0.6931475, 0.6931475, 0.6931475, 0.6931475, 0.6931475, 0.6931475, 0.6931475, 0.6931475, 0.6931475, 0.6931475, 0.6931475, 0.6931472, 0.6931475, 0.6931475, 0.6931475, 0.6931475, 0.6931475, 0.6931475, 0.6931475, 0.6931475, 0.6931475, 0.6931475, 0.6931475, 0.6931472, 0.6931475, 0.6931475, 0.6931475, 0.6931475, 0.6931475, 0.6931475, 0.6931475, 0.6931475, 0.6931475, 0.6931475, 0.6931475, 0.6931472, 0.6931475, 0.6931475, 0.6931475, 0.6931475, 0.6931475, 0.6931475, 0.6931475, 0.6931475, 0.6931475, 0.6931475, 0.6931475, 0.6931472, 0.6931475, 0.6931475, 0.6931475, 0.6931475, 0.6931475, 0.6931475, 0.6931475, 0.6931475, 0.6931475, 0.6931475, 0.6931475, 0.6931472, 0.6931475, 0.6931475, 0.6931475, 0.6931475, 0.6931475, 0.6931475, 0.6931475, 0.6931475, 0.6931475, 0.6931475, 0.6931475, 0.6931472, 0.6931475, 0.6931475, 0.6931475, 0.6931475, 0.6931475, 0.6931475, 0.6931475, 0.6931475, 0.6931475, 0.6931475, 0.6931475, 0.6931472, 0.6931475, 0.6931475, 0.6931475, 0.6931475, 0.6931475, 0.6931475, 0.6931475, 0.6931475, 0.6931475, 0.6931475, 0.6931475, 0.6931472, 0.6931475, 0.6931475, 0.6931475, 0.6931475, 0.6931475, 0.6931475, 0.6931475, 0.6931475, 0.6931475, 0.6931475, 0.6931475, 0.6931472, 0.6931475, 0.6931475, 0.6931475, 0.6931475, 0.6931475, 0.6931475, 0.6931475, 0.6931475, 0.6931475, 0.6931475, 0.6931475, 0.6931472, 0.6931475, 0.6931475, 0.6931475, 0.6931475, 0.6931475, 0.6931475, 0.6931475, 0.6931475, 0.6931475, 0.6931475, 0.6931475, 0.6931472, 0.6931475, 0.6931475, 0.6931475, 0.6931475, 0.6931475, 0.6931475, 0.6931475, 0.6931475, 0.6931475, 0.6931475, 0.6931475, 0.6931472, 0.6931475, 0.6931475, 0.6931475, 0.6931475, 0.6931475, 0.6931475, 0.6931475, 0.6931475, 0.6931475, 0.6931475, 0.6931475, 0.6931472, 0.6931475, 0.6931475, 0.6931475, 0.6931475, 0.6931475, 0.6931475, 0.6931475, 0.6931475, 0.6931475, 0.6931475, 0.6931475, 0.6931472, 0.6931475, 0.6931475, 0.6931475, 0.6931475, 0.6931475, 0.6931475, 0.6931475, 0.6931475, 0.6931475, 0.6931475, 0.6931475, 0.6931472, 0.6931475, 0.6931475, 0.6931475, 0.6931475, 0.6931475, 0.6931475, 0.6931475, 0.6931475, 0.6931475, 0.6931475, 0.6931475, 0.6931472, "
          ],
          "name": "stdout"
        }
      ]
    },
    {
      "cell_type": "code",
      "metadata": {
        "id": "GsQNsFbgZaWR",
        "outputId": "06bb789f-b6f5-4675-b876-ced2182de716",
        "colab": {
          "base_uri": "https://localhost:8080/",
          "height": 34
        }
      },
      "source": [
        "accuracy_3=100-min(lr.losses)\n",
        "accuracy_3"
      ],
      "execution_count": null,
      "outputs": [
        {
          "output_type": "execute_result",
          "data": {
            "text/plain": [
              "99.3068528175354"
            ]
          },
          "metadata": {
            "tags": []
          },
          "execution_count": 122
        }
      ]
    },
    {
      "cell_type": "markdown",
      "metadata": {
        "id": "ZhiWBppCZ860"
      },
      "source": [
        "So, In case of Neural Network we didn't see any improvement in performance and that's because Neural Network model already achieved the maximum accuracy by learning from each entry of 256 batch size and 50 epoch size."
      ]
    }
  ]
}